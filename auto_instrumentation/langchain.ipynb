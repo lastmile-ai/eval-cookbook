{
 "cells": [
  {
   "cell_type": "markdown",
   "metadata": {},
   "source": [
    "Plan-and-Execute with LastMile Auto Instrumentation\n",
    "\n",
    "This notebook demonstrates the concept of a \"Plan-and-Execute\" LangChain agent with LastMile auto instrumentation. The agent accomplishes an objective by first planning what to do and then executing the sub-tasks. LastMile auto instrumentation is used to trace and monitor the execution of the agent."
   ]
  },
  {
   "cell_type": "code",
   "execution_count": null,
   "metadata": {},
   "outputs": [],
   "source": [
    "!pip install langchain\n",
    "!pip install langchain_community\n",
    "!pip install langchain_core\n",
    "!pip install langchain_experimental\n",
    "!pip install langchain_openai\n",
    "!pip install wikipedia\n",
    "!pip install numexpr\n",
    "!pip install lastmile_eval"
   ]
  },
  {
   "cell_type": "code",
   "execution_count": 12,
   "metadata": {},
   "outputs": [],
   "source": [
    "# Imports\n",
    "\n",
    "from langchain.chains import LLMMathChain\n",
    "from langchain_community.utilities import WikipediaAPIWrapper\n",
    "from langchain_core.tools import Tool\n",
    "from langchain_experimental.plan_and_execute import (\n",
    "    PlanAndExecute,\n",
    "    load_agent_executor,\n",
    "    load_chat_planner,\n",
    ")\n",
    "from langchain_openai import ChatOpenAI, OpenAI"
   ]
  },
  {
   "cell_type": "markdown",
   "metadata": {},
   "source": [
    "# LastMile Auto Instrumentation Setup"
   ]
  },
  {
   "cell_type": "code",
   "execution_count": null,
   "metadata": {},
   "outputs": [],
   "source": [
    "from lastmile_eval.rag.debugger.tracing.auto_instrumentation import LangChainInstrumentor\n",
    "\n",
    "# Create an instance of LangChainInstrumentor and instrument the code\n",
    "instrumentor = LangChainInstrumentor(project_name=\"Plan-and-Execute Example\")\n",
    "instrumentor.instrument()"
   ]
  },
  {
   "cell_type": "markdown",
   "metadata": {},
   "source": [
    "# Tools"
   ]
  },
  {
   "cell_type": "code",
   "execution_count": null,
   "metadata": {},
   "outputs": [],
   "source": [
    "# Define the tools that the agent will use for executing sub-tasks\n",
    "\n",
    "wikipedia = WikipediaAPIWrapper()\n",
    "llm = OpenAI(temperature=0)\n",
    "llm_math_chain = LLMMathChain.from_llm(llm=llm, verbose=True)\n",
    "tools = [\n",
    "    Tool(\n",
    "        name=\"Wikipedia\",\n",
    "        func=wikipedia.run,\n",
    "        description=\"useful for when you need to look up information on Wikipedia\",\n",
    "    ),\n",
    "    Tool(\n",
    "        name=\"Calculator\",\n",
    "        func=llm_math_chain.run,\n",
    "        description=\"useful for when you need to perform mathematical calculations\",\n",
    "    ),\n",
    "]\n"
   ]
  },
  {
   "cell_type": "markdown",
   "metadata": {},
   "source": [
    "# Run Example"
   ]
  },
  {
   "cell_type": "code",
   "execution_count": null,
   "metadata": {},
   "outputs": [],
   "source": [
    "model = ChatOpenAI(temperature=0)\n",
    "planner = load_chat_planner(model)\n",
    "executor = load_agent_executor(model, tools, verbose=True)\n",
    "agent = PlanAndExecute(planner=planner, executor=executor)\n",
    "\n",
    "# ## Run Example\n",
    "\n",
    "# Run the agent with a sample question\n",
    "question = \"What is the population of the capital city of the country where the Eiffel Tower is located? Calculate the square root of that number.\"\n",
    "result = agent.run(question)"
   ]
  },
  {
   "cell_type": "code",
   "execution_count": 18,
   "metadata": {},
   "outputs": [
    {
     "name": "stdout",
     "output_type": "stream",
     "text": [
      "The square root of the population of Paris is approximately 1450.05.\n"
     ]
    }
   ],
   "source": [
    "print(result)"
   ]
  },
  {
   "cell_type": "markdown",
   "metadata": {},
   "source": [
    "# Plan-and-Execute with LastMile Auto Instrumentation\n",
    "\n",
    "This notebook demonstrates the concept of a \"Plan-and-Execute\" agent with LastMile auto instrumentation. The agent accomplishes an objective by first planning what to do and then executing the sub-tasks. LastMile auto instrumentation is used to trace and monitor the execution of the agent.\n",
    "\n",
    "## Imports\n",
    "\n",
    "The necessary libraries are imported, including `langchain` for the agent and tools, `langchain_openai` for the language models, and `lastmile_eval` for auto instrumentation.\n",
    "\n",
    "## LastMile Auto Instrumentation Setup\n",
    "\n",
    "An instance of `LangChainInstrumentor` is created with a project name. The `instrument()` method is called to instrument the code for tracing and monitoring.\n",
    "\n",
    "## Tools\n",
    "\n",
    "The tools that the agent will use for executing sub-tasks are defined. In this example, we have two tools:\n",
    "- \"Wikipedia\" tool: Uses the `WikipediaAPIWrapper` to look up information on Wikipedia.\n",
    "- \"Calculator\" tool: Uses the `LLMMathChain` to perform mathematical calculations.\n",
    "\n",
    "## Planner, Executor, and Agent\n",
    "\n",
    "The planner, executor, and agent are set up using the `load_chat_planner`, `load_agent_executor`, and `PlanAndExecute` classes, respectively. The planner and executor use a `ChatOpenAI` model, and the executor is configured with the defined tools.\n",
    "\n",
    "## Run Example\n",
    "\n",
    "The agent is run with a sample question that involves looking up the population of the capital city of the country where the Eiffel Tower is located and calculating the square root of that number. The result is printed."
   ]
  }
 ],
 "metadata": {
  "kernelspec": {
   "display_name": "empty2",
   "language": "python",
   "name": "python3"
  },
  "language_info": {
   "codemirror_mode": {
    "name": "ipython",
    "version": 3
   },
   "file_extension": ".py",
   "mimetype": "text/x-python",
   "name": "python",
   "nbconvert_exporter": "python",
   "pygments_lexer": "ipython3",
   "version": "3.11.9"
  }
 },
 "nbformat": 4,
 "nbformat_minor": 2
}
