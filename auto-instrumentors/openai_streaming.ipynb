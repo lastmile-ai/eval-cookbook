{
    "cells": [
        {
            "attachments": {},
            "cell_type": "markdown",
            "id": "3e67f200",
            "metadata": {},
            "source": [
                "# OpenAI Streaming - Traced With LastMile\n",
                "\n",
                "Four use cases:\n",
                "\n",
                "1. Text - Non-streaming\n",
                "2. [this one] Text - Streaming\n",
                "3. Tool Calls - Non-streaming\n",
                "4. Tool Calls - Streaming"
            ]
        },
        {
            "cell_type": "code",
            "execution_count": 1,
            "id": "80e71f33",
            "metadata": {
                "pycharm": {
                    "is_executing": true
                }
            },
            "outputs": [],
            "source": [
                "# !pip install scipy --quiet\n",
                "# !pip install tenacity --quiet\n",
                "# !pip install tiktoken --quiet\n",
                "# !pip install termcolor --quiet\n",
                "# !pip install openai --quiet\n",
                "# !pip install \"tracing-auto-instrumentation[openai]\"\n",
                "\n",
                "# Create ~/.env file with this line: OPENAI_API_KEY=<your key here>\n",
                "# You can get your key from https://platform.openai.com/api-keys \n",
                "import openai\n",
                "import dotenv\n",
                "import os\n",
                "dotenv.load_dotenv()\n",
                "OPENAI_API_KEY = os.getenv(\"OPENAI_API_KEY\")"
            ]
        },
        {
            "cell_type": "code",
            "execution_count": null,
            "id": "4abf2967",
            "metadata": {},
            "outputs": [],
            "source": [
                "import openai\n",
                "\n",
                "from lastmile_eval.rag.debugger.api.tracing import LastMileTracer\n",
                "\n",
                "from tracing_auto_instrumentation.openai import wrap_openai\n",
                "from lastmile_eval.rag.debugger.tracing.sdk import get_lastmile_tracer\n",
                "\n",
                "tracer: LastMileTracer = get_lastmile_tracer(\n",
                "    tracer_name=\"OpenAI Text Calling w. Streaming\",\n",
                ")\n",
                "client = openai.OpenAI(api_key=OPENAI_API_KEY)\n",
                "client = wrap_openai(client, tracer)"
            ]
        },
        {
            "cell_type": "code",
            "execution_count": 3,
            "id": "4276d4b0",
            "metadata": {},
            "outputs": [],
            "source": [
                "def run_my_existing_openai_app(user_message: str, stream: bool = True):\n",
                "    completion_params = {\n",
                "        \"model\": \"gpt-3.5-turbo\",\n",
                "        \"top_p\": 1,\n",
                "        \"max_tokens\": 10,\n",
                "        \"temperature\": 1,\n",
                "        \"stream\": stream,\n",
                "        \"messages\": [\n",
                "            {\n",
                "                \"content\": user_message,\n",
                "                \"role\": \"user\",\n",
                "            }\n",
                "        ],\n",
                "    }\n",
                "\n",
                "    response = client.chat.completions.create(**completion_params)\n",
                "    print(\"Chat Completion Response: \")\n",
                "    if stream:\n",
                "        for chunk in response:\n",
                "            print(f\"{chunk=}\")\n",
                "    else:\n",
                "        print(f\"{response=}\")"
            ]
        },
        {
            "cell_type": "code",
            "execution_count": 4,
            "id": "9aa6f3f6",
            "metadata": {},
            "outputs": [],
            "source": [
                "# # Run your code as usual\n",
                "# stream = False\n",
                "# run_my_existing_openai_app(\"Tell me a joke about apples\", stream=stream)"
            ]
        },
        {
            "cell_type": "markdown",
            "id": "263685c1",
            "metadata": {},
            "source": [
                "## Time to test this with async calls"
            ]
        },
        {
            "cell_type": "code",
            "execution_count": 5,
            "id": "d2045d18",
            "metadata": {},
            "outputs": [
                {
                    "name": "stderr",
                    "output_type": "stream",
                    "text": [
                        "2024-05-30 19:07:57,805 - load_ssl_context verify=True cert=None trust_env=True http2=False\n",
                        "2024-05-30 19:07:57,806 - load_verify_locations cafile='/opt/homebrew/Caskroom/miniconda/base/envs/eval/lib/python3.12/site-packages/certifi/cacert.pem'\n"
                    ]
                }
            ],
            "source": [
                "client = openai.AsyncOpenAI(api_key=OPENAI_API_KEY)\n",
                "client = wrap_openai(client, tracer)\n",
                "\n",
                "async def run_my_existing_openai_app_async(user_message: str, stream: bool = True):\n",
                "    completion_params = {\n",
                "        \"model\": \"gpt-3.5-turbo\",\n",
                "        \"top_p\": 1,\n",
                "        \"max_tokens\": 3000,\n",
                "        \"temperature\": 1,\n",
                "        \"stream\": stream,\n",
                "        \"messages\": [\n",
                "            {\n",
                "                \"content\": user_message,\n",
                "                \"role\": \"user\",\n",
                "            }\n",
                "        ],\n",
                "    }\n",
                "\n",
                "    response = await client.chat.completions.create(**completion_params)\n",
                "    print(\"Chat Completion Response: \")\n",
                "    if stream:\n",
                "        async for chunk in response:\n",
                "            print(f\"{chunk=}\")\n",
                "    else:\n",
                "        print(f\"{response=}\")\n",
                "    return response"
            ]
        },
        {
            "cell_type": "code",
            "execution_count": null,
            "id": "f9113e1f",
            "metadata": {},
            "outputs": [],
            "source": [
                "stream = False\n",
                "response = await run_my_existing_openai_app_async(\"Tell me a joke about apples\", stream=stream)"
            ]
        }
    ],
    "metadata": {
        "kernelspec": {
            "display_name": "Python 3 (ipykernel)",
            "language": "python",
            "name": "python3"
        },
        "language_info": {
            "codemirror_mode": {
                "name": "ipython",
                "version": 3
            },
            "file_extension": ".py",
            "mimetype": "text/x-python",
            "name": "python",
            "nbconvert_exporter": "python",
            "pygments_lexer": "ipython3",
            "version": "3.12.3"
        }
    },
    "nbformat": 4,
    "nbformat_minor": 5
}
