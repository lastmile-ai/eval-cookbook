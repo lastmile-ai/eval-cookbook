{
  "cells": [
    {
      "cell_type": "markdown",
      "metadata": {
        "id": "MCFUwdhUrGCp"
      },
      "source": [
        "# RAG-Debugger - Getting Started Tutorial\n",
        "\n",
        "In this notebook, we showcase how to use the [RAG-Debugger](https://rag.lastmileai.dev/) to optimize your RAG pipelines. We will evaluate a demo RAG pipeline, which enables question-answering over [Paul Graham's essays](https://www.paulgraham.com/worked.html) using `gpt-3.5-turbo`. Check out our [Cookbook](https://github.com/lastmile-ai/eval-cookbook/tree/main) for more examples and tutorials.\n",
        "\n",
        "<img width=\"500\" alt=\"Screenshot 2024-05-16 at 12 27 45 PM\" src=\"https://github.com/lastmile-ai/aiconfig/assets/81494782/497135cb-3fc0-452b-a7fd-c04819be2fab\">"
      ]
    },
    {
      "cell_type": "markdown",
      "metadata": {
        "id": "9Vzjld592_36"
      },
      "source": [
        "## Notebook Outline\n",
        "* [Step 1: Install and Setup](#install)\n",
        "* [Step 2: Build and Trace RAG System](#trace)\n",
        "  * [Download Data](#download_data)\n",
        "  * [Trace Ingestion Pipeline](#trace_ingestion)\n",
        "  * [Trace Query Pipeline](#trace_query)\n",
        "  * [Access Raw Traces](#access_data)\n",
        "  * [View Traces in RAG Debugger UI](#view_ui)\n",
        "* [Step 3: Debug and Optimize your RAG System](#debug)\n",
        "  * [Measure and Evaluate Performance](#measure)\n",
        "  * [Idenfity Issues](#identify)\n",
        "  * [Iterate and Optimize System](#iterate)\n"
      ]
    },
    {
      "cell_type": "markdown",
      "metadata": {
        "id": "AeMacBarsQ-4"
      },
      "source": [
        "<a name=\"install\"></a>\n",
        "## Step 1: Install and Setup\n",
        "1. Install required packages and modules\n",
        "2. Setup API Keys/Tokens"
      ]
    },
    {
      "cell_type": "markdown",
      "metadata": {
        "id": "_tnvE1ELuhkO"
      },
      "source": [
        "To begin, we need to install the required packages and modules."
      ]
    },
    {
      "cell_type": "code",
      "execution_count": 1,
      "metadata": {
        "colab": {
          "base_uri": "https://localhost:8080/",
          "height": 1000
        },
        "collapsed": true,
        "id": "GeuZV8CZVDCT",
        "outputId": "9a1a5ae6-f7d4-4fd8-fd0f-ae021eb1b7b3"
      },
      "outputs": [],
      "source": [
        "!pip install chromadb\n",
        "!pip install llama-index\n",
        "!pip install lastmile-eval --upgrade"
      ]
    },
    {
      "cell_type": "code",
      "execution_count": 2,
      "metadata": {
        "id": "oCOV8MCh5bfN"
      },
      "outputs": [],
      "source": [
        "import os\n",
        "import chromadb\n",
        "import pandas as pd\n",
        "import openai\n",
        "from lastmile_eval.rag.debugger.tracing import get_lastmile_tracer\n",
        "\n",
        "from lastmile_eval.rag.debugger.api import LastMileTracer\n",
        "from lastmile_eval.rag.debugger.tracing import (\n",
        "    get_latest_ingestion_trace_id,\n",
        "    get_trace_data,\n",
        ")\n",
        "from lastmile_eval.rag.debugger.tracing import list_ingestion_trace_events\n",
        "from lastmile_eval.rag.debugger.api import (\n",
        "    QueryReceived,\n",
        "    ContextRetrieved,\n",
        "    PromptResolved,\n",
        "    LLMOutputReceived,\n",
        ")\n",
        "from functools import partial\n",
        "from lastmile_eval.rag.debugger.api.evaluation import (\n",
        "    run_and_evaluate_outputs,\n",
        "    get_default_rag_trace_level_metrics\n",
        ")\n",
        "from openai import OpenAI\n",
        "from llama_index.core.evaluation import generate_question_context_pairs"
      ]
    },
    {
      "cell_type": "markdown",
      "metadata": {
        "id": "UvDNO7SBvj1q"
      },
      "source": [
        "We also need the following tokens/keys:\n",
        "\n",
        "* **LastMile AI API Token:** Go to the [LastMile Settings page](https://lastmileai.dev/settings?page=tokens). You will need to first create a LastMile AI account.\n",
        "* **OpenAI API Key:** Go to [OpenAI API Keys page](https://platform.openai.com/account/api-keys) to create and access your OpenAI API Key.\n",
        "\n",
        "We're using Google Colab's Secret Manager to set our tokens in this notebook."
      ]
    },
    {
      "cell_type": "code",
      "execution_count": 3,
      "metadata": {
        "id": "apw5FNNMVDCV"
      },
      "outputs": [],
      "source": [
        "try:\n",
        "    # if using colab, get the api keys from the user data\n",
        "    from google.colab import userdata\n",
        "    os.environ['OPENAI_API_KEY'] =  userdata.get('OPENAI_API_KEY')\n",
        "    os.environ['LASTMILE_API_TOKEN'] =  userdata.get('LASTMILE_API_TOKEN')\n",
        "except:\n",
        "    import dotenv\n",
        "    dotenv.load_dotenv()"
      ]
    },
    {
      "cell_type": "markdown",
      "metadata": {
        "id": "jY5tB8_mVDCV"
      },
      "source": [
        "<a name=\"trace\"></a>\n",
        "\n",
        "## Step 2: Build and Trace RAG System\n",
        "\n",
        "1. Download Data (Paul Graham Essay)\n",
        "2. Trace Document Ingestion Pipeline\n",
        "3. (Optional) Access Raw Trace Data\n",
        "4. Trace Query Pipeline\n",
        "5. View Traces in RAG Debugger UI\n",
        "\n",
        "**Note:** If you are using OpenAI, LangChain, or LlamaIndex, we offer auto-instrumention for tracing (no manual setup required). See our documentation to learn more."
      ]
    },
    {
      "cell_type": "markdown",
      "metadata": {
        "id": "8whu-1xhyXdA"
      },
      "source": [
        "<a name=\"download_data\"></a>\n",
        "\n",
        "#### Download Data"
      ]
    },
    {
      "cell_type": "code",
      "execution_count": 4,
      "metadata": {
        "colab": {
          "base_uri": "https://localhost:8080/"
        },
        "collapsed": true,
        "id": "-5N44w6VqJ8G",
        "outputId": "4f26d7e9-c51c-432b-bb10-f27ceb52c09a"
      },
      "outputs": [
        {
          "name": "stdout",
          "output_type": "stream",
          "text": [
            "  % Total    % Received % Xferd  Average Speed   Time    Time     Time  Current\n",
            "                                 Dload  Upload   Total   Spent    Left  Speed\n",
            "100 75042  100 75042    0     0   668k      0 --:--:-- --:--:-- --:--:--  672k\n"
          ]
        }
      ],
      "source": [
        "!mkdir -p 'data/paul_graham/'\n",
        "!curl 'https://raw.githubusercontent.com/run-llama/llama_index/main/docs/docs/examples/data/paul_graham/paul_graham_essay.txt' -o 'data/paul_graham/paul_graham_essay.txt'"
      ]
    },
    {
      "cell_type": "markdown",
      "metadata": {
        "id": "iObXjxgWy9Af"
      },
      "source": [
        "<a name=\"trace_ingestion\"></a>\n",
        "\n",
        "#### Trace Document Ingestion Pipeline\n",
        "In the cells below, we create chunks of our document (Paul Graham essay) and store it in a vector database (ChromaDB). ChromaDB converts these chunks of texts to vector embeddings which are indexed in the database and can easily be retrieved.\n",
        "\n",
        "We also instatiated a **LastMile AI Tracer object** and traced the chunking step and the ingestion step (storing the embeddings in ChromaDB). We use the `@traced` decorator to trace these steps."
      ]
    },
    {
      "cell_type": "markdown",
      "metadata": {
        "id": "0BYSBROhGvK-"
      },
      "source": [
        "First, instantiate a Tracer object. The name of the tracer object (\"Paul-Graham-Demo-Project\") is also your Project Name that is visible in the UI."
      ]
    },
    {
      "cell_type": "code",
      "execution_count": 5,
      "metadata": {
        "id": "sW5snGBeGkF4"
      },
      "outputs": [
        {
          "name": "stderr",
          "output_type": "stream",
          "text": [
            "2024-05-16 16:53:53,198 - Starting new HTTPS connection (1): lastmileai.dev:443\n",
            "2024-05-16 16:53:53,340 - https://lastmileai.dev:443 \"GET /api/evaluation_projects/list?name=Paul-Graham-Demo-Project HTTP/1.1\" 200 41\n",
            "2024-05-16 16:53:53,342 - Starting new HTTPS connection (1): lastmileai.dev:443\n",
            "2024-05-16 16:53:53,560 - https://lastmileai.dev:443 \"POST /api/evaluation_projects/create HTTP/1.1\" 200 261\n"
          ]
        }
      ],
      "source": [
        "tracer: LastMileTracer = get_lastmile_tracer(\"Paul-Graham-Demo-Project\")"
      ]
    },
    {
      "cell_type": "markdown",
      "metadata": {
        "id": "xzudpDxYGzR2"
      },
      "source": [
        "Setup of your ingestion pipeline below with the necessary tracing added."
      ]
    },
    {
      "cell_type": "code",
      "execution_count": 6,
      "metadata": {
        "colab": {
          "base_uri": "https://localhost:8080/"
        },
        "id": "SpaKBoOAVDCV",
        "outputId": "f13acc06-03cd-40ee-aee5-1e7194f5e0a1"
      },
      "outputs": [
        {
          "name": "stderr",
          "output_type": "stream",
          "text": [
            "2024-05-16 16:53:53,581 - Anonymized telemetry enabled. See                     https://docs.trychroma.com/telemetry for more information.\n",
            "2024-05-16 16:53:53,664 - Starting component System\n",
            "2024-05-16 16:53:53,664 - Starting component Posthog\n",
            "2024-05-16 16:53:53,664 - Starting component OpenTelemetryClient\n",
            "2024-05-16 16:53:53,665 - Starting component SqliteDB\n",
            "2024-05-16 16:53:53,669 - Starting component QuotaEnforcer\n",
            "2024-05-16 16:53:53,669 - Starting component LocalSegmentManager\n",
            "2024-05-16 16:53:53,669 - Starting component SegmentAPI\n",
            "2024-05-16 16:53:53,686 - Starting new HTTPS connection (1): lastmileai.dev:443\n",
            "2024-05-16 16:53:53,798 - https://lastmileai.dev:443 \"POST /api/trace/create HTTP/1.1\" 200 10\n",
            "2024-05-16 16:53:53,813 - WARNING: No ONNX providers provided, defaulting to available providers: ['CoreMLExecutionProvider', 'AzureExecutionProvider', 'CPUExecutionProvider']\n",
            "2024-05-16 16:53:54,370 - Starting new HTTPS connection (1): us-api.i.posthog.com:443\n",
            "2024-05-16 16:53:54,643 - https://us-api.i.posthog.com:443 \"POST /batch/ HTTP/1.1\" 200 None\n",
            "2024-05-16 16:54:00,224 - Starting component LocalHnswSegment\n",
            "2024-05-16 16:54:00,305 - https://lastmileai.dev:443 \"POST /api/trace/create HTTP/1.1\" 200 10\n",
            "2024-05-16 16:54:00,307 - Starting new HTTPS connection (1): lastmileai.dev:443\n",
            "2024-05-16 16:54:00,393 - https://lastmileai.dev:443 \"POST /api/rag_ingestion_traces/create HTTP/1.1\" 200 386\n"
          ]
        }
      ],
      "source": [
        "chroma_client = chromadb.Client()\n",
        "\n",
        "@tracer.trace_function() #Decorate the function with the tracer\n",
        "def chunk_document(file_path: str, chunk_size: int = 1000) -> list[str]:\n",
        "    \"\"\"\n",
        "    Chunk a text file into a list of strings based on the specified chunk size.\n",
        "\n",
        "    Args:\n",
        "        file_path (str): The path to the text file.\n",
        "        chunk_size (int): The desired number of characters in each chunk.\n",
        "\n",
        "    Returns:\n",
        "        list[str]: A list of strings, where each string represents a chunk of text.\n",
        "    \"\"\"\n",
        "    with open(file_path, \"r\") as file:\n",
        "        text = file.read()\n",
        "\n",
        "    chunks: list[str] = []\n",
        "    for i in range(0, len(text), chunk_size):\n",
        "        chunks.append(text[i:i + chunk_size])\n",
        "\n",
        "    return chunks\n",
        "\n",
        "@tracer.trace_function()\n",
        "def run_ingestion_flow() -> chromadb.Collection:\n",
        "    collection = chroma_client.create_collection(name=\"paul_graham_collection\")\n",
        "    tracer.mark_rag_ingestion_trace_event(\"Ingesting Paul Graham's essay\")\n",
        "\n",
        "    document_chunks = chunk_document(\"data/paul_graham/paul_graham_essay.txt\")\n",
        "    document_ids = [f\"chunk_{i}\" for i in range(len(document_chunks))]\n",
        "\n",
        "    collection.add(\n",
        "        ids=document_ids,\n",
        "        documents=document_chunks, # ex: [\"What I Worked On\", \"February 2021\", ...]\n",
        "    )\n",
        "    return collection\n",
        "\n",
        "collection:chromadb.Collection = run_ingestion_flow()"
      ]
    },
    {
      "cell_type": "markdown",
      "metadata": {
        "id": "Xx5ZGr8D0ZZi"
      },
      "source": [
        "**Important - Linking Ingestion Trace to Query Pipeline**\n",
        "The trace data for the ingestion pipeline has an ID associated with it. We can use this ID to link the tracing for the ingestion step and the query step of the RAG system for a comprehensive overview of your RAG system.\n",
        "\n",
        "Here is how you get the latest ingestion trace ID which you can use when setting up the tracing for the Query Pipeline."
      ]
    },
    {
      "cell_type": "code",
      "execution_count": 7,
      "metadata": {
        "colab": {
          "base_uri": "https://localhost:8080/"
        },
        "collapsed": true,
        "id": "6IIzk6G8VDCV",
        "outputId": "bd299b8d-77cc-46b2-bd88-317f58bf3829"
      },
      "outputs": [
        {
          "name": "stderr",
          "output_type": "stream",
          "text": [
            "2024-05-16 16:54:00,402 - Starting new HTTPS connection (1): lastmileai.dev:443\n",
            "2024-05-16 16:54:00,487 - https://lastmileai.dev:443 \"GET /api/rag_ingestion_traces/list?pageSize=1 HTTP/1.1\" 200 493\n"
          ]
        },
        {
          "name": "stdout",
          "output_type": "stream",
          "text": [
            "10509cc73961190cdef5d617496f98ac\n"
          ]
        }
      ],
      "source": [
        "ingestion_trace_id = get_latest_ingestion_trace_id()\n",
        "print(ingestion_trace_id)"
      ]
    },
    {
      "cell_type": "markdown",
      "metadata": {
        "id": "CQ4hNS0pVDCW"
      },
      "source": [
        "<a name=\"trace_query\"></a>\n",
        "\n",
        "#### Trace Query Pipeline\n",
        "Now that we have the document ingestion pipeline built and traced, lets build a query pipeline. We will use an OpenAI model (`gpt-3.5-turbo`) to generate responses to user queries. Similar to the document ingestion pipeline, we will trace this pipeline with the `@traced` decorator.\n",
        "\n",
        "**NOTE:** the document ingestion pipeline and query pipeline are separate so we will need to link them together with `ingestion_trace_id`."
      ]
    },
    {
      "cell_type": "code",
      "execution_count": 8,
      "metadata": {
        "id": "mwsOJX6e7cza"
      },
      "outputs": [],
      "source": [
        "LLM_NAME = \"gpt-3.5-turbo\"\n",
        "\n",
        "PROMPT_TEMPLATE = \"\"\"\n",
        "Context information is below.\n",
        "---------------------\n",
        "{context_str}\n",
        "---------------------\n",
        "Given the context information and not prior knowledge, answer the query.\n",
        "Query: {query_str}\n",
        "Answer:\n",
        "\"\"\"\n",
        "\n",
        "@tracer.trace_function(\"retrieve-context\") #Decorate the function with the tracer\n",
        "def retrieve_context(query_string: str, top_k: int = 5) -> list[str]:\n",
        "    \"\"\"\n",
        "    Retrieve the top-k most relevant contexts based on the query string\n",
        "    from the chroma db collection\n",
        "    \"\"\"\n",
        "    tracer.register_param(\"similarity_top_k\", top_k) #Register parameters associated with your RAG pipeline setup\n",
        "    chroma_retrival_results = collection.query(query_texts=query_string, n_results=top_k)\n",
        "    documents_parsed_as_strings = [document for document in chroma_retrival_results.get(\"documents\")[0]]\n",
        "    tracer.mark_rag_query_trace_event(\n",
        "            ContextRetrieved(context=documents_parsed_as_strings), get_latest_ingestion_trace_id()\n",
        "        )\n",
        "    return documents_parsed_as_strings\n",
        "\n",
        "@tracer.trace_function(\"resolve-prompt\")\n",
        "def resolve_prompt(user_query: str, retrieved_contexts: list[str]):\n",
        "    resolved_prompt = PROMPT_TEMPLATE.replace(\n",
        "        \"{context_str}\", \"\\n\\n\\n\".join(retrieved_contexts)\n",
        "    ).replace(\"{query_str}\", user_query)\n",
        "    tracer.mark_rag_query_trace_event(\n",
        "        PromptResolved(fully_resolved_prompt=resolved_prompt), get_latest_ingestion_trace_id()\n",
        "    )\n",
        "    return resolved_prompt\n",
        "\n",
        "@tracer.trace_function(\"query-root-span\") # You can provide a custom name for the root span\n",
        "def run_query_flow(user_query: str, ingestion_trace_id: str):\n",
        "    tracer.mark_rag_query_trace_event(\n",
        "        QueryReceived(query=user_query), ingestion_trace_id\n",
        "    )\n",
        "\n",
        "    retrieved_contexts = retrieve_context(user_query, top_k=3)\n",
        "\n",
        "    resolved_prompt = resolve_prompt(user_query, retrieved_contexts)\n",
        "\n",
        "    with tracer.start_as_current_span(\"call-llm\") as _llm_span:\n",
        "        openai_client = openai.Client(api_key=os.getenv(\"OPENAI_API_KEY\"))\n",
        "        response = openai_client.chat.completions.create(\n",
        "            model=LLM_NAME,\n",
        "            messages=[{\"role\": \"user\", \"content\": resolved_prompt}],\n",
        "        )\n",
        "        output: str = response.choices[0].message.content\n",
        "        tracer.mark_rag_query_trace_event(\n",
        "            LLMOutputReceived(llm_output=output), get_latest_ingestion_trace_id()\n",
        "        )\n",
        "\n",
        "    return output\n"
      ]
    },
    {
      "cell_type": "markdown",
      "metadata": {
        "id": "DoFA9rrF8RQi"
      },
      "source": [
        "Let's try an example user query."
      ]
    },
    {
      "cell_type": "code",
      "execution_count": null,
      "metadata": {
        "colab": {
          "base_uri": "https://localhost:8080/"
        },
        "id": "oMQ5nHcYVDCW",
        "outputId": "c0db5cf0-4625-480c-a127-2ab15f6920ed"
      },
      "outputs": [],
      "source": [
        "response = run_query_flow(\"What did the author do growing up?\", ingestion_trace_id)\n",
        "\n",
        "print(f\"Response: {response}\")"
      ]
    },
    {
      "cell_type": "markdown",
      "metadata": {
        "id": "WyPdv5MM-QLt"
      },
      "source": [
        "<a name=\"access_data\"></a>\n",
        "\n",
        "#### Access Raw Trace Data\n",
        "The trace data for the ingestion and query pipeline have IDs associated with them. The raw trace data is sent to both Jaegar and Postgres which we have shown below. This trace data is also viewable in a much more user-friendly view in the RAG-Debugger UI which will be shown soon."
      ]
    },
    {
      "cell_type": "code",
      "execution_count": null,
      "metadata": {
        "colab": {
          "base_uri": "https://localhost:8080/"
        },
        "collapsed": true,
        "id": "GD342GKZ-QL2",
        "outputId": "9a286b79-ae97-4d2f-98e9-a71850a84016"
      },
      "outputs": [],
      "source": [
        "# Print trace data from Jaeger\n",
        "get_trace_data(ingestion_trace_id)"
      ]
    },
    {
      "cell_type": "code",
      "execution_count": 11,
      "metadata": {
        "colab": {
          "base_uri": "https://localhost:8080/",
          "height": 118
        },
        "collapsed": true,
        "id": "BXA1f4mx-QL2",
        "outputId": "2be6d0d0-b157-4c5c-c751-532e3a2ebd56"
      },
      "outputs": [
        {
          "name": "stderr",
          "output_type": "stream",
          "text": [
            "2024-05-16 16:54:02,473 - Starting new HTTPS connection (1): lastmileai.dev:443\n",
            "2024-05-16 16:54:02,555 - https://lastmileai.dev:443 \"GET /api/rag_ingestion_traces/list?pageSize=1 HTTP/1.1\" 200 493\n"
          ]
        },
        {
          "data": {
            "text/html": [
              "<div>\n",
              "<style scoped>\n",
              "    .dataframe tbody tr th:only-of-type {\n",
              "        vertical-align: middle;\n",
              "    }\n",
              "\n",
              "    .dataframe tbody tr th {\n",
              "        vertical-align: top;\n",
              "    }\n",
              "\n",
              "    .dataframe thead th {\n",
              "        text-align: right;\n",
              "    }\n",
              "</style>\n",
              "<table border=\"1\" class=\"dataframe\">\n",
              "  <thead>\n",
              "    <tr style=\"text-align: right;\">\n",
              "      <th></th>\n",
              "      <th>ragIngestionTraceEventId</th>\n",
              "      <th>createdAt</th>\n",
              "      <th>updatedAt</th>\n",
              "      <th>paramSet</th>\n",
              "      <th>eventName</th>\n",
              "      <th>eventData</th>\n",
              "      <th>input</th>\n",
              "      <th>output</th>\n",
              "      <th>metadata</th>\n",
              "      <th>traceId</th>\n",
              "      <th>creatorId</th>\n",
              "      <th>projectId</th>\n",
              "      <th>organizationId</th>\n",
              "      <th>visibility</th>\n",
              "      <th>active</th>\n",
              "      <th>annotations</th>\n",
              "    </tr>\n",
              "  </thead>\n",
              "  <tbody>\n",
              "    <tr>\n",
              "      <th>0</th>\n",
              "      <td>clw9qal6l005jqpoozbc28syy</td>\n",
              "      <td>2024-05-16T20:54:00.381Z</td>\n",
              "      <td>2024-05-16T20:54:00.381Z</td>\n",
              "      <td>{}</td>\n",
              "      <td>None</td>\n",
              "      <td>None</td>\n",
              "      <td>None</td>\n",
              "      <td>None</td>\n",
              "      <td>None</td>\n",
              "      <td>10509cc73961190cdef5d617496f98ac</td>\n",
              "      <td>clkrgxm850004phi6ee5mvhd1</td>\n",
              "      <td>clw9qafwj002cpen9mb5qf5rm</td>\n",
              "      <td>None</td>\n",
              "      <td>MEMBER</td>\n",
              "      <td>True</td>\n",
              "      <td>[]</td>\n",
              "    </tr>\n",
              "  </tbody>\n",
              "</table>\n",
              "</div>"
            ],
            "text/plain": [
              "    ragIngestionTraceEventId                 createdAt  \\\n",
              "0  clw9qal6l005jqpoozbc28syy  2024-05-16T20:54:00.381Z   \n",
              "\n",
              "                  updatedAt paramSet eventName eventData input output  \\\n",
              "0  2024-05-16T20:54:00.381Z       {}      None      None  None   None   \n",
              "\n",
              "  metadata                           traceId                  creatorId  \\\n",
              "0     None  10509cc73961190cdef5d617496f98ac  clkrgxm850004phi6ee5mvhd1   \n",
              "\n",
              "                   projectId organizationId visibility  active annotations  \n",
              "0  clw9qafwj002cpen9mb5qf5rm           None     MEMBER    True          []  "
            ]
          },
          "execution_count": 11,
          "metadata": {},
          "output_type": "execute_result"
        }
      ],
      "source": [
        "# Print trace data from Postgres\n",
        "ingestion_trace_events = list_ingestion_trace_events(take=1)\n",
        "pd.DataFrame.from_records(ingestion_trace_events[\"ingestionTraces\"]).rename(  # type: ignore[fixme]\n",
        "    columns={\"id\": \"ragIngestionTraceEventId\"}\n",
        ")"
      ]
    },
    {
      "cell_type": "markdown",
      "metadata": {
        "id": "jqBZ1SLn9TP7"
      },
      "source": [
        "<a name=\"view_ui\"></a>\n",
        "\n",
        "#### View Traces in RAG Debugger UI\n",
        "At this point, we have a traced ingestion pipeline and a traced query pipeline. We can view the traces in the RAG Debugger UI. In a seperate terminal, run the following command to launch the RAG Debugger:\n",
        "\n",
        "`rag-debug launch`\n",
        "\n",
        "Open up your webbrowser and navigate to the url provided by the RAG Debugger. This will look like http://localhost:8080/\n",
        "\n",
        "Navigate to the Traces tab. You should see the traces for the ingestion pipeline and the query pipeline. It will look something like this:"
      ]
    },
    {
      "cell_type": "markdown",
      "metadata": {
        "id": "R6DAcvKlI6zI"
      },
      "source": [
        "<img width=\"1792\" alt=\"Screenshot 2024-05-16 at 12 00 55 PM\" src=\"https://github.com/lastmile-ai/aiconfig/assets/81494782/adfc429e-7533-4d98-8bc7-acfc00a703f8\">\n"
      ]
    },
    {
      "cell_type": "markdown",
      "metadata": {
        "id": "PPMbbFE4VDCX"
      },
      "source": [
        "<a name=\"debug\"></a>\n",
        "\n",
        "## Step 3: Debug your RAG System\n",
        "1. Measure and Evaluate Performance\n",
        "2. Identify Issues\n",
        "3. Iterate and Optimize RAG System\n",
        "\n",
        "Evaluation is a crucial part of LLM development. To improve and debug your RAG system, you must have a way to measure it. Evaluation metrics (aka evaluators) allow you to measure the quality of LLM-generated results. Evaluators can take in various inputs including the generated response, ground truth data, context, etc. and typically output a numeric score from 0 to 1.\n",
        "\n",
        "Our first step is run evaluations on data we pass into our RAG system and gather metrics we can analyze in the RAG Debugger UI."
      ]
    },
    {
      "cell_type": "markdown",
      "metadata": {
        "id": "vc_pSzpTDTNv"
      },
      "source": [
        "<a name=\"measure\"></a>\n",
        "\n",
        "#### Measure and Evaluate Performance\n",
        "\n",
        "\n",
        "To evaluate our RAG system, we'll create a TestSet containing questions to ask the system. We'll compare the system's responses to ground truth answers using evaluation metrics to assess the quality and effectiveness of the pipeline in providing accurate and relevant answers based on the ingested document (Paul Graham essay)."
      ]
    },
    {
      "cell_type": "code",
      "execution_count": 12,
      "metadata": {
        "id": "bCpbwqGqVDCX"
      },
      "outputs": [],
      "source": [
        "user_questions = [\n",
        "    \"What two main things did Paul Graham work on before college, outside of school?\",\n",
        "    \"What was the key realization Paul Graham had about artificial intelligence during his first year of grad school at Harvard?\",\n",
        "    \"How did Paul Graham and his partner Robert Morris get their initial idea and start working on what became their startup Viaweb?\",\n",
        "    \"What were some of the novel approaches and advantages that Y Combinator introduced compared to traditional venture capital firms when it first started?\",\n",
        "    \"What ambitious programming language project did Paul Graham work on intensively for 4 years from 2015-2019, and what was unique about the goal and approach of this language called Bel?\"\n",
        "]\n",
        "\n",
        "ground_truth_answers = [\n",
        "    \"The author first interacted with programming on a mainframe computer, using punch cards to input Fortran code, which was a challenging and time-consuming process\",\n",
        "    \"The transition from the IBM 1401 to microcomputers like the TRS-80 represented a significant step forward in terms of both programming capabilities and user interaction.\",\n",
        "    \"A turning point came after reading Nick Bostrom's \\\"Superintelligence,\\\" which presented a persuasive argument on the potential of Artificial Intelligence (AI)\",\n",
        "    \"Heinlein's \\\"The Moon is a Harsh Mistress\\\" and Terry Winograd's SHRDLU heavily influenced the author's decision to pursue AI\",\n",
        "    \"The author considered the AI practices during his first year of grad school as a \\\"hoax\\\" because they didn't meet his expectations for understanding and interpreting natural language accurately.\",\n",
        "]"
      ]
    },
    {
      "cell_type": "markdown",
      "metadata": {
        "id": "sQvQzOB-JRy0"
      },
      "source": [
        "For each question in the TestSet, we'll compute a **Relevance score** that measures how closely the system's response matches the corresponding ground truth answer. Since each question is associated with a specific trace, we'll obtain a Relevance score for each trace, allowing us to assess the performance of the RAG pipeline at a granular level.\n",
        "\n"
      ]
    },
    {
      "cell_type": "code",
      "execution_count": 14,
      "metadata": {
        "id": "o9wOEdbdKD9n"
      },
      "outputs": [],
      "source": [
        "# Returns evaluator functions that we want to use. In this case, we are using the default Relevance evaluation metric.\n",
        "trace_level_evaluators = get_default_rag_trace_level_metrics(\n",
        "    names={\"relevance\"}\n",
        ")"
      ]
    },
    {
      "cell_type": "code",
      "execution_count": null,
      "metadata": {
        "colab": {
          "base_uri": "https://localhost:8080/",
          "height": 236,
          "referenced_widgets": [
            "95a40bca43b54eafb7151fd43e295209",
            "45743418b0374fe0bf8fbfc7ee947990",
            "12deaac7ff9e4ed2ac8519f070905cc8",
            "94614f7130084d728d8bdc8cd119fc9c",
            "fcda901c99444846ae9c5323e933d7e1",
            "1325a9802d9b405996837ecd92681779",
            "b1b359d2001e406b861027d49fc08f1b",
            "b8dfa03efcba4d0fbf5d1920fb660d65",
            "267dcd714cbc47cba03fb9dd7c47e78a",
            "63be7df590ad470fb0c63aee3a3c3d50",
            "8a89e668961b41f88819ccc4c43eb721",
            "ebda63d64a95458fb584310294737f0b",
            "c4b7cd32e57542829c671c9f0d5a6b0f",
            "3d545837657246f1a77a4c4f3c5e3274",
            "9f2a97bee8fa4ed1a15182d0e79326eb",
            "4ae4b404f959400999f4bd70d174ffa1",
            "8f4cb9e256f14b10b2d48293162ba374",
            "94b48b4560934073a177517a45aad3b5",
            "d735669a00474ca39760e5786ace28d8",
            "9bb4729c6649412bb387637587cded9d",
            "546aeed1a087491280b28adee2830cd4",
            "5faf306981e84acba4ca5b64c362c578",
            "9eba925f607544e7b11a0dc4ce6afbb6",
            "e45d119c8a814af9ad9324d2237ff229",
            "215bb12be63a409b9906ea59d2ea9325",
            "f24218f4d8dc40de9864609479a92d46",
            "4d3690748b6e4b90a1709477484bf5ed",
            "6029b8f3cd9640a09bdbd506d43423fa",
            "13fafff85d2d4fd69cbfa28e397d06dc",
            "7794f8f0834449c68195b2c0b9ad5e85",
            "1fa85d43bc4643a0bff8550eacf4d220",
            "4e8b26ca72c946e88a561a3779374c7b",
            "d60c51a1f5154595be11b8a4702313fd",
            "4e67bd01c6244db1bbcebf7db0dee3a3",
            "9200f29fcdba4ca19b98cd5d0c264925",
            "12235281ec0146deb3e882cbe89492b2",
            "2166f3fbb6e44e64a6b4c31d9c06bbdd",
            "03f17c4fcc064c09a3de2ea4fbf27cd2",
            "c4dd036dfc254005b3e5781e05fa93f3",
            "cf4c0b497aae48ebb47c98cdda92008b",
            "185f441d2057449a963bbe8480089f09",
            "c6e824982cc34f8db533fb6665c5614c",
            "09a9b5d2d7624387a08467bb9ada076e",
            "291b2f2714ae4be281ef6bc77c1bbe07"
          ]
        },
        "id": "pazILWfTqJ8I",
        "outputId": "98db6eea-e03f-4b0a-975a-a0f8387f1dd9"
      },
      "outputs": [],
      "source": [
        "evaluate_result = run_and_evaluate_outputs(\n",
        "    trace_level_evaluators=trace_level_evaluators,\n",
        "    dataset_level_evaluators={},\n",
        "    rag_query_fn=partial(\n",
        "        run_query_flow,\n",
        "        ingestion_trace_id=ingestion_trace_id\n",
        "    ),\n",
        "    inputs=user_questions,\n",
        "    ground_truth=ground_truth_answers,\n",
        ")"
      ]
    },
    {
      "cell_type": "markdown",
      "metadata": {
        "id": "vQptLtpaG7NS"
      },
      "source": [
        "<a name=\"identify\"></a>\n",
        "\n",
        "### Identify Issues"
      ]
    },
    {
      "cell_type": "markdown",
      "metadata": {
        "id": "7RmOoVwrG98q"
      },
      "source": [
        "<a name=\"iterate\"></a>\n",
        "\n",
        "### Iterate and Optimize RAG System"
      ]
    }
  ],
  "metadata": {
    "colab": {
      "provenance": []
    },
    "kernelspec": {
      "display_name": "Python 3",
      "language": "python",
      "name": "python3"
    },
    "language_info": {
      "codemirror_mode": {
        "name": "ipython",
        "version": 3
      },
      "file_extension": ".py",
      "mimetype": "text/x-python",
      "name": "python",
      "nbconvert_exporter": "python",
      "pygments_lexer": "ipython3",
      "version": "3.11.9"
    },
    "widgets": {
      "application/vnd.jupyter.widget-state+json": {
        "03f17c4fcc064c09a3de2ea4fbf27cd2": {
          "model_module": "@jupyter-widgets/base",
          "model_module_version": "1.2.0",
          "model_name": "LayoutModel",
          "state": {
            "_model_module": "@jupyter-widgets/base",
            "_model_module_version": "1.2.0",
            "_model_name": "LayoutModel",
            "_view_count": null,
            "_view_module": "@jupyter-widgets/base",
            "_view_module_version": "1.2.0",
            "_view_name": "LayoutView",
            "align_content": null,
            "align_items": null,
            "align_self": null,
            "border": null,
            "bottom": null,
            "display": null,
            "flex": null,
            "flex_flow": null,
            "grid_area": null,
            "grid_auto_columns": null,
            "grid_auto_flow": null,
            "grid_auto_rows": null,
            "grid_column": null,
            "grid_gap": null,
            "grid_row": null,
            "grid_template_areas": null,
            "grid_template_columns": null,
            "grid_template_rows": null,
            "height": null,
            "justify_content": null,
            "justify_items": null,
            "left": null,
            "margin": null,
            "max_height": null,
            "max_width": null,
            "min_height": null,
            "min_width": null,
            "object_fit": null,
            "object_position": null,
            "order": null,
            "overflow": null,
            "overflow_x": null,
            "overflow_y": null,
            "padding": null,
            "right": null,
            "top": null,
            "visibility": null,
            "width": null
          }
        },
        "09a9b5d2d7624387a08467bb9ada076e": {
          "model_module": "@jupyter-widgets/base",
          "model_module_version": "1.2.0",
          "model_name": "LayoutModel",
          "state": {
            "_model_module": "@jupyter-widgets/base",
            "_model_module_version": "1.2.0",
            "_model_name": "LayoutModel",
            "_view_count": null,
            "_view_module": "@jupyter-widgets/base",
            "_view_module_version": "1.2.0",
            "_view_name": "LayoutView",
            "align_content": null,
            "align_items": null,
            "align_self": null,
            "border": null,
            "bottom": null,
            "display": null,
            "flex": null,
            "flex_flow": null,
            "grid_area": null,
            "grid_auto_columns": null,
            "grid_auto_flow": null,
            "grid_auto_rows": null,
            "grid_column": null,
            "grid_gap": null,
            "grid_row": null,
            "grid_template_areas": null,
            "grid_template_columns": null,
            "grid_template_rows": null,
            "height": null,
            "justify_content": null,
            "justify_items": null,
            "left": null,
            "margin": null,
            "max_height": null,
            "max_width": null,
            "min_height": null,
            "min_width": null,
            "object_fit": null,
            "object_position": null,
            "order": null,
            "overflow": null,
            "overflow_x": null,
            "overflow_y": null,
            "padding": null,
            "right": null,
            "top": null,
            "visibility": null,
            "width": null
          }
        },
        "12235281ec0146deb3e882cbe89492b2": {
          "model_module": "@jupyter-widgets/controls",
          "model_module_version": "1.5.0",
          "model_name": "FloatProgressModel",
          "state": {
            "_dom_classes": [],
            "_model_module": "@jupyter-widgets/controls",
            "_model_module_version": "1.5.0",
            "_model_name": "FloatProgressModel",
            "_view_count": null,
            "_view_module": "@jupyter-widgets/controls",
            "_view_module_version": "1.5.0",
            "_view_name": "ProgressView",
            "bar_style": "",
            "description": "",
            "description_tooltip": null,
            "layout": "IPY_MODEL_185f441d2057449a963bbe8480089f09",
            "max": 5,
            "min": 0,
            "orientation": "horizontal",
            "style": "IPY_MODEL_c6e824982cc34f8db533fb6665c5614c",
            "value": 5
          }
        },
        "12deaac7ff9e4ed2ac8519f070905cc8": {
          "model_module": "@jupyter-widgets/controls",
          "model_module_version": "1.5.0",
          "model_name": "FloatProgressModel",
          "state": {
            "_dom_classes": [],
            "_model_module": "@jupyter-widgets/controls",
            "_model_module_version": "1.5.0",
            "_model_name": "FloatProgressModel",
            "_view_count": null,
            "_view_module": "@jupyter-widgets/controls",
            "_view_module_version": "1.5.0",
            "_view_name": "ProgressView",
            "bar_style": "success",
            "description": "",
            "description_tooltip": null,
            "layout": "IPY_MODEL_b8dfa03efcba4d0fbf5d1920fb660d65",
            "max": 5,
            "min": 0,
            "orientation": "horizontal",
            "style": "IPY_MODEL_267dcd714cbc47cba03fb9dd7c47e78a",
            "value": 5
          }
        },
        "1325a9802d9b405996837ecd92681779": {
          "model_module": "@jupyter-widgets/base",
          "model_module_version": "1.2.0",
          "model_name": "LayoutModel",
          "state": {
            "_model_module": "@jupyter-widgets/base",
            "_model_module_version": "1.2.0",
            "_model_name": "LayoutModel",
            "_view_count": null,
            "_view_module": "@jupyter-widgets/base",
            "_view_module_version": "1.2.0",
            "_view_name": "LayoutView",
            "align_content": null,
            "align_items": null,
            "align_self": null,
            "border": null,
            "bottom": null,
            "display": null,
            "flex": null,
            "flex_flow": null,
            "grid_area": null,
            "grid_auto_columns": null,
            "grid_auto_flow": null,
            "grid_auto_rows": null,
            "grid_column": null,
            "grid_gap": null,
            "grid_row": null,
            "grid_template_areas": null,
            "grid_template_columns": null,
            "grid_template_rows": null,
            "height": null,
            "justify_content": null,
            "justify_items": null,
            "left": null,
            "margin": null,
            "max_height": null,
            "max_width": null,
            "min_height": null,
            "min_width": null,
            "object_fit": null,
            "object_position": null,
            "order": null,
            "overflow": null,
            "overflow_x": null,
            "overflow_y": null,
            "padding": null,
            "right": null,
            "top": null,
            "visibility": null,
            "width": null
          }
        },
        "13fafff85d2d4fd69cbfa28e397d06dc": {
          "model_module": "@jupyter-widgets/controls",
          "model_module_version": "1.5.0",
          "model_name": "DescriptionStyleModel",
          "state": {
            "_model_module": "@jupyter-widgets/controls",
            "_model_module_version": "1.5.0",
            "_model_name": "DescriptionStyleModel",
            "_view_count": null,
            "_view_module": "@jupyter-widgets/base",
            "_view_module_version": "1.2.0",
            "_view_name": "StyleView",
            "description_width": ""
          }
        },
        "185f441d2057449a963bbe8480089f09": {
          "model_module": "@jupyter-widgets/base",
          "model_module_version": "1.2.0",
          "model_name": "LayoutModel",
          "state": {
            "_model_module": "@jupyter-widgets/base",
            "_model_module_version": "1.2.0",
            "_model_name": "LayoutModel",
            "_view_count": null,
            "_view_module": "@jupyter-widgets/base",
            "_view_module_version": "1.2.0",
            "_view_name": "LayoutView",
            "align_content": null,
            "align_items": null,
            "align_self": null,
            "border": null,
            "bottom": null,
            "display": null,
            "flex": null,
            "flex_flow": null,
            "grid_area": null,
            "grid_auto_columns": null,
            "grid_auto_flow": null,
            "grid_auto_rows": null,
            "grid_column": null,
            "grid_gap": null,
            "grid_row": null,
            "grid_template_areas": null,
            "grid_template_columns": null,
            "grid_template_rows": null,
            "height": null,
            "justify_content": null,
            "justify_items": null,
            "left": null,
            "margin": null,
            "max_height": null,
            "max_width": null,
            "min_height": null,
            "min_width": null,
            "object_fit": null,
            "object_position": null,
            "order": null,
            "overflow": null,
            "overflow_x": null,
            "overflow_y": null,
            "padding": null,
            "right": null,
            "top": null,
            "visibility": null,
            "width": null
          }
        },
        "1fa85d43bc4643a0bff8550eacf4d220": {
          "model_module": "@jupyter-widgets/controls",
          "model_module_version": "1.5.0",
          "model_name": "ProgressStyleModel",
          "state": {
            "_model_module": "@jupyter-widgets/controls",
            "_model_module_version": "1.5.0",
            "_model_name": "ProgressStyleModel",
            "_view_count": null,
            "_view_module": "@jupyter-widgets/base",
            "_view_module_version": "1.2.0",
            "_view_name": "StyleView",
            "bar_color": null,
            "description_width": ""
          }
        },
        "215bb12be63a409b9906ea59d2ea9325": {
          "model_module": "@jupyter-widgets/controls",
          "model_module_version": "1.5.0",
          "model_name": "FloatProgressModel",
          "state": {
            "_dom_classes": [],
            "_model_module": "@jupyter-widgets/controls",
            "_model_module_version": "1.5.0",
            "_model_name": "FloatProgressModel",
            "_view_count": null,
            "_view_module": "@jupyter-widgets/controls",
            "_view_module_version": "1.5.0",
            "_view_name": "ProgressView",
            "bar_style": "",
            "description": "",
            "description_tooltip": null,
            "layout": "IPY_MODEL_7794f8f0834449c68195b2c0b9ad5e85",
            "max": 5,
            "min": 0,
            "orientation": "horizontal",
            "style": "IPY_MODEL_1fa85d43bc4643a0bff8550eacf4d220",
            "value": 5
          }
        },
        "2166f3fbb6e44e64a6b4c31d9c06bbdd": {
          "model_module": "@jupyter-widgets/controls",
          "model_module_version": "1.5.0",
          "model_name": "HTMLModel",
          "state": {
            "_dom_classes": [],
            "_model_module": "@jupyter-widgets/controls",
            "_model_module_version": "1.5.0",
            "_model_name": "HTMLModel",
            "_view_count": null,
            "_view_module": "@jupyter-widgets/controls",
            "_view_module_version": "1.5.0",
            "_view_name": "HTMLView",
            "description": "",
            "description_tooltip": null,
            "layout": "IPY_MODEL_09a9b5d2d7624387a08467bb9ada076e",
            "placeholder": "​",
            "style": "IPY_MODEL_291b2f2714ae4be281ef6bc77c1bbe07",
            "value": " 5/5 (100.0%) | ⏳ 00:02&lt;00:00 |  1.82it/s"
          }
        },
        "267dcd714cbc47cba03fb9dd7c47e78a": {
          "model_module": "@jupyter-widgets/controls",
          "model_module_version": "1.5.0",
          "model_name": "ProgressStyleModel",
          "state": {
            "_model_module": "@jupyter-widgets/controls",
            "_model_module_version": "1.5.0",
            "_model_name": "ProgressStyleModel",
            "_view_count": null,
            "_view_module": "@jupyter-widgets/base",
            "_view_module_version": "1.2.0",
            "_view_name": "StyleView",
            "bar_color": null,
            "description_width": ""
          }
        },
        "291b2f2714ae4be281ef6bc77c1bbe07": {
          "model_module": "@jupyter-widgets/controls",
          "model_module_version": "1.5.0",
          "model_name": "DescriptionStyleModel",
          "state": {
            "_model_module": "@jupyter-widgets/controls",
            "_model_module_version": "1.5.0",
            "_model_name": "DescriptionStyleModel",
            "_view_count": null,
            "_view_module": "@jupyter-widgets/base",
            "_view_module_version": "1.2.0",
            "_view_name": "StyleView",
            "description_width": ""
          }
        },
        "3d545837657246f1a77a4c4f3c5e3274": {
          "model_module": "@jupyter-widgets/controls",
          "model_module_version": "1.5.0",
          "model_name": "FloatProgressModel",
          "state": {
            "_dom_classes": [],
            "_model_module": "@jupyter-widgets/controls",
            "_model_module_version": "1.5.0",
            "_model_name": "FloatProgressModel",
            "_view_count": null,
            "_view_module": "@jupyter-widgets/controls",
            "_view_module_version": "1.5.0",
            "_view_name": "ProgressView",
            "bar_style": "",
            "description": "",
            "description_tooltip": null,
            "layout": "IPY_MODEL_d735669a00474ca39760e5786ace28d8",
            "max": 5,
            "min": 0,
            "orientation": "horizontal",
            "style": "IPY_MODEL_9bb4729c6649412bb387637587cded9d",
            "value": 5
          }
        },
        "45743418b0374fe0bf8fbfc7ee947990": {
          "model_module": "@jupyter-widgets/controls",
          "model_module_version": "1.5.0",
          "model_name": "HTMLModel",
          "state": {
            "_dom_classes": [],
            "_model_module": "@jupyter-widgets/controls",
            "_model_module_version": "1.5.0",
            "_model_name": "HTMLModel",
            "_view_count": null,
            "_view_module": "@jupyter-widgets/controls",
            "_view_module_version": "1.5.0",
            "_view_name": "HTMLView",
            "description": "",
            "description_tooltip": null,
            "layout": "IPY_MODEL_1325a9802d9b405996837ecd92681779",
            "placeholder": "​",
            "style": "IPY_MODEL_b1b359d2001e406b861027d49fc08f1b",
            "value": "llm_classify "
          }
        },
        "4ae4b404f959400999f4bd70d174ffa1": {
          "model_module": "@jupyter-widgets/base",
          "model_module_version": "1.2.0",
          "model_name": "LayoutModel",
          "state": {
            "_model_module": "@jupyter-widgets/base",
            "_model_module_version": "1.2.0",
            "_model_name": "LayoutModel",
            "_view_count": null,
            "_view_module": "@jupyter-widgets/base",
            "_view_module_version": "1.2.0",
            "_view_name": "LayoutView",
            "align_content": null,
            "align_items": null,
            "align_self": null,
            "border": null,
            "bottom": null,
            "display": null,
            "flex": null,
            "flex_flow": null,
            "grid_area": null,
            "grid_auto_columns": null,
            "grid_auto_flow": null,
            "grid_auto_rows": null,
            "grid_column": null,
            "grid_gap": null,
            "grid_row": null,
            "grid_template_areas": null,
            "grid_template_columns": null,
            "grid_template_rows": null,
            "height": null,
            "justify_content": null,
            "justify_items": null,
            "left": null,
            "margin": null,
            "max_height": null,
            "max_width": null,
            "min_height": null,
            "min_width": null,
            "object_fit": null,
            "object_position": null,
            "order": null,
            "overflow": null,
            "overflow_x": null,
            "overflow_y": null,
            "padding": null,
            "right": null,
            "top": null,
            "visibility": null,
            "width": null
          }
        },
        "4d3690748b6e4b90a1709477484bf5ed": {
          "model_module": "@jupyter-widgets/base",
          "model_module_version": "1.2.0",
          "model_name": "LayoutModel",
          "state": {
            "_model_module": "@jupyter-widgets/base",
            "_model_module_version": "1.2.0",
            "_model_name": "LayoutModel",
            "_view_count": null,
            "_view_module": "@jupyter-widgets/base",
            "_view_module_version": "1.2.0",
            "_view_name": "LayoutView",
            "align_content": null,
            "align_items": null,
            "align_self": null,
            "border": null,
            "bottom": null,
            "display": null,
            "flex": null,
            "flex_flow": null,
            "grid_area": null,
            "grid_auto_columns": null,
            "grid_auto_flow": null,
            "grid_auto_rows": null,
            "grid_column": null,
            "grid_gap": null,
            "grid_row": null,
            "grid_template_areas": null,
            "grid_template_columns": null,
            "grid_template_rows": null,
            "height": null,
            "justify_content": null,
            "justify_items": null,
            "left": null,
            "margin": null,
            "max_height": null,
            "max_width": null,
            "min_height": null,
            "min_width": null,
            "object_fit": null,
            "object_position": null,
            "order": null,
            "overflow": null,
            "overflow_x": null,
            "overflow_y": null,
            "padding": null,
            "right": null,
            "top": null,
            "visibility": null,
            "width": null
          }
        },
        "4e67bd01c6244db1bbcebf7db0dee3a3": {
          "model_module": "@jupyter-widgets/controls",
          "model_module_version": "1.5.0",
          "model_name": "HBoxModel",
          "state": {
            "_dom_classes": [],
            "_model_module": "@jupyter-widgets/controls",
            "_model_module_version": "1.5.0",
            "_model_name": "HBoxModel",
            "_view_count": null,
            "_view_module": "@jupyter-widgets/controls",
            "_view_module_version": "1.5.0",
            "_view_name": "HBoxView",
            "box_style": "",
            "children": [
              "IPY_MODEL_9200f29fcdba4ca19b98cd5d0c264925",
              "IPY_MODEL_12235281ec0146deb3e882cbe89492b2",
              "IPY_MODEL_2166f3fbb6e44e64a6b4c31d9c06bbdd"
            ],
            "layout": "IPY_MODEL_03f17c4fcc064c09a3de2ea4fbf27cd2"
          }
        },
        "4e8b26ca72c946e88a561a3779374c7b": {
          "model_module": "@jupyter-widgets/base",
          "model_module_version": "1.2.0",
          "model_name": "LayoutModel",
          "state": {
            "_model_module": "@jupyter-widgets/base",
            "_model_module_version": "1.2.0",
            "_model_name": "LayoutModel",
            "_view_count": null,
            "_view_module": "@jupyter-widgets/base",
            "_view_module_version": "1.2.0",
            "_view_name": "LayoutView",
            "align_content": null,
            "align_items": null,
            "align_self": null,
            "border": null,
            "bottom": null,
            "display": null,
            "flex": null,
            "flex_flow": null,
            "grid_area": null,
            "grid_auto_columns": null,
            "grid_auto_flow": null,
            "grid_auto_rows": null,
            "grid_column": null,
            "grid_gap": null,
            "grid_row": null,
            "grid_template_areas": null,
            "grid_template_columns": null,
            "grid_template_rows": null,
            "height": null,
            "justify_content": null,
            "justify_items": null,
            "left": null,
            "margin": null,
            "max_height": null,
            "max_width": null,
            "min_height": null,
            "min_width": null,
            "object_fit": null,
            "object_position": null,
            "order": null,
            "overflow": null,
            "overflow_x": null,
            "overflow_y": null,
            "padding": null,
            "right": null,
            "top": null,
            "visibility": null,
            "width": null
          }
        },
        "546aeed1a087491280b28adee2830cd4": {
          "model_module": "@jupyter-widgets/base",
          "model_module_version": "1.2.0",
          "model_name": "LayoutModel",
          "state": {
            "_model_module": "@jupyter-widgets/base",
            "_model_module_version": "1.2.0",
            "_model_name": "LayoutModel",
            "_view_count": null,
            "_view_module": "@jupyter-widgets/base",
            "_view_module_version": "1.2.0",
            "_view_name": "LayoutView",
            "align_content": null,
            "align_items": null,
            "align_self": null,
            "border": null,
            "bottom": null,
            "display": null,
            "flex": null,
            "flex_flow": null,
            "grid_area": null,
            "grid_auto_columns": null,
            "grid_auto_flow": null,
            "grid_auto_rows": null,
            "grid_column": null,
            "grid_gap": null,
            "grid_row": null,
            "grid_template_areas": null,
            "grid_template_columns": null,
            "grid_template_rows": null,
            "height": null,
            "justify_content": null,
            "justify_items": null,
            "left": null,
            "margin": null,
            "max_height": null,
            "max_width": null,
            "min_height": null,
            "min_width": null,
            "object_fit": null,
            "object_position": null,
            "order": null,
            "overflow": null,
            "overflow_x": null,
            "overflow_y": null,
            "padding": null,
            "right": null,
            "top": null,
            "visibility": null,
            "width": null
          }
        },
        "5faf306981e84acba4ca5b64c362c578": {
          "model_module": "@jupyter-widgets/controls",
          "model_module_version": "1.5.0",
          "model_name": "DescriptionStyleModel",
          "state": {
            "_model_module": "@jupyter-widgets/controls",
            "_model_module_version": "1.5.0",
            "_model_name": "DescriptionStyleModel",
            "_view_count": null,
            "_view_module": "@jupyter-widgets/base",
            "_view_module_version": "1.2.0",
            "_view_name": "StyleView",
            "description_width": ""
          }
        },
        "6029b8f3cd9640a09bdbd506d43423fa": {
          "model_module": "@jupyter-widgets/base",
          "model_module_version": "1.2.0",
          "model_name": "LayoutModel",
          "state": {
            "_model_module": "@jupyter-widgets/base",
            "_model_module_version": "1.2.0",
            "_model_name": "LayoutModel",
            "_view_count": null,
            "_view_module": "@jupyter-widgets/base",
            "_view_module_version": "1.2.0",
            "_view_name": "LayoutView",
            "align_content": null,
            "align_items": null,
            "align_self": null,
            "border": null,
            "bottom": null,
            "display": null,
            "flex": null,
            "flex_flow": null,
            "grid_area": null,
            "grid_auto_columns": null,
            "grid_auto_flow": null,
            "grid_auto_rows": null,
            "grid_column": null,
            "grid_gap": null,
            "grid_row": null,
            "grid_template_areas": null,
            "grid_template_columns": null,
            "grid_template_rows": null,
            "height": null,
            "justify_content": null,
            "justify_items": null,
            "left": null,
            "margin": null,
            "max_height": null,
            "max_width": null,
            "min_height": null,
            "min_width": null,
            "object_fit": null,
            "object_position": null,
            "order": null,
            "overflow": null,
            "overflow_x": null,
            "overflow_y": null,
            "padding": null,
            "right": null,
            "top": null,
            "visibility": null,
            "width": null
          }
        },
        "63be7df590ad470fb0c63aee3a3c3d50": {
          "model_module": "@jupyter-widgets/base",
          "model_module_version": "1.2.0",
          "model_name": "LayoutModel",
          "state": {
            "_model_module": "@jupyter-widgets/base",
            "_model_module_version": "1.2.0",
            "_model_name": "LayoutModel",
            "_view_count": null,
            "_view_module": "@jupyter-widgets/base",
            "_view_module_version": "1.2.0",
            "_view_name": "LayoutView",
            "align_content": null,
            "align_items": null,
            "align_self": null,
            "border": null,
            "bottom": null,
            "display": null,
            "flex": null,
            "flex_flow": null,
            "grid_area": null,
            "grid_auto_columns": null,
            "grid_auto_flow": null,
            "grid_auto_rows": null,
            "grid_column": null,
            "grid_gap": null,
            "grid_row": null,
            "grid_template_areas": null,
            "grid_template_columns": null,
            "grid_template_rows": null,
            "height": null,
            "justify_content": null,
            "justify_items": null,
            "left": null,
            "margin": null,
            "max_height": null,
            "max_width": null,
            "min_height": null,
            "min_width": null,
            "object_fit": null,
            "object_position": null,
            "order": null,
            "overflow": null,
            "overflow_x": null,
            "overflow_y": null,
            "padding": null,
            "right": null,
            "top": null,
            "visibility": null,
            "width": null
          }
        },
        "7794f8f0834449c68195b2c0b9ad5e85": {
          "model_module": "@jupyter-widgets/base",
          "model_module_version": "1.2.0",
          "model_name": "LayoutModel",
          "state": {
            "_model_module": "@jupyter-widgets/base",
            "_model_module_version": "1.2.0",
            "_model_name": "LayoutModel",
            "_view_count": null,
            "_view_module": "@jupyter-widgets/base",
            "_view_module_version": "1.2.0",
            "_view_name": "LayoutView",
            "align_content": null,
            "align_items": null,
            "align_self": null,
            "border": null,
            "bottom": null,
            "display": null,
            "flex": null,
            "flex_flow": null,
            "grid_area": null,
            "grid_auto_columns": null,
            "grid_auto_flow": null,
            "grid_auto_rows": null,
            "grid_column": null,
            "grid_gap": null,
            "grid_row": null,
            "grid_template_areas": null,
            "grid_template_columns": null,
            "grid_template_rows": null,
            "height": null,
            "justify_content": null,
            "justify_items": null,
            "left": null,
            "margin": null,
            "max_height": null,
            "max_width": null,
            "min_height": null,
            "min_width": null,
            "object_fit": null,
            "object_position": null,
            "order": null,
            "overflow": null,
            "overflow_x": null,
            "overflow_y": null,
            "padding": null,
            "right": null,
            "top": null,
            "visibility": null,
            "width": null
          }
        },
        "8a89e668961b41f88819ccc4c43eb721": {
          "model_module": "@jupyter-widgets/controls",
          "model_module_version": "1.5.0",
          "model_name": "DescriptionStyleModel",
          "state": {
            "_model_module": "@jupyter-widgets/controls",
            "_model_module_version": "1.5.0",
            "_model_name": "DescriptionStyleModel",
            "_view_count": null,
            "_view_module": "@jupyter-widgets/base",
            "_view_module_version": "1.2.0",
            "_view_name": "StyleView",
            "description_width": ""
          }
        },
        "8f4cb9e256f14b10b2d48293162ba374": {
          "model_module": "@jupyter-widgets/base",
          "model_module_version": "1.2.0",
          "model_name": "LayoutModel",
          "state": {
            "_model_module": "@jupyter-widgets/base",
            "_model_module_version": "1.2.0",
            "_model_name": "LayoutModel",
            "_view_count": null,
            "_view_module": "@jupyter-widgets/base",
            "_view_module_version": "1.2.0",
            "_view_name": "LayoutView",
            "align_content": null,
            "align_items": null,
            "align_self": null,
            "border": null,
            "bottom": null,
            "display": null,
            "flex": null,
            "flex_flow": null,
            "grid_area": null,
            "grid_auto_columns": null,
            "grid_auto_flow": null,
            "grid_auto_rows": null,
            "grid_column": null,
            "grid_gap": null,
            "grid_row": null,
            "grid_template_areas": null,
            "grid_template_columns": null,
            "grid_template_rows": null,
            "height": null,
            "justify_content": null,
            "justify_items": null,
            "left": null,
            "margin": null,
            "max_height": null,
            "max_width": null,
            "min_height": null,
            "min_width": null,
            "object_fit": null,
            "object_position": null,
            "order": null,
            "overflow": null,
            "overflow_x": null,
            "overflow_y": null,
            "padding": null,
            "right": null,
            "top": null,
            "visibility": null,
            "width": null
          }
        },
        "9200f29fcdba4ca19b98cd5d0c264925": {
          "model_module": "@jupyter-widgets/controls",
          "model_module_version": "1.5.0",
          "model_name": "HTMLModel",
          "state": {
            "_dom_classes": [],
            "_model_module": "@jupyter-widgets/controls",
            "_model_module_version": "1.5.0",
            "_model_name": "HTMLModel",
            "_view_count": null,
            "_view_module": "@jupyter-widgets/controls",
            "_view_module_version": "1.5.0",
            "_view_name": "HTMLView",
            "description": "",
            "description_tooltip": null,
            "layout": "IPY_MODEL_c4dd036dfc254005b3e5781e05fa93f3",
            "placeholder": "​",
            "style": "IPY_MODEL_cf4c0b497aae48ebb47c98cdda92008b",
            "value": "llm_classify "
          }
        },
        "94614f7130084d728d8bdc8cd119fc9c": {
          "model_module": "@jupyter-widgets/controls",
          "model_module_version": "1.5.0",
          "model_name": "HTMLModel",
          "state": {
            "_dom_classes": [],
            "_model_module": "@jupyter-widgets/controls",
            "_model_module_version": "1.5.0",
            "_model_name": "HTMLModel",
            "_view_count": null,
            "_view_module": "@jupyter-widgets/controls",
            "_view_module_version": "1.5.0",
            "_view_name": "HTMLView",
            "description": "",
            "description_tooltip": null,
            "layout": "IPY_MODEL_63be7df590ad470fb0c63aee3a3c3d50",
            "placeholder": "​",
            "style": "IPY_MODEL_8a89e668961b41f88819ccc4c43eb721",
            "value": " 5/5 (100.0%) | ⏳ 00:04&lt;00:00 |  1.41it/s"
          }
        },
        "94b48b4560934073a177517a45aad3b5": {
          "model_module": "@jupyter-widgets/controls",
          "model_module_version": "1.5.0",
          "model_name": "DescriptionStyleModel",
          "state": {
            "_model_module": "@jupyter-widgets/controls",
            "_model_module_version": "1.5.0",
            "_model_name": "DescriptionStyleModel",
            "_view_count": null,
            "_view_module": "@jupyter-widgets/base",
            "_view_module_version": "1.2.0",
            "_view_name": "StyleView",
            "description_width": ""
          }
        },
        "95a40bca43b54eafb7151fd43e295209": {
          "model_module": "@jupyter-widgets/controls",
          "model_module_version": "1.5.0",
          "model_name": "HBoxModel",
          "state": {
            "_dom_classes": [],
            "_model_module": "@jupyter-widgets/controls",
            "_model_module_version": "1.5.0",
            "_model_name": "HBoxModel",
            "_view_count": null,
            "_view_module": "@jupyter-widgets/controls",
            "_view_module_version": "1.5.0",
            "_view_name": "HBoxView",
            "box_style": "",
            "children": [
              "IPY_MODEL_45743418b0374fe0bf8fbfc7ee947990",
              "IPY_MODEL_12deaac7ff9e4ed2ac8519f070905cc8",
              "IPY_MODEL_94614f7130084d728d8bdc8cd119fc9c"
            ],
            "layout": "IPY_MODEL_fcda901c99444846ae9c5323e933d7e1"
          }
        },
        "9bb4729c6649412bb387637587cded9d": {
          "model_module": "@jupyter-widgets/controls",
          "model_module_version": "1.5.0",
          "model_name": "ProgressStyleModel",
          "state": {
            "_model_module": "@jupyter-widgets/controls",
            "_model_module_version": "1.5.0",
            "_model_name": "ProgressStyleModel",
            "_view_count": null,
            "_view_module": "@jupyter-widgets/base",
            "_view_module_version": "1.2.0",
            "_view_name": "StyleView",
            "bar_color": null,
            "description_width": ""
          }
        },
        "9eba925f607544e7b11a0dc4ce6afbb6": {
          "model_module": "@jupyter-widgets/controls",
          "model_module_version": "1.5.0",
          "model_name": "HBoxModel",
          "state": {
            "_dom_classes": [],
            "_model_module": "@jupyter-widgets/controls",
            "_model_module_version": "1.5.0",
            "_model_name": "HBoxModel",
            "_view_count": null,
            "_view_module": "@jupyter-widgets/controls",
            "_view_module_version": "1.5.0",
            "_view_name": "HBoxView",
            "box_style": "",
            "children": [
              "IPY_MODEL_e45d119c8a814af9ad9324d2237ff229",
              "IPY_MODEL_215bb12be63a409b9906ea59d2ea9325",
              "IPY_MODEL_f24218f4d8dc40de9864609479a92d46"
            ],
            "layout": "IPY_MODEL_4d3690748b6e4b90a1709477484bf5ed"
          }
        },
        "9f2a97bee8fa4ed1a15182d0e79326eb": {
          "model_module": "@jupyter-widgets/controls",
          "model_module_version": "1.5.0",
          "model_name": "HTMLModel",
          "state": {
            "_dom_classes": [],
            "_model_module": "@jupyter-widgets/controls",
            "_model_module_version": "1.5.0",
            "_model_name": "HTMLModel",
            "_view_count": null,
            "_view_module": "@jupyter-widgets/controls",
            "_view_module_version": "1.5.0",
            "_view_name": "HTMLView",
            "description": "",
            "description_tooltip": null,
            "layout": "IPY_MODEL_546aeed1a087491280b28adee2830cd4",
            "placeholder": "​",
            "style": "IPY_MODEL_5faf306981e84acba4ca5b64c362c578",
            "value": " 5/5 (100.0%) | ⏳ 00:02&lt;00:00 |  1.76it/s"
          }
        },
        "b1b359d2001e406b861027d49fc08f1b": {
          "model_module": "@jupyter-widgets/controls",
          "model_module_version": "1.5.0",
          "model_name": "DescriptionStyleModel",
          "state": {
            "_model_module": "@jupyter-widgets/controls",
            "_model_module_version": "1.5.0",
            "_model_name": "DescriptionStyleModel",
            "_view_count": null,
            "_view_module": "@jupyter-widgets/base",
            "_view_module_version": "1.2.0",
            "_view_name": "StyleView",
            "description_width": ""
          }
        },
        "b8dfa03efcba4d0fbf5d1920fb660d65": {
          "model_module": "@jupyter-widgets/base",
          "model_module_version": "1.2.0",
          "model_name": "LayoutModel",
          "state": {
            "_model_module": "@jupyter-widgets/base",
            "_model_module_version": "1.2.0",
            "_model_name": "LayoutModel",
            "_view_count": null,
            "_view_module": "@jupyter-widgets/base",
            "_view_module_version": "1.2.0",
            "_view_name": "LayoutView",
            "align_content": null,
            "align_items": null,
            "align_self": null,
            "border": null,
            "bottom": null,
            "display": null,
            "flex": null,
            "flex_flow": null,
            "grid_area": null,
            "grid_auto_columns": null,
            "grid_auto_flow": null,
            "grid_auto_rows": null,
            "grid_column": null,
            "grid_gap": null,
            "grid_row": null,
            "grid_template_areas": null,
            "grid_template_columns": null,
            "grid_template_rows": null,
            "height": null,
            "justify_content": null,
            "justify_items": null,
            "left": null,
            "margin": null,
            "max_height": null,
            "max_width": null,
            "min_height": null,
            "min_width": null,
            "object_fit": null,
            "object_position": null,
            "order": null,
            "overflow": null,
            "overflow_x": null,
            "overflow_y": null,
            "padding": null,
            "right": null,
            "top": null,
            "visibility": null,
            "width": null
          }
        },
        "c4b7cd32e57542829c671c9f0d5a6b0f": {
          "model_module": "@jupyter-widgets/controls",
          "model_module_version": "1.5.0",
          "model_name": "HTMLModel",
          "state": {
            "_dom_classes": [],
            "_model_module": "@jupyter-widgets/controls",
            "_model_module_version": "1.5.0",
            "_model_name": "HTMLModel",
            "_view_count": null,
            "_view_module": "@jupyter-widgets/controls",
            "_view_module_version": "1.5.0",
            "_view_name": "HTMLView",
            "description": "",
            "description_tooltip": null,
            "layout": "IPY_MODEL_8f4cb9e256f14b10b2d48293162ba374",
            "placeholder": "​",
            "style": "IPY_MODEL_94b48b4560934073a177517a45aad3b5",
            "value": "llm_classify "
          }
        },
        "c4dd036dfc254005b3e5781e05fa93f3": {
          "model_module": "@jupyter-widgets/base",
          "model_module_version": "1.2.0",
          "model_name": "LayoutModel",
          "state": {
            "_model_module": "@jupyter-widgets/base",
            "_model_module_version": "1.2.0",
            "_model_name": "LayoutModel",
            "_view_count": null,
            "_view_module": "@jupyter-widgets/base",
            "_view_module_version": "1.2.0",
            "_view_name": "LayoutView",
            "align_content": null,
            "align_items": null,
            "align_self": null,
            "border": null,
            "bottom": null,
            "display": null,
            "flex": null,
            "flex_flow": null,
            "grid_area": null,
            "grid_auto_columns": null,
            "grid_auto_flow": null,
            "grid_auto_rows": null,
            "grid_column": null,
            "grid_gap": null,
            "grid_row": null,
            "grid_template_areas": null,
            "grid_template_columns": null,
            "grid_template_rows": null,
            "height": null,
            "justify_content": null,
            "justify_items": null,
            "left": null,
            "margin": null,
            "max_height": null,
            "max_width": null,
            "min_height": null,
            "min_width": null,
            "object_fit": null,
            "object_position": null,
            "order": null,
            "overflow": null,
            "overflow_x": null,
            "overflow_y": null,
            "padding": null,
            "right": null,
            "top": null,
            "visibility": null,
            "width": null
          }
        },
        "c6e824982cc34f8db533fb6665c5614c": {
          "model_module": "@jupyter-widgets/controls",
          "model_module_version": "1.5.0",
          "model_name": "ProgressStyleModel",
          "state": {
            "_model_module": "@jupyter-widgets/controls",
            "_model_module_version": "1.5.0",
            "_model_name": "ProgressStyleModel",
            "_view_count": null,
            "_view_module": "@jupyter-widgets/base",
            "_view_module_version": "1.2.0",
            "_view_name": "StyleView",
            "bar_color": null,
            "description_width": ""
          }
        },
        "cf4c0b497aae48ebb47c98cdda92008b": {
          "model_module": "@jupyter-widgets/controls",
          "model_module_version": "1.5.0",
          "model_name": "DescriptionStyleModel",
          "state": {
            "_model_module": "@jupyter-widgets/controls",
            "_model_module_version": "1.5.0",
            "_model_name": "DescriptionStyleModel",
            "_view_count": null,
            "_view_module": "@jupyter-widgets/base",
            "_view_module_version": "1.2.0",
            "_view_name": "StyleView",
            "description_width": ""
          }
        },
        "d60c51a1f5154595be11b8a4702313fd": {
          "model_module": "@jupyter-widgets/controls",
          "model_module_version": "1.5.0",
          "model_name": "DescriptionStyleModel",
          "state": {
            "_model_module": "@jupyter-widgets/controls",
            "_model_module_version": "1.5.0",
            "_model_name": "DescriptionStyleModel",
            "_view_count": null,
            "_view_module": "@jupyter-widgets/base",
            "_view_module_version": "1.2.0",
            "_view_name": "StyleView",
            "description_width": ""
          }
        },
        "d735669a00474ca39760e5786ace28d8": {
          "model_module": "@jupyter-widgets/base",
          "model_module_version": "1.2.0",
          "model_name": "LayoutModel",
          "state": {
            "_model_module": "@jupyter-widgets/base",
            "_model_module_version": "1.2.0",
            "_model_name": "LayoutModel",
            "_view_count": null,
            "_view_module": "@jupyter-widgets/base",
            "_view_module_version": "1.2.0",
            "_view_name": "LayoutView",
            "align_content": null,
            "align_items": null,
            "align_self": null,
            "border": null,
            "bottom": null,
            "display": null,
            "flex": null,
            "flex_flow": null,
            "grid_area": null,
            "grid_auto_columns": null,
            "grid_auto_flow": null,
            "grid_auto_rows": null,
            "grid_column": null,
            "grid_gap": null,
            "grid_row": null,
            "grid_template_areas": null,
            "grid_template_columns": null,
            "grid_template_rows": null,
            "height": null,
            "justify_content": null,
            "justify_items": null,
            "left": null,
            "margin": null,
            "max_height": null,
            "max_width": null,
            "min_height": null,
            "min_width": null,
            "object_fit": null,
            "object_position": null,
            "order": null,
            "overflow": null,
            "overflow_x": null,
            "overflow_y": null,
            "padding": null,
            "right": null,
            "top": null,
            "visibility": null,
            "width": null
          }
        },
        "e45d119c8a814af9ad9324d2237ff229": {
          "model_module": "@jupyter-widgets/controls",
          "model_module_version": "1.5.0",
          "model_name": "HTMLModel",
          "state": {
            "_dom_classes": [],
            "_model_module": "@jupyter-widgets/controls",
            "_model_module_version": "1.5.0",
            "_model_name": "HTMLModel",
            "_view_count": null,
            "_view_module": "@jupyter-widgets/controls",
            "_view_module_version": "1.5.0",
            "_view_name": "HTMLView",
            "description": "",
            "description_tooltip": null,
            "layout": "IPY_MODEL_6029b8f3cd9640a09bdbd506d43423fa",
            "placeholder": "​",
            "style": "IPY_MODEL_13fafff85d2d4fd69cbfa28e397d06dc",
            "value": "llm_classify "
          }
        },
        "ebda63d64a95458fb584310294737f0b": {
          "model_module": "@jupyter-widgets/controls",
          "model_module_version": "1.5.0",
          "model_name": "HBoxModel",
          "state": {
            "_dom_classes": [],
            "_model_module": "@jupyter-widgets/controls",
            "_model_module_version": "1.5.0",
            "_model_name": "HBoxModel",
            "_view_count": null,
            "_view_module": "@jupyter-widgets/controls",
            "_view_module_version": "1.5.0",
            "_view_name": "HBoxView",
            "box_style": "",
            "children": [
              "IPY_MODEL_c4b7cd32e57542829c671c9f0d5a6b0f",
              "IPY_MODEL_3d545837657246f1a77a4c4f3c5e3274",
              "IPY_MODEL_9f2a97bee8fa4ed1a15182d0e79326eb"
            ],
            "layout": "IPY_MODEL_4ae4b404f959400999f4bd70d174ffa1"
          }
        },
        "f24218f4d8dc40de9864609479a92d46": {
          "model_module": "@jupyter-widgets/controls",
          "model_module_version": "1.5.0",
          "model_name": "HTMLModel",
          "state": {
            "_dom_classes": [],
            "_model_module": "@jupyter-widgets/controls",
            "_model_module_version": "1.5.0",
            "_model_name": "HTMLModel",
            "_view_count": null,
            "_view_module": "@jupyter-widgets/controls",
            "_view_module_version": "1.5.0",
            "_view_name": "HTMLView",
            "description": "",
            "description_tooltip": null,
            "layout": "IPY_MODEL_4e8b26ca72c946e88a561a3779374c7b",
            "placeholder": "​",
            "style": "IPY_MODEL_d60c51a1f5154595be11b8a4702313fd",
            "value": " 5/5 (100.0%) | ⏳ 00:03&lt;00:00 |  1.60it/s"
          }
        },
        "fcda901c99444846ae9c5323e933d7e1": {
          "model_module": "@jupyter-widgets/base",
          "model_module_version": "1.2.0",
          "model_name": "LayoutModel",
          "state": {
            "_model_module": "@jupyter-widgets/base",
            "_model_module_version": "1.2.0",
            "_model_name": "LayoutModel",
            "_view_count": null,
            "_view_module": "@jupyter-widgets/base",
            "_view_module_version": "1.2.0",
            "_view_name": "LayoutView",
            "align_content": null,
            "align_items": null,
            "align_self": null,
            "border": null,
            "bottom": null,
            "display": null,
            "flex": null,
            "flex_flow": null,
            "grid_area": null,
            "grid_auto_columns": null,
            "grid_auto_flow": null,
            "grid_auto_rows": null,
            "grid_column": null,
            "grid_gap": null,
            "grid_row": null,
            "grid_template_areas": null,
            "grid_template_columns": null,
            "grid_template_rows": null,
            "height": null,
            "justify_content": null,
            "justify_items": null,
            "left": null,
            "margin": null,
            "max_height": null,
            "max_width": null,
            "min_height": null,
            "min_width": null,
            "object_fit": null,
            "object_position": null,
            "order": null,
            "overflow": null,
            "overflow_x": null,
            "overflow_y": null,
            "padding": null,
            "right": null,
            "top": null,
            "visibility": null,
            "width": null
          }
        }
      }
    }
  },
  "nbformat": 4,
  "nbformat_minor": 0
}
