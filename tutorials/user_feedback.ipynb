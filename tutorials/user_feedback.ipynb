{
  "cells": [
    {
      "cell_type": "markdown",
      "metadata": {
        "id": "Weuv_f1-UI-k"
      },
      "source": [
        "# Integrate Real-Time User Feedback\n",
        "\n",
        "In this example notebook, we showcase how to integrate real-time feedback for your RAG system using RAG Workbench.\n",
        "\n",
        "**🌟 Please run this notebook in Google Colab! It generates an interactive thumbs up/down UI that renders better in Colab.🌟**\n",
        "\n",
        "\n",
        "\n",
        "## Notebook Outline\n",
        "* [Introduction](#intro)\n",
        "* [Setup](#setup)\n",
        "* [Part 1: Log User Feedback](#part1)\n",
        "  * [Trace your code](#trace_code)\n",
        "  * [Annotate trace with user feedback](#annotate)\n",
        "* [Part 2: Analyze User Feedback](#part2)\n",
        "  * [View user feedback results](#view)\n",
        "* [More Resources](#more)\n",
        "\n"
      ]
    },
    {
      "cell_type": "markdown",
      "metadata": {
        "id": "6jyrOTywVcT2"
      },
      "source": [
        "<a name=\"intro\"></a>\n",
        "# Introduction\n",
        "**User Feedback** is the feedback responses obtained from end users. These responses are typically related to the quality of the output of your application.\n",
        "\n",
        "RAG Workbench allows you to incorporate user feedback into your trace via the LastMile Tracing SDK, providing valuable insights into how users perceive the performance your RAG system.\n",
        "\n",
        "User feedback can be captured in various forms:\n",
        "\n",
        "* **Feedback Score:** Users can rate a specific span, such as a LLM-generated output or a retrieved document (e.g., 👍 / 👎 or on a scale 1-10)\n",
        "* **Expected Value:** Users can provide the expected or correct output for a span, which is stored in the expected field alongside input and output. This is useful for capturing corrections.\n",
        "* **User Comment:** Users can share additional context or qualitative feedback using a free-form text field."
      ]
    },
    {
      "cell_type": "markdown",
      "metadata": {
        "id": "v5xZt7tjVlj0"
      },
      "source": [
        "<a name=\"setup\"></a>\n",
        "# Setup"
      ]
    },
    {
      "cell_type": "markdown",
      "metadata": {
        "id": "q8SmElFcVwPj"
      },
      "source": [
        "To begin, we need to install lastmile-eval library. We are using ipywidgets for this example so installing that here too."
      ]
    },
    {
      "cell_type": "code",
      "execution_count": null,
      "metadata": {
        "colab": {
          "base_uri": "https://localhost:8080/"
        },
        "collapsed": true,
        "id": "VpwykAzaUI-n",
        "outputId": "01398319-aa31-4ce9-ad3c-9911f0c547ed"
      },
      "outputs": [],
      "source": [
        "!pip install lastmile-eval --upgrade\n",
        "!pip install ipywidgets"
      ]
    },
    {
      "cell_type": "markdown",
      "metadata": {
        "id": "qjawVJ5TV6WE"
      },
      "source": [
        "Import all modules used in this tutorial."
      ]
    },
    {
      "cell_type": "code",
      "execution_count": 2,
      "metadata": {
        "id": "5eTjUXrWUI-p"
      },
      "outputs": [],
      "source": [
        "from lastmile_eval.rag.debugger.tracing import get_lastmile_tracer\n",
        "from lastmile_eval.rag.debugger.api import LastMileTracer\n",
        "from lastmile_eval.rag.debugger.tracing.sdk import get_span_id, get_trace_id\n",
        "from openai import OpenAI\n",
        "from IPython.display import display, clear_output\n",
        "from ipywidgets import Button, HBox, Output"
      ]
    },
    {
      "cell_type": "markdown",
      "metadata": {
        "id": "ogPpFfLOWJCD"
      },
      "source": [
        "You need to have the following API keys:\n",
        "\n",
        "1. **LastMile AI API Token:** Get from the [Settings page](https://lastmileai.dev/settings?page=tokens) after creating a free LastMile AI account.\n",
        "2. **OpenAI API Key:** Create from the [API Keys page](https://platform.openai.com/account/api-keys).\n",
        "\n",
        "Setup your keys using one of the following methods:\n",
        "\n",
        "* **Google Colab:** Add secrets `OPENAI_API_KEY` and `LASTMILE_API_TOKEN` in \"Secrets Manager\" (lock icon on left).\n",
        "* **Local Notebook:** Create a `.env` file and add a line for each key (ex. `LASTMILE_API_TOKEN=your-api-token`). \n",
        "\n",
        "Run the code cell below after setting the keys. Avoid inputting keys directly in the notebook."
      ]
    },
    {
      "cell_type": "code",
      "execution_count": 3,
      "metadata": {
        "id": "EFO4I7BaWS5O"
      },
      "outputs": [],
      "source": [
        "import os\n",
        "\n",
        "try:\n",
        "    # If running on Google Colab, use userdata to securely input keys\n",
        "    from google.colab import userdata\n",
        "    OPENAI_API_KEY = userdata.get('OPENAI_API_KEY')\n",
        "    LASTMILE_API_TOKEN = userdata.get('LASTMILE_API_TOKEN')\n",
        "except ModuleNotFoundError:\n",
        "    # If running locally, load keys from .env file\n",
        "    from dotenv import load_dotenv\n",
        "    load_dotenv()\n",
        "    OPENAI_API_KEY = os.getenv('OPENAI_API_KEY')\n",
        "    LASTMILE_API_TOKEN = os.getenv('LASTMILE_API_TOKEN')\n",
        "\n",
        "os.environ['OPENAI_API_KEY'] = OPENAI_API_KEY\n",
        "os.environ['LASTMILE_API_TOKEN'] = LASTMILE_API_TOKEN"
      ]
    },
    {
      "cell_type": "markdown",
      "metadata": {
        "id": "j09Gb4ECWz18"
      },
      "source": [
        "<a name=\"part1\"></a>\n",
        "\n",
        "# Part 1: Log User Feedback\n",
        "In this example, we will generate a riddle with OpenAI's `gpt-3.5-turbo`, and collect user feedback (thumbs up/down) on the riddle."
      ]
    },
    {
      "cell_type": "markdown",
      "metadata": {
        "id": "FzOrKFEQXmAE"
      },
      "source": [
        "<a name=\"trace_code\"></a>\n",
        "\n",
        "## Trace your code\n",
        "First, instantiate a LastMile Tracer object."
      ]
    },
    {
      "cell_type": "code",
      "execution_count": 5,
      "metadata": {
        "id": "Nd4xUbHfWHXd"
      },
      "outputs": [],
      "source": [
        "tracer: LastMileTracer = get_lastmile_tracer(\n",
        "    tracer_name=\"tracer_0\",\n",
        "    project_name=\"User-Feedback\",\n",
        ")"
      ]
    },
    {
      "cell_type": "markdown",
      "metadata": {
        "id": "nDyqenNRUI-q"
      },
      "source": [
        "The function generates our riddle using `gpt-3.5-turbo`. We've added tracing for this function."
      ]
    },
    {
      "cell_type": "code",
      "execution_count": 6,
      "metadata": {
        "id": "6VB6T205UI-q"
      },
      "outputs": [],
      "source": [
        "# Decorate function with tracer for monitoring\n",
        "@tracer.trace_function(\"llm_call\")\n",
        "def generate_riddle() -> str:\n",
        "    \"\"\"\n",
        "    Generate a riddle using OpenAI's GPT-3.5-turbo model.\n",
        "    \"\"\"\n",
        "\n",
        "    query = \"Tell me a riddle and give me the answer.\"\n",
        "    prompt = \"You must respond in capital letters.\"\n",
        "    model = \"gpt-3.5-turbo\"\n",
        "\n",
        "    response = OpenAI().chat.completions.create(\n",
        "        messages=[\n",
        "            {\"role\": \"system\", \"content\": prompt},\n",
        "            {\"role\": \"user\", \"content\": query}\n",
        "        ],\n",
        "        model=model\n",
        "    )\n",
        "\n",
        "    riddle = response.choices[0].message.content\n",
        "\n",
        "    # Store trace and span IDs for linking user feedback to a specific trace/span\n",
        "    tracer.store_trace_id(key=riddle, span_id=get_span_id(), trace_id=get_trace_id())\n",
        "\n",
        "    # Log query event to trace\n",
        "    tracer.add_query_event(\n",
        "        query=query,\n",
        "        llm_output=riddle,\n",
        "        system_prompt=prompt,\n",
        "        metadata={\"model\": model}\n",
        "    )\n",
        "\n",
        "    return riddle\n",
        "\n",
        "\n",
        "riddle = generate_riddle()"
      ]
    },
    {
      "cell_type": "markdown",
      "metadata": {
        "id": "HqdVzhzra9l0"
      },
      "source": [
        "<a name=\"annotate\"></a>\n",
        "\n",
        "## Annotate trace with user feedback\n",
        "We generate a UI element to give a thumbs up/down on our traced llm call and log the reaction to the trace and span.\n"
      ]
    },
    {
      "cell_type": "code",
      "execution_count": null,
      "metadata": {
        "colab": {
          "base_uri": "https://localhost:8080/",
          "height": 230,
          "referenced_widgets": [
            "075337050de749d8bec8be8d513ad4d1",
            "b822b6deb6224424af910f723228391f",
            "f40c027290164bd1b6db97aafefd0f4b",
            "1d0f5609e20044e39ce905ecbfbfd3c1",
            "64643d85657f4492970a58fe524293f6",
            "1cffa1c1f428472fb6fca5a6671951e7",
            "37cf2aba10294867b906732c01b8649c",
            "55916e87546249248b38c5a14d494950",
            "ec36786bddc244cdaa06544b43b58a3f",
            "1454301fd65841daa896fef99cadc3f0"
          ]
        },
        "id": "5Koyicb7UI-r",
        "outputId": "d6fc85c3-c9e6-4869-f4a5-05ff602be5ce"
      },
      "outputs": [],
      "source": [
        "import trace\n",
        "\n",
        "\n",
        "output = Output()\n",
        "\n",
        "# Retrieve trace_id and span_id to link user feedback to the generated riddle\n",
        "trace_id, span_id = tracer.read_trace_id(key=riddle)\n",
        "\n",
        "def create_feedback_button(feedback):\n",
        "    \"\"\"Create a button for user feedback.\"\"\"\n",
        "    button_style = \"success\" if feedback == \"👍\" else \"danger\"\n",
        "    button = Button(description=feedback, button_style=button_style)\n",
        "    button.on_click(lambda _: log_feedback(feedback))\n",
        "    return button\n",
        "\n",
        "def log_feedback(feedback):\n",
        "    \"\"\"Log user feedback and update the output display.\"\"\"\n",
        "    with output:\n",
        "        clear_output()\n",
        "        print(f\"You selected: {feedback}\")\n",
        "        tracer.log_binary_feedback(value=feedback == \"👍\", trace_id=trace_id)\n",
        "\n",
        "def display_feedback_ui():\n",
        "    \"\"\"Display the thumbs up and thumbs down buttons for user feedback.\"\"\"\n",
        "    thumbsup_button, thumbsdown_button = create_feedback_button(\"👍\"), create_feedback_button(\"👎\")\n",
        "    display(HBox([thumbsup_button, thumbsdown_button]), output)\n",
        "\n",
        "# Display the generated riddle and prompt for user feedback\n",
        "print(f'\\nGenerated Riddle:\\n{riddle}\\nGive it a thumbs up or thumbs down to provide feedback.\\n')\n",
        "display_feedback_ui()"
      ]
    },
    {
      "cell_type": "markdown",
      "metadata": {
        "id": "-knu4aAWrThm"
      },
      "source": [
        "Now our user feedback has been logged to our Trace!"
      ]
    },
    {
      "cell_type": "markdown",
      "metadata": {
        "id": "0nCgy-4RxsSN"
      },
      "source": [
        "<a name=\"view\"></a>\n",
        "## View user feedback results\n",
        "User feedback is 1:1 with a specific trace. You can view user feedback in the 'Traces' page of RAG Workbench.\n",
        "\n",
        "#### From your terminal:\n",
        "\n",
        "Export your LASTMILE_API_TOKEN\n",
        "\n",
        "```bash\n",
        "export LASTMILE_API_TOKEN=\"<your-api-token>\"\n",
        "```\n",
        "\n",
        "Run this CLI command to access the UI\n",
        "\n",
        "```bash\n",
        "rag-debug launch\n",
        "```\n",
        "Go to the 'Traces' Page where you see all the Traces listed. One of the columns here is 'User Feedback'.\n",
        "<img width=\"973\" alt=\"Screenshot 2024-06-13 at 3 26 36 PM\" src=\"https://github.com/lastmile-ai/aiconfig/assets/81494782/6881194d-7fa3-42b2-9764-dfe4dafe2361\">\n",
        "\n",
        "Click on the Trace to get to the Trace Overview Page. You can then click on `llm-call' to access the prompt playground to iterate on the prompt.\n",
        "\n",
        "<img width=\"973\" alt=\"Screenshot 2024-06-13 at 3 32 01 PM\" src=\"https://github.com/lastmile-ai/aiconfig/assets/81494782/8e51ab6a-82f2-4a1f-8557-dee44124e68c\">\n",
        "\n",
        "Debug your Prompt\n",
        "\n",
        "<img width=\"973\" alt=\"Screenshot 2024-06-13 at 4 26 11 PM\" src=\"https://github.com/lastmile-ai/aiconfig/assets/81494782/cbd61565-b61a-4952-9a07-206cc43e7503\">\n"
      ]
    },
    {
      "cell_type": "markdown",
      "metadata": {
        "id": "4Cg01L0n3jzD"
      },
      "source": [
        "<a name=\"more\"></a>\n",
        "\n",
        "# More Resources\n",
        "* [RAG Workbench Documentation](https://rag.lastmileai.dev/docs/basics)\n",
        "* [Discord - ask us anything!](https://discord.com/invite/xBhNKTetGx)"
      ]
    },
    {
      "cell_type": "code",
      "execution_count": null,
      "metadata": {
        "id": "-opNvhYN3GbS"
      },
      "outputs": [],
      "source": []
    }
  ],
  "metadata": {
    "colab": {
      "provenance": []
    },
    "kernelspec": {
      "display_name": "main",
      "language": "python",
      "name": "python3"
    },
    "language_info": {
      "codemirror_mode": {
        "name": "ipython",
        "version": 3
      },
      "file_extension": ".py",
      "mimetype": "text/x-python",
      "name": "python",
      "nbconvert_exporter": "python",
      "pygments_lexer": "ipython3",
      "version": "3.11.8"
    },
    "widgets": {
      "application/vnd.jupyter.widget-state+json": {
        "075337050de749d8bec8be8d513ad4d1": {
          "model_module": "@jupyter-widgets/controls",
          "model_module_version": "1.5.0",
          "model_name": "HBoxModel",
          "state": {
            "_dom_classes": [],
            "_model_module": "@jupyter-widgets/controls",
            "_model_module_version": "1.5.0",
            "_model_name": "HBoxModel",
            "_view_count": null,
            "_view_module": "@jupyter-widgets/controls",
            "_view_module_version": "1.5.0",
            "_view_name": "HBoxView",
            "box_style": "",
            "children": [
              "IPY_MODEL_b822b6deb6224424af910f723228391f",
              "IPY_MODEL_f40c027290164bd1b6db97aafefd0f4b"
            ],
            "layout": "IPY_MODEL_1d0f5609e20044e39ce905ecbfbfd3c1"
          }
        },
        "1454301fd65841daa896fef99cadc3f0": {
          "model_module": "@jupyter-widgets/base",
          "model_module_version": "1.2.0",
          "model_name": "LayoutModel",
          "state": {
            "_model_module": "@jupyter-widgets/base",
            "_model_module_version": "1.2.0",
            "_model_name": "LayoutModel",
            "_view_count": null,
            "_view_module": "@jupyter-widgets/base",
            "_view_module_version": "1.2.0",
            "_view_name": "LayoutView",
            "align_content": null,
            "align_items": null,
            "align_self": null,
            "border": null,
            "bottom": null,
            "display": null,
            "flex": null,
            "flex_flow": null,
            "grid_area": null,
            "grid_auto_columns": null,
            "grid_auto_flow": null,
            "grid_auto_rows": null,
            "grid_column": null,
            "grid_gap": null,
            "grid_row": null,
            "grid_template_areas": null,
            "grid_template_columns": null,
            "grid_template_rows": null,
            "height": null,
            "justify_content": null,
            "justify_items": null,
            "left": null,
            "margin": null,
            "max_height": null,
            "max_width": null,
            "min_height": null,
            "min_width": null,
            "object_fit": null,
            "object_position": null,
            "order": null,
            "overflow": null,
            "overflow_x": null,
            "overflow_y": null,
            "padding": null,
            "right": null,
            "top": null,
            "visibility": null,
            "width": null
          }
        },
        "1cffa1c1f428472fb6fca5a6671951e7": {
          "model_module": "@jupyter-widgets/controls",
          "model_module_version": "1.5.0",
          "model_name": "ButtonStyleModel",
          "state": {
            "_model_module": "@jupyter-widgets/controls",
            "_model_module_version": "1.5.0",
            "_model_name": "ButtonStyleModel",
            "_view_count": null,
            "_view_module": "@jupyter-widgets/base",
            "_view_module_version": "1.2.0",
            "_view_name": "StyleView",
            "button_color": null,
            "font_weight": ""
          }
        },
        "1d0f5609e20044e39ce905ecbfbfd3c1": {
          "model_module": "@jupyter-widgets/base",
          "model_module_version": "1.2.0",
          "model_name": "LayoutModel",
          "state": {
            "_model_module": "@jupyter-widgets/base",
            "_model_module_version": "1.2.0",
            "_model_name": "LayoutModel",
            "_view_count": null,
            "_view_module": "@jupyter-widgets/base",
            "_view_module_version": "1.2.0",
            "_view_name": "LayoutView",
            "align_content": null,
            "align_items": null,
            "align_self": null,
            "border": null,
            "bottom": null,
            "display": null,
            "flex": null,
            "flex_flow": null,
            "grid_area": null,
            "grid_auto_columns": null,
            "grid_auto_flow": null,
            "grid_auto_rows": null,
            "grid_column": null,
            "grid_gap": null,
            "grid_row": null,
            "grid_template_areas": null,
            "grid_template_columns": null,
            "grid_template_rows": null,
            "height": null,
            "justify_content": null,
            "justify_items": null,
            "left": null,
            "margin": null,
            "max_height": null,
            "max_width": null,
            "min_height": null,
            "min_width": null,
            "object_fit": null,
            "object_position": null,
            "order": null,
            "overflow": null,
            "overflow_x": null,
            "overflow_y": null,
            "padding": null,
            "right": null,
            "top": null,
            "visibility": null,
            "width": null
          }
        },
        "37cf2aba10294867b906732c01b8649c": {
          "model_module": "@jupyter-widgets/base",
          "model_module_version": "1.2.0",
          "model_name": "LayoutModel",
          "state": {
            "_model_module": "@jupyter-widgets/base",
            "_model_module_version": "1.2.0",
            "_model_name": "LayoutModel",
            "_view_count": null,
            "_view_module": "@jupyter-widgets/base",
            "_view_module_version": "1.2.0",
            "_view_name": "LayoutView",
            "align_content": null,
            "align_items": null,
            "align_self": null,
            "border": null,
            "bottom": null,
            "display": null,
            "flex": null,
            "flex_flow": null,
            "grid_area": null,
            "grid_auto_columns": null,
            "grid_auto_flow": null,
            "grid_auto_rows": null,
            "grid_column": null,
            "grid_gap": null,
            "grid_row": null,
            "grid_template_areas": null,
            "grid_template_columns": null,
            "grid_template_rows": null,
            "height": null,
            "justify_content": null,
            "justify_items": null,
            "left": null,
            "margin": null,
            "max_height": null,
            "max_width": null,
            "min_height": null,
            "min_width": null,
            "object_fit": null,
            "object_position": null,
            "order": null,
            "overflow": null,
            "overflow_x": null,
            "overflow_y": null,
            "padding": null,
            "right": null,
            "top": null,
            "visibility": null,
            "width": null
          }
        },
        "55916e87546249248b38c5a14d494950": {
          "model_module": "@jupyter-widgets/controls",
          "model_module_version": "1.5.0",
          "model_name": "ButtonStyleModel",
          "state": {
            "_model_module": "@jupyter-widgets/controls",
            "_model_module_version": "1.5.0",
            "_model_name": "ButtonStyleModel",
            "_view_count": null,
            "_view_module": "@jupyter-widgets/base",
            "_view_module_version": "1.2.0",
            "_view_name": "StyleView",
            "button_color": null,
            "font_weight": ""
          }
        },
        "64643d85657f4492970a58fe524293f6": {
          "model_module": "@jupyter-widgets/base",
          "model_module_version": "1.2.0",
          "model_name": "LayoutModel",
          "state": {
            "_model_module": "@jupyter-widgets/base",
            "_model_module_version": "1.2.0",
            "_model_name": "LayoutModel",
            "_view_count": null,
            "_view_module": "@jupyter-widgets/base",
            "_view_module_version": "1.2.0",
            "_view_name": "LayoutView",
            "align_content": null,
            "align_items": null,
            "align_self": null,
            "border": null,
            "bottom": null,
            "display": null,
            "flex": null,
            "flex_flow": null,
            "grid_area": null,
            "grid_auto_columns": null,
            "grid_auto_flow": null,
            "grid_auto_rows": null,
            "grid_column": null,
            "grid_gap": null,
            "grid_row": null,
            "grid_template_areas": null,
            "grid_template_columns": null,
            "grid_template_rows": null,
            "height": null,
            "justify_content": null,
            "justify_items": null,
            "left": null,
            "margin": null,
            "max_height": null,
            "max_width": null,
            "min_height": null,
            "min_width": null,
            "object_fit": null,
            "object_position": null,
            "order": null,
            "overflow": null,
            "overflow_x": null,
            "overflow_y": null,
            "padding": null,
            "right": null,
            "top": null,
            "visibility": null,
            "width": null
          }
        },
        "b822b6deb6224424af910f723228391f": {
          "model_module": "@jupyter-widgets/controls",
          "model_module_version": "1.5.0",
          "model_name": "ButtonModel",
          "state": {
            "_dom_classes": [],
            "_model_module": "@jupyter-widgets/controls",
            "_model_module_version": "1.5.0",
            "_model_name": "ButtonModel",
            "_view_count": null,
            "_view_module": "@jupyter-widgets/controls",
            "_view_module_version": "1.5.0",
            "_view_name": "ButtonView",
            "button_style": "success",
            "description": "👍",
            "disabled": false,
            "icon": "",
            "layout": "IPY_MODEL_64643d85657f4492970a58fe524293f6",
            "style": "IPY_MODEL_1cffa1c1f428472fb6fca5a6671951e7",
            "tooltip": ""
          }
        },
        "ec36786bddc244cdaa06544b43b58a3f": {
          "model_module": "@jupyter-widgets/output",
          "model_module_version": "1.0.0",
          "model_name": "OutputModel",
          "state": {
            "_dom_classes": [],
            "_model_module": "@jupyter-widgets/output",
            "_model_module_version": "1.0.0",
            "_model_name": "OutputModel",
            "_view_count": null,
            "_view_module": "@jupyter-widgets/output",
            "_view_module_version": "1.0.0",
            "_view_name": "OutputView",
            "layout": "IPY_MODEL_1454301fd65841daa896fef99cadc3f0",
            "msg_id": "",
            "outputs": [
              {
                "name": "stdout",
                "output_type": "stream",
                "text": [
                  "You selected: 👍\n"
                ]
              }
            ]
          }
        },
        "f40c027290164bd1b6db97aafefd0f4b": {
          "model_module": "@jupyter-widgets/controls",
          "model_module_version": "1.5.0",
          "model_name": "ButtonModel",
          "state": {
            "_dom_classes": [],
            "_model_module": "@jupyter-widgets/controls",
            "_model_module_version": "1.5.0",
            "_model_name": "ButtonModel",
            "_view_count": null,
            "_view_module": "@jupyter-widgets/controls",
            "_view_module_version": "1.5.0",
            "_view_name": "ButtonView",
            "button_style": "danger",
            "description": "👎",
            "disabled": false,
            "icon": "",
            "layout": "IPY_MODEL_37cf2aba10294867b906732c01b8649c",
            "style": "IPY_MODEL_55916e87546249248b38c5a14d494950",
            "tooltip": ""
          }
        }
      }
    }
  },
  "nbformat": 4,
  "nbformat_minor": 0
}
