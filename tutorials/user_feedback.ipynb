{
  "cells": [
    {
      "cell_type": "markdown",
      "metadata": {
        "id": "Weuv_f1-UI-k"
      },
      "source": [
        "# Improve RAG Systems with User Feedback\n",
        "\n",
        "In this example notebook, we showcase how to collect user feedback with the LastMile AI Tracing SDK and improve your RAG systems using this feedback via the RAG Debugger tool.\n",
        "\n",
        "\n",
        "## Notebook Outline\n",
        "* [Introduction](#intro)\n",
        "* [Setup](#setup)\n",
        "* [Part 1: Log User Feedback](#part1)\n",
        "  * [Trace your code](#trace_code)\n",
        "  * [Annotate trace with user feedback](#annotate)\n",
        "* [Part 2: Analyze User Feedback](#part2)\n",
        "  * [View user feedback results](#view)\n",
        "* [More Resources](#more)\n",
        "\n"
      ]
    },
    {
      "cell_type": "markdown",
      "metadata": {
        "id": "6jyrOTywVcT2"
      },
      "source": [
        "<a name=\"intro\"></a>\n",
        "# Introduction\n",
        "**User Feedback** is the feedback responses obtained from end users. These responses are typically related to the quality of the output of your application.\n",
        "\n",
        "RAG Debugger allows you to incorporate user feedback into your trace via the LastMile Tracing SDK, providing valuable insights into how users perceive the performance your RAG system.\n",
        "\n",
        "User feedback can be captured in various forms:\n",
        "\n",
        "* **Feedback Score:** Users can rate a specific span, such as a LLM-generated output or a retrieved document (e.g., 👍 / 👎 or on a scale 1-10)\n",
        "* **Expected Value:** Users can provide the expected or correct output for a span, which is stored in the expected field alongside input and output. This is useful for capturing corrections.\n",
        "* **User Comment:** Users can share additional context or qualitative feedback using a free-form text field."
      ]
    },
    {
      "cell_type": "markdown",
      "metadata": {
        "id": "v5xZt7tjVlj0"
      },
      "source": [
        "<a name=\"setup\"></a>\n",
        "# Setup"
      ]
    },
    {
      "cell_type": "markdown",
      "metadata": {
        "id": "q8SmElFcVwPj"
      },
      "source": [
        "To begin, we need to install lastmile-eval library. We are using ipywidgets for this example so installing that here too."
      ]
    },
    {
      "cell_type": "code",
      "execution_count": null,
      "metadata": {
        "colab": {
          "base_uri": "https://localhost:8080/"
        },
        "collapsed": true,
        "id": "VpwykAzaUI-n",
        "outputId": "13399566-c7dc-4a4d-a649-e3915ea210ef"
      },
      "outputs": [],
      "source": [
        "!pip install lastmile-eval --upgrade\n",
        "!pip install ipywidgets"
      ]
    },
    {
      "cell_type": "markdown",
      "metadata": {
        "id": "qjawVJ5TV6WE"
      },
      "source": [
        "Import all modules used in this tutorial."
      ]
    },
    {
      "cell_type": "code",
      "execution_count": 2,
      "metadata": {
        "id": "5eTjUXrWUI-p"
      },
      "outputs": [],
      "source": [
        "from lastmile_eval.rag.debugger.tracing import get_lastmile_tracer\n",
        "from lastmile_eval.rag.debugger.api import LastMileTracer\n",
        "from lastmile_eval.rag.debugger.tracing.sdk import get_span_id, get_trace_id\n",
        "from openai import OpenAI\n",
        "from IPython.display import display, clear_output\n",
        "from ipywidgets import Button, HBox, Output"
      ]
    },
    {
      "cell_type": "markdown",
      "metadata": {
        "id": "ogPpFfLOWJCD"
      },
      "source": [
        "Before we start this tutorial, we need the following tokens/keys:\n",
        "\n",
        "* LastMile AI API Token: Go to the [LastMile Settings page](https://lastmileai.dev/settings?page=tokens). You will need to first create a LastMile AI account.\n",
        "* OpenAI API Key: Go to [OpenAI API Keys page](https://platform.openai.com/account/api-keys) to create and access your OpenAI API Key.\n",
        "\n",
        "You can either set these explicitly (uncomment the lines below), or save them in a `.env` file within this project directory."
      ]
    },
    {
      "cell_type": "code",
      "execution_count": 3,
      "metadata": {
        "id": "EFO4I7BaWS5O"
      },
      "outputs": [],
      "source": [
        "import os\n",
        "\n",
        "try:\n",
        "    # First try this in case we're running on Google Collab\n",
        "    from google.colab import userdata\n",
        "    os.environ['OPENAI_API_KEY'] =  userdata.get('OPENAI_API_KEY')\n",
        "    os.environ['LASTMILE_API_TOKEN'] =  userdata.get('LASTMILE_API_TOKEN')\n",
        "except ModuleNotFoundError:\n",
        "    import dotenv\n",
        "    dotenv.load_dotenv()\n",
        "\n",
        "# os.environ['OPENAI_API_KEY'] =  <OPENAI_API_KEY>\n",
        "# os.environ['LASTMILE_API_TOKEN'] =  <LASTMILE_API_TOKEN>"
      ]
    },
    {
      "cell_type": "markdown",
      "metadata": {
        "id": "j09Gb4ECWz18"
      },
      "source": [
        "<a name=\"part1\"></a>\n",
        "\n",
        "# Part 1: Log User Feedback\n",
        "In this example, we generate a riddle using `gpt-3.5-turbo`. We trace our code with the LastMile AI Tracing SDK.\n",
        "\n",
        "We collect user feedback on the quality of the riddle (👍/👎) and annotate this feedback to our trace."
      ]
    },
    {
      "cell_type": "markdown",
      "metadata": {
        "id": "FzOrKFEQXmAE"
      },
      "source": [
        "<a name=\"trace_code\"></a>\n",
        "\n",
        "## Trace your code\n",
        "First, instantiate a LastMile Tracer object.\n",
        "\n",
        "The name of the `Tracer` is also your Project Name that will be visible in the RAG Debugger UI."
      ]
    },
    {
      "cell_type": "code",
      "execution_count": 4,
      "metadata": {
        "id": "Nd4xUbHfWHXd"
      },
      "outputs": [],
      "source": [
        "tracer: LastMileTracer = get_lastmile_tracer(\n",
        "    tracer_name=\"tracer_0\",\n",
        "    project_name=\"User-Feedback\",\n",
        ")"
      ]
    },
    {
      "cell_type": "markdown",
      "metadata": {
        "id": "nDyqenNRUI-q"
      },
      "source": [
        "The function generates our riddle using `gpt-3.5-turbo`."
      ]
    },
    {
      "cell_type": "code",
      "execution_count": 9,
      "metadata": {
        "id": "6VB6T205UI-q"
      },
      "outputs": [],
      "source": [
        "# Decorate function with tracer\n",
        "@tracer.trace_function(\"llm_call\")\n",
        "def generate()-> str:\n",
        "    \"\"\"\n",
        "    Generates a riddle using OpenAI's GPT-3.5-turbo model.\n",
        "    \"\"\"\n",
        "    user_query = \"Tell me a riddle and give me the answer.\"\n",
        "    system_prompt = \"You must respond in capital letters.\"\n",
        "    model = \"gpt-3.5-turbo\"\n",
        "\n",
        "    response = OpenAI().chat.completions.create(\n",
        "        messages=[\n",
        "          {\"role\": \"system\", \"content\": system_prompt},\n",
        "          {\"role\": \"user\", \"content\": user_query}\n",
        "        ],\n",
        "        model = \"gpt-3.5-turbo\"\n",
        "      )\n",
        "\n",
        "    riddle = response.choices[0].message.content\n",
        "\n",
        "    # Save span and trace IDs of generated riddle (key = riddle)\n",
        "    # Use these IDs to link user feedback to a specific trace / span\n",
        "    tracer.store_trace_id(key=riddle, span_id=get_span_id(), trace_id= get_trace_id())\n",
        "\n",
        "    # Query Event - allows you to use Prompt Debugger in UI\n",
        "    tracer.add_query_event(\n",
        "          query=user_query,\n",
        "          llm_output=riddle,\n",
        "          system_prompt=system_prompt,\n",
        "          metadata={\"model\": model}\n",
        "      )\n",
        "\n",
        "    return riddle\n",
        "\n",
        "riddle = generate()"
      ]
    },
    {
      "cell_type": "markdown",
      "metadata": {
        "id": "HqdVzhzra9l0"
      },
      "source": [
        "<a name=\"annotate\"></a>\n",
        "\n",
        "## Annotate trace with user feedback\n",
        "\n",
        "The `get_and_store_user_feedback` function below generates a UI element to give a thumbs up/down.\n",
        "\n",
        "We log the result (thumbs up/down reaction) back to the Trace and Span using the trace_id and span_id of our `generate` function."
      ]
    },
    {
      "cell_type": "code",
      "execution_count": null,
      "metadata": {
        "colab": {
          "base_uri": "https://localhost:8080/",
          "height": 230,
          "referenced_widgets": [
            "ceb0bb06ab624b949e09f50ecce9326e",
            "90ce020c899c488094d33d7e4c350fdb",
            "e4320f7ebc3149c793899d1ab1dc46bd",
            "97250b03486b4cc2a4e44453fbe91b86",
            "41397af10a2d48dcb58591c7ef8a2b6e",
            "771885cf299445008aa2158e8f48785c",
            "c47744e072264dd68538a74371e84c0a",
            "82ea44e205a3443ba9ea6f2c3b411ff4",
            "17bcc10b894c4bdfa0eb56893f9bd616",
            "9372745e90284b0d87f3f050bd5a8a8e"
          ]
        },
        "id": "5Koyicb7UI-r",
        "outputId": "2607d1d5-c794-45cc-acbc-d098dad75d06"
      },
      "outputs": [],
      "source": [
        "import trace\n",
        "\n",
        "\n",
        "output = Output()\n",
        "\n",
        "# Set trace_id and span_id so we can link user feedback to them\n",
        "trace_id, span_id = tracer.read_trace_id(key=riddle)\n",
        "\n",
        "# Generates a thumbs up/down UI for you to provide user feedback (try in Colab!)\n",
        "def get_and_store_user_feedback():\n",
        "    def on_thumbsup_clicked(b):\n",
        "        with output:\n",
        "            clear_output()\n",
        "            print(\"You selected: 👍\")\n",
        "            tracer.log_binary_feedback(value=True, trace_id=trace_id)\n",
        "            # Alternatively, you can log feedback using a string\n",
        "            # tracer.log_feedback(span_id=span_id, trace_id=trace_id, feedback=\"👍\")\n",
        "\n",
        "    def on_thumbsdown_clicked(b):\n",
        "        with output:\n",
        "            clear_output()\n",
        "            print(\"You selected: 👎\")\n",
        "            tracer.log_binary_feedback(value=False, trace_id=trace_id)\n",
        "            # tracer.log_feedback(span_id=span_id, trace_id=trace_id, feedback=\"👎\")\n",
        "\n",
        "    thumbsup_button = Button(description=\"👍\", button_style=\"success\")\n",
        "    thumbsup_button.on_click(on_thumbsup_clicked)\n",
        "\n",
        "    thumbsdown_button = Button(description=\"👎\", button_style=\"danger\")\n",
        "    thumbsdown_button.on_click(on_thumbsdown_clicked)\n",
        "\n",
        "    display(HBox([thumbsup_button, thumbsdown_button]))\n",
        "    display(output)\n",
        "\n",
        "print(f'\\n Generated Riddle:\\n{riddle}\\n Give it a thumbs up or thumbs down to provide feedback.\\n')\n",
        "get_and_store_user_feedback()"
      ]
    },
    {
      "cell_type": "markdown",
      "metadata": {
        "id": "-knu4aAWrThm"
      },
      "source": [
        "Now our user feedback has been logged to our Trace!"
      ]
    },
    {
      "cell_type": "markdown",
      "metadata": {
        "id": "0nCgy-4RxsSN"
      },
      "source": [
        "<a name=\"view\"></a>\n",
        "## View user feedback results\n",
        "User feedback is 1:1 with a specific trace. You can view user feedback in the 'Traces' page of RAG Debugger.\n",
        "\n",
        "#### From your terminal:\n",
        "\n",
        "Export your LASTMILE_API_TOKEN\n",
        "\n",
        "```bash\n",
        "export LASTMILE_API_TOKEN=\"<your-api-token>\"\n",
        "```\n",
        "\n",
        "Run this CLI command to access the UI\n",
        "\n",
        "```bash\n",
        "rag-debug launch\n",
        "```\n",
        "Go to the 'Traces' Page where you see all the Traces listed. One of the columns here is 'User Feedback'.\n",
        "<img width=\"973\" alt=\"Screenshot 2024-06-13 at 3 26 36 PM\" src=\"https://github.com/lastmile-ai/aiconfig/assets/81494782/6881194d-7fa3-42b2-9764-dfe4dafe2361\">\n",
        "\n",
        "\n",
        "\n",
        "Click on the Trace to get to the Trace Overview Page. You can then click on `llm-call' to access the prompt playground to iterate on the prompt.\n",
        "\n",
        "<img width=\"973\" alt=\"Screenshot 2024-06-13 at 3 32 01 PM\" src=\"https://github.com/lastmile-ai/aiconfig/assets/81494782/8e51ab6a-82f2-4a1f-8557-dee44124e68c\">\n",
        "\n",
        "Prompt Debugger\n",
        "\n",
        "<img width=\"973\" alt=\"Screenshot 2024-06-13 at 4 26 11 PM\" src=\"https://github.com/lastmile-ai/aiconfig/assets/81494782/cbd61565-b61a-4952-9a07-206cc43e7503\">\n"
      ]
    },
    {
      "cell_type": "markdown",
      "metadata": {
        "id": "4Cg01L0n3jzD"
      },
      "source": [
        "<a name=\"more\"></a>\n",
        "\n",
        "# More Resources\n",
        "* [RAG Debugger Documentation](https://rag.lastmileai.dev/docs/basics)\n",
        "* [Discord - ask us anything!](https://discord.com/invite/xBhNKTetGx)"
      ]
    },
    {
      "cell_type": "code",
      "execution_count": null,
      "metadata": {
        "id": "-opNvhYN3GbS"
      },
      "outputs": [],
      "source": []
    }
  ],
  "metadata": {
    "colab": {
      "provenance": []
    },
    "kernelspec": {
      "display_name": "main",
      "language": "python",
      "name": "python3"
    },
    "language_info": {
      "codemirror_mode": {
        "name": "ipython",
        "version": 3
      },
      "file_extension": ".py",
      "mimetype": "text/x-python",
      "name": "python",
      "nbconvert_exporter": "python",
      "pygments_lexer": "ipython3",
      "version": "3.12.3"
    },
    "widgets": {
      "application/vnd.jupyter.widget-state+json": {
        "17bcc10b894c4bdfa0eb56893f9bd616": {
          "model_module": "@jupyter-widgets/output",
          "model_module_version": "1.0.0",
          "model_name": "OutputModel",
          "state": {
            "_dom_classes": [],
            "_model_module": "@jupyter-widgets/output",
            "_model_module_version": "1.0.0",
            "_model_name": "OutputModel",
            "_view_count": null,
            "_view_module": "@jupyter-widgets/output",
            "_view_module_version": "1.0.0",
            "_view_name": "OutputView",
            "layout": "IPY_MODEL_9372745e90284b0d87f3f050bd5a8a8e",
            "msg_id": "",
            "outputs": [
              {
                "name": "stdout",
                "output_type": "stream",
                "text": [
                  "You selected: 👍\n"
                ]
              }
            ]
          }
        },
        "41397af10a2d48dcb58591c7ef8a2b6e": {
          "model_module": "@jupyter-widgets/base",
          "model_module_version": "1.2.0",
          "model_name": "LayoutModel",
          "state": {
            "_model_module": "@jupyter-widgets/base",
            "_model_module_version": "1.2.0",
            "_model_name": "LayoutModel",
            "_view_count": null,
            "_view_module": "@jupyter-widgets/base",
            "_view_module_version": "1.2.0",
            "_view_name": "LayoutView",
            "align_content": null,
            "align_items": null,
            "align_self": null,
            "border": null,
            "bottom": null,
            "display": null,
            "flex": null,
            "flex_flow": null,
            "grid_area": null,
            "grid_auto_columns": null,
            "grid_auto_flow": null,
            "grid_auto_rows": null,
            "grid_column": null,
            "grid_gap": null,
            "grid_row": null,
            "grid_template_areas": null,
            "grid_template_columns": null,
            "grid_template_rows": null,
            "height": null,
            "justify_content": null,
            "justify_items": null,
            "left": null,
            "margin": null,
            "max_height": null,
            "max_width": null,
            "min_height": null,
            "min_width": null,
            "object_fit": null,
            "object_position": null,
            "order": null,
            "overflow": null,
            "overflow_x": null,
            "overflow_y": null,
            "padding": null,
            "right": null,
            "top": null,
            "visibility": null,
            "width": null
          }
        },
        "771885cf299445008aa2158e8f48785c": {
          "model_module": "@jupyter-widgets/controls",
          "model_module_version": "1.5.0",
          "model_name": "ButtonStyleModel",
          "state": {
            "_model_module": "@jupyter-widgets/controls",
            "_model_module_version": "1.5.0",
            "_model_name": "ButtonStyleModel",
            "_view_count": null,
            "_view_module": "@jupyter-widgets/base",
            "_view_module_version": "1.2.0",
            "_view_name": "StyleView",
            "button_color": null,
            "font_weight": ""
          }
        },
        "82ea44e205a3443ba9ea6f2c3b411ff4": {
          "model_module": "@jupyter-widgets/controls",
          "model_module_version": "1.5.0",
          "model_name": "ButtonStyleModel",
          "state": {
            "_model_module": "@jupyter-widgets/controls",
            "_model_module_version": "1.5.0",
            "_model_name": "ButtonStyleModel",
            "_view_count": null,
            "_view_module": "@jupyter-widgets/base",
            "_view_module_version": "1.2.0",
            "_view_name": "StyleView",
            "button_color": null,
            "font_weight": ""
          }
        },
        "90ce020c899c488094d33d7e4c350fdb": {
          "model_module": "@jupyter-widgets/controls",
          "model_module_version": "1.5.0",
          "model_name": "ButtonModel",
          "state": {
            "_dom_classes": [],
            "_model_module": "@jupyter-widgets/controls",
            "_model_module_version": "1.5.0",
            "_model_name": "ButtonModel",
            "_view_count": null,
            "_view_module": "@jupyter-widgets/controls",
            "_view_module_version": "1.5.0",
            "_view_name": "ButtonView",
            "button_style": "success",
            "description": "👍",
            "disabled": false,
            "icon": "",
            "layout": "IPY_MODEL_41397af10a2d48dcb58591c7ef8a2b6e",
            "style": "IPY_MODEL_771885cf299445008aa2158e8f48785c",
            "tooltip": ""
          }
        },
        "9372745e90284b0d87f3f050bd5a8a8e": {
          "model_module": "@jupyter-widgets/base",
          "model_module_version": "1.2.0",
          "model_name": "LayoutModel",
          "state": {
            "_model_module": "@jupyter-widgets/base",
            "_model_module_version": "1.2.0",
            "_model_name": "LayoutModel",
            "_view_count": null,
            "_view_module": "@jupyter-widgets/base",
            "_view_module_version": "1.2.0",
            "_view_name": "LayoutView",
            "align_content": null,
            "align_items": null,
            "align_self": null,
            "border": null,
            "bottom": null,
            "display": null,
            "flex": null,
            "flex_flow": null,
            "grid_area": null,
            "grid_auto_columns": null,
            "grid_auto_flow": null,
            "grid_auto_rows": null,
            "grid_column": null,
            "grid_gap": null,
            "grid_row": null,
            "grid_template_areas": null,
            "grid_template_columns": null,
            "grid_template_rows": null,
            "height": null,
            "justify_content": null,
            "justify_items": null,
            "left": null,
            "margin": null,
            "max_height": null,
            "max_width": null,
            "min_height": null,
            "min_width": null,
            "object_fit": null,
            "object_position": null,
            "order": null,
            "overflow": null,
            "overflow_x": null,
            "overflow_y": null,
            "padding": null,
            "right": null,
            "top": null,
            "visibility": null,
            "width": null
          }
        },
        "97250b03486b4cc2a4e44453fbe91b86": {
          "model_module": "@jupyter-widgets/base",
          "model_module_version": "1.2.0",
          "model_name": "LayoutModel",
          "state": {
            "_model_module": "@jupyter-widgets/base",
            "_model_module_version": "1.2.0",
            "_model_name": "LayoutModel",
            "_view_count": null,
            "_view_module": "@jupyter-widgets/base",
            "_view_module_version": "1.2.0",
            "_view_name": "LayoutView",
            "align_content": null,
            "align_items": null,
            "align_self": null,
            "border": null,
            "bottom": null,
            "display": null,
            "flex": null,
            "flex_flow": null,
            "grid_area": null,
            "grid_auto_columns": null,
            "grid_auto_flow": null,
            "grid_auto_rows": null,
            "grid_column": null,
            "grid_gap": null,
            "grid_row": null,
            "grid_template_areas": null,
            "grid_template_columns": null,
            "grid_template_rows": null,
            "height": null,
            "justify_content": null,
            "justify_items": null,
            "left": null,
            "margin": null,
            "max_height": null,
            "max_width": null,
            "min_height": null,
            "min_width": null,
            "object_fit": null,
            "object_position": null,
            "order": null,
            "overflow": null,
            "overflow_x": null,
            "overflow_y": null,
            "padding": null,
            "right": null,
            "top": null,
            "visibility": null,
            "width": null
          }
        },
        "c47744e072264dd68538a74371e84c0a": {
          "model_module": "@jupyter-widgets/base",
          "model_module_version": "1.2.0",
          "model_name": "LayoutModel",
          "state": {
            "_model_module": "@jupyter-widgets/base",
            "_model_module_version": "1.2.0",
            "_model_name": "LayoutModel",
            "_view_count": null,
            "_view_module": "@jupyter-widgets/base",
            "_view_module_version": "1.2.0",
            "_view_name": "LayoutView",
            "align_content": null,
            "align_items": null,
            "align_self": null,
            "border": null,
            "bottom": null,
            "display": null,
            "flex": null,
            "flex_flow": null,
            "grid_area": null,
            "grid_auto_columns": null,
            "grid_auto_flow": null,
            "grid_auto_rows": null,
            "grid_column": null,
            "grid_gap": null,
            "grid_row": null,
            "grid_template_areas": null,
            "grid_template_columns": null,
            "grid_template_rows": null,
            "height": null,
            "justify_content": null,
            "justify_items": null,
            "left": null,
            "margin": null,
            "max_height": null,
            "max_width": null,
            "min_height": null,
            "min_width": null,
            "object_fit": null,
            "object_position": null,
            "order": null,
            "overflow": null,
            "overflow_x": null,
            "overflow_y": null,
            "padding": null,
            "right": null,
            "top": null,
            "visibility": null,
            "width": null
          }
        },
        "ceb0bb06ab624b949e09f50ecce9326e": {
          "model_module": "@jupyter-widgets/controls",
          "model_module_version": "1.5.0",
          "model_name": "HBoxModel",
          "state": {
            "_dom_classes": [],
            "_model_module": "@jupyter-widgets/controls",
            "_model_module_version": "1.5.0",
            "_model_name": "HBoxModel",
            "_view_count": null,
            "_view_module": "@jupyter-widgets/controls",
            "_view_module_version": "1.5.0",
            "_view_name": "HBoxView",
            "box_style": "",
            "children": [
              "IPY_MODEL_90ce020c899c488094d33d7e4c350fdb",
              "IPY_MODEL_e4320f7ebc3149c793899d1ab1dc46bd"
            ],
            "layout": "IPY_MODEL_97250b03486b4cc2a4e44453fbe91b86"
          }
        },
        "e4320f7ebc3149c793899d1ab1dc46bd": {
          "model_module": "@jupyter-widgets/controls",
          "model_module_version": "1.5.0",
          "model_name": "ButtonModel",
          "state": {
            "_dom_classes": [],
            "_model_module": "@jupyter-widgets/controls",
            "_model_module_version": "1.5.0",
            "_model_name": "ButtonModel",
            "_view_count": null,
            "_view_module": "@jupyter-widgets/controls",
            "_view_module_version": "1.5.0",
            "_view_name": "ButtonView",
            "button_style": "danger",
            "description": "👎",
            "disabled": false,
            "icon": "",
            "layout": "IPY_MODEL_c47744e072264dd68538a74371e84c0a",
            "style": "IPY_MODEL_82ea44e205a3443ba9ea6f2c3b411ff4",
            "tooltip": ""
          }
        }
      }
    }
  },
  "nbformat": 4,
  "nbformat_minor": 0
}
