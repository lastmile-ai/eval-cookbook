{
  "cells": [
    {
      "cell_type": "markdown",
      "metadata": {
        "id": "Weuv_f1-UI-k"
      },
      "source": [
        "# Improve RAG Systems with User Feedback\n",
        "\n",
        "In this example notebook, we showcase how to collect user feedback with the LastMile AI Tracing SDK and improve your RAG systems using this feedback via the RAG Debugger tool.\n",
        "\n",
        "\n",
        "## Notebook Outline\n",
        "* [Introduction](#intro)\n",
        "* [Setup](#setup)\n",
        "* [Part 1: Log User Feedback](#part1)\n",
        "  * [Trace your code](#trace_code)\n",
        "  * [Annotate trace with user feedback](#annotate)\n",
        "* [Part 2: Analyze User Feedback](#part2)\n",
        "  * [View user feedback results](#view)\n",
        "  * [Filter traces based on user feedback](#filter)\n",
        "  * [Aggregate user feedback](#aggregate)\n",
        "* [More Resources](#more)\n",
        "\n"
      ]
    },
    {
      "cell_type": "markdown",
      "metadata": {
        "id": "6jyrOTywVcT2"
      },
      "source": [
        "<a name=\"intro\"></a>\n",
        "# Introduction\n",
        "**User Feedback** is the feedback responses obtained from end users. These responses are typically related to the quality of the output of your application.\n",
        "\n",
        "RAG Debugger allows you to incorporate user feedback into your trace via the LastMile Tracing SDK, providing valuable insights into how users perceive the performance your RAG system.\n",
        "\n",
        "User feedback can be captured in various forms:\n",
        "\n",
        "* **Feedback Score:** Users can rate a specific span, such as a LLM-generated output or a retrieved document (e.g., 👍 / 👎 or on a scale 1-10)\n",
        "* **Expected Value:** Users can provide the expected or correct output for a span, which is stored in the expected field alongside input and output. This is useful for capturing corrections.\n",
        "* **User Comment:** Users can share additional context or qualitative feedback using a free-form text field."
      ]
    },
    {
      "cell_type": "markdown",
      "metadata": {
        "id": "v5xZt7tjVlj0"
      },
      "source": [
        "<a name=\"setup\"></a>\n",
        "# Setup"
      ]
    },
    {
      "cell_type": "markdown",
      "metadata": {
        "id": "q8SmElFcVwPj"
      },
      "source": [
        "To begin, we need to install lastmile-eval library. We are using ipywidgets for this example so installing that here too."
      ]
    },
    {
      "cell_type": "code",
      "execution_count": null,
      "metadata": {
        "colab": {
          "base_uri": "https://localhost:8080/",
          "height": 1000
        },
        "collapsed": true,
        "id": "VpwykAzaUI-n",
        "outputId": "daea9f2a-c1b3-4438-b410-cf2760831545"
      },
      "outputs": [],
      "source": [
        "!pip install lastmile-eval --upgrade\n",
        "!pip install ipywidgets"
      ]
    },
    {
      "cell_type": "markdown",
      "metadata": {
        "id": "qjawVJ5TV6WE"
      },
      "source": [
        "Import all modules used in this tutorial."
      ]
    },
    {
      "cell_type": "code",
      "execution_count": 1,
      "metadata": {
        "id": "5eTjUXrWUI-p"
      },
      "outputs": [],
      "source": [
        "import os\n",
        "from lastmile_eval.rag.debugger.tracing import get_lastmile_tracer\n",
        "from lastmile_eval.rag.debugger.api import LastMileTracer\n",
        "from lastmile_eval.rag.debugger.tracing.sdk import get_span_id, get_trace_id\n",
        "from openai import OpenAI\n",
        "from IPython.display import display, clear_output\n",
        "from ipywidgets import Button, HBox, Output"
      ]
    },
    {
      "cell_type": "markdown",
      "metadata": {
        "id": "ogPpFfLOWJCD"
      },
      "source": [
        "Before we start this tutorial, we need the following tokens/keys:\n",
        "\n",
        "* LastMile AI API Token: Go to the [LastMile Settings page](https://lastmileai.dev/settings?page=tokens). You will need to first create a LastMile AI account.\n",
        "* OpenAI API Key: Go to [OpenAI API Keys page](https://platform.openai.com/account/api-keys) to create and access your OpenAI API Key.\n",
        "\n",
        "We're using Google Colab's Secret Manager to set our tokens in this notebook."
      ]
    },
    {
      "cell_type": "code",
      "execution_count": 2,
      "metadata": {
        "id": "EFO4I7BaWS5O"
      },
      "outputs": [],
      "source": [
        "# Run this cell if using google colab\n",
        "try:\n",
        "    from google.colab import userdata\n",
        "    os.environ['OPENAI_API_KEY'] =  userdata.get('OPENAI_API_KEY')\n",
        "    os.environ['LASTMILE_API_TOKEN'] =  userdata.get('LASTMILE_API_TOKEN')\n",
        "except:\n",
        "    pass"
      ]
    },
    {
      "cell_type": "markdown",
      "metadata": {
        "id": "j09Gb4ECWz18"
      },
      "source": [
        "<a name=\"part1\"></a>\n",
        "\n",
        "# Part 1: Log User Feedback\n",
        "In this example, we generate a riddle using `gpt-3.5-turbo`. We trace our code with the LastMile AI Tracing SDK.\n",
        "\n",
        "We collect user feedback on the quality of the riddle (👍/👎) and annotate this feedback to our trace."
      ]
    },
    {
      "cell_type": "markdown",
      "metadata": {
        "id": "FzOrKFEQXmAE"
      },
      "source": [
        "<a name=\"trace_code\"></a>\n",
        "\n",
        "## Trace your code\n",
        "First, instantiate a LastMile Tracer object.\n",
        "\n",
        "The name of the `Tracer` is also your Project Name that will be visible in the RAG Debugger UI."
      ]
    },
    {
      "cell_type": "code",
      "execution_count": 3,
      "metadata": {
        "id": "Nd4xUbHfWHXd"
      },
      "outputs": [
        {
          "name": "stderr",
          "output_type": "stream",
          "text": [
            "2024-05-29 13:32:25,502 - Starting new HTTPS connection (1): lastmileai.dev:443\n",
            "2024-05-29 13:32:25,644 - https://lastmileai.dev:443 \"GET /api/evaluation_projects/list?name=riddle-generator HTTP/1.1\" 200 351\n"
          ]
        }
      ],
      "source": [
        "tracer: LastMileTracer = get_lastmile_tracer(\n",
        "    tracer_name=\"riddle-generator\",\n",
        "    lastmile_api_token= os.environ['LASTMILE_API_TOKEN'],\n",
        ")"
      ]
    },
    {
      "cell_type": "markdown",
      "metadata": {
        "id": "nDyqenNRUI-q"
      },
      "source": [
        "The function generates our riddle using `gpt-3.5-turbo`."
      ]
    },
    {
      "cell_type": "code",
      "execution_count": null,
      "metadata": {
        "colab": {
          "base_uri": "https://localhost:8080/"
        },
        "id": "6VB6T205UI-q",
        "outputId": "2bea1b42-a6c1-4b13-d12d-343dc0315512"
      },
      "outputs": [],
      "source": [
        "# Decorate function with tracer\n",
        "@tracer.start_as_current_span(\"generate_riddle\")\n",
        "def generate()-> str:\n",
        "    \"\"\"\n",
        "    Generates a riddle using OpenAI's GPT-3.5-turbo model.\n",
        "    \"\"\"\n",
        "    response = OpenAI().chat.completions.create(messages = [{\"role\": \"user\", \"content\":\"tell me a riddle\"}], model = \"gpt-3.5-turbo\")\n",
        "    riddle = response.choices[0].message.content\n",
        "\n",
        "    # Save span and trace IDs of generated riddle (key = riddle)\n",
        "    # Use these IDs to link user feedback to a specific trace / span\n",
        "    tracer.store_trace_id(key=riddle, span_id=get_span_id(), trace_id= get_trace_id())\n",
        "\n",
        "    return riddle\n",
        "\n",
        "riddle = generate()"
      ]
    },
    {
      "cell_type": "markdown",
      "metadata": {
        "id": "HqdVzhzra9l0"
      },
      "source": [
        "<a name=\"annotate\"></a>\n",
        "\n",
        "## Annotate trace with user feedback\n",
        "\n",
        "The `get_and_store_user_feedback` function below generates a UI element to give a thumbs up/down.\n",
        "\n",
        "We log the result (thumbs up/down reaction) back to the Trace and Span using the trace_id and span_id of our `generate` function."
      ]
    },
    {
      "cell_type": "code",
      "execution_count": null,
      "metadata": {
        "colab": {
          "base_uri": "https://localhost:8080/",
          "height": 212,
          "referenced_widgets": [
            "abdc33169cd447a08c73b2df1afcd575",
            "d07feabba9f94f7cb042403851ff4878",
            "bf2d46b6f9d34d0099a0e9f15c540a8a",
            "d7d59ec5c1de4cd0beb5d2a217e23b48",
            "30980487d89e4f1a892c5ef8d7438bf7",
            "30170d42305e4350a255efc6b2c2b75d",
            "85415e4fed404e42acfcf29b210e671a",
            "60fd6bb6e55241c48df58671ad217ffc",
            "85042bb986a34aea906719be7193890e",
            "f9663db51e7c458d8f5145039d37c529"
          ]
        },
        "id": "5Koyicb7UI-r",
        "outputId": "de791e0c-9dec-4ac3-cd25-932b4310d310"
      },
      "outputs": [
        {
          "name": "stderr",
          "output_type": "stream",
          "text": [
            "2024-05-29 13:32:49,522 - Starting new HTTPS connection (1): lastmileai.dev:443\n",
            "2024-05-29 13:32:49,607 - https://lastmileai.dev:443 \"GET /api/evaluation_key_value_store/read?projectId=clwqs1yrd009zpb6nxmvqtkyw&key=I+have+keys+but+can%27t+open+any+locks.+I+have+a+space+but+no+room.+You+can+enter%2C+but+can%27t+go+outside.+What+am+I%3F HTTP/1.1\" 200 385\n"
          ]
        },
        {
          "name": "stdout",
          "output_type": "stream",
          "text": [
            "{'createdAt': '2024-05-29T17:32:26.793Z', 'updatedAt': '2024-05-29T17:32:26.793Z', 'creatorId': 'clkrgxm850004phi6ee5mvhd1', 'evaluationProjectId': 'clwqs1yrd009zpb6nxmvqtkyw', 'key': \"I have keys but can't open any locks. I have a space but no room. You can enter, but can't go outside. What am I?\", 'value': '1352465596163432677', 'metadata': {'trace_id': '7294420575201929150837001412034271782'}}\n",
            "\n",
            " Generated Riddle:\n",
            "I have keys but can't open any locks. I have a space but no room. You can enter, but can't go outside. What am I?\n",
            " Give it a thumbs up or thumbs down to provide feedback.\n",
            "\n"
          ]
        },
        {
          "data": {
            "application/vnd.jupyter.widget-view+json": {
              "model_id": "c53145e4d7364518b6e781a439ddeffc",
              "version_major": 2,
              "version_minor": 0
            },
            "text/plain": [
              "HBox(children=(Button(button_style='success', description='👍', style=ButtonStyle()), Button(button_style='dang…"
            ]
          },
          "metadata": {},
          "output_type": "display_data"
        },
        {
          "data": {
            "application/vnd.jupyter.widget-view+json": {
              "model_id": "f242f7e86f854c3e86261f4bf5e76fe5",
              "version_major": 2,
              "version_minor": 0
            },
            "text/plain": [
              "Output()"
            ]
          },
          "metadata": {},
          "output_type": "display_data"
        },
        {
          "name": "stderr",
          "output_type": "stream",
          "text": [
            "2024-05-29 13:32:54,835 - handle_msg[03e8070527bb46289db03fedc66af607]({'header': {'date': datetime.datetime(2024, 5, 29, 17, 32, 54, 831000, tzinfo=tzutc()), 'msg_id': 'c801a44b-6416-4add-b1e8-05dfc0c5cb23', 'msg_type': 'comm_msg', 'session': '7e7e4418-8c65-4bfa-95b5-436c7e646977', 'username': '495d3de3-0872-449f-b03d-9412cf776c9e', 'version': '5.2'}, 'msg_id': 'c801a44b-6416-4add-b1e8-05dfc0c5cb23', 'msg_type': 'comm_msg', 'parent_header': {}, 'metadata': {}, 'content': {'comm_id': '03e8070527bb46289db03fedc66af607', 'data': {'method': 'custom', 'content': {'event': 'click'}}}, 'buffers': []})\n",
            "2024-05-29 13:32:55,014 - handle_msg[f242f7e86f854c3e86261f4bf5e76fe5]({'header': {'date': datetime.datetime(2024, 5, 29, 17, 32, 54, 862000, tzinfo=tzutc()), 'msg_id': 'f99a50dc-4f21-4d75-8786-b6ffd45572b8', 'msg_type': 'comm_msg', 'session': '7e7e4418-8c65-4bfa-95b5-436c7e646977', 'username': '495d3de3-0872-449f-b03d-9412cf776c9e', 'version': '5.2'}, 'msg_id': 'f99a50dc-4f21-4d75-8786-b6ffd45572b8', 'msg_type': 'comm_msg', 'parent_header': {}, 'metadata': {}, 'content': {'comm_id': 'f242f7e86f854c3e86261f4bf5e76fe5', 'data': {'method': 'update', 'state': {'outputs': [{'name': 'stderr', 'text': '2024-05-29 13:32:54,838 - Starting new HTTPS connection (1): lastmileai.dev:443\\n', 'output_type': 'stream'}]}, 'buffer_paths': []}}, 'buffers': []})\n",
            "2024-05-29 13:32:55,020 - handle_msg[f242f7e86f854c3e86261f4bf5e76fe5]({'header': {'date': datetime.datetime(2024, 5, 29, 17, 32, 55, 18000, tzinfo=tzutc()), 'msg_id': '832d4221-df76-4e5f-a73a-ce38578dc17d', 'msg_type': 'comm_msg', 'session': '7e7e4418-8c65-4bfa-95b5-436c7e646977', 'username': '495d3de3-0872-449f-b03d-9412cf776c9e', 'version': '5.2'}, 'msg_id': '832d4221-df76-4e5f-a73a-ce38578dc17d', 'msg_type': 'comm_msg', 'parent_header': {}, 'metadata': {}, 'content': {'comm_id': 'f242f7e86f854c3e86261f4bf5e76fe5', 'data': {'method': 'update', 'state': {'outputs': [{'name': 'stderr', 'text': '2024-05-29 13:32:54,838 - Starting new HTTPS connection (1): lastmileai.dev:443\\n2024-05-29 13:32:55,011 - https://lastmileai.dev:443 \"POST /api/evaluation_feedback/create HTTP/1.1\" 200 363\\n', 'output_type': 'stream'}, {'name': 'stdout', 'text': 'You selected: 👎\\n', 'output_type': 'stream'}]}, 'buffer_paths': []}}, 'buffers': []})\n"
          ]
        }
      ],
      "source": [
        "import trace\n",
        "\n",
        "\n",
        "output = Output()\n",
        "\n",
        "# Set trace_id and span_id so we can link user feedback to them\n",
        "trace_id, span_id = tracer.read_trace_id(key=riddle)\n",
        "\n",
        "def get_and_store_user_feedback():\n",
        "    def on_thumbsup_clicked(b):\n",
        "        with output:\n",
        "            clear_output()\n",
        "            print(\"You selected: 👍\")\n",
        "            tracer.log_binary_feedback(value=True, trace_id=trace_id)\n",
        "            # Alternatively, you can log feedback using a string\n",
        "            # tracer.log_feedback(span_id=span_id, trace_id=trace_id, feedback=\"👍\")\n",
        "\n",
        "    def on_thumbsdown_clicked(b):\n",
        "        with output:\n",
        "            clear_output()\n",
        "            print(\"You selected: 👎\")\n",
        "            tracer.log_binary_feedback(value=False, trace_id=trace_id)\n",
        "            # tracer.log_feedback(span_id=span_id, trace_id=trace_id, feedback=\"👎\")\n",
        "\n",
        "    thumbsup_button = Button(description=\"👍\", button_style=\"success\")\n",
        "    thumbsup_button.on_click(on_thumbsup_clicked)\n",
        "\n",
        "    thumbsdown_button = Button(description=\"👎\", button_style=\"danger\")\n",
        "    thumbsdown_button.on_click(on_thumbsdown_clicked)\n",
        "\n",
        "    display(HBox([thumbsup_button, thumbsdown_button]))\n",
        "    display(output)\n",
        "\n",
        "print(f'\\n Generated Riddle:\\n{riddle}\\n Give it a thumbs up or thumbs down to provide feedback.\\n')\n",
        "get_and_store_user_feedback()"
      ]
    },
    {
      "cell_type": "markdown",
      "metadata": {
        "id": "-knu4aAWrThm"
      },
      "source": [
        "Now our user feedback has been logged to our Trace!"
      ]
    },
    {
      "cell_type": "markdown",
      "metadata": {
        "id": "0nCgy-4RxsSN"
      },
      "source": [
        "<a name=\"view\"></a>\n",
        "## View user feedback results\n",
        "User feedback is 1:1 with a specific trace. You can view user feedback in the 'Traces' page of RAG Debugger.\n",
        "\n",
        "#### From your terminal:\n",
        "\n",
        "Export your LASTMILE_API_TOKEN\n",
        "\n",
        "```bash\n",
        "export LASTMILE_API_TOKEN=\"<your-api-token>\"\n",
        "```\n",
        "\n",
        "Run this CLI command to access the UI\n",
        "\n",
        "```bash\n",
        "rag-debug launch\n",
        "```\n",
        "Navigate to the 'Traces' Page where you see all the Traces listed. One of the columns here is 'User Feedback'.\n",
        "\n",
        "<img width=\"973\" alt=\"user_feedback\" src=\"https://github.com/lastmile-ai/aiconfig/assets/81494782/0bf846d4-49d4-4319-960c-285725f94eb0\"/>\n",
        "\n",
        "It's helpful to have User Feedback here with other metadata associated with the Trace for easy debugging.\n"
      ]
    },
    {
      "cell_type": "markdown",
      "metadata": {
        "id": "uDfVPHNd0Ka4"
      },
      "source": [
        "<a name=\"filter\"></a>\n",
        "## Filter traces based on user feedback\n",
        "\n",
        "You can filter traces based on user feedback to debug your RAG system. For example, you might want to dig deeper into only the traces that have 'thumbs down' feedback.\n",
        "\n",
        "Click the 'Filter' button on the 'Traces' page. Here you have advanced filtering options to look at Traces that yielded specific user feedback.\n",
        "\n",
        "With the filtered set of traces, you can:\n",
        "* Look for specific patterns in these traces (ex. paramSet)\n",
        "* Create a TestSet from these traces. You can use these traces to experiment with changes to your RAG system."
      ]
    },
    {
      "cell_type": "markdown",
      "metadata": {
        "id": "xOT7DQic1GBW"
      },
      "source": [
        "<a name=\"aggregate\"></a>\n",
        "\n",
        "## Aggregate user feedback\n",
        "\n",
        "**Project-level**\n",
        "\n",
        "LastMile will automatically average user feedback (if numeric) at the project-level.\n",
        "\n",
        "**Selected traces**\n",
        "\n",
        "You have the option to select and download traces as a .csv file. This not only provides easy access to your data but also offers the flexibility to aggregate / transform user feedback according to your preferences.\n",
        "\n",
        "\n"
      ]
    },
    {
      "cell_type": "markdown",
      "metadata": {
        "id": "4Cg01L0n3jzD"
      },
      "source": [
        "<a name=\"more\"></a>\n",
        "\n",
        "# More Resources\n",
        "* [RAG Debugger Documentation](https://rag.lastmileai.dev/docs/basics)\n",
        "* [Discord - ask us anything!](https://discord.com/invite/xBhNKTetGx)"
      ]
    },
    {
      "cell_type": "code",
      "execution_count": null,
      "metadata": {
        "id": "-opNvhYN3GbS"
      },
      "outputs": [],
      "source": []
    }
  ],
  "metadata": {
    "colab": {
      "provenance": []
    },
    "kernelspec": {
      "display_name": "main",
      "language": "python",
      "name": "python3"
    },
    "language_info": {
      "codemirror_mode": {
        "name": "ipython",
        "version": 3
      },
      "file_extension": ".py",
      "mimetype": "text/x-python",
      "name": "python",
      "nbconvert_exporter": "python",
      "pygments_lexer": "ipython3",
      "version": "3.11.9"
    },
    "widgets": {
      "application/vnd.jupyter.widget-state+json": {
        "30170d42305e4350a255efc6b2c2b75d": {
          "model_module": "@jupyter-widgets/controls",
          "model_module_version": "1.5.0",
          "model_name": "ButtonStyleModel",
          "state": {
            "_model_module": "@jupyter-widgets/controls",
            "_model_module_version": "1.5.0",
            "_model_name": "ButtonStyleModel",
            "_view_count": null,
            "_view_module": "@jupyter-widgets/base",
            "_view_module_version": "1.2.0",
            "_view_name": "StyleView",
            "button_color": null,
            "font_weight": ""
          }
        },
        "30980487d89e4f1a892c5ef8d7438bf7": {
          "model_module": "@jupyter-widgets/base",
          "model_module_version": "1.2.0",
          "model_name": "LayoutModel",
          "state": {
            "_model_module": "@jupyter-widgets/base",
            "_model_module_version": "1.2.0",
            "_model_name": "LayoutModel",
            "_view_count": null,
            "_view_module": "@jupyter-widgets/base",
            "_view_module_version": "1.2.0",
            "_view_name": "LayoutView",
            "align_content": null,
            "align_items": null,
            "align_self": null,
            "border": null,
            "bottom": null,
            "display": null,
            "flex": null,
            "flex_flow": null,
            "grid_area": null,
            "grid_auto_columns": null,
            "grid_auto_flow": null,
            "grid_auto_rows": null,
            "grid_column": null,
            "grid_gap": null,
            "grid_row": null,
            "grid_template_areas": null,
            "grid_template_columns": null,
            "grid_template_rows": null,
            "height": null,
            "justify_content": null,
            "justify_items": null,
            "left": null,
            "margin": null,
            "max_height": null,
            "max_width": null,
            "min_height": null,
            "min_width": null,
            "object_fit": null,
            "object_position": null,
            "order": null,
            "overflow": null,
            "overflow_x": null,
            "overflow_y": null,
            "padding": null,
            "right": null,
            "top": null,
            "visibility": null,
            "width": null
          }
        },
        "60fd6bb6e55241c48df58671ad217ffc": {
          "model_module": "@jupyter-widgets/controls",
          "model_module_version": "1.5.0",
          "model_name": "ButtonStyleModel",
          "state": {
            "_model_module": "@jupyter-widgets/controls",
            "_model_module_version": "1.5.0",
            "_model_name": "ButtonStyleModel",
            "_view_count": null,
            "_view_module": "@jupyter-widgets/base",
            "_view_module_version": "1.2.0",
            "_view_name": "StyleView",
            "button_color": null,
            "font_weight": ""
          }
        },
        "85042bb986a34aea906719be7193890e": {
          "model_module": "@jupyter-widgets/output",
          "model_module_version": "1.0.0",
          "model_name": "OutputModel",
          "state": {
            "_dom_classes": [],
            "_model_module": "@jupyter-widgets/output",
            "_model_module_version": "1.0.0",
            "_model_name": "OutputModel",
            "_view_count": null,
            "_view_module": "@jupyter-widgets/output",
            "_view_module_version": "1.0.0",
            "_view_name": "OutputView",
            "layout": "IPY_MODEL_f9663db51e7c458d8f5145039d37c529",
            "msg_id": "",
            "outputs": [
              {
                "name": "stdout",
                "output_type": "stream",
                "text": [
                  "You selected: 👍\n"
                ]
              }
            ]
          }
        },
        "85415e4fed404e42acfcf29b210e671a": {
          "model_module": "@jupyter-widgets/base",
          "model_module_version": "1.2.0",
          "model_name": "LayoutModel",
          "state": {
            "_model_module": "@jupyter-widgets/base",
            "_model_module_version": "1.2.0",
            "_model_name": "LayoutModel",
            "_view_count": null,
            "_view_module": "@jupyter-widgets/base",
            "_view_module_version": "1.2.0",
            "_view_name": "LayoutView",
            "align_content": null,
            "align_items": null,
            "align_self": null,
            "border": null,
            "bottom": null,
            "display": null,
            "flex": null,
            "flex_flow": null,
            "grid_area": null,
            "grid_auto_columns": null,
            "grid_auto_flow": null,
            "grid_auto_rows": null,
            "grid_column": null,
            "grid_gap": null,
            "grid_row": null,
            "grid_template_areas": null,
            "grid_template_columns": null,
            "grid_template_rows": null,
            "height": null,
            "justify_content": null,
            "justify_items": null,
            "left": null,
            "margin": null,
            "max_height": null,
            "max_width": null,
            "min_height": null,
            "min_width": null,
            "object_fit": null,
            "object_position": null,
            "order": null,
            "overflow": null,
            "overflow_x": null,
            "overflow_y": null,
            "padding": null,
            "right": null,
            "top": null,
            "visibility": null,
            "width": null
          }
        },
        "abdc33169cd447a08c73b2df1afcd575": {
          "model_module": "@jupyter-widgets/controls",
          "model_module_version": "1.5.0",
          "model_name": "HBoxModel",
          "state": {
            "_dom_classes": [],
            "_model_module": "@jupyter-widgets/controls",
            "_model_module_version": "1.5.0",
            "_model_name": "HBoxModel",
            "_view_count": null,
            "_view_module": "@jupyter-widgets/controls",
            "_view_module_version": "1.5.0",
            "_view_name": "HBoxView",
            "box_style": "",
            "children": [
              "IPY_MODEL_d07feabba9f94f7cb042403851ff4878",
              "IPY_MODEL_bf2d46b6f9d34d0099a0e9f15c540a8a"
            ],
            "layout": "IPY_MODEL_d7d59ec5c1de4cd0beb5d2a217e23b48"
          }
        },
        "bf2d46b6f9d34d0099a0e9f15c540a8a": {
          "model_module": "@jupyter-widgets/controls",
          "model_module_version": "1.5.0",
          "model_name": "ButtonModel",
          "state": {
            "_dom_classes": [],
            "_model_module": "@jupyter-widgets/controls",
            "_model_module_version": "1.5.0",
            "_model_name": "ButtonModel",
            "_view_count": null,
            "_view_module": "@jupyter-widgets/controls",
            "_view_module_version": "1.5.0",
            "_view_name": "ButtonView",
            "button_style": "danger",
            "description": "👎",
            "disabled": false,
            "icon": "",
            "layout": "IPY_MODEL_85415e4fed404e42acfcf29b210e671a",
            "style": "IPY_MODEL_60fd6bb6e55241c48df58671ad217ffc",
            "tooltip": ""
          }
        },
        "d07feabba9f94f7cb042403851ff4878": {
          "model_module": "@jupyter-widgets/controls",
          "model_module_version": "1.5.0",
          "model_name": "ButtonModel",
          "state": {
            "_dom_classes": [],
            "_model_module": "@jupyter-widgets/controls",
            "_model_module_version": "1.5.0",
            "_model_name": "ButtonModel",
            "_view_count": null,
            "_view_module": "@jupyter-widgets/controls",
            "_view_module_version": "1.5.0",
            "_view_name": "ButtonView",
            "button_style": "success",
            "description": "👍",
            "disabled": false,
            "icon": "",
            "layout": "IPY_MODEL_30980487d89e4f1a892c5ef8d7438bf7",
            "style": "IPY_MODEL_30170d42305e4350a255efc6b2c2b75d",
            "tooltip": ""
          }
        },
        "d7d59ec5c1de4cd0beb5d2a217e23b48": {
          "model_module": "@jupyter-widgets/base",
          "model_module_version": "1.2.0",
          "model_name": "LayoutModel",
          "state": {
            "_model_module": "@jupyter-widgets/base",
            "_model_module_version": "1.2.0",
            "_model_name": "LayoutModel",
            "_view_count": null,
            "_view_module": "@jupyter-widgets/base",
            "_view_module_version": "1.2.0",
            "_view_name": "LayoutView",
            "align_content": null,
            "align_items": null,
            "align_self": null,
            "border": null,
            "bottom": null,
            "display": null,
            "flex": null,
            "flex_flow": null,
            "grid_area": null,
            "grid_auto_columns": null,
            "grid_auto_flow": null,
            "grid_auto_rows": null,
            "grid_column": null,
            "grid_gap": null,
            "grid_row": null,
            "grid_template_areas": null,
            "grid_template_columns": null,
            "grid_template_rows": null,
            "height": null,
            "justify_content": null,
            "justify_items": null,
            "left": null,
            "margin": null,
            "max_height": null,
            "max_width": null,
            "min_height": null,
            "min_width": null,
            "object_fit": null,
            "object_position": null,
            "order": null,
            "overflow": null,
            "overflow_x": null,
            "overflow_y": null,
            "padding": null,
            "right": null,
            "top": null,
            "visibility": null,
            "width": null
          }
        },
        "f9663db51e7c458d8f5145039d37c529": {
          "model_module": "@jupyter-widgets/base",
          "model_module_version": "1.2.0",
          "model_name": "LayoutModel",
          "state": {
            "_model_module": "@jupyter-widgets/base",
            "_model_module_version": "1.2.0",
            "_model_name": "LayoutModel",
            "_view_count": null,
            "_view_module": "@jupyter-widgets/base",
            "_view_module_version": "1.2.0",
            "_view_name": "LayoutView",
            "align_content": null,
            "align_items": null,
            "align_self": null,
            "border": null,
            "bottom": null,
            "display": null,
            "flex": null,
            "flex_flow": null,
            "grid_area": null,
            "grid_auto_columns": null,
            "grid_auto_flow": null,
            "grid_auto_rows": null,
            "grid_column": null,
            "grid_gap": null,
            "grid_row": null,
            "grid_template_areas": null,
            "grid_template_columns": null,
            "grid_template_rows": null,
            "height": null,
            "justify_content": null,
            "justify_items": null,
            "left": null,
            "margin": null,
            "max_height": null,
            "max_width": null,
            "min_height": null,
            "min_width": null,
            "object_fit": null,
            "object_position": null,
            "order": null,
            "overflow": null,
            "overflow_x": null,
            "overflow_y": null,
            "padding": null,
            "right": null,
            "top": null,
            "visibility": null,
            "width": null
          }
        }
      }
    }
  },
  "nbformat": 4,
  "nbformat_minor": 0
}
