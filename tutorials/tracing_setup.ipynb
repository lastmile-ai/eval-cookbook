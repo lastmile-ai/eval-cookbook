{
  "cells": [
    {
      "cell_type": "markdown",
      "metadata": {
        "id": "UZLoBuonVDCS"
      },
      "source": [
        "## Step 1: Import modules and packages, download reference docs\n",
        "\n",
        "This goes through entire LastMile AI Eval flow from\n",
        "\n",
        "1. create ingestion trace\n",
        "2. generate a query + ground truth context pair per each node context in a document\n",
        "  - taking those queries and running rag query traces to get actual retrieved context\n",
        "3. listing query traces I want to include in a test set (defaults to last N queries for now)\n",
        "4. create test Set with given query_traces, as well as storing the ground truth for the associated context for each query\n",
        "5. create evaluation metrics based on ones provided by Llama Index\n",
        "   - note: this is mainly from Llama Index, so the evaluation metrics are only focused on retrieval, nothing on outputs (though I store those as output events too)\n",
        "6. create evaluation set by feeding these metrics with test set we just created\n",
        "\n",
        "Some notes:\n",
        "- no manual id grepping needed --> all taken care of by helper functions\n",
        "probably needs to be better designed in future, just was focused on getting unblocked\n",
        "- need to refactor ingestion_trace_id to map to trace-level, not marking rag query event level (right now it doesn't work, I'll add that later)\n",
        "- some other small API convenience functions need to be added to the API, such as a helper function for `list_evaluation_sets()`\n"
      ]
    },
    {
      "cell_type": "code",
      "execution_count": null,
      "metadata": {
        "colab": {
          "base_uri": "https://localhost:8080/"
        },
        "id": "GeuZV8CZVDCT",
        "outputId": "f8c5de16-89a1-4ddd-f21d-32c3a1240207"
      },
      "outputs": [],
      "source": [
        "!pip install chromadb \n",
        "!pip install llama-index\n",
        "!pip install lastmile-eval --upgrade"
      ]
    },
    {
      "cell_type": "markdown",
      "metadata": {},
      "source": [
        "## 1. Setup\n",
        "- Install required Packages\n",
        "- Download Sample data"
      ]
    },
    {
      "cell_type": "code",
      "execution_count": 1,
      "metadata": {
        "colab": {
          "base_uri": "https://localhost:8080/",
          "height": 341
        },
        "id": "apw5FNNMVDCV",
        "outputId": "c859dbba-db3f-4e31-9110-7a46327f5a0f"
      },
      "outputs": [
        {
          "name": "stdout",
          "output_type": "stream",
          "text": [
            "len(OPENAI_API_KEY)=51, len(LASTMILE_API_TOKEN)=324\n"
          ]
        }
      ],
      "source": [
        "import os\n",
        "import dotenv\n",
        "# Set API Keys\n",
        "# You can get your OPENAI_API_KEY from https://platform.openai.com/api-keys\n",
        "\n",
        "dotenv.load_dotenv()\n",
        "OPENAI_API_KEY = os.getenv('OPENAI_API_KEY')\n",
        "LASTMILE_API_TOKEN = os.getenv(\"LASTMILE_API_TOKEN\")\n",
        "\n",
        "os.environ[\"LASTMILE_API_TOKEN\"] = LASTMILE_API_TOKEN\n",
        "os.environ[\"OPENAI_API_KEY\"] = OPENAI_API_KEY\n",
        "\n",
        "print(f\"{len(OPENAI_API_KEY)=}, {len(LASTMILE_API_TOKEN)=}\")\n",
        "assert len(OPENAI_API_KEY) > 0\n",
        "assert len(LASTMILE_API_TOKEN) > 0"
      ]
    },
    {
      "cell_type": "markdown",
      "metadata": {
        "id": "jY5tB8_mVDCV"
      },
      "source": [
        "## Step 2: Run and Trace Ingestion Pipeline\n",
        "\n",
        "Lets make a basic ingestion pipeline using chromadb. We will use a sample essay by paul graham.\n",
        "\n",
        "- Run the following cell to download the sample data\n",
        "- Run the following cell to create an ingestion pipeline, which is traced with the @traced decorator."
      ]
    },
    {
      "cell_type": "code",
      "execution_count": null,
      "metadata": {},
      "outputs": [],
      "source": [
        "# Download sample data\n",
        "!mkdir -p 'data/paul_graham/'\n",
        "!curl 'https://raw.githubusercontent.com/run-llama/llama_index/main/docs/docs/examples/data/paul_graham/paul_graham_essay.txt' -o 'data/paul_graham/paul_graham_essay.txt'"
      ]
    },
    {
      "cell_type": "code",
      "execution_count": null,
      "metadata": {
        "id": "SpaKBoOAVDCV"
      },
      "outputs": [],
      "source": [
        "from lastmile_eval.rag.debugger.tracing import (\n",
        "    get_lastmile_tracer)\n",
        "from lastmile_eval.rag.debugger.tracing.decorators import (\n",
        "    traced,\n",
        ")\n",
        "\n",
        "import chromadb\n",
        "import os\n",
        "chroma_client = chromadb.Client()\n",
        "\n",
        "# Instantiate a tracer object\n",
        "tracer = get_lastmile_tracer(\"Paul-Graham\")\n",
        "\n",
        "\n",
        "@traced(tracer) #Decorate the function with the tracer\n",
        "def chunk_document(file_path: str, chunk_size: int = 1000) -> list[str]:\n",
        "    \"\"\"\n",
        "    Chunk a text file into a list of strings based on the specified chunk size.\n",
        "\n",
        "    Args:\n",
        "        file_path (str): The path to the text file.\n",
        "        chunk_size (int): The desired number of characters in each chunk.\n",
        "\n",
        "    Returns:\n",
        "        list[str]: A list of strings, where each string represents a chunk of text.\n",
        "    \"\"\"\n",
        "    with open(file_path, \"r\") as file:\n",
        "        text = file.read()\n",
        "\n",
        "    chunks: list[str] = []\n",
        "    for i in range(0, len(text), chunk_size):\n",
        "        chunks.append(text[i:i + chunk_size])\n",
        "\n",
        "    return chunks\n",
        "\n",
        "@traced(tracer)\n",
        "def run_ingestion_flow() -> chromadb.Collection:\n",
        "    collection = chroma_client.create_collection(name=\"my_collection\")\n",
        "    \n",
        "    document_chunks = chunk_document(\"data/paul_graham/paul_graham_essay.txt\")\n",
        "    document_ids = [f\"chunk_{i}\" for i in range(len(document_chunks))]\n",
        "\n",
        "    collection.add(\n",
        "        ids=document_ids,\n",
        "        documents=document_chunks, # ex: [\"What I Worked On\", \"February 2021\", ...]\n",
        "    )\n",
        "    return collection\n",
        "\n",
        "collection:chromadb.Collection = run_ingestion_flow()"
      ]
    },
    {
      "cell_type": "code",
      "execution_count": 11,
      "metadata": {
        "colab": {
          "base_uri": "https://localhost:8080/"
        },
        "id": "6IIzk6G8VDCV",
        "outputId": "c0671c6a-cddb-4bf3-995e-d0a3d8403376"
      },
      "outputs": [
        {
          "name": "stderr",
          "output_type": "stream",
          "text": [
            "2024-05-14 18:15:52,369 - Starting new HTTPS connection (1): lastmileai.dev:443\n",
            "2024-05-14 18:15:52,467 - https://lastmileai.dev:443 \"GET /api/rag_ingestion_traces/list?pageSize=1 HTTP/1.1\" 200 596\n",
            "2024-05-14 18:15:52,471 - Starting new HTTPS connection (1): lastmileai.dev:443\n",
            "2024-05-14 18:15:52,661 - https://lastmileai.dev:443 \"GET /api/trace/read?id=2d1db49cbcbf707f8bea0cccbe43946a HTTP/1.1\" 200 None\n"
          ]
        },
        {
          "data": {
            "text/plain": [
              "{'data': [{'traceID': '2d1db49cbcbf707f8bea0cccbe43946a',\n",
              "   'spans': [{'traceID': '2d1db49cbcbf707f8bea0cccbe43946a',\n",
              "     'spanID': 'd4ad661565f03ae2',\n",
              "     'operationName': 'ingestion-root-span',\n",
              "     'references': [],\n",
              "     'startTime': 1715705744770425,\n",
              "     'duration': 1466427,\n",
              "     'tags': [{'key': 'doc_file_paths',\n",
              "       'type': 'string',\n",
              "       'value': \"['/Users/jonathan/Projects/eval-cookbook/examples/data/paul_graham/paul_graham_essay.txt']\"},\n",
              "      {'key': 'span.kind', 'type': 'string', 'value': 'internal'},\n",
              "      {'key': 'internal.span.format', 'type': 'string', 'value': 'otlp'}],\n",
              "     'logs': [],\n",
              "     'processID': 'p1',\n",
              "     'warnings': None},\n",
              "    {'traceID': '2d1db49cbcbf707f8bea0cccbe43946a',\n",
              "     'spanID': '01b23423d2a3313d',\n",
              "     'operationName': 'create-document-nodes',\n",
              "     'references': [{'refType': 'CHILD_OF',\n",
              "       'traceID': '2d1db49cbcbf707f8bea0cccbe43946a',\n",
              "       'spanID': 'd4ad661565f03ae2'}],\n",
              "     'startTime': 1715705744783201,\n",
              "     'duration': 221595,\n",
              "     'tags': [{'key': 'chunk_size', 'type': 'int64', 'value': 512},\n",
              "      {'key': 'span.kind', 'type': 'string', 'value': 'internal'},\n",
              "      {'key': 'internal.span.format', 'type': 'string', 'value': 'otlp'}],\n",
              "     'logs': [],\n",
              "     'processID': 'p1',\n",
              "     'warnings': None},\n",
              "    {'traceID': '2d1db49cbcbf707f8bea0cccbe43946a',\n",
              "     'spanID': 'a3014c59bd864cbd',\n",
              "     'operationName': 'embed-document-nodes',\n",
              "     'references': [{'refType': 'CHILD_OF',\n",
              "       'traceID': '2d1db49cbcbf707f8bea0cccbe43946a',\n",
              "       'spanID': 'd4ad661565f03ae2'}],\n",
              "     'startTime': 1715705745037462,\n",
              "     'duration': 1165673,\n",
              "     'tags': [{'key': 'span.kind', 'type': 'string', 'value': 'internal'},\n",
              "      {'key': 'internal.span.format', 'type': 'string', 'value': 'otlp'}],\n",
              "     'logs': [],\n",
              "     'processID': 'p1',\n",
              "     'warnings': None}],\n",
              "   'processes': {'p1': {'serviceName': 'unknown_service',\n",
              "     'tags': [{'key': 'otel.library.name',\n",
              "       'type': 'string',\n",
              "       'value': 'my_cool_tracer'},\n",
              "      {'key': 'telemetry.sdk.language', 'type': 'string', 'value': 'python'},\n",
              "      {'key': 'telemetry.sdk.name',\n",
              "       'type': 'string',\n",
              "       'value': 'opentelemetry'},\n",
              "      {'key': 'telemetry.sdk.version', 'type': 'string', 'value': '1.24.0'}]}},\n",
              "   'warnings': None}],\n",
              " 'total': 0,\n",
              " 'limit': 0,\n",
              " 'offset': 0,\n",
              " 'errors': None}"
            ]
          },
          "execution_count": 11,
          "metadata": {},
          "output_type": "execute_result"
        }
      ],
      "source": [
        "# Let's print the trace data from Jaeger to\n",
        "# show you what it looks like (search for \"operationName\" in the data)\n",
        "\n",
        "from lastmile_eval.rag.debugger.tracing import (\n",
        "    get_latest_ingestion_trace_id,\n",
        "    get_trace_data,\n",
        ")\n",
        "\n",
        "ingestion_trace_id = get_latest_ingestion_trace_id()\n",
        "get_trace_data(ingestion_trace_id)"
      ]
    },
    {
      "cell_type": "code",
      "execution_count": 10,
      "metadata": {
        "colab": {
          "base_uri": "https://localhost:8080/",
          "height": 98
        },
        "id": "Znk3omg3VDCW",
        "outputId": "9509c207-cd9e-4a0a-dda4-3730fd6eabc0"
      },
      "outputs": [
        {
          "name": "stderr",
          "output_type": "stream",
          "text": [
            "2024-05-14 18:15:48,489 - Starting new HTTPS connection (1): lastmileai.dev:443\n",
            "2024-05-14 18:15:48,655 - https://lastmileai.dev:443 \"GET /api/rag_ingestion_traces/list?pageSize=1 HTTP/1.1\" 200 596\n"
          ]
        },
        {
          "ename": "NameError",
          "evalue": "name 'pd' is not defined",
          "output_type": "error",
          "traceback": [
            "\u001b[0;31m---------------------------------------------------------------------------\u001b[0m",
            "\u001b[0;31mNameError\u001b[0m                                 Traceback (most recent call last)",
            "Cell \u001b[0;32mIn[10], line 7\u001b[0m\n\u001b[1;32m      4\u001b[0m \u001b[38;5;28;01mfrom\u001b[39;00m \u001b[38;5;21;01mlastmile_eval\u001b[39;00m\u001b[38;5;21;01m.\u001b[39;00m\u001b[38;5;21;01mrag\u001b[39;00m\u001b[38;5;21;01m.\u001b[39;00m\u001b[38;5;21;01mdebugger\u001b[39;00m\u001b[38;5;21;01m.\u001b[39;00m\u001b[38;5;21;01mtracing\u001b[39;00m \u001b[38;5;28;01mimport\u001b[39;00m list_ingestion_trace_events\n\u001b[1;32m      6\u001b[0m ingestion_trace_events \u001b[38;5;241m=\u001b[39m list_ingestion_trace_events(take\u001b[38;5;241m=\u001b[39m\u001b[38;5;241m1\u001b[39m)\n\u001b[0;32m----> 7\u001b[0m \u001b[43mpd\u001b[49m\u001b[38;5;241m.\u001b[39mDataFrame\u001b[38;5;241m.\u001b[39mfrom_records(ingestion_trace_events[\u001b[38;5;124m\"\u001b[39m\u001b[38;5;124mingestionTraces\u001b[39m\u001b[38;5;124m\"\u001b[39m])\u001b[38;5;241m.\u001b[39mrename(  \u001b[38;5;66;03m# type: ignore[fixme]\u001b[39;00m\n\u001b[1;32m      8\u001b[0m     columns\u001b[38;5;241m=\u001b[39m{\u001b[38;5;124m\"\u001b[39m\u001b[38;5;124mid\u001b[39m\u001b[38;5;124m\"\u001b[39m: \u001b[38;5;124m\"\u001b[39m\u001b[38;5;124mragIngestionTraceEventId\u001b[39m\u001b[38;5;124m\"\u001b[39m}\n\u001b[1;32m      9\u001b[0m )\n",
            "\u001b[0;31mNameError\u001b[0m: name 'pd' is not defined"
          ]
        }
      ],
      "source": [
        "# Now let's fetch the trace event data from our postgres table\n",
        "# Notice that the `traceId` column matches with the raw trace data\n",
        "\n",
        "from lastmile_eval.rag.debugger.tracing import list_ingestion_trace_events\n",
        "\n",
        "ingestion_trace_events = list_ingestion_trace_events(take=1)\n",
        "pd.DataFrame.from_records(ingestion_trace_events[\"ingestionTraces\"]).rename(  # type: ignore[fixme]\n",
        "    columns={\"id\": \"ragIngestionTraceEventId\"}\n",
        ")"
      ]
    },
    {
      "cell_type": "markdown",
      "metadata": {
        "id": "CQ4hNS0pVDCW"
      },
      "source": [
        "## Part 3: Run and Trace Query Pipeline\n",
        "\n",
        "Now that we have an ingestion pipeline built, lets build a query pipeline. We will use an OpenAI model to generate responses to user queries. We will trace this pipeline with the @traced decorator. \n",
        "Note: the query pipeline and ingestion pipeline are separate, so we will need to link them together with the ingestion_trace_id."
      ]
    },
    {
      "cell_type": "code",
      "execution_count": null,
      "metadata": {
        "id": "H2Ita6wMVDCW"
      },
      "outputs": [],
      "source": [
        "import openai\n",
        "from lastmile_eval.rag.debugger.api import (\n",
        "    QueryReceived,\n",
        "    ContextRetrieved,\n",
        "    PromptResolved,\n",
        "    LLMOutputReceived,\n",
        ")\n",
        "\n",
        "LLM_NAME = \"gpt-3.5-turbo\"\n",
        "\n",
        "\n",
        "PROMPT_TEMPLATE = \"\"\"\n",
        "Context information is below.\n",
        "---------------------\n",
        "{context_str}\n",
        "---------------------\n",
        "Given the context information and not prior knowledge, answer the query.\n",
        "Query: {query_str}\n",
        "Answer:\n",
        "\"\"\"\n",
        "\n",
        "@traced(tracer, name=\"retrieve-context\") #Decorate the function with the tracer\n",
        "def retrieve_context(query_string: str, top_k: int = 5) -> list[str]:\n",
        "    \"\"\"\n",
        "    Retrieve the top-k most relevant contexts based on the query string\n",
        "    from the chroma db collection\n",
        "    \"\"\"\n",
        "    tracer.register_param(\"similarity_top_k\", top_k)\n",
        "    chroma_retrival_results = collection.query(\n",
        "        query_texts=[query_string], # Chroma will embed this for you\n",
        "        n_results=top_k # how many results to return\n",
        "        )\n",
        "    documents_parsed_as_strings = [document for document in chroma_retrival_results.get(\"documents\")[0]]\n",
        "    tracer.mark_rag_query_trace_event(\n",
        "            ContextRetrieved(context=documents_parsed_as_strings), get_latest_ingestion_trace_id()\n",
        "        )\n",
        "    return documents_parsed_as_strings\n",
        "\n",
        "@traced(tracer, name=\"resolve-prompt\")\n",
        "def resolve_prompt(user_query: str, retrieved_contexts: list[str]):\n",
        "    resolved_prompt = PROMPT_TEMPLATE.replace(\n",
        "        \"{context_str}\", \"\\n\\n\\n\".join(retrieved_contexts)\n",
        "    ).replace(\"{query_str}\", user_query)\n",
        "    tracer.mark_rag_query_trace_event(\n",
        "        PromptResolved(fully_resolved_prompt=resolved_prompt), get_latest_ingestion_trace_id()\n",
        "    )\n",
        "    return resolved_prompt\n",
        "\n",
        "\n",
        "@traced(tracer=tracer, name=\"query-root-span\") # You can also provide a custom name for the root span\n",
        "def run_query_flow(user_query: str, ingestion_trace_id: str):\n",
        "    tracer.mark_rag_query_trace_event(\n",
        "        QueryReceived(query=user_query), ingestion_trace_id\n",
        "    )\n",
        "\n",
        "    retrieved_contexts = retrieve_context(user_query, top_k=3)\n",
        "\n",
        "    resolved_prompt = resolve_prompt(user_query, retrieved_contexts)\n",
        "\n",
        "    with tracer.start_as_current_span(\"call-llm\") as _llm_span:\n",
        "        openai_client = openai.Client(api_key=os.getenv(\"OPENAI_API_KEY\"))\n",
        "        response = openai_client.chat.completions.create(\n",
        "            model=LLM_NAME,\n",
        "            messages=[{\"role\": \"user\", \"content\": resolved_prompt}],\n",
        "        )\n",
        "        output: str = response.choices[0].message.content\n",
        "        tracer.mark_rag_query_trace_event(\n",
        "            LLMOutputReceived(llm_output=output), get_latest_ingestion_trace_id()\n",
        "        )\n",
        "\n",
        "    return output"
      ]
    },
    {
      "cell_type": "code",
      "execution_count": null,
      "metadata": {
        "id": "oMQ5nHcYVDCW"
      },
      "outputs": [],
      "source": [
        "# TODO: Right now the ingestion_trace_id within mark_rag_query_trace_event is\n",
        "# no-op due to changes in assumptions, I'll fix later\n",
        "response = run_query_flow(\"What did the author do growing up?\", ingestion_trace_id)\n",
        "\n",
        "print(f\"Response: {response}\")"
      ]
    },
    {
      "cell_type": "code",
      "execution_count": null,
      "metadata": {
        "colab": {
          "base_uri": "https://localhost:8080/",
          "height": 170
        },
        "id": "GTXnkr4XVDCW",
        "outputId": "9883c082-42bd-4e30-fa24-a9a15be560c3"
      },
      "outputs": [],
      "source": [
        "# Just like what we did with the ingestion trace,\n",
        "# let's print out what this looks like in the PostGres data, as well as the\n",
        "# pure trace data again\n",
        "from lastmile_eval.rag.debugger.tracing import (\n",
        "    list_query_trace_events,\n",
        ")\n",
        "\n",
        "query_trace_events = list_query_trace_events(take=1)\n",
        "query_trace_events_df = pd.DataFrame.from_records(query_trace_events[\"queryTraces\"]).rename(  # type: ignore[fixme]\n",
        "    columns={\"id\": \"ragQueryTraceEventsId\"}\n",
        ")\n",
        "query_trace_events_df\n",
        "\n"
      ]
    },
    {
      "cell_type": "code",
      "execution_count": null,
      "metadata": {
        "colab": {
          "base_uri": "https://localhost:8080/"
        },
        "id": "PepT9DXcm4B1",
        "outputId": "66e1f665-5006-432b-ca5a-1201f01416f2"
      },
      "outputs": [],
      "source": [
        "# This is what the trace data looks like\n",
        "from lastmile_eval.rag.debugger.tracing import (\n",
        "    get_trace_data,\n",
        ")\n",
        "\n",
        "query_trace_id = query_trace_events_df.iloc[0][\"traceId\"]\n",
        "get_trace_data(query_trace_id)\n",
        "\n",
        "\n"
      ]
    },
    {
      "cell_type": "markdown",
      "metadata": {
        "id": "PPMbbFE4VDCX"
      },
      "source": [
        "## Part 4: Create Test Sets and Run Evaluators"
      ]
    },
    {
      "cell_type": "code",
      "execution_count": null,
      "metadata": {
        "colab": {
          "base_uri": "https://localhost:8080/"
        },
        "id": "bCpbwqGqVDCX",
        "outputId": "1a43a2a8-4bda-4960-8850-0f402e7b3772"
      },
      "outputs": [],
      "source": [
        "# NOTE: Running this cell on all the nodes will take a while (probably 5-10mins), so please be patient\n",
        "\n",
        "# Change this to a lower value if you want to run faster\n",
        "# If we use None, we will not use this value and use total_queries_per_batch\n",
        "# instead\n",
        "total_queries_to_run_override = (\n",
        "    5  # None\n",
        ")\n",
        "\n",
        "\n",
        "# Ok we're now going to artifically generate a bunch of query + context\n",
        "# (ground truth) pairs. We will then run the `run_query_flow()` method on these\n",
        "# generated queries later\n",
        "\n",
        "# Define an LLM\n",
        "llm = OpenAI(model=LLM_NAME)\n",
        "\n",
        "\n",
        "# This method `generate_question_context_pairs()` essentially\n",
        "# calls an LLM to generate questions for us. See this URL for more details:\n",
        "# https://github.com/run-llama/llama_index/blob/8b373239396134a92c9277b36aa7023c633c018a/llama-index-finetuning/llama_index/finetuning/embeddings/common.py#L49-L64\n",
        "num_questions_per_chunk = 1\n",
        "qa_dataset = generate_question_context_pairs(\n",
        "    nodes[0:total_queries_to_run_override or len(nodes)],\n",
        "    llm=llm,\n",
        "    num_questions_per_chunk=num_questions_per_chunk\n",
        ")"
      ]
    },
    {
      "cell_type": "code",
      "execution_count": null,
      "metadata": {
        "colab": {
          "base_uri": "https://localhost:8080/"
        },
        "id": "6a6rPAZTVDCX",
        "outputId": "c48cfeac-98ef-46a5-e1aa-3f3c07293101"
      },
      "outputs": [],
      "source": [
        "# Run these queries through the `run_query_flow()` method\n",
        "\n",
        "total_queries_per_batch = len(qa_dataset.queries)\n",
        "total_queries_to_run = min(total_queries_to_run_override or total_queries_per_batch, total_queries_per_batch)\n",
        "\n",
        "expected_node_ids: list[str] = []\n",
        "for i, (query_id, query) in enumerate(qa_dataset.queries.items()):\n",
        "    run_query_flow(query, ingestion_trace_id)\n",
        "    associated_node_id_for_query = qa_dataset.relevant_docs[query_id]\n",
        "    expected_node_ids.append(associated_node_id_for_query[0])\n",
        "\n",
        "    print(f\"Finished running {i+1}/{total_queries_to_run} queries...\")\n",
        "    if i + 1 == total_queries_to_run:\n",
        "        break\n",
        "\n",
        "# Have to reverse because the get_rag_query_trace_events() method\n",
        "# returns the most recent trace events first\n",
        "expected_node_ids.reverse()"
      ]
    },
    {
      "cell_type": "code",
      "execution_count": null,
      "metadata": {
        "colab": {
          "base_uri": "https://localhost:8080/",
          "height": 643
        },
        "id": "6zjuOAs2VDCX",
        "outputId": "804da333-a754-4972-c3d4-789c5f1e94f3"
      },
      "outputs": [],
      "source": [
        "from lastmile_eval.rag.debugger.tracing import list_query_trace_events\n",
        "\n",
        "query_trace_events = list_query_trace_events(take=total_queries_to_run)\n",
        "query_trace_events_df = pd.DataFrame.from_records(query_trace_events[\"queryTraces\"]).rename(  # type: ignore[fixme]\n",
        "    columns={\"id\": \"ragQueryTraceId\"}\n",
        ")\n",
        "query_trace_events_df"
      ]
    },
    {
      "cell_type": "markdown",
      "metadata": {},
      "source": [
        "## Part 5 - Run Evaluators from Query Trace Events data\n",
        "\n",
        "This directly creates evaluation sets using the method `evaluate_rag_outputs()` without the need to create intermediate test cases and test sets. All you need is to define your query trace event rows in a dataframe."
      ]
    },
    {
      "cell_type": "code",
      "execution_count": null,
      "metadata": {},
      "outputs": [],
      "source": [
        "from lastmile_eval.rag.debugger.api.evaluation import evaluate_rag_outputs\n",
        "from lastmile_eval.rag.debugger.tracing import (\n",
        "    get_query_trace_event,\n",
        ")\n",
        "\n",
        "from lastmile_eval.text.metrics import calculate_rouge1_score\n",
        "from llama_index.core.evaluation import HitRate, MRR\n",
        "\n",
        "\n",
        "def wrap_rouge1(df: pd.DataFrame):\n",
        "    return calculate_rouge1_score(df[\"output\"].tolist(), df[\"groundTruth\"].tolist())\n",
        "\n",
        "def extract_data_to_evaluate(\n",
        "    row: pd.Series,\n",
        ") -> tuple[list[str], list[str]]:\n",
        "    trace_query_id: str = row[\"ragQueryTraceId\"]\n",
        "    trace_query_data = get_query_trace_event(trace_query_id)\n",
        "    retrieved_node_ids = trace_query_data[\"paramSet\"][\"retrieved_node_ids\"]\n",
        "    expected_node_ids: list[str] = [row[\"groundTruth\"]]\n",
        "    return (retrieved_node_ids, expected_node_ids)\n",
        "\n",
        "\n",
        "def wrap_llama_index_evaluator(\n",
        "    retrieved_and_expected_node_ids_tuple: tuple[list[str], list[str]],\n",
        "    evaluator: HitRate | MRR,\n",
        ") -> float:\n",
        "    retrieved_node_ids, expected_node_ids = (\n",
        "        retrieved_and_expected_node_ids_tuple\n",
        "    )\n",
        "    return evaluator.compute(\n",
        "        retrieved_ids=retrieved_node_ids, expected_ids=expected_node_ids\n",
        "    ).score\n",
        "\n",
        "# Example using a row-level function on the dataframe\n",
        "def compute_mrr(df: pd.DataFrame):\n",
        "    \"\"\"\n",
        "    We are demonstrating methods that are applied across a row instead of\n",
        "    entire dataframe, such as the MRR and Hit Rate metrics from the \n",
        "    llama_index.core.evaluation package. In order to do this, we define a\n",
        "    method at the row level where we:\n",
        "    \n",
        "    1. Extract the data to evaluate from the row\n",
        "    2. Run the evaluators on this extracted data\n",
        "    \n",
        "    After that's done, we pass this row-level method to df.apply()\n",
        "    \"\"\"\n",
        "    def _evaluate_row(row: pd.Series) -> float:\n",
        "        node_id_tuple = extract_data_to_evaluate(row)\n",
        "        return wrap_llama_index_evaluator(node_id_tuple, MRR())\n",
        "    \n",
        "    return df.apply(_evaluate_row, axis=1)\n",
        "\n",
        "def compute_hit_rate(df: pd.DataFrame):\n",
        "    \"\"\"\n",
        "    Another row-function example with hit_rate\n",
        "    \"\"\"\n",
        "    def _evaluate_row(row: pd.Series) -> float:\n",
        "        node_id_tuple = extract_data_to_evaluate(row)\n",
        "        return wrap_llama_index_evaluator(node_id_tuple, HitRate())\n",
        "    \n",
        "    return df.apply(_evaluate_row, axis=1)\n",
        "    \n",
        "trace_level_evaluators = {\n",
        "    \"rouge1\": wrap_rouge1,\n",
        "    \"mrr\": compute_mrr,\n",
        "    \"hit_rate\": compute_hit_rate,\n",
        "}\n",
        "\n",
        "# We must add groundTruth to the dataframe\n",
        "query_trace_events_df[\"groundTruth\"] = expected_node_ids\n",
        "\n",
        "eval_result = evaluate_rag_outputs(\n",
        "    project_id=\"can be anything for now\",\n",
        "    trace_level_evaluators=trace_level_evaluators,\n",
        "    dataset_level_evaluators={},\n",
        "    df=query_trace_events_df,\n",
        "    lastmile_api_token=LASTMILE_API_TOKEN,\n",
        "    evaluation_set_name=\"Cool new evaluation set name\"\n",
        ")\n",
        "\n",
        "#print out result\n",
        "eval_result"
      ]
    },
    {
      "cell_type": "markdown",
      "metadata": {},
      "source": [
        "## Part 6 - Run RAG query function and then evaluations\n",
        "\n",
        "This is a convenience function that runs your query logic for you and then your specified evaluators. You can use it to more conveniently evaluate your RAG query input/output pairs. "
      ]
    },
    {
      "cell_type": "code",
      "execution_count": null,
      "metadata": {},
      "outputs": [],
      "source": [
        "from functools import partial\n",
        "from lastmile_eval.rag.debugger.api.evaluation import (\n",
        "    run_and_evaluate_outputs,\n",
        "    get_default_rag_trace_level_metrics\n",
        ")\n",
        "\n",
        "# Evaluate the relevance of the returned answer to the ground-truth answer.\n",
        "trace_level_evaluators = get_default_rag_trace_level_metrics(    \n",
        "    names={\"relevance\"},\n",
        "    lastmile_api_token=LASTMILE_API_TOKEN\n",
        ")\n",
        "\n",
        "inputs = list(qa_dataset.queries.values())\n",
        "\n",
        "ground_truth_answers = [\n",
        "    \"The author first interacted with programming on a mainframe computer, using punch cards to input Fortran code, which was a challenging and time-consuming process\",\n",
        "    \"The transition from the IBM 1401 to microcomputers like the TRS-80 represented a significant step forward in terms of both programming capabilities and user interaction.\",\n",
        "    \"A turning point came after reading Nick Bostrom's \\\"Superintelligence,\\\" which presented a persuasive argument on the potential of Artificial Intelligence (AI)\",\n",
        "    \"Heinlein's \\\"The Moon is a Harsh Mistress\\\" and Terry Winograd's SHRDLU heavily influenced the author's decision to pursue AI\",\n",
        "    \"The author considered the AI practices during his first year of grad school as a \\\"hoax\\\" because they didn't meet his expectations for understanding and interpreting natural language accurately.\",\n",
        "]\n",
        "\n",
        "evaluate_result = run_and_evaluate_outputs(\n",
        "    \"my_project_id\",\n",
        "    trace_level_evaluators=trace_level_evaluators,\n",
        "    dataset_level_evaluators={},\n",
        "    rag_query_fn=partial(\n",
        "        run_query_flow,\n",
        "        ingestion_trace_id=ingestion_trace_id\n",
        "    ),\n",
        "    inputs=inputs,\n",
        "    ground_truth=ground_truth_answers\n",
        ")"
      ]
    },
    {
      "cell_type": "code",
      "execution_count": null,
      "metadata": {},
      "outputs": [],
      "source": [
        "evaluate_result.df_metrics_dataset"
      ]
    },
    {
      "cell_type": "code",
      "execution_count": null,
      "metadata": {},
      "outputs": [],
      "source": [
        "evaluate_result.df_metrics_trace"
      ]
    },
    {
      "cell_type": "code",
      "execution_count": null,
      "metadata": {
        "colab": {
          "base_uri": "https://localhost:8080/",
          "height": 448
        },
        "id": "uDSGDED0tFzw",
        "outputId": "b381ffd6-c0df-4e51-c4d2-0a7fb2950abf"
      },
      "outputs": [],
      "source": [
        "import requests\n",
        "from requests import Response\n",
        "from typing import Any, Optional\n",
        "\n",
        "# TODO: Save this as it's own helper SDK from the lastmile-eval package\n",
        "def list_evaluation_sets(\n",
        "    take: int = 10,\n",
        "    # TODO: Create macro for default timeout value\n",
        "    timeout: int = 60,\n",
        ") -> dict[str, Any]:  # TODO: Define eplicit typing for JSON response return\n",
        "    \"\"\"\n",
        "    Get a list of evaluation sets from the LastMile API.\n",
        "\n",
        "    Args:\n",
        "        take: The number of evaluation sets to return. The default is 10.\n",
        "        lastmile_api_token: The API token for the LastMile API. If not provided,\n",
        "            will try to get the token from the LASTMILE_API_TOKEN\n",
        "            environment variable.\n",
        "            You can create a token from the \"API Tokens\" section from this website:\n",
        "            https://lastmileai.dev/settings?page=tokens\n",
        "        timeout: The maximum time in seconds to wait for the request to complete.\n",
        "            The default is 60.\n",
        "\n",
        "    Returns:\n",
        "        A dictionary containing the evaluation sets.\n",
        "    \"\"\"\n",
        "    lastmile_endpoint = f\"https://lastmileai.dev/api/evaluation_sets/list?pageSize={str(take)}\"\n",
        "\n",
        "    response: Response = requests.get(\n",
        "        lastmile_endpoint,\n",
        "        headers={\"Authorization\": f\"Bearer {LASTMILE_API_TOKEN}\"},\n",
        "        timeout=timeout,\n",
        "    )\n",
        "    # TODO: Handle response errors\n",
        "    return response.json()\n",
        "\n",
        "evaluation_sets = list_evaluation_sets(take=2)\n",
        "evaluation_sets_df = pd.DataFrame.from_records(evaluation_sets[\"evaluationSets\"]).rename(  # type: ignore[fixme]\n",
        "    columns={\"id\": \"evaluationSetId\"}\n",
        ")\n",
        "pd.set_option('display.max_colwidth', 200)\n",
        "evaluation_sets_df\n",
        "\n",
        "# TODO: evaluationSetMetrics looks a bit weird, should probalby have helper\n",
        "# method to display it better, but it's ok for now"
      ]
    }
  ],
  "metadata": {
    "colab": {
      "provenance": []
    },
    "kernelspec": {
      "display_name": "Python 3",
      "language": "python",
      "name": "python3"
    },
    "language_info": {
      "codemirror_mode": {
        "name": "ipython",
        "version": 3
      },
      "file_extension": ".py",
      "mimetype": "text/x-python",
      "name": "python",
      "nbconvert_exporter": "python",
      "pygments_lexer": "ipython3",
      "version": "3.11.9"
    }
  },
  "nbformat": 4,
  "nbformat_minor": 0
}
