{
  "cells": [
    {
      "cell_type": "markdown",
      "metadata": {
        "id": "wiDf8GlbuoZW"
      },
      "source": [
        "# LastMile Instrumentor for LlamaIndex\n",
        "\n",
        "In this notebook, we showcase how to use the **LastMile Tracing SDK** to auto-instrument tracing for your LlamaIndex applications. With tracing automatically setup, you can easily debug your RAG application using LastMile's RAG Debugger.\n",
        "\n",
        "## Notebook Outline\n",
        "* [Step 1: Setup](#setup)\n",
        "* [Step 2: Configure the LastMile Instrumentor](#step2)\n",
        "* [Step 3: Load and Process Docs with LlamaIndex](#step3)\n",
        "* [Step 4: Create an Index and Query Engine with LlamaIndex](#step4)\n",
        "* [Step 5: Query the Index with LlamaIndex](#step5)\n",
        "* [Step 6: View Trace Data in RAG Debugger](#step6)\n"
      ]
    },
    {
      "cell_type": "markdown",
      "metadata": {
        "id": "DXgSkeN_ve0V"
      },
      "source": [
        "<a name=\"setup\"></a>\n",
        "# Step 1: Setup\n",
        "\n",
        "To begin, we need to install a few packages including llamaindex and lastmile-eval.\n"
      ]
    },
    {
      "cell_type": "code",
      "execution_count": null,
      "metadata": {
        "colab": {
          "base_uri": "https://localhost:8080/"
        },
        "collapsed": true,
        "id": "5iiYIwq4uoZY",
        "outputId": "6063ce5c-a6b8-432d-e09f-f776e739373c"
      },
      "outputs": [],
      "source": [
        "!pip install llama-index-embeddings-openai\n",
        "!pip install llama-index-embeddings-openai --upgrade\n",
        "\n",
        "%pip install -q html2text llama-index pandas pyarrow tqdm\n",
        "%pip install -q llama-index-readers-web\n",
        "%pip install -q llama-index-callbacks-openinference\n",
        "!pip install openai --upgrade\n",
        "!pip install lastmile-eval"
      ]
    },
    {
      "cell_type": "markdown",
      "metadata": {
        "id": "RYiIRNxcuoZY"
      },
      "source": [
        "\n",
        "Import the necessary libraries for this example"
      ]
    },
    {
      "cell_type": "code",
      "execution_count": null,
      "metadata": {
        "colab": {
          "base_uri": "https://localhost:8080/",
          "height": 393
        },
        "id": "P1PEB6VLuoZZ",
        "outputId": "e2df4401-8bf2-45c5-a224-874958e4f9fa"
      },
      "outputs": [
        {
          "ename": "ModuleNotFoundError",
          "evalue": "No module named 'lastmile_eval.rag.debugger.tracing.auto_instrumentation'",
          "output_type": "error",
          "traceback": [
            "\u001b[0;31m---------------------------------------------------------------------------\u001b[0m",
            "\u001b[0;31mModuleNotFoundError\u001b[0m                       Traceback (most recent call last)",
            "\u001b[0;32m<ipython-input-2-45b1417596ce>\u001b[0m in \u001b[0;36m<cell line: 5>\u001b[0;34m()\u001b[0m\n\u001b[1;32m      3\u001b[0m \u001b[0;32mimport\u001b[0m \u001b[0mdotenv\u001b[0m\u001b[0;34m\u001b[0m\u001b[0;34m\u001b[0m\u001b[0m\n\u001b[1;32m      4\u001b[0m \u001b[0;32mimport\u001b[0m \u001b[0mllama_index\u001b[0m\u001b[0;34m.\u001b[0m\u001b[0mcore\u001b[0m\u001b[0;34m\u001b[0m\u001b[0;34m\u001b[0m\u001b[0m\n\u001b[0;32m----> 5\u001b[0;31m \u001b[0;32mfrom\u001b[0m \u001b[0mlastmile_eval\u001b[0m\u001b[0;34m.\u001b[0m\u001b[0mrag\u001b[0m\u001b[0;34m.\u001b[0m\u001b[0mdebugger\u001b[0m\u001b[0;34m.\u001b[0m\u001b[0mtracing\u001b[0m\u001b[0;34m.\u001b[0m\u001b[0mauto_instrumentation\u001b[0m \u001b[0;32mimport\u001b[0m\u001b[0;31m \u001b[0m\u001b[0;31m\\\u001b[0m\u001b[0;34m\u001b[0m\u001b[0;34m\u001b[0m\u001b[0m\n\u001b[0m\u001b[1;32m      6\u001b[0m     \u001b[0mLlamaIndexCallbackHandler\u001b[0m\u001b[0;34m\u001b[0m\u001b[0;34m\u001b[0m\u001b[0m\n\u001b[1;32m      7\u001b[0m \u001b[0;32mimport\u001b[0m \u001b[0mtextwrap\u001b[0m\u001b[0;34m\u001b[0m\u001b[0;34m\u001b[0m\u001b[0m\n",
            "\u001b[0;31mModuleNotFoundError\u001b[0m: No module named 'lastmile_eval.rag.debugger.tracing.auto_instrumentation'",
            "",
            "\u001b[0;31m---------------------------------------------------------------------------\u001b[0;32m\nNOTE: If your import is failing due to a missing package, you can\nmanually install dependencies using either !pip or !apt.\n\nTo view examples of installing some common dependencies, click the\n\"Open Examples\" button below.\n\u001b[0;31m---------------------------------------------------------------------------\u001b[0m\n"
          ]
        }
      ],
      "source": [
        "from getpass import getpass\n",
        "\n",
        "import dotenv\n",
        "import llama_index.core\n",
        "from lastmile_eval.rag.debugger.tracing.auto_instrumentation import \\\n",
        "    LlamaIndexCallbackHandler\n",
        "import textwrap"
      ]
    },
    {
      "cell_type": "markdown",
      "metadata": {
        "id": "5g5AkKI5v_BW"
      },
      "source": [
        "Before we start this tutorial, we need the following tokens/keys:\n",
        "\n",
        "* LastMile AI API Token: Go to the [LastMile Settings page](https://lastmileai.dev/settings?page=tokens). You will need to first create a LastMile AI account.\n",
        "* OpenAI API Key: Go to [OpenAI API Keys page](https://platform.openai.com/account/api-keys) to create and access your OpenAI API Key.\n",
        "\n",
        "We're using Google Colab's Secret Manager to set our tokens in this notebook."
      ]
    },
    {
      "cell_type": "code",
      "execution_count": null,
      "metadata": {
        "id": "yWHxmB2NwD5a"
      },
      "outputs": [],
      "source": [
        "from google.colab import userdata\n",
        "\n",
        "os.environ['OPENAI_API_KEY'] =  userdata.get('OPENAI_API_KEY')\n",
        "os.environ['LASTMILE_API_TOKEN'] =  userdata.get('LASTMILE_API_TOKEN')"
      ]
    },
    {
      "cell_type": "markdown",
      "metadata": {
        "id": "fnUyfuInuoZZ"
      },
      "source": [
        "<a name=\"step2\"></a>\n",
        "\n",
        "## Step 2: Configure the LastMile Instrumentor\n",
        "\n",
        "Next, we need to configure the LastMile Instrumentor by setting the global handler for LlamaIndex."
      ]
    },
    {
      "cell_type": "code",
      "execution_count": null,
      "metadata": {
        "id": "LgVwMgCPuoZZ"
      },
      "outputs": [],
      "source": [
        "import llama_index.core\n",
        "from lastmile_eval.rag.debugger.tracing.auto_instrumentation import LlamaIndexCallbackHandler\n",
        "\n",
        "\n",
        "llama_index.core.global_handler = LlamaIndexCallbackHandler(\n",
        "    project_name=\"LlamaIndex Paul Graham QA\",\n",
        ")"
      ]
    },
    {
      "cell_type": "markdown",
      "metadata": {
        "id": "7RbeQj7fuoZZ"
      },
      "source": [
        "<a name=\"step3\"></a>\n",
        "\n",
        "# Step 3: Load and Process Documents\n"
      ]
    },
    {
      "cell_type": "code",
      "execution_count": null,
      "metadata": {
        "id": "4xMpbA53uoZa"
      },
      "outputs": [],
      "source": [
        "from llama_index.core import VectorStoreIndex\n",
        "from llama_index.core.node_parser import SentenceSplitter\n",
        "from llama_index.readers.web import SimpleWebPageReader\n",
        "\n",
        "documents = SimpleWebPageReader().load_data(\n",
        "    [\n",
        "        \"https://raw.githubusercontent.com/run-llama/llama_index/main/docs/docs/examples/data/paul_graham/paul_graham_essay.txt\"\n",
        "    ]\n",
        ")\n",
        "\n",
        "parser = SentenceSplitter()\n",
        "nodes = parser.get_nodes_from_documents(documents)"
      ]
    },
    {
      "cell_type": "markdown",
      "metadata": {
        "id": "djIkqfvzuoZa"
      },
      "source": [
        "<a name=\"step4\"></a>\n",
        "\n",
        "# Step 4: Create an Index and Query Engine"
      ]
    },
    {
      "cell_type": "code",
      "execution_count": null,
      "metadata": {
        "id": "b6rq4hy4uoZa"
      },
      "outputs": [],
      "source": [
        "from llama_index.embeddings.openai.base import OpenAIEmbedding\n",
        "\n",
        "index = VectorStoreIndex.from_documents(documents)\n",
        "query_engine = index.as_query_engine()\n"
      ]
    },
    {
      "cell_type": "markdown",
      "metadata": {
        "id": "tnxfNvGJuoZa"
      },
      "source": [
        "<a name=\"step5\"></a>\n",
        "\n",
        "# Step 5: Query the Index"
      ]
    },
    {
      "cell_type": "code",
      "execution_count": null,
      "metadata": {
        "id": "P9cbuwX6uoZa"
      },
      "outputs": [],
      "source": [
        "max_characters_per_line = 80\n",
        "queries = [\n",
        "    \"What did Paul Graham do growing up?\",\n",
        "    \"When and how did Paul Graham's mother die?\",\n",
        "    \"What, in Paul Graham's opinion, is the most distinctive thing about YC?\",\n",
        "    \"When and how did Paul Graham meet Jessica Livingston?\",\n",
        "    \"What is Bel, and when and where was it written?\",\n",
        "]\n",
        "for query in queries:\n",
        "    response = query_engine.query(query)\n",
        "    print(\"Query\")\n",
        "    print(\"=====\")\n",
        "    print(textwrap.fill(query, max_characters_per_line))\n",
        "    print()\n",
        "    print(\"Response\")\n",
        "    print(\"========\")\n",
        "    print(textwrap.fill(str(response), max_characters_per_line))\n",
        "    print()"
      ]
    },
    {
      "cell_type": "markdown",
      "metadata": {
        "id": "bIK5QD9pwcit"
      },
      "source": [
        "<a name=\"step6\"></a>\n",
        "\n",
        "# Step 6: View Trace Data in RAG Debugger\n",
        "Now we can view the trace data of our LlamaIndex application in a UI!\n",
        "#### From your terminal:\n",
        "\n",
        "Export your LASTMILE_API_TOKEN\n",
        "\n",
        "```bash\n",
        "export LASTMILE_API_TOKEN=\"<your-api-token>\"\n",
        "```\n",
        "\n",
        "Run this CLI command to access the UI\n",
        "\n",
        "```bash\n",
        "rag-debug launch\n",
        "```\n",
        "Navigate to the 'Traces' Page where you see all the Traces listed under this Project.\n",
        "\n",
        "<img width=\"973\" alt=\"Screen Shot 2024-05-28 at 1 28 58 AM\" src=\"https://github.com/lastmile-ai/aiconfig/assets/81494782/35393b82-4d1e-4346-afc3-e4f6d99cd765/\">\n",
        "\n",
        "Let's click into the Trace.\n",
        "\n",
        "<img width=\"973\" alt=\"Screen Shot 2024-05-28 at 1 30 29 AM\" src=\"https://github.com/lastmile-ai/aiconfig/assets/81494782/d25b9b96-2e30-4dfe-8245-076ae860c50c\"/>\n",
        "\n",
        "Here we can see all the spans auto-generated for us. This can help us debug and pinpoint issues in our application, especially if we add additional logging on top of the auto-instrumentor."
      ]
    },
    {
      "cell_type": "code",
      "execution_count": null,
      "metadata": {
        "id": "M3cCDOA6wk1k"
      },
      "outputs": [],
      "source": []
    }
  ],
  "metadata": {
    "colab": {
      "provenance": []
    },
    "kernelspec": {
      "display_name": "Python 3",
      "language": "python",
      "name": "python3"
    },
    "language_info": {
      "codemirror_mode": {
        "name": "ipython",
        "version": 3
      },
      "file_extension": ".py",
      "mimetype": "text/x-python",
      "name": "python",
      "nbconvert_exporter": "python",
      "pygments_lexer": "ipython3",
      "version": "3.11.9"
    }
  },
  "nbformat": 4,
  "nbformat_minor": 0
}
