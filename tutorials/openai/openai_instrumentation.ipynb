{
    "cells": [
        {
            "attachments": {},
            "cell_type": "markdown",
            "id": "3e67f200",
            "metadata": {},
            "source": [
                "# How to call functions with chat models - Traced With LastMile\n",
                "\n",
                "\n",
                "This Notebook demonstrates how to use the LastMile OpenAI wrapper, a powerful tool that captures, logs, and traces your interactions with the OpenAI API, making it easier to debug and analyze your code.\n",
                "It also covers how to use the Chat Completions API in combination with external functions to extend the capabilities of GPT models.\n",
                "\n",
                "The LastMile OpenAI wrapper is designed to seamlessly integrate with your existing OpenAI code, allowing you to trace and monitor API calls without requiring significant changes to your implementation. By using this wrapper, you can gain valuable insights into how your application interacts with the OpenAI API, helping you identify potential issues and optimize your code.\n",
                "\n",
                "`tools` is an optional parameter in the Chat Completion API which can be used to provide function specifications. The purpose of this is to enable models to generate function arguments which adhere to the provided specifications. Note that the API will not actually execute any function calls. It is up to developers to execute function calls using model outputs.\n",
                "\n",
                "Within the `tools` parameter, if the `functions` parameter is provided then by default the model will decide when it is appropriate to use one of the functions. The API can be forced to use a specific function by setting the `tool_choice` parameter to `{\"type\": \"function\", \"function\": {\"name\": \"my_function\"}}`. The API can also be forced to not use any function by setting the `tool_choice` parameter to `\"none\"`. If a function is used, the output will contain `\"finish_reason\": \"tool_calls\"` in the response, as well as a `tool_calls` object that has the name of the function and the generated function arguments.\n",
                "\n",
                "### Overview\n",
                "\n",
                "This notebook contains the following 2 sections:\n",
                "\n",
                "- **How to generate function arguments:** Specify a set of functions and use the API to generate function arguments.\n",
                "- **How to call functions with model generated arguments:** Close the loop by actually executing functions with model generated arguments."
            ]
        },
        {
            "attachments": {},
            "cell_type": "markdown",
            "id": "64c85e26",
            "metadata": {},
            "source": [
                "## How to generate function arguments"
            ]
        },
        {
            "cell_type": "code",
            "execution_count": 27,
            "id": "80e71f33",
            "metadata": {
                "pycharm": {
                    "is_executing": true
                }
            },
            "outputs": [
                {
                    "name": "stdout",
                    "output_type": "stream",
                    "text": [
                        "Requirement already satisfied: tracing-auto-instrumentation in /opt/homebrew/Caskroom/miniconda/base/envs/tai1/lib/python3.10/site-packages (0.0.1)\n",
                        "Requirement already satisfied: lastmile-eval in /opt/homebrew/Caskroom/miniconda/base/envs/tai1/lib/python3.10/site-packages (from tracing-auto-instrumentation) (0.0.44)\n",
                        "Requirement already satisfied: dataclasses in /opt/homebrew/Caskroom/miniconda/base/envs/tai1/lib/python3.10/site-packages (from lastmile-eval->tracing-auto-instrumentation) (0.6)\n",
                        "Requirement already satisfied: requests in /opt/homebrew/Caskroom/miniconda/base/envs/tai1/lib/python3.10/site-packages (from lastmile-eval->tracing-auto-instrumentation) (2.32.2)\n",
                        "Requirement already satisfied: python-dotenv in /opt/homebrew/Caskroom/miniconda/base/envs/tai1/lib/python3.10/site-packages (from lastmile-eval->tracing-auto-instrumentation) (1.0.0)\n",
                        "Requirement already satisfied: rouge-score in /opt/homebrew/Caskroom/miniconda/base/envs/tai1/lib/python3.10/site-packages (from lastmile-eval->tracing-auto-instrumentation) (0.1.2)\n",
                        "Requirement already satisfied: nltk in /opt/homebrew/Caskroom/miniconda/base/envs/tai1/lib/python3.10/site-packages (from lastmile-eval->tracing-auto-instrumentation) (3.8.1)\n",
                        "Requirement already satisfied: openai>=1.0.0 in /opt/homebrew/Caskroom/miniconda/base/envs/tai1/lib/python3.10/site-packages (from lastmile-eval->tracing-auto-instrumentation) (1.30.1)\n",
                        "Requirement already satisfied: python-aiconfig in /opt/homebrew/Caskroom/miniconda/base/envs/tai1/lib/python3.10/site-packages (from lastmile-eval->tracing-auto-instrumentation) (1.1.34)\n",
                        "Requirement already satisfied: pydantic>=2.1 in /opt/homebrew/Caskroom/miniconda/base/envs/tai1/lib/python3.10/site-packages (from lastmile-eval->tracing-auto-instrumentation) (2.7.1)\n",
                        "Requirement already satisfied: anthropic in /opt/homebrew/Caskroom/miniconda/base/envs/tai1/lib/python3.10/site-packages (from lastmile-eval->tracing-auto-instrumentation) (0.26.1)\n",
                        "Requirement already satisfied: evaluate==0.4.1 in /opt/homebrew/Caskroom/miniconda/base/envs/tai1/lib/python3.10/site-packages (from lastmile-eval->tracing-auto-instrumentation) (0.4.1)\n",
                        "Requirement already satisfied: arize-phoenix-evals==0.5.0 in /opt/homebrew/Caskroom/miniconda/base/envs/tai1/lib/python3.10/site-packages (from lastmile-eval->tracing-auto-instrumentation) (0.5.0)\n",
                        "Requirement already satisfied: pandas==2.1.2 in /opt/homebrew/Caskroom/miniconda/base/envs/tai1/lib/python3.10/site-packages (from lastmile-eval->tracing-auto-instrumentation) (2.1.2)\n",
                        "Requirement already satisfied: instructor in /opt/homebrew/Caskroom/miniconda/base/envs/tai1/lib/python3.10/site-packages (from lastmile-eval->tracing-auto-instrumentation) (1.2.6)\n",
                        "Requirement already satisfied: opentelemetry-api in /opt/homebrew/Caskroom/miniconda/base/envs/tai1/lib/python3.10/site-packages (from lastmile-eval->tracing-auto-instrumentation) (1.24.0)\n",
                        "Requirement already satisfied: opentelemetry-sdk in /opt/homebrew/Caskroom/miniconda/base/envs/tai1/lib/python3.10/site-packages (from lastmile-eval->tracing-auto-instrumentation) (1.24.0)\n",
                        "Requirement already satisfied: opentelemetry-exporter-otlp in /opt/homebrew/Caskroom/miniconda/base/envs/tai1/lib/python3.10/site-packages (from lastmile-eval->tracing-auto-instrumentation) (1.24.0)\n",
                        "Requirement already satisfied: opentelemetry-semantic-conventions in /opt/homebrew/Caskroom/miniconda/base/envs/tai1/lib/python3.10/site-packages (from lastmile-eval->tracing-auto-instrumentation) (0.45b0)\n",
                        "Requirement already satisfied: openinference-semantic-conventions in /opt/homebrew/Caskroom/miniconda/base/envs/tai1/lib/python3.10/site-packages (from lastmile-eval->tracing-auto-instrumentation) (0.1.6)\n",
                        "Requirement already satisfied: fastapi==0.110.1 in /opt/homebrew/Caskroom/miniconda/base/envs/tai1/lib/python3.10/site-packages (from lastmile-eval->tracing-auto-instrumentation) (0.110.1)\n",
                        "Requirement already satisfied: jinja2 in /opt/homebrew/Caskroom/miniconda/base/envs/tai1/lib/python3.10/site-packages (from lastmile-eval->tracing-auto-instrumentation) (3.1.4)\n",
                        "Requirement already satisfied: uvicorn in /opt/homebrew/Caskroom/miniconda/base/envs/tai1/lib/python3.10/site-packages (from lastmile-eval->tracing-auto-instrumentation) (0.29.0)\n",
                        "Requirement already satisfied: result in /opt/homebrew/Caskroom/miniconda/base/envs/tai1/lib/python3.10/site-packages (from lastmile-eval->tracing-auto-instrumentation) (0.16.0)\n",
                        "Requirement already satisfied: lastmile-utils in /opt/homebrew/Caskroom/miniconda/base/envs/tai1/lib/python3.10/site-packages (from lastmile-eval->tracing-auto-instrumentation) (0.0.24)\n",
                        "Requirement already satisfied: email-validator==2.1.1 in /opt/homebrew/Caskroom/miniconda/base/envs/tai1/lib/python3.10/site-packages (from lastmile-eval->tracing-auto-instrumentation) (2.1.1)\n",
                        "Requirement already satisfied: llama-index in /opt/homebrew/Caskroom/miniconda/base/envs/tai1/lib/python3.10/site-packages (from lastmile-eval->tracing-auto-instrumentation) (0.10.37)\n",
                        "Requirement already satisfied: llama-index-embeddings-openai in /opt/homebrew/Caskroom/miniconda/base/envs/tai1/lib/python3.10/site-packages (from lastmile-eval->tracing-auto-instrumentation) (0.1.10)\n",
                        "Requirement already satisfied: llama-index-readers-web in /opt/homebrew/Caskroom/miniconda/base/envs/tai1/lib/python3.10/site-packages (from lastmile-eval->tracing-auto-instrumentation) (0.1.16)\n",
                        "Requirement already satisfied: llama-index-callbacks-openinference in /opt/homebrew/Caskroom/miniconda/base/envs/tai1/lib/python3.10/site-packages (from lastmile-eval->tracing-auto-instrumentation) (0.1.4)\n",
                        "Requirement already satisfied: html2text in /opt/homebrew/Caskroom/miniconda/base/envs/tai1/lib/python3.10/site-packages (from lastmile-eval->tracing-auto-instrumentation) (2020.1.16)\n",
                        "Requirement already satisfied: pyarrow in /opt/homebrew/Caskroom/miniconda/base/envs/tai1/lib/python3.10/site-packages (from lastmile-eval->tracing-auto-instrumentation) (16.1.0)\n",
                        "Requirement already satisfied: tqdm in /opt/homebrew/Caskroom/miniconda/base/envs/tai1/lib/python3.10/site-packages (from lastmile-eval->tracing-auto-instrumentation) (4.66.4)\n",
                        "Requirement already satisfied: openinference-instrumentation-llama-index in /opt/homebrew/Caskroom/miniconda/base/envs/tai1/lib/python3.10/site-packages (from lastmile-eval->tracing-auto-instrumentation) (1.4.1)\n",
                        "Requirement already satisfied: openinference-instrumentation-langchain in /opt/homebrew/Caskroom/miniconda/base/envs/tai1/lib/python3.10/site-packages (from lastmile-eval->tracing-auto-instrumentation) (0.1.16)\n",
                        "Requirement already satisfied: langchain in /opt/homebrew/Caskroom/miniconda/base/envs/tai1/lib/python3.10/site-packages (from lastmile-eval->tracing-auto-instrumentation) (0.2.0)\n",
                        "Requirement already satisfied: langchain-core in /opt/homebrew/Caskroom/miniconda/base/envs/tai1/lib/python3.10/site-packages (from lastmile-eval->tracing-auto-instrumentation) (0.2.1)\n",
                        "Requirement already satisfied: langchain-openai in /opt/homebrew/Caskroom/miniconda/base/envs/tai1/lib/python3.10/site-packages (from lastmile-eval->tracing-auto-instrumentation) (0.1.7)\n",
                        "Requirement already satisfied: typing-extensions<5,>=4.5 in /opt/homebrew/Caskroom/miniconda/base/envs/tai1/lib/python3.10/site-packages (from arize-phoenix-evals==0.5.0->lastmile-eval->tracing-auto-instrumentation) (4.11.0)\n",
                        "Requirement already satisfied: dnspython>=2.0.0 in /opt/homebrew/Caskroom/miniconda/base/envs/tai1/lib/python3.10/site-packages (from email-validator==2.1.1->lastmile-eval->tracing-auto-instrumentation) (2.6.1)\n",
                        "Requirement already satisfied: idna>=2.0.0 in /opt/homebrew/Caskroom/miniconda/base/envs/tai1/lib/python3.10/site-packages (from email-validator==2.1.1->lastmile-eval->tracing-auto-instrumentation) (3.7)\n",
                        "Requirement already satisfied: datasets>=2.0.0 in /opt/homebrew/Caskroom/miniconda/base/envs/tai1/lib/python3.10/site-packages (from evaluate==0.4.1->lastmile-eval->tracing-auto-instrumentation) (2.19.1)\n",
                        "Requirement already satisfied: numpy>=1.17 in /opt/homebrew/Caskroom/miniconda/base/envs/tai1/lib/python3.10/site-packages (from evaluate==0.4.1->lastmile-eval->tracing-auto-instrumentation) (1.26.4)\n",
                        "Requirement already satisfied: dill in /opt/homebrew/Caskroom/miniconda/base/envs/tai1/lib/python3.10/site-packages (from evaluate==0.4.1->lastmile-eval->tracing-auto-instrumentation) (0.3.8)\n",
                        "Requirement already satisfied: xxhash in /opt/homebrew/Caskroom/miniconda/base/envs/tai1/lib/python3.10/site-packages (from evaluate==0.4.1->lastmile-eval->tracing-auto-instrumentation) (3.4.1)\n",
                        "Requirement already satisfied: multiprocess in /opt/homebrew/Caskroom/miniconda/base/envs/tai1/lib/python3.10/site-packages (from evaluate==0.4.1->lastmile-eval->tracing-auto-instrumentation) (0.70.16)\n",
                        "Requirement already satisfied: fsspec>=2021.05.0 in /opt/homebrew/Caskroom/miniconda/base/envs/tai1/lib/python3.10/site-packages (from fsspec[http]>=2021.05.0->evaluate==0.4.1->lastmile-eval->tracing-auto-instrumentation) (2024.3.1)\n",
                        "Requirement already satisfied: huggingface-hub>=0.7.0 in /opt/homebrew/Caskroom/miniconda/base/envs/tai1/lib/python3.10/site-packages (from evaluate==0.4.1->lastmile-eval->tracing-auto-instrumentation) (0.21.4)\n",
                        "Requirement already satisfied: packaging in /opt/homebrew/Caskroom/miniconda/base/envs/tai1/lib/python3.10/site-packages (from evaluate==0.4.1->lastmile-eval->tracing-auto-instrumentation) (23.2)\n",
                        "Requirement already satisfied: responses<0.19 in /opt/homebrew/Caskroom/miniconda/base/envs/tai1/lib/python3.10/site-packages (from evaluate==0.4.1->lastmile-eval->tracing-auto-instrumentation) (0.18.0)\n",
                        "Requirement already satisfied: starlette<0.38.0,>=0.37.2 in /opt/homebrew/Caskroom/miniconda/base/envs/tai1/lib/python3.10/site-packages (from fastapi==0.110.1->lastmile-eval->tracing-auto-instrumentation) (0.37.2)\n",
                        "Requirement already satisfied: python-dateutil>=2.8.2 in /opt/homebrew/Caskroom/miniconda/base/envs/tai1/lib/python3.10/site-packages (from pandas==2.1.2->lastmile-eval->tracing-auto-instrumentation) (2.8.2)\n",
                        "Requirement already satisfied: pytz>=2020.1 in /opt/homebrew/Caskroom/miniconda/base/envs/tai1/lib/python3.10/site-packages (from pandas==2.1.2->lastmile-eval->tracing-auto-instrumentation) (2024.1)\n",
                        "Requirement already satisfied: tzdata>=2022.1 in /opt/homebrew/Caskroom/miniconda/base/envs/tai1/lib/python3.10/site-packages (from pandas==2.1.2->lastmile-eval->tracing-auto-instrumentation) (2024.1)\n",
                        "Requirement already satisfied: anyio<5,>=3.5.0 in /opt/homebrew/Caskroom/miniconda/base/envs/tai1/lib/python3.10/site-packages (from openai>=1.0.0->lastmile-eval->tracing-auto-instrumentation) (4.3.0)\n",
                        "Requirement already satisfied: distro<2,>=1.7.0 in /opt/homebrew/Caskroom/miniconda/base/envs/tai1/lib/python3.10/site-packages (from openai>=1.0.0->lastmile-eval->tracing-auto-instrumentation) (1.9.0)\n",
                        "Requirement already satisfied: httpx<1,>=0.23.0 in /opt/homebrew/Caskroom/miniconda/base/envs/tai1/lib/python3.10/site-packages (from openai>=1.0.0->lastmile-eval->tracing-auto-instrumentation) (0.27.0)\n",
                        "Requirement already satisfied: sniffio in /opt/homebrew/Caskroom/miniconda/base/envs/tai1/lib/python3.10/site-packages (from openai>=1.0.0->lastmile-eval->tracing-auto-instrumentation) (1.3.1)\n",
                        "Requirement already satisfied: annotated-types>=0.4.0 in /opt/homebrew/Caskroom/miniconda/base/envs/tai1/lib/python3.10/site-packages (from pydantic>=2.1->lastmile-eval->tracing-auto-instrumentation) (0.7.0)\n",
                        "Requirement already satisfied: pydantic-core==2.18.2 in /opt/homebrew/Caskroom/miniconda/base/envs/tai1/lib/python3.10/site-packages (from pydantic>=2.1->lastmile-eval->tracing-auto-instrumentation) (2.18.2)\n",
                        "Requirement already satisfied: charset-normalizer<4,>=2 in /opt/homebrew/Caskroom/miniconda/base/envs/tai1/lib/python3.10/site-packages (from requests->lastmile-eval->tracing-auto-instrumentation) (3.3.2)\n",
                        "Requirement already satisfied: urllib3<3,>=1.21.1 in /opt/homebrew/Caskroom/miniconda/base/envs/tai1/lib/python3.10/site-packages (from requests->lastmile-eval->tracing-auto-instrumentation) (2.2.1)\n",
                        "Requirement already satisfied: certifi>=2017.4.17 in /opt/homebrew/Caskroom/miniconda/base/envs/tai1/lib/python3.10/site-packages (from requests->lastmile-eval->tracing-auto-instrumentation) (2024.2.2)\n",
                        "Requirement already satisfied: jiter<1,>=0.1.0 in /opt/homebrew/Caskroom/miniconda/base/envs/tai1/lib/python3.10/site-packages (from anthropic->lastmile-eval->tracing-auto-instrumentation) (0.1.0)\n",
                        "Requirement already satisfied: tokenizers>=0.13.0 in /opt/homebrew/Caskroom/miniconda/base/envs/tai1/lib/python3.10/site-packages (from anthropic->lastmile-eval->tracing-auto-instrumentation) (0.19.1)\n",
                        "Requirement already satisfied: aiohttp<4.0.0,>=3.9.1 in /opt/homebrew/Caskroom/miniconda/base/envs/tai1/lib/python3.10/site-packages (from instructor->lastmile-eval->tracing-auto-instrumentation) (3.9.5)\n",
                        "Requirement already satisfied: docstring-parser<0.17,>=0.16 in /opt/homebrew/Caskroom/miniconda/base/envs/tai1/lib/python3.10/site-packages (from instructor->lastmile-eval->tracing-auto-instrumentation) (0.16)\n",
                        "Requirement already satisfied: rich<14.0.0,>=13.7.0 in /opt/homebrew/Caskroom/miniconda/base/envs/tai1/lib/python3.10/site-packages (from instructor->lastmile-eval->tracing-auto-instrumentation) (13.7.1)\n",
                        "Requirement already satisfied: tenacity<9.0.0,>=8.2.3 in /opt/homebrew/Caskroom/miniconda/base/envs/tai1/lib/python3.10/site-packages (from instructor->lastmile-eval->tracing-auto-instrumentation) (8.3.0)\n",
                        "Requirement already satisfied: typer<1.0.0,>=0.9.0 in /opt/homebrew/Caskroom/miniconda/base/envs/tai1/lib/python3.10/site-packages (from instructor->lastmile-eval->tracing-auto-instrumentation) (0.9.4)\n",
                        "Requirement already satisfied: MarkupSafe>=2.0 in /opt/homebrew/Caskroom/miniconda/base/envs/tai1/lib/python3.10/site-packages (from jinja2->lastmile-eval->tracing-auto-instrumentation) (2.1.5)\n",
                        "Requirement already satisfied: PyYAML>=5.3 in /opt/homebrew/Caskroom/miniconda/base/envs/tai1/lib/python3.10/site-packages (from langchain->lastmile-eval->tracing-auto-instrumentation) (6.0.1)\n",
                        "Requirement already satisfied: SQLAlchemy<3,>=1.4 in /opt/homebrew/Caskroom/miniconda/base/envs/tai1/lib/python3.10/site-packages (from langchain->lastmile-eval->tracing-auto-instrumentation) (2.0.30)\n",
                        "Requirement already satisfied: async-timeout<5.0.0,>=4.0.0 in /opt/homebrew/Caskroom/miniconda/base/envs/tai1/lib/python3.10/site-packages (from langchain->lastmile-eval->tracing-auto-instrumentation) (4.0.3)\n",
                        "Requirement already satisfied: dataclasses-json<0.7,>=0.5.7 in /opt/homebrew/Caskroom/miniconda/base/envs/tai1/lib/python3.10/site-packages (from langchain->lastmile-eval->tracing-auto-instrumentation) (0.6.6)\n",
                        "Requirement already satisfied: langchain-text-splitters<0.3.0,>=0.2.0 in /opt/homebrew/Caskroom/miniconda/base/envs/tai1/lib/python3.10/site-packages (from langchain->lastmile-eval->tracing-auto-instrumentation) (0.2.0)\n",
                        "Requirement already satisfied: langsmith<0.2.0,>=0.1.17 in /opt/homebrew/Caskroom/miniconda/base/envs/tai1/lib/python3.10/site-packages (from langchain->lastmile-eval->tracing-auto-instrumentation) (0.1.60)\n",
                        "Requirement already satisfied: jsonpatch<2.0,>=1.33 in /opt/homebrew/Caskroom/miniconda/base/envs/tai1/lib/python3.10/site-packages (from langchain-core->lastmile-eval->tracing-auto-instrumentation) (1.33)\n",
                        "Requirement already satisfied: tiktoken<1,>=0.7 in /opt/homebrew/Caskroom/miniconda/base/envs/tai1/lib/python3.10/site-packages (from langchain-openai->lastmile-eval->tracing-auto-instrumentation) (0.7.0)\n",
                        "Requirement already satisfied: black==23.11.0 in /opt/homebrew/Caskroom/miniconda/base/envs/tai1/lib/python3.10/site-packages (from lastmile-utils->lastmile-eval->tracing-auto-instrumentation) (23.11.0)\n",
                        "Requirement already satisfied: chardet==5.2.0 in /opt/homebrew/Caskroom/miniconda/base/envs/tai1/lib/python3.10/site-packages (from lastmile-utils->lastmile-eval->tracing-auto-instrumentation) (5.2.0)\n",
                        "Requirement already satisfied: flake8==6.1.0 in /opt/homebrew/Caskroom/miniconda/base/envs/tai1/lib/python3.10/site-packages (from lastmile-utils->lastmile-eval->tracing-auto-instrumentation) (6.1.0)\n",
                        "Requirement already satisfied: isort==5.12.0 in /opt/homebrew/Caskroom/miniconda/base/envs/tai1/lib/python3.10/site-packages (from lastmile-utils->lastmile-eval->tracing-auto-instrumentation) (5.12.0)\n",
                        "Requirement already satisfied: pylint==3.0.2 in /opt/homebrew/Caskroom/miniconda/base/envs/tai1/lib/python3.10/site-packages (from lastmile-utils->lastmile-eval->tracing-auto-instrumentation) (3.0.2)\n",
                        "Requirement already satisfied: pyright==1.1.335 in /opt/homebrew/Caskroom/miniconda/base/envs/tai1/lib/python3.10/site-packages (from lastmile-utils->lastmile-eval->tracing-auto-instrumentation) (1.1.335)\n",
                        "Requirement already satisfied: pytest==7.4.3 in /opt/homebrew/Caskroom/miniconda/base/envs/tai1/lib/python3.10/site-packages (from lastmile-utils->lastmile-eval->tracing-auto-instrumentation) (7.4.3)\n",
                        "Requirement already satisfied: autoflake==2.2.1 in /opt/homebrew/Caskroom/miniconda/base/envs/tai1/lib/python3.10/site-packages (from lastmile-utils->lastmile-eval->tracing-auto-instrumentation) (2.2.1)\n",
                        "Requirement already satisfied: pyflakes>=3.0.0 in /opt/homebrew/Caskroom/miniconda/base/envs/tai1/lib/python3.10/site-packages (from autoflake==2.2.1->lastmile-utils->lastmile-eval->tracing-auto-instrumentation) (3.1.0)\n",
                        "Requirement already satisfied: tomli>=2.0.1 in /opt/homebrew/Caskroom/miniconda/base/envs/tai1/lib/python3.10/site-packages (from autoflake==2.2.1->lastmile-utils->lastmile-eval->tracing-auto-instrumentation) (2.0.1)\n",
                        "Requirement already satisfied: click>=8.0.0 in /opt/homebrew/Caskroom/miniconda/base/envs/tai1/lib/python3.10/site-packages (from black==23.11.0->lastmile-utils->lastmile-eval->tracing-auto-instrumentation) (8.1.7)\n",
                        "Requirement already satisfied: mypy-extensions>=0.4.3 in /opt/homebrew/Caskroom/miniconda/base/envs/tai1/lib/python3.10/site-packages (from black==23.11.0->lastmile-utils->lastmile-eval->tracing-auto-instrumentation) (1.0.0)\n",
                        "Requirement already satisfied: pathspec>=0.9.0 in /opt/homebrew/Caskroom/miniconda/base/envs/tai1/lib/python3.10/site-packages (from black==23.11.0->lastmile-utils->lastmile-eval->tracing-auto-instrumentation) (0.12.1)\n",
                        "Requirement already satisfied: platformdirs>=2 in /opt/homebrew/Caskroom/miniconda/base/envs/tai1/lib/python3.10/site-packages (from black==23.11.0->lastmile-utils->lastmile-eval->tracing-auto-instrumentation) (3.10.0)\n",
                        "Requirement already satisfied: mccabe<0.8.0,>=0.7.0 in /opt/homebrew/Caskroom/miniconda/base/envs/tai1/lib/python3.10/site-packages (from flake8==6.1.0->lastmile-utils->lastmile-eval->tracing-auto-instrumentation) (0.7.0)\n",
                        "Requirement already satisfied: pycodestyle<2.12.0,>=2.11.0 in /opt/homebrew/Caskroom/miniconda/base/envs/tai1/lib/python3.10/site-packages (from flake8==6.1.0->lastmile-utils->lastmile-eval->tracing-auto-instrumentation) (2.11.1)\n",
                        "Requirement already satisfied: astroid<=3.1.0-dev0,>=3.0.1 in /opt/homebrew/Caskroom/miniconda/base/envs/tai1/lib/python3.10/site-packages (from pylint==3.0.2->lastmile-utils->lastmile-eval->tracing-auto-instrumentation) (3.0.3)\n",
                        "Requirement already satisfied: tomlkit>=0.10.1 in /opt/homebrew/Caskroom/miniconda/base/envs/tai1/lib/python3.10/site-packages (from pylint==3.0.2->lastmile-utils->lastmile-eval->tracing-auto-instrumentation) (0.12.5)\n",
                        "Requirement already satisfied: nodeenv>=1.6.0 in /opt/homebrew/Caskroom/miniconda/base/envs/tai1/lib/python3.10/site-packages (from pyright==1.1.335->lastmile-utils->lastmile-eval->tracing-auto-instrumentation) (1.8.0)\n",
                        "Requirement already satisfied: iniconfig in /opt/homebrew/Caskroom/miniconda/base/envs/tai1/lib/python3.10/site-packages (from pytest==7.4.3->lastmile-utils->lastmile-eval->tracing-auto-instrumentation) (2.0.0)\n",
                        "Requirement already satisfied: pluggy<2.0,>=0.12 in /opt/homebrew/Caskroom/miniconda/base/envs/tai1/lib/python3.10/site-packages (from pytest==7.4.3->lastmile-utils->lastmile-eval->tracing-auto-instrumentation) (1.5.0)\n",
                        "Requirement already satisfied: exceptiongroup>=1.0.0rc8 in /opt/homebrew/Caskroom/miniconda/base/envs/tai1/lib/python3.10/site-packages (from pytest==7.4.3->lastmile-utils->lastmile-eval->tracing-auto-instrumentation) (1.2.0)\n",
                        "Requirement already satisfied: llama-index-agent-openai<0.3.0,>=0.1.4 in /opt/homebrew/Caskroom/miniconda/base/envs/tai1/lib/python3.10/site-packages (from llama-index->lastmile-eval->tracing-auto-instrumentation) (0.2.5)\n",
                        "Requirement already satisfied: llama-index-cli<0.2.0,>=0.1.2 in /opt/homebrew/Caskroom/miniconda/base/envs/tai1/lib/python3.10/site-packages (from llama-index->lastmile-eval->tracing-auto-instrumentation) (0.1.12)\n",
                        "Requirement already satisfied: llama-index-core<0.11.0,>=0.10.35 in /opt/homebrew/Caskroom/miniconda/base/envs/tai1/lib/python3.10/site-packages (from llama-index->lastmile-eval->tracing-auto-instrumentation) (0.10.37.post1)\n",
                        "Requirement already satisfied: llama-index-indices-managed-llama-cloud<0.2.0,>=0.1.2 in /opt/homebrew/Caskroom/miniconda/base/envs/tai1/lib/python3.10/site-packages (from llama-index->lastmile-eval->tracing-auto-instrumentation) (0.1.6)\n",
                        "Requirement already satisfied: llama-index-legacy<0.10.0,>=0.9.48 in /opt/homebrew/Caskroom/miniconda/base/envs/tai1/lib/python3.10/site-packages (from llama-index->lastmile-eval->tracing-auto-instrumentation) (0.9.48)\n",
                        "Requirement already satisfied: llama-index-llms-openai<0.2.0,>=0.1.13 in /opt/homebrew/Caskroom/miniconda/base/envs/tai1/lib/python3.10/site-packages (from llama-index->lastmile-eval->tracing-auto-instrumentation) (0.1.20)\n",
                        "Requirement already satisfied: llama-index-multi-modal-llms-openai<0.2.0,>=0.1.3 in /opt/homebrew/Caskroom/miniconda/base/envs/tai1/lib/python3.10/site-packages (from llama-index->lastmile-eval->tracing-auto-instrumentation) (0.1.6)\n",
                        "Requirement already satisfied: llama-index-program-openai<0.2.0,>=0.1.3 in /opt/homebrew/Caskroom/miniconda/base/envs/tai1/lib/python3.10/site-packages (from llama-index->lastmile-eval->tracing-auto-instrumentation) (0.1.6)\n",
                        "Requirement already satisfied: llama-index-question-gen-openai<0.2.0,>=0.1.2 in /opt/homebrew/Caskroom/miniconda/base/envs/tai1/lib/python3.10/site-packages (from llama-index->lastmile-eval->tracing-auto-instrumentation) (0.1.3)\n",
                        "Requirement already satisfied: llama-index-readers-file<0.2.0,>=0.1.4 in /opt/homebrew/Caskroom/miniconda/base/envs/tai1/lib/python3.10/site-packages (from llama-index->lastmile-eval->tracing-auto-instrumentation) (0.1.22)\n",
                        "Requirement already satisfied: llama-index-readers-llama-parse<0.2.0,>=0.1.2 in /opt/homebrew/Caskroom/miniconda/base/envs/tai1/lib/python3.10/site-packages (from llama-index->lastmile-eval->tracing-auto-instrumentation) (0.1.4)\n",
                        "Requirement already satisfied: beautifulsoup4<5.0.0,>=4.12.3 in /opt/homebrew/Caskroom/miniconda/base/envs/tai1/lib/python3.10/site-packages (from llama-index-readers-web->lastmile-eval->tracing-auto-instrumentation) (4.12.3)\n",
                        "Requirement already satisfied: chromedriver-autoinstaller<0.7.0,>=0.6.3 in /opt/homebrew/Caskroom/miniconda/base/envs/tai1/lib/python3.10/site-packages (from llama-index-readers-web->lastmile-eval->tracing-auto-instrumentation) (0.6.4)\n",
                        "Requirement already satisfied: newspaper3k<0.3.0,>=0.2.8 in /opt/homebrew/Caskroom/miniconda/base/envs/tai1/lib/python3.10/site-packages (from llama-index-readers-web->lastmile-eval->tracing-auto-instrumentation) (0.2.8)\n",
                        "Requirement already satisfied: playwright<2.0,>=1.30 in /opt/homebrew/Caskroom/miniconda/base/envs/tai1/lib/python3.10/site-packages (from llama-index-readers-web->lastmile-eval->tracing-auto-instrumentation) (1.44.0)\n",
                        "Requirement already satisfied: selenium<5.0.0,>=4.17.2 in /opt/homebrew/Caskroom/miniconda/base/envs/tai1/lib/python3.10/site-packages (from llama-index-readers-web->lastmile-eval->tracing-auto-instrumentation) (4.21.0)\n",
                        "Requirement already satisfied: spider-client<0.0.12,>=0.0.11 in /opt/homebrew/Caskroom/miniconda/base/envs/tai1/lib/python3.10/site-packages (from llama-index-readers-web->lastmile-eval->tracing-auto-instrumentation) (0.0.11)\n",
                        "Requirement already satisfied: joblib in /opt/homebrew/Caskroom/miniconda/base/envs/tai1/lib/python3.10/site-packages (from nltk->lastmile-eval->tracing-auto-instrumentation) (1.4.2)\n",
                        "Requirement already satisfied: regex>=2021.8.3 in /opt/homebrew/Caskroom/miniconda/base/envs/tai1/lib/python3.10/site-packages (from nltk->lastmile-eval->tracing-auto-instrumentation) (2024.5.15)\n",
                        "Requirement already satisfied: openinference-instrumentation>=0.1.7 in /opt/homebrew/Caskroom/miniconda/base/envs/tai1/lib/python3.10/site-packages (from openinference-instrumentation-langchain->lastmile-eval->tracing-auto-instrumentation) (0.1.7)\n",
                        "Requirement already satisfied: opentelemetry-instrumentation in /opt/homebrew/Caskroom/miniconda/base/envs/tai1/lib/python3.10/site-packages (from openinference-instrumentation-langchain->lastmile-eval->tracing-auto-instrumentation) (0.45b0)\n",
                        "Requirement already satisfied: wrapt in /opt/homebrew/Caskroom/miniconda/base/envs/tai1/lib/python3.10/site-packages (from openinference-instrumentation-langchain->lastmile-eval->tracing-auto-instrumentation) (1.16.0)\n",
                        "Requirement already satisfied: deprecated>=1.2.6 in /opt/homebrew/Caskroom/miniconda/base/envs/tai1/lib/python3.10/site-packages (from opentelemetry-api->lastmile-eval->tracing-auto-instrumentation) (1.2.14)\n",
                        "Requirement already satisfied: importlib-metadata<=7.0,>=6.0 in /opt/homebrew/Caskroom/miniconda/base/envs/tai1/lib/python3.10/site-packages (from opentelemetry-api->lastmile-eval->tracing-auto-instrumentation) (7.0.0)\n",
                        "Requirement already satisfied: opentelemetry-exporter-otlp-proto-grpc==1.24.0 in /opt/homebrew/Caskroom/miniconda/base/envs/tai1/lib/python3.10/site-packages (from opentelemetry-exporter-otlp->lastmile-eval->tracing-auto-instrumentation) (1.24.0)\n",
                        "Requirement already satisfied: opentelemetry-exporter-otlp-proto-http==1.24.0 in /opt/homebrew/Caskroom/miniconda/base/envs/tai1/lib/python3.10/site-packages (from opentelemetry-exporter-otlp->lastmile-eval->tracing-auto-instrumentation) (1.24.0)\n",
                        "Requirement already satisfied: googleapis-common-protos~=1.52 in /opt/homebrew/Caskroom/miniconda/base/envs/tai1/lib/python3.10/site-packages (from opentelemetry-exporter-otlp-proto-grpc==1.24.0->opentelemetry-exporter-otlp->lastmile-eval->tracing-auto-instrumentation) (1.63.0)\n",
                        "Requirement already satisfied: grpcio<2.0.0,>=1.0.0 in /opt/homebrew/Caskroom/miniconda/base/envs/tai1/lib/python3.10/site-packages (from opentelemetry-exporter-otlp-proto-grpc==1.24.0->opentelemetry-exporter-otlp->lastmile-eval->tracing-auto-instrumentation) (1.64.0)\n",
                        "Requirement already satisfied: opentelemetry-exporter-otlp-proto-common==1.24.0 in /opt/homebrew/Caskroom/miniconda/base/envs/tai1/lib/python3.10/site-packages (from opentelemetry-exporter-otlp-proto-grpc==1.24.0->opentelemetry-exporter-otlp->lastmile-eval->tracing-auto-instrumentation) (1.24.0)\n",
                        "Requirement already satisfied: opentelemetry-proto==1.24.0 in /opt/homebrew/Caskroom/miniconda/base/envs/tai1/lib/python3.10/site-packages (from opentelemetry-exporter-otlp-proto-grpc==1.24.0->opentelemetry-exporter-otlp->lastmile-eval->tracing-auto-instrumentation) (1.24.0)\n",
                        "Requirement already satisfied: protobuf<5.0,>=3.19 in /opt/homebrew/Caskroom/miniconda/base/envs/tai1/lib/python3.10/site-packages (from opentelemetry-proto==1.24.0->opentelemetry-exporter-otlp-proto-grpc==1.24.0->opentelemetry-exporter-otlp->lastmile-eval->tracing-auto-instrumentation) (4.25.3)\n",
                        "Requirement already satisfied: anthropic-bedrock in /opt/homebrew/Caskroom/miniconda/base/envs/tai1/lib/python3.10/site-packages (from python-aiconfig->lastmile-eval->tracing-auto-instrumentation) (0.8.0)\n",
                        "Requirement already satisfied: flask-cors in /opt/homebrew/Caskroom/miniconda/base/envs/tai1/lib/python3.10/site-packages (from python-aiconfig->lastmile-eval->tracing-auto-instrumentation) (4.0.1)\n",
                        "Requirement already satisfied: flask[async] in /opt/homebrew/Caskroom/miniconda/base/envs/tai1/lib/python3.10/site-packages (from python-aiconfig->lastmile-eval->tracing-auto-instrumentation) (3.0.3)\n",
                        "Requirement already satisfied: frozendict in /opt/homebrew/Caskroom/miniconda/base/envs/tai1/lib/python3.10/site-packages (from python-aiconfig->lastmile-eval->tracing-auto-instrumentation) (2.4.4)\n",
                        "Requirement already satisfied: google-generativeai>=0.3.1 in /opt/homebrew/Caskroom/miniconda/base/envs/tai1/lib/python3.10/site-packages (from python-aiconfig->lastmile-eval->tracing-auto-instrumentation) (0.5.4)\n",
                        "Requirement already satisfied: hypothesis==6.91.0 in /opt/homebrew/Caskroom/miniconda/base/envs/tai1/lib/python3.10/site-packages (from python-aiconfig->lastmile-eval->tracing-auto-instrumentation) (6.91.0)\n",
                        "Requirement already satisfied: nest-asyncio in /opt/homebrew/Caskroom/miniconda/base/envs/tai1/lib/python3.10/site-packages (from python-aiconfig->lastmile-eval->tracing-auto-instrumentation) (1.6.0)\n",
                        "Requirement already satisfied: prompt-toolkit in /opt/homebrew/Caskroom/miniconda/base/envs/tai1/lib/python3.10/site-packages (from python-aiconfig->lastmile-eval->tracing-auto-instrumentation) (3.0.43)\n",
                        "Requirement already satisfied: pybars3 in /opt/homebrew/Caskroom/miniconda/base/envs/tai1/lib/python3.10/site-packages (from python-aiconfig->lastmile-eval->tracing-auto-instrumentation) (0.9.7)\n",
                        "Requirement already satisfied: ruamel.yaml in /opt/homebrew/Caskroom/miniconda/base/envs/tai1/lib/python3.10/site-packages (from python-aiconfig->lastmile-eval->tracing-auto-instrumentation) (0.18.6)\n",
                        "Requirement already satisfied: attrs>=19.2.0 in /opt/homebrew/Caskroom/miniconda/base/envs/tai1/lib/python3.10/site-packages (from hypothesis==6.91.0->python-aiconfig->lastmile-eval->tracing-auto-instrumentation) (23.2.0)\n",
                        "Requirement already satisfied: sortedcontainers<3.0.0,>=2.1.0 in /opt/homebrew/Caskroom/miniconda/base/envs/tai1/lib/python3.10/site-packages (from hypothesis==6.91.0->python-aiconfig->lastmile-eval->tracing-auto-instrumentation) (2.4.0)\n",
                        "Requirement already satisfied: absl-py in /opt/homebrew/Caskroom/miniconda/base/envs/tai1/lib/python3.10/site-packages (from rouge-score->lastmile-eval->tracing-auto-instrumentation) (2.1.0)\n",
                        "Requirement already satisfied: six>=1.14.0 in /opt/homebrew/Caskroom/miniconda/base/envs/tai1/lib/python3.10/site-packages (from rouge-score->lastmile-eval->tracing-auto-instrumentation) (1.16.0)\n",
                        "Requirement already satisfied: h11>=0.8 in /opt/homebrew/Caskroom/miniconda/base/envs/tai1/lib/python3.10/site-packages (from uvicorn->lastmile-eval->tracing-auto-instrumentation) (0.14.0)\n",
                        "Requirement already satisfied: aiosignal>=1.1.2 in /opt/homebrew/Caskroom/miniconda/base/envs/tai1/lib/python3.10/site-packages (from aiohttp<4.0.0,>=3.9.1->instructor->lastmile-eval->tracing-auto-instrumentation) (1.3.1)\n",
                        "Requirement already satisfied: frozenlist>=1.1.1 in /opt/homebrew/Caskroom/miniconda/base/envs/tai1/lib/python3.10/site-packages (from aiohttp<4.0.0,>=3.9.1->instructor->lastmile-eval->tracing-auto-instrumentation) (1.4.1)\n",
                        "Requirement already satisfied: multidict<7.0,>=4.5 in /opt/homebrew/Caskroom/miniconda/base/envs/tai1/lib/python3.10/site-packages (from aiohttp<4.0.0,>=3.9.1->instructor->lastmile-eval->tracing-auto-instrumentation) (6.0.5)\n",
                        "Requirement already satisfied: yarl<2.0,>=1.0 in /opt/homebrew/Caskroom/miniconda/base/envs/tai1/lib/python3.10/site-packages (from aiohttp<4.0.0,>=3.9.1->instructor->lastmile-eval->tracing-auto-instrumentation) (1.9.4)\n",
                        "Requirement already satisfied: soupsieve>1.2 in /opt/homebrew/Caskroom/miniconda/base/envs/tai1/lib/python3.10/site-packages (from beautifulsoup4<5.0.0,>=4.12.3->llama-index-readers-web->lastmile-eval->tracing-auto-instrumentation) (2.5)\n",
                        "Requirement already satisfied: marshmallow<4.0.0,>=3.18.0 in /opt/homebrew/Caskroom/miniconda/base/envs/tai1/lib/python3.10/site-packages (from dataclasses-json<0.7,>=0.5.7->langchain->lastmile-eval->tracing-auto-instrumentation) (3.21.2)\n",
                        "Requirement already satisfied: typing-inspect<1,>=0.4.0 in /opt/homebrew/Caskroom/miniconda/base/envs/tai1/lib/python3.10/site-packages (from dataclasses-json<0.7,>=0.5.7->langchain->lastmile-eval->tracing-auto-instrumentation) (0.9.0)\n",
                        "Requirement already satisfied: filelock in /opt/homebrew/Caskroom/miniconda/base/envs/tai1/lib/python3.10/site-packages (from datasets>=2.0.0->evaluate==0.4.1->lastmile-eval->tracing-auto-instrumentation) (3.14.0)\n",
                        "Requirement already satisfied: pyarrow-hotfix in /opt/homebrew/Caskroom/miniconda/base/envs/tai1/lib/python3.10/site-packages (from datasets>=2.0.0->evaluate==0.4.1->lastmile-eval->tracing-auto-instrumentation) (0.6)\n",
                        "Requirement already satisfied: google-ai-generativelanguage==0.6.4 in /opt/homebrew/Caskroom/miniconda/base/envs/tai1/lib/python3.10/site-packages (from google-generativeai>=0.3.1->python-aiconfig->lastmile-eval->tracing-auto-instrumentation) (0.6.4)\n",
                        "Requirement already satisfied: google-api-core in /opt/homebrew/Caskroom/miniconda/base/envs/tai1/lib/python3.10/site-packages (from google-generativeai>=0.3.1->python-aiconfig->lastmile-eval->tracing-auto-instrumentation) (2.19.0)\n",
                        "Requirement already satisfied: google-api-python-client in /opt/homebrew/Caskroom/miniconda/base/envs/tai1/lib/python3.10/site-packages (from google-generativeai>=0.3.1->python-aiconfig->lastmile-eval->tracing-auto-instrumentation) (2.129.0)\n",
                        "Requirement already satisfied: google-auth>=2.15.0 in /opt/homebrew/Caskroom/miniconda/base/envs/tai1/lib/python3.10/site-packages (from google-generativeai>=0.3.1->python-aiconfig->lastmile-eval->tracing-auto-instrumentation) (2.29.0)\n",
                        "Requirement already satisfied: proto-plus<2.0.0dev,>=1.22.3 in /opt/homebrew/Caskroom/miniconda/base/envs/tai1/lib/python3.10/site-packages (from google-ai-generativelanguage==0.6.4->google-generativeai>=0.3.1->python-aiconfig->lastmile-eval->tracing-auto-instrumentation) (1.23.0)\n",
                        "Requirement already satisfied: httpcore==1.* in /opt/homebrew/Caskroom/miniconda/base/envs/tai1/lib/python3.10/site-packages (from httpx<1,>=0.23.0->openai>=1.0.0->lastmile-eval->tracing-auto-instrumentation) (1.0.5)\n",
                        "Requirement already satisfied: zipp>=0.5 in /opt/homebrew/Caskroom/miniconda/base/envs/tai1/lib/python3.10/site-packages (from importlib-metadata<=7.0,>=6.0->opentelemetry-api->lastmile-eval->tracing-auto-instrumentation) (3.18.2)\n",
                        "Requirement already satisfied: jsonpointer>=1.9 in /opt/homebrew/Caskroom/miniconda/base/envs/tai1/lib/python3.10/site-packages (from jsonpatch<2.0,>=1.33->langchain-core->lastmile-eval->tracing-auto-instrumentation) (2.4)\n",
                        "Requirement already satisfied: orjson<4.0.0,>=3.9.14 in /opt/homebrew/Caskroom/miniconda/base/envs/tai1/lib/python3.10/site-packages (from langsmith<0.2.0,>=0.1.17->langchain->lastmile-eval->tracing-auto-instrumentation) (3.10.3)\n",
                        "Requirement already satisfied: dirtyjson<2.0.0,>=1.0.8 in /opt/homebrew/Caskroom/miniconda/base/envs/tai1/lib/python3.10/site-packages (from llama-index-core<0.11.0,>=0.10.35->llama-index->lastmile-eval->tracing-auto-instrumentation) (1.0.8)\n",
                        "Requirement already satisfied: jsonpath-ng<2.0.0,>=1.6.0 in /opt/homebrew/Caskroom/miniconda/base/envs/tai1/lib/python3.10/site-packages (from llama-index-core<0.11.0,>=0.10.35->llama-index->lastmile-eval->tracing-auto-instrumentation) (1.6.1)\n",
                        "Requirement already satisfied: llamaindex-py-client<0.2.0,>=0.1.18 in /opt/homebrew/Caskroom/miniconda/base/envs/tai1/lib/python3.10/site-packages (from llama-index-core<0.11.0,>=0.10.35->llama-index->lastmile-eval->tracing-auto-instrumentation) (0.1.19)\n",
                        "Requirement already satisfied: networkx>=3.0 in /opt/homebrew/Caskroom/miniconda/base/envs/tai1/lib/python3.10/site-packages (from llama-index-core<0.11.0,>=0.10.35->llama-index->lastmile-eval->tracing-auto-instrumentation) (3.3)\n",
                        "Requirement already satisfied: pillow>=9.0.0 in /opt/homebrew/Caskroom/miniconda/base/envs/tai1/lib/python3.10/site-packages (from llama-index-core<0.11.0,>=0.10.35->llama-index->lastmile-eval->tracing-auto-instrumentation) (10.3.0)\n",
                        "Requirement already satisfied: spacy<4.0.0,>=3.7.1 in /opt/homebrew/Caskroom/miniconda/base/envs/tai1/lib/python3.10/site-packages (from llama-index-core<0.11.0,>=0.10.35->llama-index->lastmile-eval->tracing-auto-instrumentation) (3.7.4)\n",
                        "Requirement already satisfied: pypdf<5.0.0,>=4.0.1 in /opt/homebrew/Caskroom/miniconda/base/envs/tai1/lib/python3.10/site-packages (from llama-index-readers-file<0.2.0,>=0.1.4->llama-index->lastmile-eval->tracing-auto-instrumentation) (4.2.0)\n",
                        "Requirement already satisfied: striprtf<0.0.27,>=0.0.26 in /opt/homebrew/Caskroom/miniconda/base/envs/tai1/lib/python3.10/site-packages (from llama-index-readers-file<0.2.0,>=0.1.4->llama-index->lastmile-eval->tracing-auto-instrumentation) (0.0.26)\n",
                        "Requirement already satisfied: llama-parse<0.5.0,>=0.4.0 in /opt/homebrew/Caskroom/miniconda/base/envs/tai1/lib/python3.10/site-packages (from llama-index-readers-llama-parse<0.2.0,>=0.1.2->llama-index->lastmile-eval->tracing-auto-instrumentation) (0.4.3)\n",
                        "Requirement already satisfied: cssselect>=0.9.2 in /opt/homebrew/Caskroom/miniconda/base/envs/tai1/lib/python3.10/site-packages (from newspaper3k<0.3.0,>=0.2.8->llama-index-readers-web->lastmile-eval->tracing-auto-instrumentation) (1.2.0)\n",
                        "Requirement already satisfied: lxml>=3.6.0 in /opt/homebrew/Caskroom/miniconda/base/envs/tai1/lib/python3.10/site-packages (from newspaper3k<0.3.0,>=0.2.8->llama-index-readers-web->lastmile-eval->tracing-auto-instrumentation) (5.2.2)\n",
                        "Requirement already satisfied: feedparser>=5.2.1 in /opt/homebrew/Caskroom/miniconda/base/envs/tai1/lib/python3.10/site-packages (from newspaper3k<0.3.0,>=0.2.8->llama-index-readers-web->lastmile-eval->tracing-auto-instrumentation) (6.0.11)\n",
                        "Requirement already satisfied: tldextract>=2.0.1 in /opt/homebrew/Caskroom/miniconda/base/envs/tai1/lib/python3.10/site-packages (from newspaper3k<0.3.0,>=0.2.8->llama-index-readers-web->lastmile-eval->tracing-auto-instrumentation) (5.1.2)\n",
                        "Requirement already satisfied: feedfinder2>=0.0.4 in /opt/homebrew/Caskroom/miniconda/base/envs/tai1/lib/python3.10/site-packages (from newspaper3k<0.3.0,>=0.2.8->llama-index-readers-web->lastmile-eval->tracing-auto-instrumentation) (0.0.4)\n",
                        "Requirement already satisfied: jieba3k>=0.35.1 in /opt/homebrew/Caskroom/miniconda/base/envs/tai1/lib/python3.10/site-packages (from newspaper3k<0.3.0,>=0.2.8->llama-index-readers-web->lastmile-eval->tracing-auto-instrumentation) (0.35.1)\n",
                        "Requirement already satisfied: tinysegmenter==0.3 in /opt/homebrew/Caskroom/miniconda/base/envs/tai1/lib/python3.10/site-packages (from newspaper3k<0.3.0,>=0.2.8->llama-index-readers-web->lastmile-eval->tracing-auto-instrumentation) (0.3)\n",
                        "Requirement already satisfied: greenlet==3.0.3 in /opt/homebrew/Caskroom/miniconda/base/envs/tai1/lib/python3.10/site-packages (from playwright<2.0,>=1.30->llama-index-readers-web->lastmile-eval->tracing-auto-instrumentation) (3.0.3)\n",
                        "Requirement already satisfied: pyee==11.1.0 in /opt/homebrew/Caskroom/miniconda/base/envs/tai1/lib/python3.10/site-packages (from playwright<2.0,>=1.30->llama-index-readers-web->lastmile-eval->tracing-auto-instrumentation) (11.1.0)\n",
                        "Requirement already satisfied: markdown-it-py>=2.2.0 in /opt/homebrew/Caskroom/miniconda/base/envs/tai1/lib/python3.10/site-packages (from rich<14.0.0,>=13.7.0->instructor->lastmile-eval->tracing-auto-instrumentation) (3.0.0)\n",
                        "Requirement already satisfied: pygments<3.0.0,>=2.13.0 in /opt/homebrew/Caskroom/miniconda/base/envs/tai1/lib/python3.10/site-packages (from rich<14.0.0,>=13.7.0->instructor->lastmile-eval->tracing-auto-instrumentation) (2.15.1)\n",
                        "Requirement already satisfied: trio~=0.17 in /opt/homebrew/Caskroom/miniconda/base/envs/tai1/lib/python3.10/site-packages (from selenium<5.0.0,>=4.17.2->llama-index-readers-web->lastmile-eval->tracing-auto-instrumentation) (0.25.1)\n",
                        "Requirement already satisfied: trio-websocket~=0.9 in /opt/homebrew/Caskroom/miniconda/base/envs/tai1/lib/python3.10/site-packages (from selenium<5.0.0,>=4.17.2->llama-index-readers-web->lastmile-eval->tracing-auto-instrumentation) (0.11.1)\n",
                        "Requirement already satisfied: boto3>=1.28.57 in /opt/homebrew/Caskroom/miniconda/base/envs/tai1/lib/python3.10/site-packages (from anthropic-bedrock->python-aiconfig->lastmile-eval->tracing-auto-instrumentation) (1.34.110)\n",
                        "Requirement already satisfied: botocore>=1.31.57 in /opt/homebrew/Caskroom/miniconda/base/envs/tai1/lib/python3.10/site-packages (from anthropic-bedrock->python-aiconfig->lastmile-eval->tracing-auto-instrumentation) (1.34.110)\n",
                        "Requirement already satisfied: Werkzeug>=3.0.0 in /opt/homebrew/Caskroom/miniconda/base/envs/tai1/lib/python3.10/site-packages (from flask[async]->python-aiconfig->lastmile-eval->tracing-auto-instrumentation) (3.0.3)\n",
                        "Requirement already satisfied: itsdangerous>=2.1.2 in /opt/homebrew/Caskroom/miniconda/base/envs/tai1/lib/python3.10/site-packages (from flask[async]->python-aiconfig->lastmile-eval->tracing-auto-instrumentation) (2.2.0)\n",
                        "Requirement already satisfied: blinker>=1.6.2 in /opt/homebrew/Caskroom/miniconda/base/envs/tai1/lib/python3.10/site-packages (from flask[async]->python-aiconfig->lastmile-eval->tracing-auto-instrumentation) (1.8.2)\n",
                        "Requirement already satisfied: asgiref>=3.2 in /opt/homebrew/Caskroom/miniconda/base/envs/tai1/lib/python3.10/site-packages (from flask[async]->python-aiconfig->lastmile-eval->tracing-auto-instrumentation) (3.8.1)\n",
                        "Requirement already satisfied: setuptools>=16.0 in /opt/homebrew/Caskroom/miniconda/base/envs/tai1/lib/python3.10/site-packages (from opentelemetry-instrumentation->openinference-instrumentation-langchain->lastmile-eval->tracing-auto-instrumentation) (69.5.1)\n",
                        "Requirement already satisfied: wcwidth in /opt/homebrew/Caskroom/miniconda/base/envs/tai1/lib/python3.10/site-packages (from prompt-toolkit->python-aiconfig->lastmile-eval->tracing-auto-instrumentation) (0.2.5)\n",
                        "Requirement already satisfied: PyMeta3>=0.5.1 in /opt/homebrew/Caskroom/miniconda/base/envs/tai1/lib/python3.10/site-packages (from pybars3->python-aiconfig->lastmile-eval->tracing-auto-instrumentation) (0.5.1)\n",
                        "Requirement already satisfied: ruamel.yaml.clib>=0.2.7 in /opt/homebrew/Caskroom/miniconda/base/envs/tai1/lib/python3.10/site-packages (from ruamel.yaml->python-aiconfig->lastmile-eval->tracing-auto-instrumentation) (0.2.8)\n",
                        "Requirement already satisfied: jmespath<2.0.0,>=0.7.1 in /opt/homebrew/Caskroom/miniconda/base/envs/tai1/lib/python3.10/site-packages (from boto3>=1.28.57->anthropic-bedrock->python-aiconfig->lastmile-eval->tracing-auto-instrumentation) (1.0.1)\n",
                        "Requirement already satisfied: s3transfer<0.11.0,>=0.10.0 in /opt/homebrew/Caskroom/miniconda/base/envs/tai1/lib/python3.10/site-packages (from boto3>=1.28.57->anthropic-bedrock->python-aiconfig->lastmile-eval->tracing-auto-instrumentation) (0.10.1)\n",
                        "Requirement already satisfied: sgmllib3k in /opt/homebrew/Caskroom/miniconda/base/envs/tai1/lib/python3.10/site-packages (from feedparser>=5.2.1->newspaper3k<0.3.0,>=0.2.8->llama-index-readers-web->lastmile-eval->tracing-auto-instrumentation) (1.0.0)\n",
                        "Requirement already satisfied: cachetools<6.0,>=2.0.0 in /opt/homebrew/Caskroom/miniconda/base/envs/tai1/lib/python3.10/site-packages (from google-auth>=2.15.0->google-generativeai>=0.3.1->python-aiconfig->lastmile-eval->tracing-auto-instrumentation) (5.3.3)\n",
                        "Requirement already satisfied: pyasn1-modules>=0.2.1 in /opt/homebrew/Caskroom/miniconda/base/envs/tai1/lib/python3.10/site-packages (from google-auth>=2.15.0->google-generativeai>=0.3.1->python-aiconfig->lastmile-eval->tracing-auto-instrumentation) (0.4.0)\n",
                        "Requirement already satisfied: rsa<5,>=3.1.4 in /opt/homebrew/Caskroom/miniconda/base/envs/tai1/lib/python3.10/site-packages (from google-auth>=2.15.0->google-generativeai>=0.3.1->python-aiconfig->lastmile-eval->tracing-auto-instrumentation) (4.9)\n",
                        "Requirement already satisfied: ply in /opt/homebrew/Caskroom/miniconda/base/envs/tai1/lib/python3.10/site-packages (from jsonpath-ng<2.0.0,>=1.6.0->llama-index-core<0.11.0,>=0.10.35->llama-index->lastmile-eval->tracing-auto-instrumentation) (3.11)\n",
                        "Requirement already satisfied: mdurl~=0.1 in /opt/homebrew/Caskroom/miniconda/base/envs/tai1/lib/python3.10/site-packages (from markdown-it-py>=2.2.0->rich<14.0.0,>=13.7.0->instructor->lastmile-eval->tracing-auto-instrumentation) (0.1.2)\n",
                        "Requirement already satisfied: spacy-legacy<3.1.0,>=3.0.11 in /opt/homebrew/Caskroom/miniconda/base/envs/tai1/lib/python3.10/site-packages (from spacy<4.0.0,>=3.7.1->llama-index-core<0.11.0,>=0.10.35->llama-index->lastmile-eval->tracing-auto-instrumentation) (3.0.12)\n",
                        "Requirement already satisfied: spacy-loggers<2.0.0,>=1.0.0 in /opt/homebrew/Caskroom/miniconda/base/envs/tai1/lib/python3.10/site-packages (from spacy<4.0.0,>=3.7.1->llama-index-core<0.11.0,>=0.10.35->llama-index->lastmile-eval->tracing-auto-instrumentation) (1.0.5)\n",
                        "Requirement already satisfied: murmurhash<1.1.0,>=0.28.0 in /opt/homebrew/Caskroom/miniconda/base/envs/tai1/lib/python3.10/site-packages (from spacy<4.0.0,>=3.7.1->llama-index-core<0.11.0,>=0.10.35->llama-index->lastmile-eval->tracing-auto-instrumentation) (1.0.10)\n",
                        "Requirement already satisfied: cymem<2.1.0,>=2.0.2 in /opt/homebrew/Caskroom/miniconda/base/envs/tai1/lib/python3.10/site-packages (from spacy<4.0.0,>=3.7.1->llama-index-core<0.11.0,>=0.10.35->llama-index->lastmile-eval->tracing-auto-instrumentation) (2.0.8)\n",
                        "Requirement already satisfied: preshed<3.1.0,>=3.0.2 in /opt/homebrew/Caskroom/miniconda/base/envs/tai1/lib/python3.10/site-packages (from spacy<4.0.0,>=3.7.1->llama-index-core<0.11.0,>=0.10.35->llama-index->lastmile-eval->tracing-auto-instrumentation) (3.0.9)\n",
                        "Requirement already satisfied: thinc<8.3.0,>=8.2.2 in /opt/homebrew/Caskroom/miniconda/base/envs/tai1/lib/python3.10/site-packages (from spacy<4.0.0,>=3.7.1->llama-index-core<0.11.0,>=0.10.35->llama-index->lastmile-eval->tracing-auto-instrumentation) (8.2.3)\n",
                        "Requirement already satisfied: wasabi<1.2.0,>=0.9.1 in /opt/homebrew/Caskroom/miniconda/base/envs/tai1/lib/python3.10/site-packages (from spacy<4.0.0,>=3.7.1->llama-index-core<0.11.0,>=0.10.35->llama-index->lastmile-eval->tracing-auto-instrumentation) (1.1.2)\n",
                        "Requirement already satisfied: srsly<3.0.0,>=2.4.3 in /opt/homebrew/Caskroom/miniconda/base/envs/tai1/lib/python3.10/site-packages (from spacy<4.0.0,>=3.7.1->llama-index-core<0.11.0,>=0.10.35->llama-index->lastmile-eval->tracing-auto-instrumentation) (2.4.8)\n",
                        "Requirement already satisfied: catalogue<2.1.0,>=2.0.6 in /opt/homebrew/Caskroom/miniconda/base/envs/tai1/lib/python3.10/site-packages (from spacy<4.0.0,>=3.7.1->llama-index-core<0.11.0,>=0.10.35->llama-index->lastmile-eval->tracing-auto-instrumentation) (2.0.10)\n",
                        "Requirement already satisfied: weasel<0.4.0,>=0.1.0 in /opt/homebrew/Caskroom/miniconda/base/envs/tai1/lib/python3.10/site-packages (from spacy<4.0.0,>=3.7.1->llama-index-core<0.11.0,>=0.10.35->llama-index->lastmile-eval->tracing-auto-instrumentation) (0.3.4)\n",
                        "Requirement already satisfied: smart-open<7.0.0,>=5.2.1 in /opt/homebrew/Caskroom/miniconda/base/envs/tai1/lib/python3.10/site-packages (from spacy<4.0.0,>=3.7.1->llama-index-core<0.11.0,>=0.10.35->llama-index->lastmile-eval->tracing-auto-instrumentation) (6.4.0)\n",
                        "Requirement already satisfied: langcodes<4.0.0,>=3.2.0 in /opt/homebrew/Caskroom/miniconda/base/envs/tai1/lib/python3.10/site-packages (from spacy<4.0.0,>=3.7.1->llama-index-core<0.11.0,>=0.10.35->llama-index->lastmile-eval->tracing-auto-instrumentation) (3.4.0)\n",
                        "Requirement already satisfied: requests-file>=1.4 in /opt/homebrew/Caskroom/miniconda/base/envs/tai1/lib/python3.10/site-packages (from tldextract>=2.0.1->newspaper3k<0.3.0,>=0.2.8->llama-index-readers-web->lastmile-eval->tracing-auto-instrumentation) (2.1.0)\n",
                        "Requirement already satisfied: outcome in /opt/homebrew/Caskroom/miniconda/base/envs/tai1/lib/python3.10/site-packages (from trio~=0.17->selenium<5.0.0,>=4.17.2->llama-index-readers-web->lastmile-eval->tracing-auto-instrumentation) (1.3.0.post0)\n",
                        "Requirement already satisfied: wsproto>=0.14 in /opt/homebrew/Caskroom/miniconda/base/envs/tai1/lib/python3.10/site-packages (from trio-websocket~=0.9->selenium<5.0.0,>=4.17.2->llama-index-readers-web->lastmile-eval->tracing-auto-instrumentation) (1.2.0)\n",
                        "Requirement already satisfied: pysocks!=1.5.7,<2.0,>=1.5.6 in /opt/homebrew/Caskroom/miniconda/base/envs/tai1/lib/python3.10/site-packages (from urllib3[socks]<3,>=1.26->selenium<5.0.0,>=4.17.2->llama-index-readers-web->lastmile-eval->tracing-auto-instrumentation) (1.7.1)\n",
                        "Requirement already satisfied: httplib2<1.dev0,>=0.19.0 in /opt/homebrew/Caskroom/miniconda/base/envs/tai1/lib/python3.10/site-packages (from google-api-python-client->google-generativeai>=0.3.1->python-aiconfig->lastmile-eval->tracing-auto-instrumentation) (0.22.0)\n",
                        "Requirement already satisfied: google-auth-httplib2<1.0.0,>=0.2.0 in /opt/homebrew/Caskroom/miniconda/base/envs/tai1/lib/python3.10/site-packages (from google-api-python-client->google-generativeai>=0.3.1->python-aiconfig->lastmile-eval->tracing-auto-instrumentation) (0.2.0)\n",
                        "Requirement already satisfied: uritemplate<5,>=3.0.1 in /opt/homebrew/Caskroom/miniconda/base/envs/tai1/lib/python3.10/site-packages (from google-api-python-client->google-generativeai>=0.3.1->python-aiconfig->lastmile-eval->tracing-auto-instrumentation) (4.1.1)\n",
                        "Requirement already satisfied: grpcio-status<2.0.dev0,>=1.33.2 in /opt/homebrew/Caskroom/miniconda/base/envs/tai1/lib/python3.10/site-packages (from google-api-core[grpc]!=2.0.*,!=2.1.*,!=2.10.*,!=2.2.*,!=2.3.*,!=2.4.*,!=2.5.*,!=2.6.*,!=2.7.*,!=2.8.*,!=2.9.*,<3.0.0dev,>=1.34.1->google-ai-generativelanguage==0.6.4->google-generativeai>=0.3.1->python-aiconfig->lastmile-eval->tracing-auto-instrumentation) (1.62.2)\n",
                        "Requirement already satisfied: pyparsing!=3.0.0,!=3.0.1,!=3.0.2,!=3.0.3,<4,>=2.4.2 in /opt/homebrew/Caskroom/miniconda/base/envs/tai1/lib/python3.10/site-packages (from httplib2<1.dev0,>=0.19.0->google-api-python-client->google-generativeai>=0.3.1->python-aiconfig->lastmile-eval->tracing-auto-instrumentation) (3.1.2)\n",
                        "Requirement already satisfied: language-data>=1.2 in /opt/homebrew/Caskroom/miniconda/base/envs/tai1/lib/python3.10/site-packages (from langcodes<4.0.0,>=3.2.0->spacy<4.0.0,>=3.7.1->llama-index-core<0.11.0,>=0.10.35->llama-index->lastmile-eval->tracing-auto-instrumentation) (1.2.0)\n",
                        "Requirement already satisfied: pyasn1<0.7.0,>=0.4.6 in /opt/homebrew/Caskroom/miniconda/base/envs/tai1/lib/python3.10/site-packages (from pyasn1-modules>=0.2.1->google-auth>=2.15.0->google-generativeai>=0.3.1->python-aiconfig->lastmile-eval->tracing-auto-instrumentation) (0.6.0)\n",
                        "Requirement already satisfied: blis<0.8.0,>=0.7.8 in /opt/homebrew/Caskroom/miniconda/base/envs/tai1/lib/python3.10/site-packages (from thinc<8.3.0,>=8.2.2->spacy<4.0.0,>=3.7.1->llama-index-core<0.11.0,>=0.10.35->llama-index->lastmile-eval->tracing-auto-instrumentation) (0.7.11)\n",
                        "Requirement already satisfied: confection<1.0.0,>=0.0.1 in /opt/homebrew/Caskroom/miniconda/base/envs/tai1/lib/python3.10/site-packages (from thinc<8.3.0,>=8.2.2->spacy<4.0.0,>=3.7.1->llama-index-core<0.11.0,>=0.10.35->llama-index->lastmile-eval->tracing-auto-instrumentation) (0.1.4)\n",
                        "Requirement already satisfied: cloudpathlib<0.17.0,>=0.7.0 in /opt/homebrew/Caskroom/miniconda/base/envs/tai1/lib/python3.10/site-packages (from weasel<0.4.0,>=0.1.0->spacy<4.0.0,>=3.7.1->llama-index-core<0.11.0,>=0.10.35->llama-index->lastmile-eval->tracing-auto-instrumentation) (0.16.0)\n",
                        "Requirement already satisfied: marisa-trie>=0.7.7 in /opt/homebrew/Caskroom/miniconda/base/envs/tai1/lib/python3.10/site-packages (from language-data>=1.2->langcodes<4.0.0,>=3.2.0->spacy<4.0.0,>=3.7.1->llama-index-core<0.11.0,>=0.10.35->llama-index->lastmile-eval->tracing-auto-instrumentation) (1.1.1)\n"
                    ]
                }
            ],
            "source": [
                "# !pip install scipy --quiet\n",
                "# !pip install tenacity --quiet\n",
                "# !pip install tiktoken --quiet\n",
                "# !pip install termcolor --quiet\n",
                "# !pip install openai --quiet\n",
                "# !pip install \"tracing-auto-instrumentation[openai]\""
            ]
        },
        {
            "cell_type": "markdown",
            "id": "3108b91b",
            "metadata": {},
            "source": [
                "Setting up the OpenAI Wrapper is as easy as the following 5 lines."
            ]
        },
        {
            "cell_type": "code",
            "execution_count": 2,
            "id": "dab872c5",
            "metadata": {
                "ExecuteTime": {
                    "end_time": "2024-05-15T17:45:23.563149Z",
                    "start_time": "2024-05-15T17:45:22.925978Z"
                }
            },
            "outputs": [],
            "source": [
                "import openai\n",
                "\n",
                "from lastmile_eval.rag.debugger.api.tracing import LastMileTracer\n",
                "\n",
                "from tracing_auto_instrumentation.openai import wrap_openai\n",
                "from lastmile_eval.rag.debugger.tracing.sdk import get_lastmile_tracer\n",
                "\n",
                "tracer: LastMileTracer = get_lastmile_tracer(\n",
                "    tracer_name=\"OpenAI Function Calling\",\n",
                ")\n",
                "client = wrap_openai(openai.OpenAI(), tracer)\n"
            ]
        },
        {
            "cell_type": "code",
            "execution_count": 3,
            "id": "1251594d",
            "metadata": {},
            "outputs": [],
            "source": [
                "# OpenAI Setup\n",
                "from tenacity import retry, stop_after_attempt, wait_random_exponential\n",
                "from termcolor import colored\n",
                "import json\n",
                "\n",
                "import openai\n",
                "\n",
                "GPT_MODEL = \"gpt-4o\""
            ]
        },
        {
            "attachments": {},
            "cell_type": "markdown",
            "id": "69ee6a93",
            "metadata": {},
            "source": [
                "### Utilities\n",
                "\n",
                "First let's define a few utilities for making calls to the Chat Completions API and for maintaining and keeping track of the conversation state."
            ]
        },
        {
            "cell_type": "code",
            "execution_count": 4,
            "id": "745ceec5",
            "metadata": {
                "ExecuteTime": {
                    "end_time": "2024-05-15T17:45:28.816345Z",
                    "start_time": "2024-05-15T17:45:28.814155Z"
                }
            },
            "outputs": [],
            "source": [
                "@retry(wait=wait_random_exponential(multiplier=1, max=40), stop=stop_after_attempt(3))\n",
                "def chat_completion_request(messages, tools=None, tool_choice=None, model=GPT_MODEL):\n",
                "    try:\n",
                "        response = client.chat.completions.create(\n",
                "            model=model,\n",
                "            messages=messages,\n",
                "            tools=tools,\n",
                "            tool_choice=tool_choice,\n",
                "        )\n",
                "        return response\n",
                "    except Exception as e:\n",
                "        print(\"Unable to generate ChatCompletion response\")\n",
                "        print(f\"Exception: {e}\")\n",
                "        return e\n"
            ]
        },
        {
            "cell_type": "code",
            "execution_count": 5,
            "id": "c4d1c99f",
            "metadata": {
                "ExecuteTime": {
                    "end_time": "2024-05-15T17:45:30.003910Z",
                    "start_time": "2024-05-15T17:45:30.001259Z"
                }
            },
            "outputs": [],
            "source": [
                "def pretty_print_conversation(messages):\n",
                "    role_to_color = {\n",
                "        \"system\": \"red\",\n",
                "        \"user\": \"green\",\n",
                "        \"assistant\": \"blue\",\n",
                "        \"function\": \"magenta\",\n",
                "    }\n",
                "    \n",
                "    for message in messages:\n",
                "        if message[\"role\"] == \"system\":\n",
                "            print(colored(f\"system: {message['content']}\\n\", role_to_color[message[\"role\"]]))\n",
                "        elif message[\"role\"] == \"user\":\n",
                "            print(colored(f\"user: {message['content']}\\n\", role_to_color[message[\"role\"]]))\n",
                "        elif message[\"role\"] == \"assistant\" and message.get(\"function_call\"):\n",
                "            print(colored(f\"assistant: {message['function_call']}\\n\", role_to_color[message[\"role\"]]))\n",
                "        elif message[\"role\"] == \"assistant\" and not message.get(\"function_call\"):\n",
                "            print(colored(f\"assistant: {message['content']}\\n\", role_to_color[message[\"role\"]]))\n",
                "        elif message[\"role\"] == \"function\":\n",
                "            print(colored(f\"function ({message['name']}): {message['content']}\\n\", role_to_color[message[\"role\"]]))\n"
            ]
        },
        {
            "attachments": {},
            "cell_type": "markdown",
            "id": "29d4e02b",
            "metadata": {},
            "source": [
                "### Basic concepts\n",
                "\n",
                "Let's create some function specifications to interface with a hypothetical weather API. We'll pass these function specification to the Chat Completions API in order to generate function arguments that adhere to the specification."
            ]
        },
        {
            "cell_type": "code",
            "execution_count": 6,
            "id": "d2e25069",
            "metadata": {
                "ExecuteTime": {
                    "end_time": "2024-05-15T17:45:31.794879Z",
                    "start_time": "2024-05-15T17:45:31.792617Z"
                }
            },
            "outputs": [],
            "source": [
                "tools = [\n",
                "    {\n",
                "        \"type\": \"function\",\n",
                "        \"function\": {\n",
                "            \"name\": \"get_current_weather\",\n",
                "            \"description\": \"Get the current weather\",\n",
                "            \"parameters\": {\n",
                "                \"type\": \"object\",\n",
                "                \"properties\": {\n",
                "                    \"location\": {\n",
                "                        \"type\": \"string\",\n",
                "                        \"description\": \"The city and state, e.g. San Francisco, CA\",\n",
                "                    },\n",
                "                    \"format\": {\n",
                "                        \"type\": \"string\",\n",
                "                        \"enum\": [\"celsius\", \"fahrenheit\"],\n",
                "                        \"description\": \"The temperature unit to use. Infer this from the users location.\",\n",
                "                    },\n",
                "                },\n",
                "                \"required\": [\"location\", \"format\"],\n",
                "            },\n",
                "        }\n",
                "    },\n",
                "    {\n",
                "        \"type\": \"function\",\n",
                "        \"function\": {\n",
                "            \"name\": \"get_n_day_weather_forecast\",\n",
                "            \"description\": \"Get an N-day weather forecast\",\n",
                "            \"parameters\": {\n",
                "                \"type\": \"object\",\n",
                "                \"properties\": {\n",
                "                    \"location\": {\n",
                "                        \"type\": \"string\",\n",
                "                        \"description\": \"The city and state, e.g. San Francisco, CA\",\n",
                "                    },\n",
                "                    \"format\": {\n",
                "                        \"type\": \"string\",\n",
                "                        \"enum\": [\"celsius\", \"fahrenheit\"],\n",
                "                        \"description\": \"The temperature unit to use. Infer this from the users location.\",\n",
                "                    },\n",
                "                    \"num_days\": {\n",
                "                        \"type\": \"integer\",\n",
                "                        \"description\": \"The number of days to forecast\",\n",
                "                    }\n",
                "                },\n",
                "                \"required\": [\"location\", \"format\", \"num_days\"]\n",
                "            },\n",
                "        }\n",
                "    },\n",
                "]"
            ]
        },
        {
            "attachments": {},
            "cell_type": "markdown",
            "id": "bfc39899",
            "metadata": {},
            "source": [
                "If we prompt the model about the current weather, it will respond with some clarifying questions."
            ]
        },
        {
            "cell_type": "code",
            "execution_count": 7,
            "id": "518d6827",
            "metadata": {
                "ExecuteTime": {
                    "end_time": "2024-05-15T17:45:35.282310Z",
                    "start_time": "2024-05-15T17:45:33.861496Z"
                }
            },
            "outputs": [
                {
                    "data": {
                        "text/plain": [
                            "ChatCompletionMessage(content=\"To provide you with the current weather, I'll need to know your location. Could you please provide your city and state?\", role='assistant', function_call=None, tool_calls=None)"
                        ]
                    },
                    "execution_count": 7,
                    "metadata": {},
                    "output_type": "execute_result"
                }
            ],
            "source": [
                "messages = []\n",
                "messages.append({\"role\": \"system\", \"content\": \"Don't make assumptions about what values to plug into functions. Ask for clarification if a user request is ambiguous.\"})\n",
                "messages.append({\"role\": \"user\", \"content\": \"What's the weather like today\"})\n",
                "chat_response = chat_completion_request(\n",
                "    messages, tools=tools\n",
                ")\n",
                "assistant_message = chat_response.choices[0].message\n",
                "messages.append(assistant_message)\n",
                "assistant_message\n"
            ]
        },
        {
            "attachments": {},
            "cell_type": "markdown",
            "id": "4c999375",
            "metadata": {},
            "source": [
                "Once we provide the missing information, it will generate the appropriate function arguments for us."
            ]
        },
        {
            "cell_type": "code",
            "execution_count": 8,
            "id": "23c42a6e",
            "metadata": {
                "ExecuteTime": {
                    "end_time": "2024-05-15T17:45:43.553403Z",
                    "start_time": "2024-05-15T17:45:42.205590Z"
                }
            },
            "outputs": [
                {
                    "data": {
                        "text/plain": [
                            "ChatCompletionMessage(content=None, role='assistant', function_call=None, tool_calls=[ChatCompletionMessageToolCall(id='call_gzF6mYym3ktyOzsGAadW5jqe', function=Function(arguments='{\"location\":\"Glasgow, Scotland\",\"format\":\"celsius\"}', name='get_current_weather'), type='function')])"
                        ]
                    },
                    "execution_count": 8,
                    "metadata": {},
                    "output_type": "execute_result"
                }
            ],
            "source": [
                "messages.append({\"role\": \"user\", \"content\": \"I'm in Glasgow, Scotland.\"})\n",
                "chat_response = chat_completion_request(\n",
                "    messages, tools=tools\n",
                ")\n",
                "assistant_message = chat_response.choices[0].message\n",
                "messages.append(assistant_message)\n",
                "assistant_message\n"
            ]
        },
        {
            "attachments": {},
            "cell_type": "markdown",
            "id": "c14d4762",
            "metadata": {},
            "source": [
                "By prompting it differently, we can get it to target the other function we've told it about."
            ]
        },
        {
            "cell_type": "code",
            "execution_count": 12,
            "id": "fa232e54",
            "metadata": {
                "ExecuteTime": {
                    "end_time": "2024-05-15T17:45:47.090638Z",
                    "start_time": "2024-05-15T17:45:46.302475Z"
                }
            },
            "outputs": [
                {
                    "name": "stderr",
                    "output_type": "stream",
                    "text": [
                        "2024-05-21 21:09:51,711 - Request options: {'method': 'post', 'url': '/chat/completions', 'files': None, 'json_data': {'messages': [{'role': 'system', 'content': \"Don't make assumptions about what values to plug into functions. Ask for clarification if a user request is ambiguous.\"}, {'role': 'user', 'content': 'what is the weather going to be like in Glasgow, Scotland over the next x days'}], 'model': 'gpt-4o', 'tool_choice': None, 'tools': [{'type': 'function', 'function': {'name': 'get_current_weather', 'description': 'Get the current weather', 'parameters': {'type': 'object', 'properties': {'location': {'type': 'string', 'description': 'The city and state, e.g. San Francisco, CA'}, 'format': {'type': 'string', 'enum': ['celsius', 'fahrenheit'], 'description': 'The temperature unit to use. Infer this from the users location.'}}, 'required': ['location', 'format']}}}, {'type': 'function', 'function': {'name': 'get_n_day_weather_forecast', 'description': 'Get an N-day weather forecast', 'parameters': {'type': 'object', 'properties': {'location': {'type': 'string', 'description': 'The city and state, e.g. San Francisco, CA'}, 'format': {'type': 'string', 'enum': ['celsius', 'fahrenheit'], 'description': 'The temperature unit to use. Infer this from the users location.'}, 'num_days': {'type': 'integer', 'description': 'The number of days to forecast'}}, 'required': ['location', 'format', 'num_days']}}}]}}\n",
                        "2024-05-21 21:09:51,712 - Sending HTTP Request: POST https://api.openai.com/v1/chat/completions\n",
                        "2024-05-21 21:09:51,713 - send_request_headers.started request=<Request [b'POST']>\n",
                        "2024-05-21 21:09:51,714 - send_request_headers.complete\n",
                        "2024-05-21 21:09:51,789 - send_request_body.started request=<Request [b'POST']>\n",
                        "2024-05-21 21:09:51,790 - send_request_body.complete\n",
                        "2024-05-21 21:09:51,790 - receive_response_headers.started request=<Request [b'POST']>\n",
                        "2024-05-21 21:09:52,455 - receive_response_headers.complete return_value=(b'HTTP/1.1', 200, b'OK', [(b'Date', b'Wed, 22 May 2024 01:09:52 GMT'), (b'Content-Type', b'application/json'), (b'Transfer-Encoding', b'chunked'), (b'Connection', b'keep-alive'), (b'openai-organization', b'lastmile-ai'), (b'openai-processing-ms', b'341'), (b'openai-version', b'2020-10-01'), (b'strict-transport-security', b'max-age=15724800; includeSubDomains'), (b'x-ratelimit-limit-requests', b'10000'), (b'x-ratelimit-limit-tokens', b'10000000'), (b'x-ratelimit-remaining-requests', b'9999'), (b'x-ratelimit-remaining-tokens', b'9999932'), (b'x-ratelimit-reset-requests', b'6ms'), (b'x-ratelimit-reset-tokens', b'0s'), (b'x-request-id', b'req_dac14bfc61315a3005a20c214edc0dc9'), (b'CF-Cache-Status', b'DYNAMIC'), (b'Server', b'cloudflare'), (b'CF-RAY', b'8878ec564ab343e6-EWR'), (b'Content-Encoding', b'gzip'), (b'alt-svc', b'h3=\":443\"; ma=86400')])\n",
                        "2024-05-21 21:09:52,455 - HTTP Request: POST https://api.openai.com/v1/chat/completions \"HTTP/1.1 200 OK\"\n",
                        "2024-05-21 21:09:52,456 - receive_response_body.started request=<Request [b'POST']>\n",
                        "2024-05-21 21:09:52,457 - receive_response_body.complete\n",
                        "2024-05-21 21:09:52,457 - response_closed.started\n",
                        "2024-05-21 21:09:52,457 - response_closed.complete\n",
                        "2024-05-21 21:09:52,458 - HTTP Response: POST https://api.openai.com/v1/chat/completions \"200 OK\" Headers({'date': 'Wed, 22 May 2024 01:09:52 GMT', 'content-type': 'application/json', 'transfer-encoding': 'chunked', 'connection': 'keep-alive', 'openai-organization': 'lastmile-ai', 'openai-processing-ms': '341', 'openai-version': '2020-10-01', 'strict-transport-security': 'max-age=15724800; includeSubDomains', 'x-ratelimit-limit-requests': '10000', 'x-ratelimit-limit-tokens': '10000000', 'x-ratelimit-remaining-requests': '9999', 'x-ratelimit-remaining-tokens': '9999932', 'x-ratelimit-reset-requests': '6ms', 'x-ratelimit-reset-tokens': '0s', 'x-request-id': 'req_dac14bfc61315a3005a20c214edc0dc9', 'cf-cache-status': 'DYNAMIC', 'server': 'cloudflare', 'cf-ray': '8878ec564ab343e6-EWR', 'content-encoding': 'gzip', 'alt-svc': 'h3=\":443\"; ma=86400'})\n",
                        "2024-05-21 21:09:52,458 - request_id: req_dac14bfc61315a3005a20c214edc0dc9\n",
                        "2024-05-21 21:09:52,500 - https://lastmileai.dev:443 \"POST /api/trace/create HTTP/1.1\" 200 10\n",
                        "2024-05-21 21:09:52,502 - Starting new HTTPS connection (1): lastmileai.dev:443\n",
                        "2024-05-21 21:09:52,579 - https://lastmileai.dev:443 \"POST /api/rag_query_traces/create HTTP/1.1\" 200 None\n"
                    ]
                },
                {
                    "data": {
                        "text/plain": [
                            "ChatCompletionMessage(content='Could you please specify the number of days for the weather forecast in Glasgow, Scotland?', role='assistant', function_call=None, tool_calls=None)"
                        ]
                    },
                    "execution_count": 12,
                    "metadata": {},
                    "output_type": "execute_result"
                }
            ],
            "source": [
                "messages = []\n",
                "messages.append({\"role\": \"system\", \"content\": \"Don't make assumptions about what values to plug into functions. Ask for clarification if a user request is ambiguous.\"})\n",
                "messages.append({\"role\": \"user\", \"content\": \"what is the weather going to be like in Glasgow, Scotland over the next x days\"})\n",
                "chat_response = chat_completion_request(\n",
                "    messages, tools=tools\n",
                ")\n",
                "assistant_message = chat_response.choices[0].message\n",
                "messages.append(assistant_message)\n",
                "assistant_message\n"
            ]
        },
        {
            "attachments": {},
            "cell_type": "markdown",
            "id": "6172ddac",
            "metadata": {},
            "source": [
                "Once again, the model is asking us for clarification because it doesn't have enough information yet. In this case it already knows the location for the forecast, but it needs to know how many days are required in the forecast."
            ]
        },
        {
            "cell_type": "code",
            "execution_count": 13,
            "id": "c7d8a543",
            "metadata": {
                "ExecuteTime": {
                    "end_time": "2024-05-15T17:45:49.790820Z",
                    "start_time": "2024-05-15T17:45:48.847752Z"
                }
            },
            "outputs": [
                {
                    "name": "stderr",
                    "output_type": "stream",
                    "text": [
                        "2024-05-21 21:09:55,109 - Request options: {'method': 'post', 'url': '/chat/completions', 'files': None, 'json_data': {'messages': [{'role': 'system', 'content': \"Don't make assumptions about what values to plug into functions. Ask for clarification if a user request is ambiguous.\"}, {'role': 'user', 'content': 'what is the weather going to be like in Glasgow, Scotland over the next x days'}, {'content': 'Could you please specify the number of days for the weather forecast in Glasgow, Scotland?', 'role': 'assistant'}, {'role': 'user', 'content': '5 days'}], 'model': 'gpt-4o', 'tool_choice': None, 'tools': [{'type': 'function', 'function': {'name': 'get_current_weather', 'description': 'Get the current weather', 'parameters': {'type': 'object', 'properties': {'location': {'type': 'string', 'description': 'The city and state, e.g. San Francisco, CA'}, 'format': {'type': 'string', 'enum': ['celsius', 'fahrenheit'], 'description': 'The temperature unit to use. Infer this from the users location.'}}, 'required': ['location', 'format']}}}, {'type': 'function', 'function': {'name': 'get_n_day_weather_forecast', 'description': 'Get an N-day weather forecast', 'parameters': {'type': 'object', 'properties': {'location': {'type': 'string', 'description': 'The city and state, e.g. San Francisco, CA'}, 'format': {'type': 'string', 'enum': ['celsius', 'fahrenheit'], 'description': 'The temperature unit to use. Infer this from the users location.'}, 'num_days': {'type': 'integer', 'description': 'The number of days to forecast'}}, 'required': ['location', 'format', 'num_days']}}}]}}\n",
                        "2024-05-21 21:09:55,110 - Sending HTTP Request: POST https://api.openai.com/v1/chat/completions\n",
                        "2024-05-21 21:09:55,110 - send_request_headers.started request=<Request [b'POST']>\n",
                        "2024-05-21 21:09:55,111 - send_request_headers.complete\n",
                        "2024-05-21 21:09:55,111 - send_request_body.started request=<Request [b'POST']>\n",
                        "2024-05-21 21:09:55,112 - send_request_body.complete\n",
                        "2024-05-21 21:09:55,112 - receive_response_headers.started request=<Request [b'POST']>\n",
                        "2024-05-21 21:09:55,996 - receive_response_headers.complete return_value=(b'HTTP/1.1', 200, b'OK', [(b'Date', b'Wed, 22 May 2024 01:09:56 GMT'), (b'Content-Type', b'application/json'), (b'Transfer-Encoding', b'chunked'), (b'Connection', b'keep-alive'), (b'openai-organization', b'lastmile-ai'), (b'openai-processing-ms', b'673'), (b'openai-version', b'2020-10-01'), (b'strict-transport-security', b'max-age=15724800; includeSubDomains'), (b'x-ratelimit-limit-requests', b'10000'), (b'x-ratelimit-limit-tokens', b'10000000'), (b'x-ratelimit-remaining-requests', b'9999'), (b'x-ratelimit-remaining-tokens', b'9999907'), (b'x-ratelimit-reset-requests', b'6ms'), (b'x-ratelimit-reset-tokens', b'0s'), (b'x-request-id', b'req_660b71e2d26804f9d51bcc00e78bbbe4'), (b'CF-Cache-Status', b'DYNAMIC'), (b'Server', b'cloudflare'), (b'CF-RAY', b'8878ec6b8a7a43e6-EWR'), (b'Content-Encoding', b'gzip'), (b'alt-svc', b'h3=\":443\"; ma=86400')])\n",
                        "2024-05-21 21:09:55,997 - HTTP Request: POST https://api.openai.com/v1/chat/completions \"HTTP/1.1 200 OK\"\n",
                        "2024-05-21 21:09:55,998 - receive_response_body.started request=<Request [b'POST']>\n",
                        "2024-05-21 21:09:55,999 - receive_response_body.complete\n",
                        "2024-05-21 21:09:55,999 - response_closed.started\n",
                        "2024-05-21 21:09:55,999 - response_closed.complete\n",
                        "2024-05-21 21:09:56,000 - HTTP Response: POST https://api.openai.com/v1/chat/completions \"200 OK\" Headers({'date': 'Wed, 22 May 2024 01:09:56 GMT', 'content-type': 'application/json', 'transfer-encoding': 'chunked', 'connection': 'keep-alive', 'openai-organization': 'lastmile-ai', 'openai-processing-ms': '673', 'openai-version': '2020-10-01', 'strict-transport-security': 'max-age=15724800; includeSubDomains', 'x-ratelimit-limit-requests': '10000', 'x-ratelimit-limit-tokens': '10000000', 'x-ratelimit-remaining-requests': '9999', 'x-ratelimit-remaining-tokens': '9999907', 'x-ratelimit-reset-requests': '6ms', 'x-ratelimit-reset-tokens': '0s', 'x-request-id': 'req_660b71e2d26804f9d51bcc00e78bbbe4', 'cf-cache-status': 'DYNAMIC', 'server': 'cloudflare', 'cf-ray': '8878ec6b8a7a43e6-EWR', 'content-encoding': 'gzip', 'alt-svc': 'h3=\":443\"; ma=86400'})\n",
                        "2024-05-21 21:09:56,000 - request_id: req_660b71e2d26804f9d51bcc00e78bbbe4\n",
                        "2024-05-21 21:09:56,034 - https://lastmileai.dev:443 \"POST /api/trace/create HTTP/1.1\" 200 10\n",
                        "2024-05-21 21:09:56,036 - Starting new HTTPS connection (1): lastmileai.dev:443\n",
                        "2024-05-21 21:09:56,109 - https://lastmileai.dev:443 \"POST /api/rag_query_traces/create HTTP/1.1\" 200 None\n"
                    ]
                },
                {
                    "data": {
                        "text/plain": [
                            "Choice(finish_reason='tool_calls', index=0, logprobs=None, message=ChatCompletionMessage(content=None, role='assistant', function_call=None, tool_calls=[ChatCompletionMessageToolCall(id='call_LcFJlqBSJCBAZFAC9OhRyx9n', function=Function(arguments='{\"location\":\"Glasgow, Scotland\",\"format\":\"celsius\",\"num_days\":5}', name='get_n_day_weather_forecast'), type='function')]))"
                        ]
                    },
                    "execution_count": 13,
                    "metadata": {},
                    "output_type": "execute_result"
                }
            ],
            "source": [
                "messages.append({\"role\": \"user\", \"content\": \"5 days\"})\n",
                "chat_response = chat_completion_request(\n",
                "    messages, tools=tools\n",
                ")\n",
                "chat_response.choices[0]\n"
            ]
        },
        {
            "attachments": {},
            "cell_type": "markdown",
            "id": "4b758a0a",
            "metadata": {},
            "source": [
                "#### Forcing the use of specific functions or no function"
            ]
        },
        {
            "attachments": {},
            "cell_type": "markdown",
            "id": "412f79ba",
            "metadata": {},
            "source": [
                "We can force the model to use a specific function, for example get_n_day_weather_forecast by using the function_call argument. By doing so, we force the model to make assumptions about how to use it."
            ]
        },
        {
            "cell_type": "code",
            "execution_count": 14,
            "id": "559371b7",
            "metadata": {
                "ExecuteTime": {
                    "end_time": "2024-05-15T17:45:54.194255Z",
                    "start_time": "2024-05-15T17:45:52.975746Z"
                }
            },
            "outputs": [
                {
                    "name": "stderr",
                    "output_type": "stream",
                    "text": [
                        "2024-05-21 21:09:59,041 - Request options: {'method': 'post', 'url': '/chat/completions', 'files': None, 'json_data': {'messages': [{'role': 'system', 'content': \"Don't make assumptions about what values to plug into functions. Ask for clarification if a user request is ambiguous.\"}, {'role': 'user', 'content': 'Give me a weather report for Toronto, Canada.'}], 'model': 'gpt-4o', 'tool_choice': {'type': 'function', 'function': {'name': 'get_n_day_weather_forecast'}}, 'tools': [{'type': 'function', 'function': {'name': 'get_current_weather', 'description': 'Get the current weather', 'parameters': {'type': 'object', 'properties': {'location': {'type': 'string', 'description': 'The city and state, e.g. San Francisco, CA'}, 'format': {'type': 'string', 'enum': ['celsius', 'fahrenheit'], 'description': 'The temperature unit to use. Infer this from the users location.'}}, 'required': ['location', 'format']}}}, {'type': 'function', 'function': {'name': 'get_n_day_weather_forecast', 'description': 'Get an N-day weather forecast', 'parameters': {'type': 'object', 'properties': {'location': {'type': 'string', 'description': 'The city and state, e.g. San Francisco, CA'}, 'format': {'type': 'string', 'enum': ['celsius', 'fahrenheit'], 'description': 'The temperature unit to use. Infer this from the users location.'}, 'num_days': {'type': 'integer', 'description': 'The number of days to forecast'}}, 'required': ['location', 'format', 'num_days']}}}]}}\n",
                        "2024-05-21 21:09:59,042 - Sending HTTP Request: POST https://api.openai.com/v1/chat/completions\n",
                        "2024-05-21 21:09:59,043 - send_request_headers.started request=<Request [b'POST']>\n",
                        "2024-05-21 21:09:59,043 - send_request_headers.complete\n",
                        "2024-05-21 21:09:59,044 - send_request_body.started request=<Request [b'POST']>\n",
                        "2024-05-21 21:09:59,044 - send_request_body.complete\n",
                        "2024-05-21 21:09:59,045 - receive_response_headers.started request=<Request [b'POST']>\n",
                        "2024-05-21 21:09:59,930 - receive_response_headers.complete return_value=(b'HTTP/1.1', 200, b'OK', [(b'Date', b'Wed, 22 May 2024 01:09:59 GMT'), (b'Content-Type', b'application/json'), (b'Transfer-Encoding', b'chunked'), (b'Connection', b'keep-alive'), (b'openai-organization', b'lastmile-ai'), (b'openai-processing-ms', b'559'), (b'openai-version', b'2020-10-01'), (b'strict-transport-security', b'max-age=15724800; includeSubDomains'), (b'x-ratelimit-limit-requests', b'10000'), (b'x-ratelimit-limit-tokens', b'10000000'), (b'x-ratelimit-remaining-requests', b'9999'), (b'x-ratelimit-remaining-tokens', b'9999940'), (b'x-ratelimit-reset-requests', b'6ms'), (b'x-ratelimit-reset-tokens', b'0s'), (b'x-request-id', b'req_72bac6ac00bdd0c0a776934a4713be35'), (b'CF-Cache-Status', b'DYNAMIC'), (b'Server', b'cloudflare'), (b'CF-RAY', b'8878ec841e2743e6-EWR'), (b'Content-Encoding', b'gzip'), (b'alt-svc', b'h3=\":443\"; ma=86400')])\n",
                        "2024-05-21 21:09:59,931 - HTTP Request: POST https://api.openai.com/v1/chat/completions \"HTTP/1.1 200 OK\"\n",
                        "2024-05-21 21:09:59,932 - receive_response_body.started request=<Request [b'POST']>\n",
                        "2024-05-21 21:09:59,933 - receive_response_body.complete\n",
                        "2024-05-21 21:09:59,933 - response_closed.started\n",
                        "2024-05-21 21:09:59,934 - response_closed.complete\n",
                        "2024-05-21 21:09:59,934 - HTTP Response: POST https://api.openai.com/v1/chat/completions \"200 OK\" Headers({'date': 'Wed, 22 May 2024 01:09:59 GMT', 'content-type': 'application/json', 'transfer-encoding': 'chunked', 'connection': 'keep-alive', 'openai-organization': 'lastmile-ai', 'openai-processing-ms': '559', 'openai-version': '2020-10-01', 'strict-transport-security': 'max-age=15724800; includeSubDomains', 'x-ratelimit-limit-requests': '10000', 'x-ratelimit-limit-tokens': '10000000', 'x-ratelimit-remaining-requests': '9999', 'x-ratelimit-remaining-tokens': '9999940', 'x-ratelimit-reset-requests': '6ms', 'x-ratelimit-reset-tokens': '0s', 'x-request-id': 'req_72bac6ac00bdd0c0a776934a4713be35', 'cf-cache-status': 'DYNAMIC', 'server': 'cloudflare', 'cf-ray': '8878ec841e2743e6-EWR', 'content-encoding': 'gzip', 'alt-svc': 'h3=\":443\"; ma=86400'})\n",
                        "2024-05-21 21:09:59,934 - request_id: req_72bac6ac00bdd0c0a776934a4713be35\n",
                        "2024-05-21 21:09:59,973 - https://lastmileai.dev:443 \"POST /api/trace/create HTTP/1.1\" 200 10\n",
                        "2024-05-21 21:09:59,975 - Starting new HTTPS connection (1): lastmileai.dev:443\n",
                        "2024-05-21 21:10:00,071 - https://lastmileai.dev:443 \"POST /api/rag_query_traces/create HTTP/1.1\" 200 None\n"
                    ]
                },
                {
                    "data": {
                        "text/plain": [
                            "ChatCompletionMessage(content=None, role='assistant', function_call=None, tool_calls=[ChatCompletionMessageToolCall(id='call_BlAN9iRiAD6aCzmBWCjzYxjj', function=Function(arguments='{\"location\":\"Toronto, Canada\",\"format\":\"celsius\",\"num_days\":7}', name='get_n_day_weather_forecast'), type='function')])"
                        ]
                    },
                    "execution_count": 14,
                    "metadata": {},
                    "output_type": "execute_result"
                }
            ],
            "source": [
                "# in this cell we force the model to use get_n_day_weather_forecast\n",
                "messages = []\n",
                "messages.append({\"role\": \"system\", \"content\": \"Don't make assumptions about what values to plug into functions. Ask for clarification if a user request is ambiguous.\"})\n",
                "messages.append({\"role\": \"user\", \"content\": \"Give me a weather report for Toronto, Canada.\"})\n",
                "chat_response = chat_completion_request(\n",
                "    messages, tools=tools, tool_choice={\"type\": \"function\", \"function\": {\"name\": \"get_n_day_weather_forecast\"}}\n",
                ")\n",
                "chat_response.choices[0].message"
            ]
        },
        {
            "cell_type": "code",
            "execution_count": 15,
            "id": "a7ab0f58",
            "metadata": {
                "ExecuteTime": {
                    "end_time": "2024-05-15T17:45:56.841233Z",
                    "start_time": "2024-05-15T17:45:55.433397Z"
                }
            },
            "outputs": [
                {
                    "name": "stderr",
                    "output_type": "stream",
                    "text": [
                        "2024-05-21 21:10:12,648 - Request options: {'method': 'post', 'url': '/chat/completions', 'files': None, 'json_data': {'messages': [{'role': 'system', 'content': \"Don't make assumptions about what values to plug into functions. Ask for clarification if a user request is ambiguous.\"}, {'role': 'user', 'content': 'Give me a weather report for Toronto, Canada.'}], 'model': 'gpt-4o', 'tool_choice': None, 'tools': [{'type': 'function', 'function': {'name': 'get_current_weather', 'description': 'Get the current weather', 'parameters': {'type': 'object', 'properties': {'location': {'type': 'string', 'description': 'The city and state, e.g. San Francisco, CA'}, 'format': {'type': 'string', 'enum': ['celsius', 'fahrenheit'], 'description': 'The temperature unit to use. Infer this from the users location.'}}, 'required': ['location', 'format']}}}, {'type': 'function', 'function': {'name': 'get_n_day_weather_forecast', 'description': 'Get an N-day weather forecast', 'parameters': {'type': 'object', 'properties': {'location': {'type': 'string', 'description': 'The city and state, e.g. San Francisco, CA'}, 'format': {'type': 'string', 'enum': ['celsius', 'fahrenheit'], 'description': 'The temperature unit to use. Infer this from the users location.'}, 'num_days': {'type': 'integer', 'description': 'The number of days to forecast'}}, 'required': ['location', 'format', 'num_days']}}}]}}\n",
                        "2024-05-21 21:10:12,650 - Sending HTTP Request: POST https://api.openai.com/v1/chat/completions\n",
                        "2024-05-21 21:10:12,650 - close.started\n",
                        "2024-05-21 21:10:12,651 - close.complete\n",
                        "2024-05-21 21:10:12,651 - connect_tcp.started host='api.openai.com' port=443 local_address=None timeout=5.0 socket_options=None\n",
                        "2024-05-21 21:10:12,661 - connect_tcp.complete return_value=<httpcore._backends.sync.SyncStream object at 0x2841430d0>\n",
                        "2024-05-21 21:10:12,661 - start_tls.started ssl_context=<ssl.SSLContext object at 0x2855d7440> server_hostname='api.openai.com' timeout=5.0\n",
                        "2024-05-21 21:10:12,674 - start_tls.complete return_value=<httpcore._backends.sync.SyncStream object at 0x284267730>\n",
                        "2024-05-21 21:10:12,675 - send_request_headers.started request=<Request [b'POST']>\n",
                        "2024-05-21 21:10:12,675 - send_request_headers.complete\n",
                        "2024-05-21 21:10:12,676 - send_request_body.started request=<Request [b'POST']>\n",
                        "2024-05-21 21:10:12,676 - send_request_body.complete\n",
                        "2024-05-21 21:10:12,676 - receive_response_headers.started request=<Request [b'POST']>\n",
                        "2024-05-21 21:10:13,960 - receive_response_headers.complete return_value=(b'HTTP/1.1', 200, b'OK', [(b'Date', b'Wed, 22 May 2024 01:10:13 GMT'), (b'Content-Type', b'application/json'), (b'Transfer-Encoding', b'chunked'), (b'Connection', b'keep-alive'), (b'openai-organization', b'lastmile-ai'), (b'openai-processing-ms', b'1118'), (b'openai-version', b'2020-10-01'), (b'strict-transport-security', b'max-age=15724800; includeSubDomains'), (b'x-ratelimit-limit-requests', b'10000'), (b'x-ratelimit-limit-tokens', b'10000000'), (b'x-ratelimit-remaining-requests', b'9999'), (b'x-ratelimit-remaining-tokens', b'9999940'), (b'x-ratelimit-reset-requests', b'6ms'), (b'x-ratelimit-reset-tokens', b'0s'), (b'x-request-id', b'req_b802593c830fb36f115bc77f14ea5a30'), (b'CF-Cache-Status', b'DYNAMIC'), (b'Server', b'cloudflare'), (b'CF-RAY', b'8878ecd95a8c0c7a-EWR'), (b'Content-Encoding', b'gzip'), (b'alt-svc', b'h3=\":443\"; ma=86400')])\n",
                        "2024-05-21 21:10:13,961 - HTTP Request: POST https://api.openai.com/v1/chat/completions \"HTTP/1.1 200 OK\"\n",
                        "2024-05-21 21:10:13,961 - receive_response_body.started request=<Request [b'POST']>\n",
                        "2024-05-21 21:10:13,962 - receive_response_body.complete\n",
                        "2024-05-21 21:10:13,962 - response_closed.started\n",
                        "2024-05-21 21:10:13,963 - response_closed.complete\n",
                        "2024-05-21 21:10:13,963 - HTTP Response: POST https://api.openai.com/v1/chat/completions \"200 OK\" Headers({'date': 'Wed, 22 May 2024 01:10:13 GMT', 'content-type': 'application/json', 'transfer-encoding': 'chunked', 'connection': 'keep-alive', 'openai-organization': 'lastmile-ai', 'openai-processing-ms': '1118', 'openai-version': '2020-10-01', 'strict-transport-security': 'max-age=15724800; includeSubDomains', 'x-ratelimit-limit-requests': '10000', 'x-ratelimit-limit-tokens': '10000000', 'x-ratelimit-remaining-requests': '9999', 'x-ratelimit-remaining-tokens': '9999940', 'x-ratelimit-reset-requests': '6ms', 'x-ratelimit-reset-tokens': '0s', 'x-request-id': 'req_b802593c830fb36f115bc77f14ea5a30', 'cf-cache-status': 'DYNAMIC', 'server': 'cloudflare', 'cf-ray': '8878ecd95a8c0c7a-EWR', 'content-encoding': 'gzip', 'alt-svc': 'h3=\":443\"; ma=86400'})\n",
                        "2024-05-21 21:10:13,964 - request_id: req_b802593c830fb36f115bc77f14ea5a30\n",
                        "2024-05-21 21:10:14,003 - https://lastmileai.dev:443 \"POST /api/trace/create HTTP/1.1\" 200 10\n",
                        "2024-05-21 21:10:14,005 - Starting new HTTPS connection (1): lastmileai.dev:443\n",
                        "2024-05-21 21:10:14,079 - https://lastmileai.dev:443 \"POST /api/rag_query_traces/create HTTP/1.1\" 200 None\n"
                    ]
                },
                {
                    "data": {
                        "text/plain": [
                            "ChatCompletionMessage(content=None, role='assistant', function_call=None, tool_calls=[ChatCompletionMessageToolCall(id='call_nYtFx78sdcTT1daieCet5N7H', function=Function(arguments='{\"location\": \"Toronto, Canada\", \"format\": \"celsius\"}', name='get_current_weather'), type='function'), ChatCompletionMessageToolCall(id='call_HQvnSFk9gpTE1k3vbTdaKMR1', function=Function(arguments='{\"location\": \"Toronto, Canada\", \"format\": \"celsius\", \"num_days\": 3}', name='get_n_day_weather_forecast'), type='function')])"
                        ]
                    },
                    "execution_count": 15,
                    "metadata": {},
                    "output_type": "execute_result"
                }
            ],
            "source": [
                "# if we don't force the model to use get_n_day_weather_forecast it may not\n",
                "messages = []\n",
                "messages.append({\"role\": \"system\", \"content\": \"Don't make assumptions about what values to plug into functions. Ask for clarification if a user request is ambiguous.\"})\n",
                "messages.append({\"role\": \"user\", \"content\": \"Give me a weather report for Toronto, Canada.\"})\n",
                "chat_response = chat_completion_request(\n",
                "    messages, tools=tools\n",
                ")\n",
                "chat_response.choices[0].message"
            ]
        },
        {
            "attachments": {},
            "cell_type": "markdown",
            "id": "3bd70e48",
            "metadata": {},
            "source": [
                "We can also force the model to not use a function at all. By doing so we prevent it from producing a proper function call."
            ]
        },
        {
            "cell_type": "code",
            "execution_count": 16,
            "id": "acfe54e6",
            "metadata": {
                "ExecuteTime": {
                    "end_time": "2024-05-15T17:45:59.800346Z",
                    "start_time": "2024-05-15T17:45:59.289603Z"
                }
            },
            "outputs": [
                {
                    "name": "stderr",
                    "output_type": "stream",
                    "text": [
                        "2024-05-21 21:10:20,298 - Request options: {'method': 'post', 'url': '/chat/completions', 'files': None, 'json_data': {'messages': [{'role': 'system', 'content': \"Don't make assumptions about what values to plug into functions. Ask for clarification if a user request is ambiguous.\"}, {'role': 'user', 'content': 'Give me the current weather (use Celcius) for Toronto, Canada.'}], 'model': 'gpt-4o', 'tool_choice': 'none', 'tools': [{'type': 'function', 'function': {'name': 'get_current_weather', 'description': 'Get the current weather', 'parameters': {'type': 'object', 'properties': {'location': {'type': 'string', 'description': 'The city and state, e.g. San Francisco, CA'}, 'format': {'type': 'string', 'enum': ['celsius', 'fahrenheit'], 'description': 'The temperature unit to use. Infer this from the users location.'}}, 'required': ['location', 'format']}}}, {'type': 'function', 'function': {'name': 'get_n_day_weather_forecast', 'description': 'Get an N-day weather forecast', 'parameters': {'type': 'object', 'properties': {'location': {'type': 'string', 'description': 'The city and state, e.g. San Francisco, CA'}, 'format': {'type': 'string', 'enum': ['celsius', 'fahrenheit'], 'description': 'The temperature unit to use. Infer this from the users location.'}, 'num_days': {'type': 'integer', 'description': 'The number of days to forecast'}}, 'required': ['location', 'format', 'num_days']}}}]}}\n",
                        "2024-05-21 21:10:20,299 - Sending HTTP Request: POST https://api.openai.com/v1/chat/completions\n",
                        "2024-05-21 21:10:20,300 - close.started\n",
                        "2024-05-21 21:10:20,301 - close.complete\n",
                        "2024-05-21 21:10:20,301 - connect_tcp.started host='api.openai.com' port=443 local_address=None timeout=5.0 socket_options=None\n",
                        "2024-05-21 21:10:20,308 - connect_tcp.complete return_value=<httpcore._backends.sync.SyncStream object at 0x284151270>\n",
                        "2024-05-21 21:10:20,308 - start_tls.started ssl_context=<ssl.SSLContext object at 0x2855d7440> server_hostname='api.openai.com' timeout=5.0\n",
                        "2024-05-21 21:10:20,319 - start_tls.complete return_value=<httpcore._backends.sync.SyncStream object at 0x2841440d0>\n",
                        "2024-05-21 21:10:20,320 - send_request_headers.started request=<Request [b'POST']>\n",
                        "2024-05-21 21:10:20,320 - send_request_headers.complete\n",
                        "2024-05-21 21:10:20,321 - send_request_body.started request=<Request [b'POST']>\n",
                        "2024-05-21 21:10:20,322 - send_request_body.complete\n",
                        "2024-05-21 21:10:20,322 - receive_response_headers.started request=<Request [b'POST']>\n",
                        "2024-05-21 21:10:20,922 - receive_response_headers.complete return_value=(b'HTTP/1.1', 200, b'OK', [(b'Date', b'Wed, 22 May 2024 01:10:20 GMT'), (b'Content-Type', b'application/json'), (b'Transfer-Encoding', b'chunked'), (b'Connection', b'keep-alive'), (b'openai-organization', b'lastmile-ai'), (b'openai-processing-ms', b'291'), (b'openai-version', b'2020-10-01'), (b'strict-transport-security', b'max-age=15724800; includeSubDomains'), (b'x-ratelimit-limit-requests', b'10000'), (b'x-ratelimit-limit-tokens', b'10000000'), (b'x-ratelimit-remaining-requests', b'9999'), (b'x-ratelimit-remaining-tokens', b'9999937'), (b'x-ratelimit-reset-requests', b'6ms'), (b'x-ratelimit-reset-tokens', b'0s'), (b'x-request-id', b'req_f75a070ac3676ee42d1e4b794daab594'), (b'CF-Cache-Status', b'DYNAMIC'), (b'Server', b'cloudflare'), (b'CF-RAY', b'8878ed091cf47c7b-EWR'), (b'Content-Encoding', b'gzip'), (b'alt-svc', b'h3=\":443\"; ma=86400')])\n",
                        "2024-05-21 21:10:20,923 - HTTP Request: POST https://api.openai.com/v1/chat/completions \"HTTP/1.1 200 OK\"\n",
                        "2024-05-21 21:10:20,923 - receive_response_body.started request=<Request [b'POST']>\n",
                        "2024-05-21 21:10:20,924 - receive_response_body.complete\n",
                        "2024-05-21 21:10:20,925 - response_closed.started\n",
                        "2024-05-21 21:10:20,925 - response_closed.complete\n",
                        "2024-05-21 21:10:20,925 - HTTP Response: POST https://api.openai.com/v1/chat/completions \"200 OK\" Headers({'date': 'Wed, 22 May 2024 01:10:20 GMT', 'content-type': 'application/json', 'transfer-encoding': 'chunked', 'connection': 'keep-alive', 'openai-organization': 'lastmile-ai', 'openai-processing-ms': '291', 'openai-version': '2020-10-01', 'strict-transport-security': 'max-age=15724800; includeSubDomains', 'x-ratelimit-limit-requests': '10000', 'x-ratelimit-limit-tokens': '10000000', 'x-ratelimit-remaining-requests': '9999', 'x-ratelimit-remaining-tokens': '9999937', 'x-ratelimit-reset-requests': '6ms', 'x-ratelimit-reset-tokens': '0s', 'x-request-id': 'req_f75a070ac3676ee42d1e4b794daab594', 'cf-cache-status': 'DYNAMIC', 'server': 'cloudflare', 'cf-ray': '8878ed091cf47c7b-EWR', 'content-encoding': 'gzip', 'alt-svc': 'h3=\":443\"; ma=86400'})\n",
                        "2024-05-21 21:10:20,926 - request_id: req_f75a070ac3676ee42d1e4b794daab594\n",
                        "2024-05-21 21:10:20,959 - https://lastmileai.dev:443 \"POST /api/trace/create HTTP/1.1\" 200 10\n",
                        "2024-05-21 21:10:20,961 - Starting new HTTPS connection (1): lastmileai.dev:443\n",
                        "2024-05-21 21:10:21,044 - https://lastmileai.dev:443 \"POST /api/rag_query_traces/create HTTP/1.1\" 200 None\n"
                    ]
                },
                {
                    "data": {
                        "text/plain": [
                            "ChatCompletionMessage(content=\"I'll get the current weather for Toronto, Canada in Celsius.\", role='assistant', function_call=None, tool_calls=None)"
                        ]
                    },
                    "execution_count": 16,
                    "metadata": {},
                    "output_type": "execute_result"
                }
            ],
            "source": [
                "messages = []\n",
                "messages.append({\"role\": \"system\", \"content\": \"Don't make assumptions about what values to plug into functions. Ask for clarification if a user request is ambiguous.\"})\n",
                "messages.append({\"role\": \"user\", \"content\": \"Give me the current weather (use Celcius) for Toronto, Canada.\"})\n",
                "chat_response = chat_completion_request(\n",
                "    messages, tools=tools, tool_choice=\"none\"\n",
                ")\n",
                "chat_response.choices[0].message\n"
            ]
        },
        {
            "cell_type": "markdown",
            "id": "b616353b",
            "metadata": {},
            "source": [
                "### Parallel Function Calling\n",
                "\n",
                "Newer models such as gpt-4o or gpt-3.5-turbo can call multiple functions in one turn."
            ]
        },
        {
            "cell_type": "code",
            "execution_count": 17,
            "id": "380eeb68",
            "metadata": {
                "ExecuteTime": {
                    "end_time": "2024-05-15T17:46:04.048553Z",
                    "start_time": "2024-05-15T17:46:01.273501Z"
                }
            },
            "outputs": [
                {
                    "name": "stderr",
                    "output_type": "stream",
                    "text": [
                        "2024-05-21 21:10:26,417 - Request options: {'method': 'post', 'url': '/chat/completions', 'files': None, 'json_data': {'messages': [{'role': 'system', 'content': \"Don't make assumptions about what values to plug into functions. Ask for clarification if a user request is ambiguous.\"}, {'role': 'user', 'content': 'what is the weather going to be like in San Francisco and Glasgow over the next 4 days'}], 'model': 'gpt-4o', 'tool_choice': None, 'tools': [{'type': 'function', 'function': {'name': 'get_current_weather', 'description': 'Get the current weather', 'parameters': {'type': 'object', 'properties': {'location': {'type': 'string', 'description': 'The city and state, e.g. San Francisco, CA'}, 'format': {'type': 'string', 'enum': ['celsius', 'fahrenheit'], 'description': 'The temperature unit to use. Infer this from the users location.'}}, 'required': ['location', 'format']}}}, {'type': 'function', 'function': {'name': 'get_n_day_weather_forecast', 'description': 'Get an N-day weather forecast', 'parameters': {'type': 'object', 'properties': {'location': {'type': 'string', 'description': 'The city and state, e.g. San Francisco, CA'}, 'format': {'type': 'string', 'enum': ['celsius', 'fahrenheit'], 'description': 'The temperature unit to use. Infer this from the users location.'}, 'num_days': {'type': 'integer', 'description': 'The number of days to forecast'}}, 'required': ['location', 'format', 'num_days']}}}]}}\n",
                        "2024-05-21 21:10:26,419 - Sending HTTP Request: POST https://api.openai.com/v1/chat/completions\n",
                        "2024-05-21 21:10:26,419 - close.started\n",
                        "2024-05-21 21:10:26,420 - close.complete\n",
                        "2024-05-21 21:10:26,420 - connect_tcp.started host='api.openai.com' port=443 local_address=None timeout=5.0 socket_options=None\n",
                        "2024-05-21 21:10:26,437 - connect_tcp.complete return_value=<httpcore._backends.sync.SyncStream object at 0x284154970>\n",
                        "2024-05-21 21:10:26,438 - start_tls.started ssl_context=<ssl.SSLContext object at 0x2855d7440> server_hostname='api.openai.com' timeout=5.0\n",
                        "2024-05-21 21:10:26,451 - start_tls.complete return_value=<httpcore._backends.sync.SyncStream object at 0x284143520>\n",
                        "2024-05-21 21:10:26,452 - send_request_headers.started request=<Request [b'POST']>\n",
                        "2024-05-21 21:10:26,453 - send_request_headers.complete\n",
                        "2024-05-21 21:10:26,454 - send_request_body.started request=<Request [b'POST']>\n",
                        "2024-05-21 21:10:26,455 - send_request_body.complete\n",
                        "2024-05-21 21:10:26,456 - receive_response_headers.started request=<Request [b'POST']>\n",
                        "2024-05-21 21:10:27,882 - receive_response_headers.complete return_value=(b'HTTP/1.1', 200, b'OK', [(b'Date', b'Wed, 22 May 2024 01:10:27 GMT'), (b'Content-Type', b'application/json'), (b'Transfer-Encoding', b'chunked'), (b'Connection', b'keep-alive'), (b'openai-organization', b'lastmile-ai'), (b'openai-processing-ms', b'1176'), (b'openai-version', b'2020-10-01'), (b'strict-transport-security', b'max-age=15724800; includeSubDomains'), (b'x-ratelimit-limit-requests', b'10000'), (b'x-ratelimit-limit-tokens', b'10000000'), (b'x-ratelimit-remaining-requests', b'9999'), (b'x-ratelimit-remaining-tokens', b'9999930'), (b'x-ratelimit-reset-requests', b'6ms'), (b'x-ratelimit-reset-tokens', b'0s'), (b'x-request-id', b'req_e51aa6bb025c1e8dcf103ef1baa98724'), (b'CF-Cache-Status', b'DYNAMIC'), (b'Server', b'cloudflare'), (b'CF-RAY', b'8878ed2f6da0c34d-EWR'), (b'Content-Encoding', b'gzip'), (b'alt-svc', b'h3=\":443\"; ma=86400')])\n",
                        "2024-05-21 21:10:27,883 - HTTP Request: POST https://api.openai.com/v1/chat/completions \"HTTP/1.1 200 OK\"\n",
                        "2024-05-21 21:10:27,883 - receive_response_body.started request=<Request [b'POST']>\n",
                        "2024-05-21 21:10:27,884 - receive_response_body.complete\n",
                        "2024-05-21 21:10:27,884 - response_closed.started\n",
                        "2024-05-21 21:10:27,884 - response_closed.complete\n",
                        "2024-05-21 21:10:27,884 - HTTP Response: POST https://api.openai.com/v1/chat/completions \"200 OK\" Headers({'date': 'Wed, 22 May 2024 01:10:27 GMT', 'content-type': 'application/json', 'transfer-encoding': 'chunked', 'connection': 'keep-alive', 'openai-organization': 'lastmile-ai', 'openai-processing-ms': '1176', 'openai-version': '2020-10-01', 'strict-transport-security': 'max-age=15724800; includeSubDomains', 'x-ratelimit-limit-requests': '10000', 'x-ratelimit-limit-tokens': '10000000', 'x-ratelimit-remaining-requests': '9999', 'x-ratelimit-remaining-tokens': '9999930', 'x-ratelimit-reset-requests': '6ms', 'x-ratelimit-reset-tokens': '0s', 'x-request-id': 'req_e51aa6bb025c1e8dcf103ef1baa98724', 'cf-cache-status': 'DYNAMIC', 'server': 'cloudflare', 'cf-ray': '8878ed2f6da0c34d-EWR', 'content-encoding': 'gzip', 'alt-svc': 'h3=\":443\"; ma=86400'})\n",
                        "2024-05-21 21:10:27,885 - request_id: req_e51aa6bb025c1e8dcf103ef1baa98724\n",
                        "2024-05-21 21:10:27,918 - https://lastmileai.dev:443 \"POST /api/trace/create HTTP/1.1\" 200 10\n",
                        "2024-05-21 21:10:27,920 - Starting new HTTPS connection (1): lastmileai.dev:443\n",
                        "2024-05-21 21:10:27,996 - https://lastmileai.dev:443 \"POST /api/rag_query_traces/create HTTP/1.1\" 200 None\n"
                    ]
                },
                {
                    "data": {
                        "text/plain": [
                            "[ChatCompletionMessageToolCall(id='call_TF8CVITZYOfXE9Oz9l0far48', function=Function(arguments='{\"location\": \"San Francisco, CA\", \"format\": \"fahrenheit\", \"num_days\": 4}', name='get_n_day_weather_forecast'), type='function'),\n",
                            " ChatCompletionMessageToolCall(id='call_jQZzWLmH8GZgtsTdUwE9pPo3', function=Function(arguments='{\"location\": \"Glasgow, UK\", \"format\": \"celsius\", \"num_days\": 4}', name='get_n_day_weather_forecast'), type='function')]"
                        ]
                    },
                    "execution_count": 17,
                    "metadata": {},
                    "output_type": "execute_result"
                }
            ],
            "source": [
                "messages = []\n",
                "messages.append({\"role\": \"system\", \"content\": \"Don't make assumptions about what values to plug into functions. Ask for clarification if a user request is ambiguous.\"})\n",
                "messages.append({\"role\": \"user\", \"content\": \"what is the weather going to be like in San Francisco and Glasgow over the next 4 days\"})\n",
                "chat_response = chat_completion_request(\n",
                "    messages, tools=tools, model=GPT_MODEL\n",
                ")\n",
                "\n",
                "assistant_message = chat_response.choices[0].message.tool_calls\n",
                "assistant_message"
            ]
        },
        {
            "attachments": {},
            "cell_type": "markdown",
            "id": "b4482aee",
            "metadata": {},
            "source": [
                "## How to call functions with model generated arguments\n",
                "\n",
                "In our next example, we'll demonstrate how to execute functions whose inputs are model-generated, and use this to implement an agent that can answer questions for us about a database. For simplicity we'll use the [Chinook sample database](https://www.sqlitetutorial.net/sqlite-sample-database/).\n",
                "\n",
                "*Note:* SQL generation can be high-risk in a production environment since models are not perfectly reliable at generating correct SQL."
            ]
        },
        {
            "attachments": {},
            "cell_type": "markdown",
            "id": "f7654fef",
            "metadata": {},
            "source": [
                "### Specifying a function to execute SQL queries\n",
                "\n",
                "First let's define some helpful utility functions to extract data from a SQLite database."
            ]
        },
        {
            "cell_type": "code",
            "execution_count": 19,
            "id": "3230b819",
            "metadata": {},
            "outputs": [],
            "source": [
                "!mkdir data"
            ]
        },
        {
            "cell_type": "code",
            "execution_count": 20,
            "id": "30f6b60e",
            "metadata": {
                "ExecuteTime": {
                    "end_time": "2024-05-15T17:46:07.270851Z",
                    "start_time": "2024-05-15T17:46:07.265545Z"
                }
            },
            "outputs": [
                {
                    "name": "stdout",
                    "output_type": "stream",
                    "text": [
                        "Opened database successfully\n"
                    ]
                }
            ],
            "source": [
                "import sqlite3\n",
                "\n",
                "conn = sqlite3.connect(\"data/Chinook.db\")\n",
                "print(\"Opened database successfully\")"
            ]
        },
        {
            "cell_type": "code",
            "execution_count": 21,
            "id": "abec0214",
            "metadata": {
                "ExecuteTime": {
                    "end_time": "2024-05-15T17:46:09.345308Z",
                    "start_time": "2024-05-15T17:46:09.342998Z"
                }
            },
            "outputs": [],
            "source": [
                "def get_table_names(conn):\n",
                "    \"\"\"Return a list of table names.\"\"\"\n",
                "    table_names = []\n",
                "    tables = conn.execute(\"SELECT name FROM sqlite_master WHERE type='table';\")\n",
                "    for table in tables.fetchall():\n",
                "        table_names.append(table[0])\n",
                "    return table_names\n",
                "\n",
                "\n",
                "def get_column_names(conn, table_name):\n",
                "    \"\"\"Return a list of column names.\"\"\"\n",
                "    column_names = []\n",
                "    columns = conn.execute(f\"PRAGMA table_info('{table_name}');\").fetchall()\n",
                "    for col in columns:\n",
                "        column_names.append(col[1])\n",
                "    return column_names\n",
                "\n",
                "\n",
                "def get_database_info(conn):\n",
                "    \"\"\"Return a list of dicts containing the table name and columns for each table in the database.\"\"\"\n",
                "    table_dicts = []\n",
                "    for table_name in get_table_names(conn):\n",
                "        columns_names = get_column_names(conn, table_name)\n",
                "        table_dicts.append({\"table_name\": table_name, \"column_names\": columns_names})\n",
                "    return table_dicts\n"
            ]
        },
        {
            "attachments": {},
            "cell_type": "markdown",
            "id": "77e6e5ea",
            "metadata": {},
            "source": [
                "Now can use these utility functions to extract a representation of the database schema."
            ]
        },
        {
            "cell_type": "code",
            "execution_count": 22,
            "id": "0c0104cd",
            "metadata": {
                "ExecuteTime": {
                    "end_time": "2024-05-15T17:46:11.303746Z",
                    "start_time": "2024-05-15T17:46:11.301210Z"
                }
            },
            "outputs": [],
            "source": [
                "database_schema_dict = get_database_info(conn)\n",
                "database_schema_string = \"\\n\".join(\n",
                "    [\n",
                "        f\"Table: {table['table_name']}\\nColumns: {', '.join(table['column_names'])}\"\n",
                "        for table in database_schema_dict\n",
                "    ]\n",
                ")"
            ]
        },
        {
            "attachments": {},
            "cell_type": "markdown",
            "id": "ae73c9ee",
            "metadata": {},
            "source": [
                "As before, we'll define a function specification for the function we'd like the API to generate arguments for. Notice that we are inserting the database schema into the function specification. This will be important for the model to know about."
            ]
        },
        {
            "cell_type": "code",
            "execution_count": 23,
            "id": "0258813a",
            "metadata": {
                "ExecuteTime": {
                    "end_time": "2024-05-15T17:46:16.569530Z",
                    "start_time": "2024-05-15T17:46:16.567801Z"
                }
            },
            "outputs": [],
            "source": [
                "tools = [\n",
                "    {\n",
                "        \"type\": \"function\",\n",
                "        \"function\": {\n",
                "            \"name\": \"ask_database\",\n",
                "            \"description\": \"Use this function to answer user questions about music. Input should be a fully formed SQL query.\",\n",
                "            \"parameters\": {\n",
                "                \"type\": \"object\",\n",
                "                \"properties\": {\n",
                "                    \"query\": {\n",
                "                        \"type\": \"string\",\n",
                "                        \"description\": f\"\"\"\n",
                "                                SQL query extracting info to answer the user's question.\n",
                "                                SQL should be written using this database schema:\n",
                "                                {database_schema_string}\n",
                "                                The query should be returned in plain text, not in JSON.\n",
                "                                \"\"\",\n",
                "                    }\n",
                "                },\n",
                "                \"required\": [\"query\"],\n",
                "            },\n",
                "        }\n",
                "    }\n",
                "]"
            ]
        },
        {
            "attachments": {},
            "cell_type": "markdown",
            "id": "da08c121",
            "metadata": {},
            "source": [
                "### Executing SQL queries\n",
                "\n",
                "Now let's implement the function that will actually excute queries against the database."
            ]
        },
        {
            "cell_type": "code",
            "execution_count": 24,
            "id": "65585e74",
            "metadata": {
                "ExecuteTime": {
                    "end_time": "2024-05-15T17:46:19.198723Z",
                    "start_time": "2024-05-15T17:46:19.197043Z"
                }
            },
            "outputs": [],
            "source": [
                "def ask_database(conn, query):\n",
                "    \"\"\"Function to query SQLite database with a provided SQL query.\"\"\"\n",
                "    try:\n",
                "        results = str(conn.execute(query).fetchall())\n",
                "    except Exception as e:\n",
                "        results = f\"query failed with error: {e}\"\n",
                "    return results"
            ]
        },
        {
            "cell_type": "markdown",
            "id": "8f6885e9f0af5c40",
            "metadata": {},
            "source": [
                "##### Steps to invoke a function call using Chat Completions API: \n",
                "\n",
                "**Step 1**: Prompt the model with content that may result in model selecting a tool to use. The description of the tools such as a function names and signature is defined in the 'Tools' list and passed to the model in API call. If selected, the function name and parameters are included in the response.<br>\n",
                "  \n",
                "**Step 2**: Check programmatically if model wanted to call a function. If true, proceed to step 3. <br>  \n",
                "**Step 3**: Extract the function name and parameters from response, call the function with parameters. Append the result to messages. <br>    \n",
                "**Step 4**: Invoke the chat completions API with the message list to get the response. "
            ]
        },
        {
            "cell_type": "code",
            "execution_count": 25,
            "id": "e8b7cb9cdc7a7616",
            "metadata": {
                "ExecuteTime": {
                    "end_time": "2024-05-15T17:46:25.725379Z",
                    "start_time": "2024-05-15T17:46:24.255505Z"
                }
            },
            "outputs": [
                {
                    "name": "stderr",
                    "output_type": "stream",
                    "text": [
                        "2024-05-21 21:11:07,819 - Request options: {'method': 'post', 'url': '/chat/completions', 'files': None, 'json_data': {'messages': [{'role': 'user', 'content': 'What is the name of the album with the most tracks?'}], 'model': 'gpt-4o', 'tool_choice': 'auto', 'tools': [{'type': 'function', 'function': {'name': 'ask_database', 'description': 'Use this function to answer user questions about music. Input should be a fully formed SQL query.', 'parameters': {'type': 'object', 'properties': {'query': {'type': 'string', 'description': \"\\n                                SQL query extracting info to answer the user's question.\\n                                SQL should be written using this database schema:\\n                                \\n                                The query should be returned in plain text, not in JSON.\\n                                \"}}, 'required': ['query']}}}]}}\n",
                        "2024-05-21 21:11:07,820 - Sending HTTP Request: POST https://api.openai.com/v1/chat/completions\n",
                        "2024-05-21 21:11:07,821 - close.started\n",
                        "2024-05-21 21:11:07,821 - close.complete\n",
                        "2024-05-21 21:11:07,822 - connect_tcp.started host='api.openai.com' port=443 local_address=None timeout=5.0 socket_options=None\n",
                        "2024-05-21 21:11:07,829 - connect_tcp.complete return_value=<httpcore._backends.sync.SyncStream object at 0x284339330>\n",
                        "2024-05-21 21:11:07,830 - start_tls.started ssl_context=<ssl.SSLContext object at 0x2855d7440> server_hostname='api.openai.com' timeout=5.0\n",
                        "2024-05-21 21:11:07,841 - start_tls.complete return_value=<httpcore._backends.sync.SyncStream object at 0x284264130>\n",
                        "2024-05-21 21:11:07,842 - send_request_headers.started request=<Request [b'POST']>\n",
                        "2024-05-21 21:11:07,843 - send_request_headers.complete\n",
                        "2024-05-21 21:11:07,843 - send_request_body.started request=<Request [b'POST']>\n",
                        "2024-05-21 21:11:07,844 - send_request_body.complete\n",
                        "2024-05-21 21:11:07,844 - receive_response_headers.started request=<Request [b'POST']>\n",
                        "2024-05-21 21:11:08,642 - receive_response_headers.complete return_value=(b'HTTP/1.1', 200, b'OK', [(b'Date', b'Wed, 22 May 2024 01:11:08 GMT'), (b'Content-Type', b'application/json'), (b'Transfer-Encoding', b'chunked'), (b'Connection', b'keep-alive'), (b'openai-organization', b'lastmile-ai'), (b'openai-processing-ms', b'530'), (b'openai-version', b'2020-10-01'), (b'strict-transport-security', b'max-age=15724800; includeSubDomains'), (b'x-ratelimit-limit-requests', b'10000'), (b'x-ratelimit-limit-tokens', b'10000000'), (b'x-ratelimit-remaining-requests', b'9999'), (b'x-ratelimit-remaining-tokens', b'9999970'), (b'x-ratelimit-reset-requests', b'6ms'), (b'x-ratelimit-reset-tokens', b'0s'), (b'x-request-id', b'req_26de37f545c7fd63521e84fc29315974'), (b'CF-Cache-Status', b'DYNAMIC'), (b'Server', b'cloudflare'), (b'CF-RAY', b'8878ee321d617cf9-EWR'), (b'Content-Encoding', b'gzip'), (b'alt-svc', b'h3=\":443\"; ma=86400')])\n",
                        "2024-05-21 21:11:08,643 - HTTP Request: POST https://api.openai.com/v1/chat/completions \"HTTP/1.1 200 OK\"\n",
                        "2024-05-21 21:11:08,643 - receive_response_body.started request=<Request [b'POST']>\n",
                        "2024-05-21 21:11:08,644 - receive_response_body.complete\n",
                        "2024-05-21 21:11:08,644 - response_closed.started\n",
                        "2024-05-21 21:11:08,645 - response_closed.complete\n",
                        "2024-05-21 21:11:08,645 - HTTP Response: POST https://api.openai.com/v1/chat/completions \"200 OK\" Headers({'date': 'Wed, 22 May 2024 01:11:08 GMT', 'content-type': 'application/json', 'transfer-encoding': 'chunked', 'connection': 'keep-alive', 'openai-organization': 'lastmile-ai', 'openai-processing-ms': '530', 'openai-version': '2020-10-01', 'strict-transport-security': 'max-age=15724800; includeSubDomains', 'x-ratelimit-limit-requests': '10000', 'x-ratelimit-limit-tokens': '10000000', 'x-ratelimit-remaining-requests': '9999', 'x-ratelimit-remaining-tokens': '9999970', 'x-ratelimit-reset-requests': '6ms', 'x-ratelimit-reset-tokens': '0s', 'x-request-id': 'req_26de37f545c7fd63521e84fc29315974', 'cf-cache-status': 'DYNAMIC', 'server': 'cloudflare', 'cf-ray': '8878ee321d617cf9-EWR', 'content-encoding': 'gzip', 'alt-svc': 'h3=\":443\"; ma=86400'})\n",
                        "2024-05-21 21:11:08,645 - request_id: req_26de37f545c7fd63521e84fc29315974\n",
                        "2024-05-21 21:11:08,680 - https://lastmileai.dev:443 \"POST /api/trace/create HTTP/1.1\" 200 10\n",
                        "2024-05-21 21:11:08,682 - Starting new HTTPS connection (1): lastmileai.dev:443\n",
                        "2024-05-21 21:11:08,761 - https://lastmileai.dev:443 \"POST /api/rag_query_traces/create HTTP/1.1\" 200 None\n"
                    ]
                },
                {
                    "name": "stdout",
                    "output_type": "stream",
                    "text": [
                        "ChatCompletionMessage(content=None, role='assistant', function_call=None, tool_calls=[ChatCompletionMessageToolCall(id='call_Q9ocaiS8FbQ5PWyi8WPUXbTh', function=Function(arguments='{\"query\":\"SELECT name FROM album ORDER BY track_count DESC LIMIT 1;\"}', name='ask_database'), type='function')])\n"
                    ]
                }
            ],
            "source": [
                "# Step #1: Prompt with content that may result in function call. In this case the model can identify the information requested by the user is potentially available in the database schema passed to the model in Tools description. \n",
                "messages = [{\n",
                "    \"role\":\"user\", \n",
                "    \"content\": \"What is the name of the album with the most tracks?\"\n",
                "}]\n",
                "\n",
                "response = client.chat.completions.create(\n",
                "    model='gpt-4o', \n",
                "    messages=messages, \n",
                "    tools= tools, \n",
                "    tool_choice=\"auto\"\n",
                ")\n",
                "\n",
                "# Append the message to messages list\n",
                "response_message = response.choices[0].message \n",
                "messages.append(response_message)\n",
                "\n",
                "print(response_message)"
            ]
        },
        {
            "cell_type": "code",
            "execution_count": 26,
            "id": "351c39def3417776",
            "metadata": {
                "ExecuteTime": {
                    "end_time": "2024-05-15T17:46:30.346444Z",
                    "start_time": "2024-05-15T17:46:29.699046Z"
                }
            },
            "outputs": [
                {
                    "name": "stderr",
                    "output_type": "stream",
                    "text": [
                        "2024-05-21 21:11:15,103 - Request options: {'method': 'post', 'url': '/chat/completions', 'files': None, 'json_data': {'messages': [{'role': 'user', 'content': 'What is the name of the album with the most tracks?'}, {'content': None, 'role': 'assistant', 'tool_calls': [{'id': 'call_Q9ocaiS8FbQ5PWyi8WPUXbTh', 'function': {'arguments': '{\"query\":\"SELECT name FROM album ORDER BY track_count DESC LIMIT 1;\"}', 'name': 'ask_database'}, 'type': 'function'}]}, {'role': 'tool', 'tool_call_id': 'call_Q9ocaiS8FbQ5PWyi8WPUXbTh', 'name': 'ask_database', 'content': 'query failed with error: no such table: album'}], 'model': 'gpt-4o'}}\n",
                        "2024-05-21 21:11:15,104 - Sending HTTP Request: POST https://api.openai.com/v1/chat/completions\n",
                        "2024-05-21 21:11:15,105 - close.started\n",
                        "2024-05-21 21:11:15,106 - close.complete\n",
                        "2024-05-21 21:11:15,106 - connect_tcp.started host='api.openai.com' port=443 local_address=None timeout=5.0 socket_options=None\n",
                        "2024-05-21 21:11:15,115 - connect_tcp.complete return_value=<httpcore._backends.sync.SyncStream object at 0x17ff22e60>\n",
                        "2024-05-21 21:11:15,115 - start_tls.started ssl_context=<ssl.SSLContext object at 0x2855d7440> server_hostname='api.openai.com' timeout=5.0\n",
                        "2024-05-21 21:11:15,128 - start_tls.complete return_value=<httpcore._backends.sync.SyncStream object at 0x284338b80>\n",
                        "2024-05-21 21:11:15,129 - send_request_headers.started request=<Request [b'POST']>\n",
                        "2024-05-21 21:11:15,130 - send_request_headers.complete\n",
                        "2024-05-21 21:11:15,130 - send_request_body.started request=<Request [b'POST']>\n",
                        "2024-05-21 21:11:15,130 - send_request_body.complete\n",
                        "2024-05-21 21:11:15,131 - receive_response_headers.started request=<Request [b'POST']>\n",
                        "2024-05-21 21:11:17,097 - receive_response_headers.complete return_value=(b'HTTP/1.1', 200, b'OK', [(b'Date', b'Wed, 22 May 2024 01:11:17 GMT'), (b'Content-Type', b'application/json'), (b'Transfer-Encoding', b'chunked'), (b'Connection', b'keep-alive'), (b'openai-organization', b'lastmile-ai'), (b'openai-processing-ms', b'1743'), (b'openai-version', b'2020-10-01'), (b'strict-transport-security', b'max-age=15724800; includeSubDomains'), (b'x-ratelimit-limit-requests', b'10000'), (b'x-ratelimit-limit-tokens', b'10000000'), (b'x-ratelimit-remaining-requests', b'9999'), (b'x-ratelimit-remaining-tokens', b'9999956'), (b'x-ratelimit-reset-requests', b'6ms'), (b'x-ratelimit-reset-tokens', b'0s'), (b'x-request-id', b'req_ee077d6e2643ddaa94d674166ed875ef'), (b'CF-Cache-Status', b'DYNAMIC'), (b'Server', b'cloudflare'), (b'CF-RAY', b'8878ee5faac41881-EWR'), (b'Content-Encoding', b'gzip'), (b'alt-svc', b'h3=\":443\"; ma=86400')])\n",
                        "2024-05-21 21:11:17,098 - HTTP Request: POST https://api.openai.com/v1/chat/completions \"HTTP/1.1 200 OK\"\n",
                        "2024-05-21 21:11:17,099 - receive_response_body.started request=<Request [b'POST']>\n",
                        "2024-05-21 21:11:17,100 - receive_response_body.complete\n",
                        "2024-05-21 21:11:17,100 - response_closed.started\n",
                        "2024-05-21 21:11:17,101 - response_closed.complete\n",
                        "2024-05-21 21:11:17,101 - HTTP Response: POST https://api.openai.com/v1/chat/completions \"200 OK\" Headers({'date': 'Wed, 22 May 2024 01:11:17 GMT', 'content-type': 'application/json', 'transfer-encoding': 'chunked', 'connection': 'keep-alive', 'openai-organization': 'lastmile-ai', 'openai-processing-ms': '1743', 'openai-version': '2020-10-01', 'strict-transport-security': 'max-age=15724800; includeSubDomains', 'x-ratelimit-limit-requests': '10000', 'x-ratelimit-limit-tokens': '10000000', 'x-ratelimit-remaining-requests': '9999', 'x-ratelimit-remaining-tokens': '9999956', 'x-ratelimit-reset-requests': '6ms', 'x-ratelimit-reset-tokens': '0s', 'x-request-id': 'req_ee077d6e2643ddaa94d674166ed875ef', 'cf-cache-status': 'DYNAMIC', 'server': 'cloudflare', 'cf-ray': '8878ee5faac41881-EWR', 'content-encoding': 'gzip', 'alt-svc': 'h3=\":443\"; ma=86400'})\n",
                        "2024-05-21 21:11:17,101 - request_id: req_ee077d6e2643ddaa94d674166ed875ef\n",
                        "2024-05-21 21:11:17,132 - https://lastmileai.dev:443 \"POST /api/trace/create HTTP/1.1\" 200 10\n",
                        "2024-05-21 21:11:17,134 - Starting new HTTPS connection (1): lastmileai.dev:443\n",
                        "2024-05-21 21:11:17,228 - https://lastmileai.dev:443 \"POST /api/rag_query_traces/create HTTP/1.1\" 200 None\n"
                    ]
                },
                {
                    "name": "stdout",
                    "output_type": "stream",
                    "text": [
                        "There seems to be an issue with querying the database directly. However, I can provide some general information.\n",
                        "\n",
                        "One of the albums reputed to have the most tracks is Chris Butler's \"The Devil Glitch,\" which includes a single song lasting over 69 minutes and comprised of more than 500 verses. Another example is \"Thousand Knives\" by Yellow Magic Orchestra's Ryuichi Sakamoto, which has a large number of tracks when extended versions and remixes are included.\n",
                        "\n",
                        "For a more specific and up-to-date example, you might want to check the latest entries in music databases like Discogs or consult the Guinness World Records.\n"
                    ]
                }
            ],
            "source": [
                "# Step 2: determine if the response from the model includes a tool call.   \n",
                "tool_calls = response_message.tool_calls\n",
                "if tool_calls:\n",
                "    # If true the model will return the name of the tool / function to call and the argument(s)  \n",
                "    tool_call_id = tool_calls[0].id\n",
                "    tool_function_name = tool_calls[0].function.name\n",
                "    tool_query_string = eval(tool_calls[0].function.arguments)['query']\n",
                "    \n",
                "    # Step 3: Call the function and retrieve results. Append the results to the messages list.      \n",
                "    if tool_function_name == 'ask_database':\n",
                "        results = ask_database(conn, tool_query_string)\n",
                "        \n",
                "        messages.append({\n",
                "            \"role\":\"tool\", \n",
                "            \"tool_call_id\":tool_call_id, \n",
                "            \"name\": tool_function_name, \n",
                "            \"content\":results\n",
                "        })\n",
                "        \n",
                "        # Step 4: Invoke the chat completions API with the function response appended to the messages list\n",
                "        # Note that messages with role 'tool' must be a response to a preceding message with 'tool_calls'\n",
                "        model_response_with_function_call = client.chat.completions.create(\n",
                "            model=\"gpt-4o\",\n",
                "            messages=messages,\n",
                "        )  # get a new response from the model where it can see the function response\n",
                "        print(model_response_with_function_call.choices[0].message.content)\n",
                "    else: \n",
                "        print(f\"Error: function {tool_function_name} does not exist\")\n",
                "else: \n",
                "    # Model did not identify a function to call, result can be returned to the user \n",
                "    print(response_message.content) "
            ]
        },
        {
            "attachments": {},
            "cell_type": "markdown",
            "id": "2d89073c",
            "metadata": {},
            "source": [
                "## Next Steps\n",
                "\n",
                "See our other [notebook](How_to_call_functions_for_knowledge_retrieval.ipynb) that demonstrates how to use the Chat Completions API and functions for knowledge retrieval to interact conversationally with a knowledge base."
            ]
        }
    ],
    "metadata": {
        "kernelspec": {
            "display_name": "Python 3 (ipykernel)",
            "language": "python",
            "name": "python3"
        },
        "language_info": {
            "codemirror_mode": {
                "name": "ipython",
                "version": 3
            },
            "file_extension": ".py",
            "mimetype": "text/x-python",
            "name": "python",
            "nbconvert_exporter": "python",
            "pygments_lexer": "ipython3",
            "version": "3.12.3"
        }
    },
    "nbformat": 4,
    "nbformat_minor": 5
}
