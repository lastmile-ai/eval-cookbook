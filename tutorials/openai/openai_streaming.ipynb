{
    "cells": [
        {
            "attachments": {},
            "cell_type": "markdown",
            "id": "3e67f200",
            "metadata": {},
            "source": [
                "# OpenAI Streaming - Traced With LastMile\n",
                "\n",
                "Four use cases:\n",
                "\n",
                "1. Text - Non-streaming\n",
                "2. [this one] Text - Streaming\n",
                "3. Tool Calls - Non-streaming\n",
                "4. Tool Calls - Streaming"
            ]
        },
        {
            "cell_type": "code",
            "execution_count": 1,
            "id": "80e71f33",
            "metadata": {
                "pycharm": {
                    "is_executing": true
                }
            },
            "outputs": [],
            "source": [
                "# !pip install scipy --quiet\n",
                "# !pip install tenacity --quiet\n",
                "# !pip install tiktoken --quiet\n",
                "# !pip install termcolor --quiet\n",
                "# !pip install openai --quiet\n",
                "# !pip install \"tracing-auto-instrumentation[openai]\"\n",
                "\n",
                "# Create ~/.env file with this line: OPENAI_API_KEY=<your key here>\n",
                "# You can get your key from https://platform.openai.com/api-keys \n",
                "import openai\n",
                "import dotenv\n",
                "import os\n",
                "dotenv.load_dotenv()\n",
                "OPENAI_API_KEY = os.getenv(\"OPENAI_API_KEY\")"
            ]
        },
        {
            "cell_type": "code",
            "execution_count": 2,
            "id": "4abf2967",
            "metadata": {},
            "outputs": [
                {
                    "name": "stderr",
                    "output_type": "stream",
                    "text": [
                        "/opt/homebrew/Caskroom/miniconda/base/envs/eval/lib/python3.12/site-packages/tqdm/auto.py:21: TqdmWarning: IProgress not found. Please update jupyter and ipywidgets. See https://ipywidgets.readthedocs.io/en/stable/user_install.html\n",
                        "  from .autonotebook import tqdm as notebook_tqdm\n",
                        "2024-05-30 19:07:57,651 - Starting new HTTPS connection (1): lastmileai.dev:443\n",
                        "2024-05-30 19:07:57,778 - https://lastmileai.dev:443 \"GET /api/evaluation_projects/list?name=OpenAI+Text+Calling+w.+Streaming HTTP/1.1\" 200 367\n",
                        "2024-05-30 19:07:57,780 - load_ssl_context verify=True cert=None trust_env=True http2=False\n",
                        "2024-05-30 19:07:57,781 - load_verify_locations cafile='/opt/homebrew/Caskroom/miniconda/base/envs/eval/lib/python3.12/site-packages/certifi/cacert.pem'\n"
                    ]
                }
            ],
            "source": [
                "import openai\n",
                "\n",
                "from lastmile_eval.rag.debugger.api.tracing import LastMileTracer\n",
                "\n",
                "from tracing_auto_instrumentation.openai import wrap_openai\n",
                "from lastmile_eval.rag.debugger.tracing.sdk import get_lastmile_tracer\n",
                "\n",
                "tracer: LastMileTracer = get_lastmile_tracer(\n",
                "    tracer_name=\"OpenAI Text Calling w. Streaming\",\n",
                ")\n",
                "client = openai.OpenAI(api_key=OPENAI_API_KEY)\n",
                "client = wrap_openai(client, tracer)"
            ]
        },
        {
            "cell_type": "code",
            "execution_count": 3,
            "id": "4276d4b0",
            "metadata": {},
            "outputs": [],
            "source": [
                "def run_my_existing_openai_app(user_message: str, stream: bool = True):\n",
                "    completion_params = {\n",
                "        \"model\": \"gpt-3.5-turbo\",\n",
                "        \"top_p\": 1,\n",
                "        \"max_tokens\": 10,\n",
                "        \"temperature\": 1,\n",
                "        \"stream\": stream,\n",
                "        \"messages\": [\n",
                "            {\n",
                "                \"content\": user_message,\n",
                "                \"role\": \"user\",\n",
                "            }\n",
                "        ],\n",
                "    }\n",
                "\n",
                "    response = client.chat.completions.create(**completion_params)\n",
                "    print(\"Chat Completion Response: \")\n",
                "    if stream:\n",
                "        for chunk in response:\n",
                "            print(f\"{chunk=}\")\n",
                "    else:\n",
                "        print(f\"{response=}\")"
            ]
        },
        {
            "cell_type": "code",
            "execution_count": 4,
            "id": "9aa6f3f6",
            "metadata": {},
            "outputs": [],
            "source": [
                "# # Run your code as usual\n",
                "# stream = False\n",
                "# run_my_existing_openai_app(\"Tell me a joke about apples\", stream=stream)"
            ]
        },
        {
            "cell_type": "markdown",
            "id": "263685c1",
            "metadata": {},
            "source": [
                "## Time to test this with async calls"
            ]
        },
        {
            "cell_type": "code",
            "execution_count": 5,
            "id": "d2045d18",
            "metadata": {},
            "outputs": [
                {
                    "name": "stderr",
                    "output_type": "stream",
                    "text": [
                        "2024-05-30 19:07:57,805 - load_ssl_context verify=True cert=None trust_env=True http2=False\n",
                        "2024-05-30 19:07:57,806 - load_verify_locations cafile='/opt/homebrew/Caskroom/miniconda/base/envs/eval/lib/python3.12/site-packages/certifi/cacert.pem'\n"
                    ]
                }
            ],
            "source": [
                "client = openai.AsyncOpenAI(api_key=OPENAI_API_KEY)\n",
                "client = wrap_openai(client, tracer)\n",
                "\n",
                "async def run_my_existing_openai_app_async(user_message: str, stream: bool = True):\n",
                "    completion_params = {\n",
                "        \"model\": \"gpt-3.5-turbo\",\n",
                "        \"top_p\": 1,\n",
                "        \"max_tokens\": 3000,\n",
                "        \"temperature\": 1,\n",
                "        \"stream\": stream,\n",
                "        \"messages\": [\n",
                "            {\n",
                "                \"content\": user_message,\n",
                "                \"role\": \"user\",\n",
                "            }\n",
                "        ],\n",
                "    }\n",
                "\n",
                "    response = await client.chat.completions.create(**completion_params)\n",
                "    print(\"Chat Completion Response: \")\n",
                "    if stream:\n",
                "        async for chunk in response:\n",
                "            print(f\"{chunk=}\")\n",
                "    else:\n",
                "        print(f\"{response=}\")\n",
                "    return response"
            ]
        },
        {
            "cell_type": "code",
            "execution_count": 6,
            "id": "f9113e1f",
            "metadata": {},
            "outputs": [
                {
                    "name": "stderr",
                    "output_type": "stream",
                    "text": [
                        "2024-05-30 19:07:57,824 - Request options: {'method': 'post', 'url': '/chat/completions', 'files': None, 'json_data': {'messages': [{'content': 'Tell me a joke about apples', 'role': 'user'}], 'model': 'gpt-3.5-turbo', 'max_tokens': 3000, 'stream': False, 'temperature': 1, 'top_p': 1}}\n",
                        "2024-05-30 19:07:57,837 - connect_tcp.started host='api.openai.com' port=443 local_address=None timeout=5.0 socket_options=None\n",
                        "2024-05-30 19:07:57,874 - connect_tcp.complete return_value=<httpcore._backends.anyio.AnyIOStream object at 0x141622390>\n",
                        "2024-05-30 19:07:57,875 - start_tls.started ssl_context=<ssl.SSLContext object at 0x147aadfd0> server_hostname='api.openai.com' timeout=5.0\n",
                        "2024-05-30 19:07:57,890 - start_tls.complete return_value=<httpcore._backends.anyio.AnyIOStream object at 0x131a60800>\n",
                        "2024-05-30 19:07:57,891 - send_request_headers.started request=<Request [b'POST']>\n",
                        "2024-05-30 19:07:57,891 - send_request_headers.complete\n",
                        "2024-05-30 19:07:57,892 - send_request_body.started request=<Request [b'POST']>\n",
                        "2024-05-30 19:07:57,892 - send_request_body.complete\n",
                        "2024-05-30 19:07:57,892 - receive_response_headers.started request=<Request [b'POST']>\n",
                        "2024-05-30 19:07:58,421 - receive_response_headers.complete return_value=(b'HTTP/1.1', 200, b'OK', [(b'Date', b'Thu, 30 May 2024 23:07:58 GMT'), (b'Content-Type', b'application/json'), (b'Transfer-Encoding', b'chunked'), (b'Connection', b'keep-alive'), (b'openai-organization', b'lastmile-ai'), (b'openai-processing-ms', b'338'), (b'openai-version', b'2020-10-01'), (b'strict-transport-security', b'max-age=15724800; includeSubDomains'), (b'x-ratelimit-limit-requests', b'10000'), (b'x-ratelimit-limit-tokens', b'2000000'), (b'x-ratelimit-remaining-requests', b'9999'), (b'x-ratelimit-remaining-tokens', b'1996992'), (b'x-ratelimit-reset-requests', b'6ms'), (b'x-ratelimit-reset-tokens', b'90ms'), (b'x-request-id', b'req_1188547de08bbfea1629096806f25429'), (b'CF-Cache-Status', b'DYNAMIC'), (b'Set-Cookie', b'__cf_bm=haiA3zZm1sL7A1Z.b3_33b7bY4Vd2fYcqX.6cPqivEM-1717110478-1.0.1.1-L3zITMUrqgiYlVqPNlCI5Iy.EHhU4ByfJAdeEPoo78IH4Cz1jAGGdlBskxeU72AU2ywcwuXiew.lFBfyFPCc7w; path=/; expires=Thu, 30-May-24 23:37:58 GMT; domain=.api.openai.com; HttpOnly; Secure; SameSite=None'), (b'Set-Cookie', b'_cfuvid=aHgrwv33GVYtAkjJhjQkICwrWyPYBZ7GsvWw7zz9dE0-1717110478444-0.0.1.1-604800000; path=/; domain=.api.openai.com; HttpOnly; Secure; SameSite=None'), (b'Server', b'cloudflare'), (b'CF-RAY', b'88c262271f334233-EWR'), (b'Content-Encoding', b'gzip'), (b'alt-svc', b'h3=\":443\"; ma=86400')])\n",
                        "2024-05-30 19:07:58,423 - HTTP Request: POST https://api.openai.com/v1/chat/completions \"HTTP/1.1 200 OK\"\n",
                        "2024-05-30 19:07:58,423 - receive_response_body.started request=<Request [b'POST']>\n",
                        "2024-05-30 19:07:58,424 - receive_response_body.complete\n",
                        "2024-05-30 19:07:58,425 - response_closed.started\n",
                        "2024-05-30 19:07:58,425 - response_closed.complete\n",
                        "2024-05-30 19:07:58,426 - HTTP Request: POST https://api.openai.com/v1/chat/completions \"200 OK\"\n"
                    ]
                },
                {
                    "name": "stdout",
                    "output_type": "stream",
                    "text": [
                        "Chat Completion Response: \n",
                        "response=ChatCompletion(id='chatcmpl-9UjAEjKQc9Iatqn1JAJ3ALHV7rEOK', choices=[Choice(finish_reason='stop', index=0, logprobs=None, message=ChatCompletionMessage(content=\"Why did the apple go to the doctor? Because it wasn't peeling well!\", role='assistant', function_call=None, tool_calls=None))], created=1717110478, model='gpt-3.5-turbo-0125', object='chat.completion', system_fingerprint=None, usage=CompletionUsage(completion_tokens=17, prompt_tokens=13, total_tokens=30))\n"
                    ]
                },
                {
                    "name": "stderr",
                    "output_type": "stream",
                    "text": [
                        "2024-05-30 19:07:58,440 - Failed to detach context\n",
                        "Traceback (most recent call last):\n",
                        "  File \"/opt/homebrew/Caskroom/miniconda/base/envs/eval/lib/python3.12/site-packages/opentelemetry/trace/__init__.py\", line 570, in use_span\n",
                        "    yield span\n",
                        "  File \"/opt/homebrew/Caskroom/miniconda/base/envs/eval/lib/python3.12/site-packages/opentelemetry/sdk/trace/__init__.py\", line 1071, in start_as_current_span\n",
                        "    yield span\n",
                        "  File \"/Users/rossdancraig/Projects/eval/src/lastmile_eval/rag/debugger/tracing/lastmile_tracer.py\", line 220, in start_as_current_span\n",
                        "    yield span\n",
                        "  File \"/Users/rossdancraig/Projects/tracing_auto_instrumentation/src/tracing_auto_instrumentation/openai/openai_wrapper.py\", line 303, in acreate\n",
                        "    yield raw_response\n",
                        "GeneratorExit\n",
                        "\n",
                        "During handling of the above exception, another exception occurred:\n",
                        "\n",
                        "Traceback (most recent call last):\n",
                        "  File \"/opt/homebrew/Caskroom/miniconda/base/envs/eval/lib/python3.12/site-packages/opentelemetry/context/__init__.py\", line 163, in detach\n",
                        "    _RUNTIME_CONTEXT.detach(token)  # type: ignore\n",
                        "    ^^^^^^^^^^^^^^^^^^^^^^^^^^^^^^\n",
                        "  File \"/opt/homebrew/Caskroom/miniconda/base/envs/eval/lib/python3.12/site-packages/opentelemetry/context/contextvars_context.py\", line 50, in detach\n",
                        "    self._current_context.reset(token)  # type: ignore\n",
                        "    ^^^^^^^^^^^^^^^^^^^^^^^^^^^^^^^^^^\n",
                        "ValueError: <Token var=<ContextVar name='current_context' default={} at 0x147ae4040> at 0x147481dc0> was created in a different Context\n",
                        "2024-05-30 19:07:58,444 - Starting new HTTPS connection (1): lastmileai.dev:443\n",
                        "2024-05-30 19:07:58,523 - https://lastmileai.dev:443 \"POST /api/trace/create HTTP/1.1\" 200 10\n",
                        "2024-05-30 19:07:58,525 - Starting new HTTPS connection (1): lastmileai.dev:443\n",
                        "2024-05-30 19:07:58,605 - https://lastmileai.dev:443 \"POST /api/rag_query_traces/create HTTP/1.1\" 200 475\n",
                        "2024-05-30 19:07:58,607 - Starting new HTTPS connection (1): lastmileai.dev:443\n",
                        "2024-05-30 19:07:58,697 - https://lastmileai.dev:443 \"POST /api/rag_events/create HTTP/1.1\" 200 804\n"
                    ]
                }
            ],
            "source": [
                "stream = False\n",
                "response = await run_my_existing_openai_app_async(\"Tell me a joke about apples\", stream=stream)"
            ]
        }
    ],
    "metadata": {
        "kernelspec": {
            "display_name": "Python 3 (ipykernel)",
            "language": "python",
            "name": "python3"
        },
        "language_info": {
            "codemirror_mode": {
                "name": "ipython",
                "version": 3
            },
            "file_extension": ".py",
            "mimetype": "text/x-python",
            "name": "python",
            "nbconvert_exporter": "python",
            "pygments_lexer": "ipython3",
            "version": "3.12.3"
        }
    },
    "nbformat": 4,
    "nbformat_minor": 5
}
