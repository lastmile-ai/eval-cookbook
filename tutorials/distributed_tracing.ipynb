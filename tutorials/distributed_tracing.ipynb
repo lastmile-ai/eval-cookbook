{
  "cells": [
    {
      "cell_type": "markdown",
      "metadata": {
        "id": "pbh9LVaVvwUz"
      },
      "source": [
        "# RAG Workbench - Distributed Tracing Tutorial\n",
        "\n",
        "In this example notebook, we showcase how to implement distributed tracing using the LastMile Tracing SDK and RAG Workbench UI.\n",
        "\n",
        "## Notebook Outline\n",
        "* [Introduction](#intro)\n",
        "* [Install and Setup](#setup)\n",
        "* [Step 1: Instrument server code](#step1)\n",
        "* [Step 2: Instrument client code](#step2)\n",
        "* [Step 3: View Results in RAG Workbench UI](#step3)"
      ]
    },
    {
      "cell_type": "markdown",
      "metadata": {
        "id": "dgUE0NodwnuB"
      },
      "source": [
        "<a name=\"intro\"></a>\n",
        "# Introduction\n",
        "**Distributed tracing** allows you to track and analyze the flow of requests across multiple services or components in a distributed system.\n",
        "\n",
        "This example involves the client sending a request to a server to generate a riddle with `gpt-3.5-turbo`. The server uses OpenAI's `gpt-3.5-turbo` to generate the riddle and returns it to the client. The LastMile Tracing SDK is used to to instrument tracing and capture trace information."
      ]
    },
    {
      "cell_type": "markdown",
      "metadata": {
        "id": "dZsHsTimxR_v"
      },
      "source": [
        "<a name=\"setup\"></a>\n",
        "\n",
        "# Isntall and Setup\n",
        "\n",
        "First install the required packages."
      ]
    },
    {
      "cell_type": "code",
      "execution_count": 1,
      "metadata": {
        "colab": {
          "base_uri": "https://localhost:8080/"
        },
        "collapsed": true,
        "id": "AjBExwI2vwU0",
        "outputId": "195836c8-1088-428e-e0ba-2b934c813c0b"
      },
      "outputs": [
        {
          "name": "stdout",
          "output_type": "stream",
          "text": [
            "Requirement already satisfied: lastmile-eval in /usr/local/lib/python3.10/dist-packages (0.0.70)\n",
            "Requirement already satisfied: requests in /usr/local/lib/python3.10/dist-packages (from lastmile-eval) (2.32.3)\n",
            "Requirement already satisfied: python-dotenv in /usr/local/lib/python3.10/dist-packages (from lastmile-eval) (1.0.0)\n",
            "Requirement already satisfied: pydantic>=2.1 in /usr/local/lib/python3.10/dist-packages (from lastmile-eval) (2.7.3)\n",
            "Requirement already satisfied: result in /usr/local/lib/python3.10/dist-packages (from lastmile-eval) (0.16.0)\n",
            "Requirement already satisfied: lastmile-utils in /usr/local/lib/python3.10/dist-packages (from lastmile-eval) (0.0.24)\n",
            "Requirement already satisfied: evaluate==0.4.1 in /usr/local/lib/python3.10/dist-packages (from lastmile-eval) (0.4.1)\n",
            "Requirement already satisfied: arize-phoenix-evals==0.5.0 in /usr/local/lib/python3.10/dist-packages (from lastmile-eval) (0.5.0)\n",
            "Requirement already satisfied: pandas==2.1.2 in /usr/local/lib/python3.10/dist-packages (from lastmile-eval) (2.1.2)\n",
            "Requirement already satisfied: instructor in /usr/local/lib/python3.10/dist-packages (from lastmile-eval) (1.3.3)\n",
            "Requirement already satisfied: openai>=1.0.0 in /usr/local/lib/python3.10/dist-packages (from lastmile-eval) (1.35.0)\n",
            "Requirement already satisfied: random-word in /usr/local/lib/python3.10/dist-packages (from lastmile-eval) (1.0.11)\n",
            "Requirement already satisfied: rouge-score in /usr/local/lib/python3.10/dist-packages (from lastmile-eval) (0.1.2)\n",
            "Requirement already satisfied: opentelemetry-api in /usr/local/lib/python3.10/dist-packages (from lastmile-eval) (1.25.0)\n",
            "Requirement already satisfied: opentelemetry-sdk in /usr/local/lib/python3.10/dist-packages (from lastmile-eval) (1.25.0)\n",
            "Requirement already satisfied: opentelemetry-exporter-otlp in /usr/local/lib/python3.10/dist-packages (from lastmile-eval) (1.25.0)\n",
            "Requirement already satisfied: opentelemetry-semantic-conventions in /usr/local/lib/python3.10/dist-packages (from lastmile-eval) (0.46b0)\n",
            "Requirement already satisfied: openinference-semantic-conventions in /usr/local/lib/python3.10/dist-packages (from lastmile-eval) (0.1.6)\n",
            "Requirement already satisfied: packaging in /usr/local/lib/python3.10/dist-packages (from lastmile-eval) (24.1)\n",
            "Requirement already satisfied: tqdm in /usr/local/lib/python3.10/dist-packages (from arize-phoenix-evals==0.5.0->lastmile-eval) (4.66.4)\n",
            "Requirement already satisfied: typing-extensions<5,>=4.5 in /usr/local/lib/python3.10/dist-packages (from arize-phoenix-evals==0.5.0->lastmile-eval) (4.12.2)\n",
            "Requirement already satisfied: datasets>=2.0.0 in /usr/local/lib/python3.10/dist-packages (from evaluate==0.4.1->lastmile-eval) (2.20.0)\n",
            "Requirement already satisfied: numpy>=1.17 in /usr/local/lib/python3.10/dist-packages (from evaluate==0.4.1->lastmile-eval) (1.25.2)\n",
            "Requirement already satisfied: dill in /usr/local/lib/python3.10/dist-packages (from evaluate==0.4.1->lastmile-eval) (0.3.8)\n",
            "Requirement already satisfied: xxhash in /usr/local/lib/python3.10/dist-packages (from evaluate==0.4.1->lastmile-eval) (3.4.1)\n",
            "Requirement already satisfied: multiprocess in /usr/local/lib/python3.10/dist-packages (from evaluate==0.4.1->lastmile-eval) (0.70.16)\n",
            "Requirement already satisfied: fsspec[http]>=2021.05.0 in /usr/local/lib/python3.10/dist-packages (from evaluate==0.4.1->lastmile-eval) (2023.6.0)\n",
            "Requirement already satisfied: huggingface-hub>=0.7.0 in /usr/local/lib/python3.10/dist-packages (from evaluate==0.4.1->lastmile-eval) (0.23.3)\n",
            "Requirement already satisfied: responses<0.19 in /usr/local/lib/python3.10/dist-packages (from evaluate==0.4.1->lastmile-eval) (0.18.0)\n",
            "Requirement already satisfied: python-dateutil>=2.8.2 in /usr/local/lib/python3.10/dist-packages (from pandas==2.1.2->lastmile-eval) (2.8.2)\n",
            "Requirement already satisfied: pytz>=2020.1 in /usr/local/lib/python3.10/dist-packages (from pandas==2.1.2->lastmile-eval) (2023.4)\n",
            "Requirement already satisfied: tzdata>=2022.1 in /usr/local/lib/python3.10/dist-packages (from pandas==2.1.2->lastmile-eval) (2024.1)\n",
            "Requirement already satisfied: anyio<5,>=3.5.0 in /usr/local/lib/python3.10/dist-packages (from openai>=1.0.0->lastmile-eval) (3.7.1)\n",
            "Requirement already satisfied: distro<2,>=1.7.0 in /usr/lib/python3/dist-packages (from openai>=1.0.0->lastmile-eval) (1.7.0)\n",
            "Requirement already satisfied: httpx<1,>=0.23.0 in /usr/local/lib/python3.10/dist-packages (from openai>=1.0.0->lastmile-eval) (0.27.0)\n",
            "Requirement already satisfied: sniffio in /usr/local/lib/python3.10/dist-packages (from openai>=1.0.0->lastmile-eval) (1.3.1)\n",
            "Requirement already satisfied: annotated-types>=0.4.0 in /usr/local/lib/python3.10/dist-packages (from pydantic>=2.1->lastmile-eval) (0.7.0)\n",
            "Requirement already satisfied: pydantic-core==2.18.4 in /usr/local/lib/python3.10/dist-packages (from pydantic>=2.1->lastmile-eval) (2.18.4)\n",
            "Requirement already satisfied: charset-normalizer<4,>=2 in /usr/local/lib/python3.10/dist-packages (from requests->lastmile-eval) (3.3.2)\n",
            "Requirement already satisfied: idna<4,>=2.5 in /usr/local/lib/python3.10/dist-packages (from requests->lastmile-eval) (3.7)\n",
            "Requirement already satisfied: urllib3<3,>=1.21.1 in /usr/local/lib/python3.10/dist-packages (from requests->lastmile-eval) (2.0.7)\n",
            "Requirement already satisfied: certifi>=2017.4.17 in /usr/local/lib/python3.10/dist-packages (from requests->lastmile-eval) (2024.6.2)\n",
            "Requirement already satisfied: aiohttp<4.0.0,>=3.9.1 in /usr/local/lib/python3.10/dist-packages (from instructor->lastmile-eval) (3.9.5)\n",
            "Requirement already satisfied: docstring-parser<0.17,>=0.16 in /usr/local/lib/python3.10/dist-packages (from instructor->lastmile-eval) (0.16)\n",
            "Requirement already satisfied: jiter<0.5.0,>=0.4.1 in /usr/local/lib/python3.10/dist-packages (from instructor->lastmile-eval) (0.4.2)\n",
            "Requirement already satisfied: rich<14.0.0,>=13.7.0 in /usr/local/lib/python3.10/dist-packages (from instructor->lastmile-eval) (13.7.1)\n",
            "Requirement already satisfied: tenacity<9.0.0,>=8.2.3 in /usr/local/lib/python3.10/dist-packages (from instructor->lastmile-eval) (8.3.0)\n",
            "Requirement already satisfied: typer<1.0.0,>=0.9.0 in /usr/local/lib/python3.10/dist-packages (from instructor->lastmile-eval) (0.12.3)\n",
            "Requirement already satisfied: black==23.11.0 in /usr/local/lib/python3.10/dist-packages (from lastmile-utils->lastmile-eval) (23.11.0)\n",
            "Requirement already satisfied: chardet==5.2.0 in /usr/local/lib/python3.10/dist-packages (from lastmile-utils->lastmile-eval) (5.2.0)\n",
            "Requirement already satisfied: flake8==6.1.0 in /usr/local/lib/python3.10/dist-packages (from lastmile-utils->lastmile-eval) (6.1.0)\n",
            "Requirement already satisfied: isort==5.12.0 in /usr/local/lib/python3.10/dist-packages (from lastmile-utils->lastmile-eval) (5.12.0)\n",
            "Requirement already satisfied: pylint==3.0.2 in /usr/local/lib/python3.10/dist-packages (from lastmile-utils->lastmile-eval) (3.0.2)\n",
            "Requirement already satisfied: pyright==1.1.335 in /usr/local/lib/python3.10/dist-packages (from lastmile-utils->lastmile-eval) (1.1.335)\n",
            "Requirement already satisfied: pytest==7.4.3 in /usr/local/lib/python3.10/dist-packages (from lastmile-utils->lastmile-eval) (7.4.3)\n",
            "Requirement already satisfied: autoflake==2.2.1 in /usr/local/lib/python3.10/dist-packages (from lastmile-utils->lastmile-eval) (2.2.1)\n",
            "Requirement already satisfied: pyflakes>=3.0.0 in /usr/local/lib/python3.10/dist-packages (from autoflake==2.2.1->lastmile-utils->lastmile-eval) (3.1.0)\n",
            "Requirement already satisfied: tomli>=2.0.1 in /usr/local/lib/python3.10/dist-packages (from autoflake==2.2.1->lastmile-utils->lastmile-eval) (2.0.1)\n",
            "Requirement already satisfied: click>=8.0.0 in /usr/local/lib/python3.10/dist-packages (from black==23.11.0->lastmile-utils->lastmile-eval) (8.1.7)\n",
            "Requirement already satisfied: mypy-extensions>=0.4.3 in /usr/local/lib/python3.10/dist-packages (from black==23.11.0->lastmile-utils->lastmile-eval) (1.0.0)\n",
            "Requirement already satisfied: pathspec>=0.9.0 in /usr/local/lib/python3.10/dist-packages (from black==23.11.0->lastmile-utils->lastmile-eval) (0.12.1)\n",
            "Requirement already satisfied: platformdirs>=2 in /usr/local/lib/python3.10/dist-packages (from black==23.11.0->lastmile-utils->lastmile-eval) (4.2.2)\n",
            "Requirement already satisfied: mccabe<0.8.0,>=0.7.0 in /usr/local/lib/python3.10/dist-packages (from flake8==6.1.0->lastmile-utils->lastmile-eval) (0.7.0)\n",
            "Requirement already satisfied: pycodestyle<2.12.0,>=2.11.0 in /usr/local/lib/python3.10/dist-packages (from flake8==6.1.0->lastmile-utils->lastmile-eval) (2.11.1)\n",
            "Requirement already satisfied: astroid<=3.1.0-dev0,>=3.0.1 in /usr/local/lib/python3.10/dist-packages (from pylint==3.0.2->lastmile-utils->lastmile-eval) (3.0.3)\n",
            "Requirement already satisfied: tomlkit>=0.10.1 in /usr/local/lib/python3.10/dist-packages (from pylint==3.0.2->lastmile-utils->lastmile-eval) (0.12.5)\n",
            "Requirement already satisfied: nodeenv>=1.6.0 in /usr/local/lib/python3.10/dist-packages (from pyright==1.1.335->lastmile-utils->lastmile-eval) (1.9.1)\n",
            "Requirement already satisfied: iniconfig in /usr/local/lib/python3.10/dist-packages (from pytest==7.4.3->lastmile-utils->lastmile-eval) (2.0.0)\n",
            "Requirement already satisfied: pluggy<2.0,>=0.12 in /usr/local/lib/python3.10/dist-packages (from pytest==7.4.3->lastmile-utils->lastmile-eval) (1.5.0)\n",
            "Requirement already satisfied: exceptiongroup>=1.0.0rc8 in /usr/local/lib/python3.10/dist-packages (from pytest==7.4.3->lastmile-utils->lastmile-eval) (1.2.1)\n",
            "Requirement already satisfied: deprecated>=1.2.6 in /usr/local/lib/python3.10/dist-packages (from opentelemetry-api->lastmile-eval) (1.2.14)\n",
            "Requirement already satisfied: importlib-metadata<=7.1,>=6.0 in /usr/local/lib/python3.10/dist-packages (from opentelemetry-api->lastmile-eval) (7.1.0)\n",
            "Requirement already satisfied: opentelemetry-exporter-otlp-proto-grpc==1.25.0 in /usr/local/lib/python3.10/dist-packages (from opentelemetry-exporter-otlp->lastmile-eval) (1.25.0)\n",
            "Requirement already satisfied: opentelemetry-exporter-otlp-proto-http==1.25.0 in /usr/local/lib/python3.10/dist-packages (from opentelemetry-exporter-otlp->lastmile-eval) (1.25.0)\n",
            "Requirement already satisfied: googleapis-common-protos~=1.52 in /usr/local/lib/python3.10/dist-packages (from opentelemetry-exporter-otlp-proto-grpc==1.25.0->opentelemetry-exporter-otlp->lastmile-eval) (1.63.1)\n",
            "Requirement already satisfied: grpcio<2.0.0,>=1.0.0 in /usr/local/lib/python3.10/dist-packages (from opentelemetry-exporter-otlp-proto-grpc==1.25.0->opentelemetry-exporter-otlp->lastmile-eval) (1.64.1)\n",
            "Requirement already satisfied: opentelemetry-exporter-otlp-proto-common==1.25.0 in /usr/local/lib/python3.10/dist-packages (from opentelemetry-exporter-otlp-proto-grpc==1.25.0->opentelemetry-exporter-otlp->lastmile-eval) (1.25.0)\n",
            "Requirement already satisfied: opentelemetry-proto==1.25.0 in /usr/local/lib/python3.10/dist-packages (from opentelemetry-exporter-otlp-proto-grpc==1.25.0->opentelemetry-exporter-otlp->lastmile-eval) (1.25.0)\n",
            "Requirement already satisfied: protobuf<5.0,>=3.19 in /usr/local/lib/python3.10/dist-packages (from opentelemetry-proto==1.25.0->opentelemetry-exporter-otlp-proto-grpc==1.25.0->opentelemetry-exporter-otlp->lastmile-eval) (3.20.3)\n",
            "Requirement already satisfied: pyyaml in /usr/local/lib/python3.10/dist-packages (from random-word->lastmile-eval) (6.0.1)\n",
            "Requirement already satisfied: absl-py in /usr/local/lib/python3.10/dist-packages (from rouge-score->lastmile-eval) (1.4.0)\n",
            "Requirement already satisfied: nltk in /usr/local/lib/python3.10/dist-packages (from rouge-score->lastmile-eval) (3.8.1)\n",
            "Requirement already satisfied: six>=1.14.0 in /usr/local/lib/python3.10/dist-packages (from rouge-score->lastmile-eval) (1.16.0)\n",
            "Requirement already satisfied: aiosignal>=1.1.2 in /usr/local/lib/python3.10/dist-packages (from aiohttp<4.0.0,>=3.9.1->instructor->lastmile-eval) (1.3.1)\n",
            "Requirement already satisfied: attrs>=17.3.0 in /usr/local/lib/python3.10/dist-packages (from aiohttp<4.0.0,>=3.9.1->instructor->lastmile-eval) (23.2.0)\n",
            "Requirement already satisfied: frozenlist>=1.1.1 in /usr/local/lib/python3.10/dist-packages (from aiohttp<4.0.0,>=3.9.1->instructor->lastmile-eval) (1.4.1)\n",
            "Requirement already satisfied: multidict<7.0,>=4.5 in /usr/local/lib/python3.10/dist-packages (from aiohttp<4.0.0,>=3.9.1->instructor->lastmile-eval) (6.0.5)\n",
            "Requirement already satisfied: yarl<2.0,>=1.0 in /usr/local/lib/python3.10/dist-packages (from aiohttp<4.0.0,>=3.9.1->instructor->lastmile-eval) (1.9.4)\n",
            "Requirement already satisfied: async-timeout<5.0,>=4.0 in /usr/local/lib/python3.10/dist-packages (from aiohttp<4.0.0,>=3.9.1->instructor->lastmile-eval) (4.0.3)\n",
            "Requirement already satisfied: filelock in /usr/local/lib/python3.10/dist-packages (from datasets>=2.0.0->evaluate==0.4.1->lastmile-eval) (3.14.0)\n",
            "Requirement already satisfied: pyarrow>=15.0.0 in /usr/local/lib/python3.10/dist-packages (from datasets>=2.0.0->evaluate==0.4.1->lastmile-eval) (16.1.0)\n",
            "Requirement already satisfied: pyarrow-hotfix in /usr/local/lib/python3.10/dist-packages (from datasets>=2.0.0->evaluate==0.4.1->lastmile-eval) (0.6)\n",
            "Requirement already satisfied: wrapt<2,>=1.10 in /usr/local/lib/python3.10/dist-packages (from deprecated>=1.2.6->opentelemetry-api->lastmile-eval) (1.14.1)\n",
            "Requirement already satisfied: httpcore==1.* in /usr/local/lib/python3.10/dist-packages (from httpx<1,>=0.23.0->openai>=1.0.0->lastmile-eval) (1.0.5)\n",
            "Requirement already satisfied: h11<0.15,>=0.13 in /usr/local/lib/python3.10/dist-packages (from httpcore==1.*->httpx<1,>=0.23.0->openai>=1.0.0->lastmile-eval) (0.14.0)\n",
            "Requirement already satisfied: zipp>=0.5 in /usr/local/lib/python3.10/dist-packages (from importlib-metadata<=7.1,>=6.0->opentelemetry-api->lastmile-eval) (3.19.2)\n",
            "Requirement already satisfied: markdown-it-py>=2.2.0 in /usr/local/lib/python3.10/dist-packages (from rich<14.0.0,>=13.7.0->instructor->lastmile-eval) (3.0.0)\n",
            "Requirement already satisfied: pygments<3.0.0,>=2.13.0 in /usr/local/lib/python3.10/dist-packages (from rich<14.0.0,>=13.7.0->instructor->lastmile-eval) (2.16.1)\n",
            "Requirement already satisfied: shellingham>=1.3.0 in /usr/local/lib/python3.10/dist-packages (from typer<1.0.0,>=0.9.0->instructor->lastmile-eval) (1.5.4)\n",
            "Requirement already satisfied: joblib in /usr/local/lib/python3.10/dist-packages (from nltk->rouge-score->lastmile-eval) (1.4.2)\n",
            "Requirement already satisfied: regex>=2021.8.3 in /usr/local/lib/python3.10/dist-packages (from nltk->rouge-score->lastmile-eval) (2024.5.15)\n",
            "Requirement already satisfied: mdurl~=0.1 in /usr/local/lib/python3.10/dist-packages (from markdown-it-py>=2.2.0->rich<14.0.0,>=13.7.0->instructor->lastmile-eval) (0.1.2)\n",
            "Requirement already satisfied: multiprocess in /usr/local/lib/python3.10/dist-packages (0.70.16)\n",
            "Requirement already satisfied: dill>=0.3.8 in /usr/local/lib/python3.10/dist-packages (from multiprocess) (0.3.8)\n",
            "Requirement already satisfied: flask in /usr/local/lib/python3.10/dist-packages (2.2.5)\n",
            "Requirement already satisfied: Werkzeug>=2.2.2 in /usr/local/lib/python3.10/dist-packages (from flask) (3.0.3)\n",
            "Requirement already satisfied: Jinja2>=3.0 in /usr/local/lib/python3.10/dist-packages (from flask) (3.1.4)\n",
            "Requirement already satisfied: itsdangerous>=2.0 in /usr/local/lib/python3.10/dist-packages (from flask) (2.2.0)\n",
            "Requirement already satisfied: click>=8.0 in /usr/local/lib/python3.10/dist-packages (from flask) (8.1.7)\n",
            "Requirement already satisfied: MarkupSafe>=2.0 in /usr/local/lib/python3.10/dist-packages (from Jinja2>=3.0->flask) (2.1.5)\n"
          ]
        }
      ],
      "source": [
        "!pip install lastmile-eval --upgrade\n",
        "!pip install multiprocess\n",
        "!pip install flask"
      ]
    },
    {
      "cell_type": "markdown",
      "metadata": {
        "id": "XO-RslYuxt4i"
      },
      "source": [
        "We also need the following API tokens/keys:\n",
        "\n",
        "* **LastMile AI API Token:** Go to the [LastMile Settings page](https://lastmileai.dev/settings?page=tokens). You will need to first create a LastMile AI account.\n",
        "* **OpenAI API Key:** Go to [OpenAI API Keys page](https://platform.openai.com/account/api-keys) to create and access your OpenAI API Key.\n",
        "\n",
        "Run the code cell below after setting the keys either in **Google Colab Secrets** or in `.env` in your directory. Avoid inputting keys directly in the notebook."
      ]
    },
    {
      "cell_type": "code",
      "execution_count": 2,
      "metadata": {
        "id": "1R2Orscwx4-T"
      },
      "outputs": [],
      "source": [
        "import os\n",
        "\n",
        "try:\n",
        "    # If running on Google Colab, use userdata to securely input keys\n",
        "    from google.colab import userdata\n",
        "    OPENAI_API_KEY = userdata.get('OPENAI_API_KEY')\n",
        "    LASTMILE_API_TOKEN = userdata.get('LASTMILE_API_TOKEN')\n",
        "except ModuleNotFoundError:\n",
        "    # If running locally, load keys from .env file\n",
        "    from dotenv import load_dotenv\n",
        "    load_dotenv()\n",
        "    OPENAI_API_KEY = os.getenv('OPENAI_API_KEY')\n",
        "    LASTMILE_API_TOKEN = os.getenv('LASTMILE_API_TOKEN')\n",
        "\n",
        "os.environ['OPENAI_API_KEY'] = OPENAI_API_KEY\n",
        "os.environ['LASTMILE_API_TOKEN'] = LASTMILE_API_TOKEN"
      ]
    },
    {
      "cell_type": "markdown",
      "metadata": {
        "id": "wreDo5NjyRvR"
      },
      "source": [
        "<a name=\"step1\"></a>\n",
        "# Step 1: Instrument Server Code\n",
        "In this step, we are starting a Flask server that expsoses an endpoint for generating riddles. The server uses a `LastMile Tracer` for distributed tracing (across the client).\n"
      ]
    },
    {
      "cell_type": "code",
      "execution_count": 3,
      "metadata": {
        "collapsed": true,
        "id": "BlLs3SGKvwU1"
      },
      "outputs": [],
      "source": [
        "import json\n",
        "\n",
        "import multiprocess\n",
        "from flask import Flask, request\n",
        "from openai import OpenAI\n",
        "\n",
        "from lastmile_eval.rag.debugger.api import LastMileTracer\n",
        "from lastmile_eval.rag.debugger.tracing import get_lastmile_tracer\n",
        "\n",
        "\n",
        "def server():\n",
        "    # Instantiate LastMile Tracer\n",
        "    tracer: LastMileTracer = get_lastmile_tracer(\n",
        "        tracer_name=\"my-tracer\",\n",
        "        project_name=\"Distributed-Tracing\",\n",
        "    )\n",
        "\n",
        "    app = Flask(__name__)\n",
        "\n",
        "    @app.route(\"/generate\")\n",
        "    def generate()-> str:\n",
        "        \"\"\"\n",
        "        Endpoint that generates a riddle using OpenAI's GPT-3.5-turbo model.\n",
        "        \"\"\"\n",
        "        span_context = request.headers.get(\"span\") # Expect a span to be passed to this endpoint\n",
        "\n",
        "        # Trace the span\n",
        "        with tracer.start_as_current_span(\"generate_endpoint\", context = span_context):\n",
        "            response = OpenAI().chat.completions.create(messages = [{\"role\": \"user\", \"content\":\"tell me a riddle\"}], model = \"gpt-3.5-turbo\")\n",
        "            riddle = response.choices[0].message.content\n",
        "            return json.dumps(riddle)\n",
        "\n",
        "    app.run(port=1234, debug=False)\n",
        "\n",
        "# Start Server in a Subprocess to avoid blocking execution of succeeding cells\n",
        "process = multiprocess.Process(target=server)\n",
        "process.start()"
      ]
    },
    {
      "cell_type": "markdown",
      "metadata": {
        "id": "CX1ipalYzNtV"
      },
      "source": [
        "<a name=\"step2\"></a>\n",
        "# Step 2: Instrument Client Code\n",
        "In order distribute the trace context, we need to export the span context to a string and pass it as a header to the server."
      ]
    },
    {
      "cell_type": "code",
      "execution_count": 4,
      "metadata": {
        "colab": {
          "base_uri": "https://localhost:8080/",
          "height": 53
        },
        "id": "Yvo8-EcTvwU1",
        "outputId": "40b3058f-549b-409a-e307-a4d2c4046c19"
      },
      "outputs": [
        {
          "name": "stdout",
          "output_type": "stream",
          "text": [
            "Message: Sending request to subprocess server, with span context.\n"
          ]
        },
        {
          "data": {
            "application/vnd.google.colaboratory.intrinsic+json": {
              "type": "string"
            },
            "text/plain": [
              "'\"I speak without a mouth and hear without ears. I have no body, but I come alive with wind. What am I?\"'"
            ]
          },
          "execution_count": 4,
          "metadata": {},
          "output_type": "execute_result"
        }
      ],
      "source": [
        "import requests\n",
        "from opentelemetry import trace\n",
        "\n",
        "from lastmile_eval.rag.debugger.api import LastMileTracer\n",
        "from lastmile_eval.rag.debugger.tracing import export_span, get_lastmile_tracer\n",
        "\n",
        "# Instantiate Tracer2\n",
        "tracer2: LastMileTracer = get_lastmile_tracer(\n",
        "    tracer_name=\"my-tracer\",\n",
        "    project_name=\"Distributed-Tracing\"\n",
        ")\n",
        "\n",
        "@tracer2.start_as_current_span(\"client\")\n",
        "def client_say_riddle():\n",
        "    try:\n",
        "        print(\"Message: Sending request to subprocess server, with span context.\")\n",
        "\n",
        "        # Export Span\n",
        "        response = requests.get('http://127.0.0.1:1234/generate', headers={\"span\": export_span(trace.get_current_span())})\n",
        "        return response.text\n",
        "\n",
        "    except Exception as e:\n",
        "        print(e)\n",
        "\n",
        "client_say_riddle()"
      ]
    },
    {
      "cell_type": "markdown",
      "metadata": {
        "id": "4wDtiRtR0GoT"
      },
      "source": [
        "<a name=\"step3\"></a>\n",
        "\n",
        "# Step 3: View Results in RAG Workbench UI\n",
        "Now we can view our distributed trace in the RAG Workbench UI!\n",
        "\n",
        "From your terminal, export your LASTMILE_API_TOKEN\n",
        "\n",
        "```bash\n",
        "export LASTMILE_API_TOKEN=\"<your-api-token>\"\n",
        "```\n",
        "\n",
        "Next, run the following command in your terminal to launch the UI:\n",
        "\n",
        "```bash\n",
        "rag-debug launch\n",
        "```\n",
        "\n",
        "Navigate to the url provided by the RAG Workbench (opens up your web browser). This will look like http://localhost:8080/\n",
        "\n",
        "1. Click the **Traces Tab**.\n",
        "2. Select Project **'Distributed Tracing'**.\n",
        "\n",
        "TODO (tanya) - The traces aren't showing up under the Project - Distributed Tracing\n",
        "\n",
        "<img width=\"850\" alt=\"Screen Shot 2024-05-28 at 1 28 58 AM\" src=\"https://github.com/lastmile-ai/aiconfig/assets/81494782/35393b82-4d1e-4346-afc3-e4f6d99cd765/\">\n",
        "\n",
        "3. Let's click into the Trace.\n",
        "\n",
        "<img width=\"850\" alt=\"Screen Shot 2024-05-28 at 1 30 29 AM\" src=\"https://github.com/lastmile-ai/aiconfig/assets/81494782/d25b9b96-2e30-4dfe-8245-076ae860c50c\"/>\n",
        "\n",
        "Here we can see that the server span with `generate_endpoint` has been successfully propagated to the client span with the Tracer.\n",
        "\n",
        "This shows that we're able to trace across multiple services or components in a distributed system."
      ]
    },
    {
      "cell_type": "code",
      "execution_count": null,
      "metadata": {
        "id": "PSEK9Ony0nW0"
      },
      "outputs": [],
      "source": []
    }
  ],
  "metadata": {
    "colab": {
      "provenance": []
    },
    "kernelspec": {
      "display_name": "main",
      "language": "python",
      "name": "python3"
    },
    "language_info": {
      "codemirror_mode": {
        "name": "ipython",
        "version": 3
      },
      "file_extension": ".py",
      "mimetype": "text/x-python",
      "name": "python",
      "nbconvert_exporter": "python",
      "pygments_lexer": "ipython3",
      "version": "3.12.3"
    }
  },
  "nbformat": 4,
  "nbformat_minor": 0
}
