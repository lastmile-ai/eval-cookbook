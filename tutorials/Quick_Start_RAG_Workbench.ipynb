{
  "cells": [
    {
      "cell_type": "code",
      "execution_count": null,
      "metadata": {
        "colab": {
          "base_uri": "https://localhost:8080/"
        },
        "collapsed": true,
        "id": "26vIpvILofhg",
        "outputId": "6005b0cf-2814-4d34-95f1-ccbd66196bb3"
      },
      "outputs": [],
      "source": [
        "!pip install lastmile-eval --upgrade\n",
        "!pip install jsonref"
      ]
    },
    {
      "cell_type": "code",
      "execution_count": null,
      "metadata": {
        "id": "RofMdZyupygy"
      },
      "outputs": [],
      "source": [
        "import os\n",
        "\n",
        "try:\n",
        "    # If running on Google Colab, use userdata to securely input keys\n",
        "    from google.colab import userdata\n",
        "    OPENAI_API_KEY = userdata.get('OPENAI_API_KEY')\n",
        "    LASTMILE_API_TOKEN = userdata.get('LASTMILE_API_TOKEN')\n",
        "except ModuleNotFoundError:\n",
        "    # If running locally, load keys from .env file\n",
        "    from dotenv import load_dotenv\n",
        "    load_dotenv()\n",
        "    OPENAI_API_KEY = os.getenv('OPENAI_API_KEY')\n",
        "    LASTMILE_API_TOKEN = os.getenv('LASTMILE_API_TOKEN')\n",
        "\n",
        "os.environ['OPENAI_API_KEY'] = OPENAI_API_KEY\n",
        "os.environ['LASTMILE_API_TOKEN'] = LASTMILE_API_TOKEN"
      ]
    },
    {
      "cell_type": "code",
      "execution_count": null,
      "metadata": {
        "colab": {
          "base_uri": "https://localhost:8080/",
          "height": 356
        },
        "collapsed": true,
        "id": "LlmaLW0Eozi8",
        "outputId": "61196291-4d0d-44cf-8a5d-9e833b12d0b2"
      },
      "outputs": [],
      "source": [
        "from lastmile_eval.rag.debugger.api.evaluation import evaluate\n",
        "import pandas as pd\n",
        "\n",
        "data = [\n",
        "    {\n",
        "        'input': 'What was the name of the patent office where Albert Einstein worked?',\n",
        "        'groundTruth': 'In 1902, Albert Einstein started working as a clerk at the Swiss Federal Office for Intellectual Property, the patent office in Bern. He evaluated patent applications for electromagnetic devices.',\n",
        "        'output': 'Albert Einstein worked at the Swiss Federal Office for Intellectual Property, a patent office located in Bern, Switzerland.'\n",
        "    },\n",
        "    {\n",
        "        'input': 'How many papers did Albert Einstein publish in his \\'miracle year\\' of 1905?',\n",
        "        'groundTruth': 'In 1905, Albert Einstein had a remarkable year, often called his \\'miracle year\\' or \\'annus mirabilis\\'. During this time, he published four groundbreaking papers.',\n",
        "        'output': 'During his \\'miracle year\\' of 1905, Albert Einstein published three seminal papers that significantly advanced the field of physics, covering the photoelectric effect, Brownian motion, and special relativity.',\n",
        "    },\n",
        "    {\n",
        "        'input': 'What was the name of the ship Albert Einstein sailed on to the United States in 1933?',\n",
        "        'groundTruth': 'In December 1932, Albert Einstein decided to leave Germany forever. He took up a position at the newly founded Institute for Advanced Study in Princeton, New Jersey. In March 1933, Einstein renounced his German citizenship for political reasons. In October 1933, he set sail for the United States on the SS Westernland, accompanied by his wife Elsa.',\n",
        "        'output': 'Albert Einstein traveled to the United States by airplane in 1933 after accepting a position at the California Institute of Technology.',\n",
        "    }\n",
        "]\n",
        "df = pd.DataFrame(data)\n",
        "\n",
        "evaluate_result = evaluate(\n",
        "    project_name=\"My Second Project\",\n",
        "    evaluators={\"faithfulness\"},\n",
        "    test_dataset=df\n",
        ")\n",
        "\n",
        "print(evaluate_result)"
      ]
    }
  ],
  "metadata": {
    "colab": {
      "provenance": []
    },
    "kernelspec": {
      "display_name": "Python 3",
      "name": "python3"
    },
    "language_info": {
      "codemirror_mode": {
        "name": "ipython",
        "version": 3
      },
      "file_extension": ".py",
      "mimetype": "text/x-python",
      "name": "python",
      "nbconvert_exporter": "python",
      "pygments_lexer": "ipython3",
      "version": "3.12.3"
    }
  },
  "nbformat": 4,
  "nbformat_minor": 0
}
