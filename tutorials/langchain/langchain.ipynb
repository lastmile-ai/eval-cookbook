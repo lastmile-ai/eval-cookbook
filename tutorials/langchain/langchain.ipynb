{
  "cells": [
    {
      "cell_type": "markdown",
      "metadata": {
        "id": "4FDU2yIM42mf"
      },
      "source": [
        "# LastMile Instrumentor for LangChain\n",
        "\n",
        "\n",
        "In this notebook, we showcase how to use the **LastMile Tracing SDK** to auto-instrument tracing for a LangChain \"Plan-and-Execute\" agent. With tracing automatically setup, you can easily debug your application using LastMile's RAG Debugger.\n",
        "\n",
        "The LangChain \"Plan-and-Execute\" agent accomplishes an objective by first planning what to do and then executing the sub-tasks. LastMile autoinstrumentation is used to trace and monitor the execution of the agent.\n",
        "\n",
        "## Notebook Outline\n",
        "* [Step 1: Setup](#setup)\n",
        "* [Step 2: Configure the LastMile Instrumentor](#step2)\n",
        "* [Step 3: Define Tools for LangChain Agent](#step3)\n",
        "* [Step 4: Run example with LangChain Agent](#step4)\n",
        "* [Step 5: View Trace Data in RAG Debugger](#step5)"
      ]
    },
    {
      "cell_type": "markdown",
      "metadata": {
        "id": "fV8hom_a5s5l"
      },
      "source": [
        "<a name=\"setup\"></a>\n",
        "# Step 1: Setup\n",
        "\n",
        "To begin, we need to install a few packages including langchain and lastmile-eval."
      ]
    },
    {
      "cell_type": "code",
      "execution_count": 1,
      "metadata": {
        "colab": {
          "base_uri": "https://localhost:8080/"
        },
        "collapsed": true,
        "id": "WofBBh4j42mh",
        "outputId": "1a726577-f083-410d-8795-60df7c5c96db"
      },
      "outputs": [],
      "source": [
        "# !pip install langchain\n",
        "# !pip install langchain_community\n",
        "# !pip install langchain_core\n",
        "# !pip install langchain_experimental\n",
        "# !pip install langchain_openai\n",
        "# !pip install wikipedia\n",
        "# !pip install numexpr\n",
        "# !pip install lastmile_eval\n",
        "# !pip install \"tracing-auto-instrumentation[langchain]\" --upgrade"
      ]
    },
    {
      "cell_type": "markdown",
      "metadata": {
        "id": "8M5EyhZm5yYa"
      },
      "source": [
        "Import the necessary libraries for this example."
      ]
    },
    {
      "cell_type": "code",
      "execution_count": 2,
      "metadata": {
        "id": "eae4CClw42mi"
      },
      "outputs": [],
      "source": [
        "from langchain.chains import LLMMathChain\n",
        "from langchain_community.utilities import WikipediaAPIWrapper\n",
        "from langchain_core.tools import Tool\n",
        "from langchain_experimental.plan_and_execute import (\n",
        "    PlanAndExecute,\n",
        "    load_agent_executor,\n",
        "    load_chat_planner,\n",
        ")\n",
        "from langchain_openai import ChatOpenAI, OpenAI"
      ]
    },
    {
      "cell_type": "markdown",
      "metadata": {
        "id": "HqAt8pH556R8"
      },
      "source": [
        "Before we start this tutorial, we need the following tokens/keys:\n",
        "\n",
        "* LastMile AI API Token: Go to the [LastMile Settings page](https://lastmileai.dev/settings?page=tokens). You will need to first create a LastMile AI account.\n",
        "* OpenAI API Key: Go to [OpenAI API Keys page](https://platform.openai.com/account/api-keys) to create and access your OpenAI API Key.\n",
        "\n",
        "You can either set these explicitly (uncomment the lines below), or save them in a `.env` file within this project directory.\n"
      ]
    },
    {
      "cell_type": "code",
      "execution_count": 3,
      "metadata": {
        "id": "LSN4cIOR58Hy"
      },
      "outputs": [
        {
          "data": {
            "text/plain": [
              "True"
            ]
          },
          "execution_count": 3,
          "metadata": {},
          "output_type": "execute_result"
        }
      ],
      "source": [
        "import dotenv\n",
        "dotenv.load_dotenv()\n",
        "\n",
        "# import os\n",
        "# os.environ['OPENAI_API_KEY'] =  os.getenv('OPENAI_API_KEY')\n",
        "# os.environ['LASTMILE_API_TOKEN'] =  os.getenv('LASTMILE_API_TOKEN')"
      ]
    },
    {
      "cell_type": "markdown",
      "metadata": {
        "id": "DDosEMOC6Dd8"
      },
      "source": [
        "<a name=\"step2\"></a>\n",
        "\n",
        "# Step 2: Configure the LastMile Instrumentor\n",
        "\n",
        "Next, we create an instance of `LangChainInstrumentor` with a project name. The `instrument()` method is called to instrument the code for tracing and monitoring."
      ]
    },
    {
      "cell_type": "code",
      "execution_count": 4,
      "metadata": {
        "id": "I2pL7WAp42mi"
      },
      "outputs": [
        {
          "name": "stderr",
          "output_type": "stream",
          "text": [
            "[DEBUG] 2024-06-13 16:31:57,821 connectionpool.py:1055: Starting new HTTPS connection (1): lastmileai.dev:443\n",
            "[DEBUG] 2024-06-13 16:31:58,030 connectionpool.py:549: https://lastmileai.dev:443 \"GET /api/evaluation_projects/list?name=Plan-and-Execute+Example HTTP/1.1\" 200 359\n"
          ]
        }
      ],
      "source": [
        "from tracing_auto_instrumentation.langchain import LangChainInstrumentor\n",
        "\n",
        "# Create an instance of LangChainInstrumentor and instrument the code\n",
        "instrumentor = LangChainInstrumentor(project_name=\"Plan-and-Execute Example\")\n",
        "instrumentor.instrument()"
      ]
    },
    {
      "cell_type": "markdown",
      "metadata": {
        "id": "_wHo6mNK42mj"
      },
      "source": [
        "<a name=\"step3\"></a>\n",
        "\n",
        "# Step 3: Define Tools for Langchain Agent\n",
        "\n",
        "The tools that the agent will use for executing sub-tasks are defined. In this example, we have two tools:\n",
        "- \"Wikipedia\" tool: Uses the `WikipediaAPIWrapper` to look up information on Wikipedia.\n",
        "- \"Calculator\" tool: Uses the `LLMMathChain` to perform mathematical calculations."
      ]
    },
    {
      "cell_type": "code",
      "execution_count": 5,
      "metadata": {
        "id": "zxy2xTth42mj"
      },
      "outputs": [
        {
          "name": "stderr",
          "output_type": "stream",
          "text": [
            "[DEBUG] 2024-06-13 16:31:58,147 _config.py:80: load_ssl_context verify=True cert=None trust_env=True http2=False\n",
            "[DEBUG] 2024-06-13 16:31:58,148 _config.py:146: load_verify_locations cafile='/opt/homebrew/Caskroom/miniconda/base/envs/eval/lib/python3.12/site-packages/certifi/cacert.pem'\n",
            "[DEBUG] 2024-06-13 16:31:58,154 _config.py:80: load_ssl_context verify=True cert=None trust_env=True http2=False\n",
            "[DEBUG] 2024-06-13 16:31:58,155 _config.py:146: load_verify_locations cafile='/opt/homebrew/Caskroom/miniconda/base/envs/eval/lib/python3.12/site-packages/certifi/cacert.pem'\n"
          ]
        }
      ],
      "source": [
        "# Define the tools that the agent will use for executing sub-tasks\n",
        "wikipedia = WikipediaAPIWrapper()\n",
        "llm = OpenAI(temperature=0)\n",
        "llm_math_chain = LLMMathChain.from_llm(llm=llm, verbose=True)\n",
        "tools = [\n",
        "    Tool(\n",
        "        name=\"Wikipedia\",\n",
        "        func=wikipedia.run,\n",
        "        description=\"useful for when you need to look up information on Wikipedia\",\n",
        "    ),\n",
        "    Tool(\n",
        "        name=\"Calculator\",\n",
        "        func=llm_math_chain.run,\n",
        "        description=\"useful for when you need to perform mathematical calculations\",\n",
        "    ),\n",
        "]\n"
      ]
    },
    {
      "cell_type": "markdown",
      "metadata": {
        "id": "C3LxpRFy42mj"
      },
      "source": [
        "<a name=\"step4\"></a>\n",
        "\n",
        "# Step 4: Run example with LangChain Agent\n",
        "\n",
        "Let's try an example with our LangChain agent. We will ask a simple question \"What is hte population of the capital city of the country where the Eiffel Tower is located? Calculate the square root of that number.\"\n",
        "\n",
        "The agent needs to look up the population (using Wikipedia) and then also make a calculation."
      ]
    },
    {
      "cell_type": "code",
      "execution_count": 6,
      "metadata": {
        "colab": {
          "base_uri": "https://localhost:8080/"
        },
        "collapsed": true,
        "id": "lr53yAyt42mk",
        "outputId": "bfe995b4-e7e6-4cbc-ccbd-a8a1276aab50"
      },
      "outputs": [
        {
          "name": "stderr",
          "output_type": "stream",
          "text": [
            "[DEBUG] 2024-06-13 16:31:58,251 _config.py:80: load_ssl_context verify=True cert=None trust_env=True http2=False\n",
            "[DEBUG] 2024-06-13 16:31:58,252 _config.py:146: load_verify_locations cafile='/opt/homebrew/Caskroom/miniconda/base/envs/eval/lib/python3.12/site-packages/certifi/cacert.pem'\n",
            "[DEBUG] 2024-06-13 16:31:58,258 _config.py:80: load_ssl_context verify=True cert=None trust_env=True http2=False\n",
            "[DEBUG] 2024-06-13 16:31:58,258 _config.py:146: load_verify_locations cafile='/opt/homebrew/Caskroom/miniconda/base/envs/eval/lib/python3.12/site-packages/certifi/cacert.pem'\n",
            "/opt/homebrew/Caskroom/miniconda/base/envs/eval/lib/python3.12/site-packages/langchain_core/_api/deprecation.py:119: LangChainDeprecationWarning: The method `Chain.run` was deprecated in langchain 0.1.0 and will be removed in 0.3.0. Use invoke instead.\n",
            "  warn_deprecated(\n",
            "[DEBUG] 2024-06-13 16:31:58,279 _base_client.py:446: Request options: {'method': 'post', 'url': '/chat/completions', 'files': None, 'json_data': {'messages': [{'content': \"Let's first understand the problem and devise a plan to solve the problem. Please output the plan starting with the header 'Plan:' and then followed by a numbered list of steps. Please make the plan the minimum number of steps required to accurately complete the task. If the task is a question, the final step should almost always be 'Given the above steps taken, please respond to the users original question'. At the end of your plan, say '<END_OF_PLAN>'\", 'role': 'system'}, {'content': 'What is the population of the capital city of the country where the Eiffel Tower is located? Calculate the square root of that number.', 'role': 'user'}], 'model': 'gpt-3.5-turbo', 'n': 1, 'stop': ['<END_OF_PLAN>'], 'stream': False, 'temperature': 0.0}}\n",
            "[DEBUG] 2024-06-13 16:31:58,287 _base_client.py:949: Sending HTTP Request: POST https://api.openai.com/v1/chat/completions\n",
            "[DEBUG] 2024-06-13 16:31:58,288 _trace.py:45: connect_tcp.started host='api.openai.com' port=443 local_address=None timeout=None socket_options=None\n",
            "[DEBUG] 2024-06-13 16:31:58,325 _trace.py:45: connect_tcp.complete return_value=<httpcore._backends.sync.SyncStream object at 0x13d257c50>\n",
            "[DEBUG] 2024-06-13 16:31:58,325 _trace.py:45: start_tls.started ssl_context=<ssl.SSLContext object at 0x13d26b5d0> server_hostname='api.openai.com' timeout=None\n",
            "[DEBUG] 2024-06-13 16:31:58,341 _trace.py:45: start_tls.complete return_value=<httpcore._backends.sync.SyncStream object at 0x13d2565a0>\n",
            "[DEBUG] 2024-06-13 16:31:58,341 _trace.py:45: send_request_headers.started request=<Request [b'POST']>\n",
            "[DEBUG] 2024-06-13 16:31:58,341 _trace.py:45: send_request_headers.complete\n",
            "[DEBUG] 2024-06-13 16:31:58,342 _trace.py:45: send_request_body.started request=<Request [b'POST']>\n",
            "[DEBUG] 2024-06-13 16:31:58,342 _trace.py:45: send_request_body.complete\n",
            "[DEBUG] 2024-06-13 16:31:58,342 _trace.py:45: receive_response_headers.started request=<Request [b'POST']>\n",
            "[DEBUG] 2024-06-13 16:31:59,934 _trace.py:45: receive_response_headers.complete return_value=(b'HTTP/1.1', 200, b'OK', [(b'Date', b'Thu, 13 Jun 2024 20:31:59 GMT'), (b'Content-Type', b'application/json'), (b'Transfer-Encoding', b'chunked'), (b'Connection', b'keep-alive'), (b'openai-organization', b'lastmile-ai'), (b'openai-processing-ms', b'1449'), (b'openai-version', b'2020-10-01'), (b'strict-transport-security', b'max-age=15724800; includeSubDomains'), (b'x-ratelimit-limit-requests', b'10000'), (b'x-ratelimit-limit-tokens', b'2000000'), (b'x-ratelimit-remaining-requests', b'9999'), (b'x-ratelimit-remaining-tokens', b'1999834'), (b'x-ratelimit-reset-requests', b'6ms'), (b'x-ratelimit-reset-tokens', b'4ms'), (b'x-request-id', b'req_aaf1a98a105416a39174d2cb58c11dc2'), (b'CF-Cache-Status', b'DYNAMIC'), (b'Set-Cookie', b'__cf_bm=RQMYaTPMjUMmOQHwGjXQekLmlYsCTCZHCmhosTCmbzo-1718310719-1.0.1.1-yeS89gKjrXBqBOV_qtKiY_3CBqzzFOzJw8KCHoimNIiRpmHE2feD7kdWGtPcm_1BXTXRTcWs4xPWlVCSpf.Lxw; path=/; expires=Thu, 13-Jun-24 21:01:59 GMT; domain=.api.openai.com; HttpOnly; Secure; SameSite=None'), (b'Set-Cookie', b'_cfuvid=iSx5BiSq8Kw_Vjod_Bq0mhw8BYRSS1fMXkddBh_ZEbU-1718310719930-0.0.1.1-604800000; path=/; domain=.api.openai.com; HttpOnly; Secure; SameSite=None'), (b'Server', b'cloudflare'), (b'CF-RAY', b'8934d8e5ab70197c-EWR'), (b'Content-Encoding', b'gzip'), (b'alt-svc', b'h3=\":443\"; ma=86400')])\n",
            "[INFO] 2024-06-13 16:31:59,937 _client.py:1026: HTTP Request: POST https://api.openai.com/v1/chat/completions \"HTTP/1.1 200 OK\"\n",
            "[DEBUG] 2024-06-13 16:31:59,938 _trace.py:45: receive_response_body.started request=<Request [b'POST']>\n",
            "[DEBUG] 2024-06-13 16:31:59,939 _trace.py:45: receive_response_body.complete\n",
            "[DEBUG] 2024-06-13 16:31:59,940 _trace.py:45: response_closed.started\n",
            "[DEBUG] 2024-06-13 16:31:59,940 _trace.py:45: response_closed.complete\n",
            "[DEBUG] 2024-06-13 16:31:59,941 _base_client.py:988: HTTP Response: POST https://api.openai.com/v1/chat/completions \"200 OK\" Headers([('date', 'Thu, 13 Jun 2024 20:31:59 GMT'), ('content-type', 'application/json'), ('transfer-encoding', 'chunked'), ('connection', 'keep-alive'), ('openai-organization', 'lastmile-ai'), ('openai-processing-ms', '1449'), ('openai-version', '2020-10-01'), ('strict-transport-security', 'max-age=15724800; includeSubDomains'), ('x-ratelimit-limit-requests', '10000'), ('x-ratelimit-limit-tokens', '2000000'), ('x-ratelimit-remaining-requests', '9999'), ('x-ratelimit-remaining-tokens', '1999834'), ('x-ratelimit-reset-requests', '6ms'), ('x-ratelimit-reset-tokens', '4ms'), ('x-request-id', 'req_aaf1a98a105416a39174d2cb58c11dc2'), ('cf-cache-status', 'DYNAMIC'), ('set-cookie', '__cf_bm=RQMYaTPMjUMmOQHwGjXQekLmlYsCTCZHCmhosTCmbzo-1718310719-1.0.1.1-yeS89gKjrXBqBOV_qtKiY_3CBqzzFOzJw8KCHoimNIiRpmHE2feD7kdWGtPcm_1BXTXRTcWs4xPWlVCSpf.Lxw; path=/; expires=Thu, 13-Jun-24 21:01:59 GMT; domain=.api.openai.com; HttpOnly; Secure; SameSite=None'), ('set-cookie', '_cfuvid=iSx5BiSq8Kw_Vjod_Bq0mhw8BYRSS1fMXkddBh_ZEbU-1718310719930-0.0.1.1-604800000; path=/; domain=.api.openai.com; HttpOnly; Secure; SameSite=None'), ('server', 'cloudflare'), ('cf-ray', '8934d8e5ab70197c-EWR'), ('content-encoding', 'gzip'), ('alt-svc', 'h3=\":443\"; ma=86400')])\n",
            "[DEBUG] 2024-06-13 16:31:59,941 _base_client.py:996: request_id: req_aaf1a98a105416a39174d2cb58c11dc2\n",
            "[DEBUG] 2024-06-13 16:31:59,953 connectionpool.py:1055: Starting new HTTPS connection (1): lastmileai.dev:443\n",
            "[DEBUG] 2024-06-13 16:32:00,135 connectionpool.py:549: https://lastmileai.dev:443 \"POST /api/trace/create HTTP/1.1\" 200 10\n",
            "[DEBUG] 2024-06-13 16:32:00,253 connectionpool.py:549: https://lastmileai.dev:443 \"POST /api/trace/create HTTP/1.1\" 200 10\n",
            "[DEBUG] 2024-06-13 16:32:00,261 _base_client.py:446: Request options: {'method': 'post', 'url': '/chat/completions', 'files': None, 'json_data': {'messages': [{'content': 'Respond to the human as helpfully and accurately as possible. You have access to the following tools:\\n\\nWikipedia: useful for when you need to look up information on Wikipedia, args: {\\'tool_input\\': {\\'type\\': \\'string\\'}}\\nCalculator: useful for when you need to perform mathematical calculations, args: {\\'tool_input\\': {\\'type\\': \\'string\\'}}\\n\\nUse a json blob to specify a tool by providing an action key (tool name) and an action_input key (tool input).\\n\\nValid \"action\" values: \"Final Answer\" or Wikipedia, Calculator\\n\\nProvide only ONE action per $JSON_BLOB, as shown:\\n\\n```\\n{\\n  \"action\": $TOOL_NAME,\\n  \"action_input\": $INPUT\\n}\\n```\\n\\nFollow this format:\\n\\nQuestion: input question to answer\\nThought: consider previous and subsequent steps\\nAction:\\n```\\n$JSON_BLOB\\n```\\nObservation: action result\\n... (repeat Thought/Action/Observation N times)\\nThought: I know what to respond\\nAction:\\n```\\n{\\n  \"action\": \"Final Answer\",\\n  \"action_input\": \"Final response to human\"\\n}\\n```\\n\\nBegin! Reminder to ALWAYS respond with a valid json blob of a single action. Use tools if necessary. Respond directly if appropriate. Format is Action:```$JSON_BLOB```then Observation:.\\nThought:', 'role': 'system'}, {'content': \"Previous steps: steps=[]\\n\\nCurrent objective: value='Identify the country where the Eiffel Tower is located.'\\n\\n\", 'role': 'user'}], 'model': 'gpt-3.5-turbo', 'n': 1, 'stop': ['Observation:'], 'stream': False, 'temperature': 0.0}}\n",
            "[DEBUG] 2024-06-13 16:32:00,262 _base_client.py:949: Sending HTTP Request: POST https://api.openai.com/v1/chat/completions\n",
            "[DEBUG] 2024-06-13 16:32:00,263 _trace.py:45: send_request_headers.started request=<Request [b'POST']>\n",
            "[DEBUG] 2024-06-13 16:32:00,263 _trace.py:45: send_request_headers.complete\n",
            "[DEBUG] 2024-06-13 16:32:00,263 _trace.py:45: send_request_body.started request=<Request [b'POST']>\n",
            "[DEBUG] 2024-06-13 16:32:00,263 _trace.py:45: send_request_body.complete\n",
            "[DEBUG] 2024-06-13 16:32:00,264 _trace.py:45: receive_response_headers.started request=<Request [b'POST']>\n"
          ]
        },
        {
          "name": "stdout",
          "output_type": "stream",
          "text": [
            "\n",
            "\n",
            "\u001b[1m> Entering new AgentExecutor chain...\u001b[0m\n"
          ]
        },
        {
          "name": "stderr",
          "output_type": "stream",
          "text": [
            "[DEBUG] 2024-06-13 16:32:01,828 _trace.py:45: receive_response_headers.complete return_value=(b'HTTP/1.1', 200, b'OK', [(b'Date', b'Thu, 13 Jun 2024 20:32:01 GMT'), (b'Content-Type', b'application/json'), (b'Transfer-Encoding', b'chunked'), (b'Connection', b'keep-alive'), (b'openai-organization', b'lastmile-ai'), (b'openai-processing-ms', b'1340'), (b'openai-version', b'2020-10-01'), (b'strict-transport-security', b'max-age=15724800; includeSubDomains'), (b'x-ratelimit-limit-requests', b'10000'), (b'x-ratelimit-limit-tokens', b'2000000'), (b'x-ratelimit-remaining-requests', b'9999'), (b'x-ratelimit-remaining-tokens', b'1999667'), (b'x-ratelimit-reset-requests', b'6ms'), (b'x-ratelimit-reset-tokens', b'9ms'), (b'x-request-id', b'req_ad491d22cbcf6c42047686b67039dc2c'), (b'CF-Cache-Status', b'DYNAMIC'), (b'Server', b'cloudflare'), (b'CF-RAY', b'8934d8f1bfe7197c-EWR'), (b'Content-Encoding', b'gzip'), (b'alt-svc', b'h3=\":443\"; ma=86400')])\n",
            "[INFO] 2024-06-13 16:32:01,829 _client.py:1026: HTTP Request: POST https://api.openai.com/v1/chat/completions \"HTTP/1.1 200 OK\"\n",
            "[DEBUG] 2024-06-13 16:32:01,829 _trace.py:45: receive_response_body.started request=<Request [b'POST']>\n",
            "[DEBUG] 2024-06-13 16:32:01,830 _trace.py:45: receive_response_body.complete\n",
            "[DEBUG] 2024-06-13 16:32:01,830 _trace.py:45: response_closed.started\n",
            "[DEBUG] 2024-06-13 16:32:01,830 _trace.py:45: response_closed.complete\n",
            "[DEBUG] 2024-06-13 16:32:01,831 _base_client.py:988: HTTP Response: POST https://api.openai.com/v1/chat/completions \"200 OK\" Headers({'date': 'Thu, 13 Jun 2024 20:32:01 GMT', 'content-type': 'application/json', 'transfer-encoding': 'chunked', 'connection': 'keep-alive', 'openai-organization': 'lastmile-ai', 'openai-processing-ms': '1340', 'openai-version': '2020-10-01', 'strict-transport-security': 'max-age=15724800; includeSubDomains', 'x-ratelimit-limit-requests': '10000', 'x-ratelimit-limit-tokens': '2000000', 'x-ratelimit-remaining-requests': '9999', 'x-ratelimit-remaining-tokens': '1999667', 'x-ratelimit-reset-requests': '6ms', 'x-ratelimit-reset-tokens': '9ms', 'x-request-id': 'req_ad491d22cbcf6c42047686b67039dc2c', 'cf-cache-status': 'DYNAMIC', 'server': 'cloudflare', 'cf-ray': '8934d8f1bfe7197c-EWR', 'content-encoding': 'gzip', 'alt-svc': 'h3=\":443\"; ma=86400'})\n",
            "[DEBUG] 2024-06-13 16:32:01,831 _base_client.py:996: request_id: req_ad491d22cbcf6c42047686b67039dc2c\n",
            "[DEBUG] 2024-06-13 16:32:01,875 connectionpool.py:549: https://lastmileai.dev:443 \"POST /api/trace/create HTTP/1.1\" 200 10\n",
            "[DEBUG] 2024-06-13 16:32:01,921 connectionpool.py:549: https://lastmileai.dev:443 \"POST /api/trace/create HTTP/1.1\" 200 10\n",
            "[DEBUG] 2024-06-13 16:32:01,957 connectionpool.py:549: https://lastmileai.dev:443 \"POST /api/trace/create HTTP/1.1\" 200 10\n",
            "[DEBUG] 2024-06-13 16:32:01,962 _base_client.py:446: Request options: {'method': 'post', 'url': '/chat/completions', 'files': None, 'json_data': {'messages': [{'content': 'Respond to the human as helpfully and accurately as possible. You have access to the following tools:\\n\\nWikipedia: useful for when you need to look up information on Wikipedia, args: {\\'tool_input\\': {\\'type\\': \\'string\\'}}\\nCalculator: useful for when you need to perform mathematical calculations, args: {\\'tool_input\\': {\\'type\\': \\'string\\'}}\\n\\nUse a json blob to specify a tool by providing an action key (tool name) and an action_input key (tool input).\\n\\nValid \"action\" values: \"Final Answer\" or Wikipedia, Calculator\\n\\nProvide only ONE action per $JSON_BLOB, as shown:\\n\\n```\\n{\\n  \"action\": $TOOL_NAME,\\n  \"action_input\": $INPUT\\n}\\n```\\n\\nFollow this format:\\n\\nQuestion: input question to answer\\nThought: consider previous and subsequent steps\\nAction:\\n```\\n$JSON_BLOB\\n```\\nObservation: action result\\n... (repeat Thought/Action/Observation N times)\\nThought: I know what to respond\\nAction:\\n```\\n{\\n  \"action\": \"Final Answer\",\\n  \"action_input\": \"Final response to human\"\\n}\\n```\\n\\nBegin! Reminder to ALWAYS respond with a valid json blob of a single action. Use tools if necessary. Respond directly if appropriate. Format is Action:```$JSON_BLOB```then Observation:.\\nThought:', 'role': 'system'}, {'content': \"Previous steps: steps=[(Step(value='Identify the country where the Eiffel Tower is located.'), StepResponse(response='The Eiffel Tower is located in France.'))]\\n\\nCurrent objective: value='Determine the capital city of that country.'\\n\\n\", 'role': 'user'}], 'model': 'gpt-3.5-turbo', 'n': 1, 'stop': ['Observation:'], 'stream': False, 'temperature': 0.0}}\n",
            "[DEBUG] 2024-06-13 16:32:01,963 _base_client.py:949: Sending HTTP Request: POST https://api.openai.com/v1/chat/completions\n",
            "[DEBUG] 2024-06-13 16:32:01,963 _trace.py:45: send_request_headers.started request=<Request [b'POST']>\n",
            "[DEBUG] 2024-06-13 16:32:01,963 _trace.py:45: send_request_headers.complete\n",
            "[DEBUG] 2024-06-13 16:32:01,964 _trace.py:45: send_request_body.started request=<Request [b'POST']>\n",
            "[DEBUG] 2024-06-13 16:32:01,964 _trace.py:45: send_request_body.complete\n",
            "[DEBUG] 2024-06-13 16:32:01,964 _trace.py:45: receive_response_headers.started request=<Request [b'POST']>\n"
          ]
        },
        {
          "name": "stdout",
          "output_type": "stream",
          "text": [
            "\u001b[32;1m\u001b[1;3mThought: The Eiffel Tower is located in Paris, France. I can provide the answer directly without the need for any tools.\n",
            "\n",
            "Action:\n",
            "```\n",
            "{\n",
            "  \"action\": \"Final Answer\",\n",
            "  \"action_input\": \"The Eiffel Tower is located in France.\"\n",
            "}\n",
            "```  \n",
            "\u001b[0m\n",
            "\n",
            "\u001b[1m> Finished chain.\u001b[0m\n",
            "\n",
            "\n",
            "\u001b[1m> Entering new AgentExecutor chain...\u001b[0m\n"
          ]
        },
        {
          "name": "stderr",
          "output_type": "stream",
          "text": [
            "[DEBUG] 2024-06-13 16:32:02,835 _trace.py:45: receive_response_headers.complete return_value=(b'HTTP/1.1', 200, b'OK', [(b'Date', b'Thu, 13 Jun 2024 20:32:02 GMT'), (b'Content-Type', b'application/json'), (b'Transfer-Encoding', b'chunked'), (b'Connection', b'keep-alive'), (b'openai-organization', b'lastmile-ai'), (b'openai-processing-ms', b'735'), (b'openai-version', b'2020-10-01'), (b'strict-transport-security', b'max-age=15724800; includeSubDomains'), (b'x-ratelimit-limit-requests', b'10000'), (b'x-ratelimit-limit-tokens', b'2000000'), (b'x-ratelimit-remaining-requests', b'9999'), (b'x-ratelimit-remaining-tokens', b'1999636'), (b'x-ratelimit-reset-requests', b'6ms'), (b'x-ratelimit-reset-tokens', b'10ms'), (b'x-request-id', b'req_3222b9835362f624c386a3af838d9a76'), (b'CF-Cache-Status', b'DYNAMIC'), (b'Server', b'cloudflare'), (b'CF-RAY', b'8934d8fc4aa7197c-EWR'), (b'Content-Encoding', b'gzip'), (b'alt-svc', b'h3=\":443\"; ma=86400')])\n",
            "[INFO] 2024-06-13 16:32:02,836 _client.py:1026: HTTP Request: POST https://api.openai.com/v1/chat/completions \"HTTP/1.1 200 OK\"\n",
            "[DEBUG] 2024-06-13 16:32:02,836 _trace.py:45: receive_response_body.started request=<Request [b'POST']>\n",
            "[DEBUG] 2024-06-13 16:32:02,837 _trace.py:45: receive_response_body.complete\n",
            "[DEBUG] 2024-06-13 16:32:02,837 _trace.py:45: response_closed.started\n",
            "[DEBUG] 2024-06-13 16:32:02,837 _trace.py:45: response_closed.complete\n",
            "[DEBUG] 2024-06-13 16:32:02,837 _base_client.py:988: HTTP Response: POST https://api.openai.com/v1/chat/completions \"200 OK\" Headers({'date': 'Thu, 13 Jun 2024 20:32:02 GMT', 'content-type': 'application/json', 'transfer-encoding': 'chunked', 'connection': 'keep-alive', 'openai-organization': 'lastmile-ai', 'openai-processing-ms': '735', 'openai-version': '2020-10-01', 'strict-transport-security': 'max-age=15724800; includeSubDomains', 'x-ratelimit-limit-requests': '10000', 'x-ratelimit-limit-tokens': '2000000', 'x-ratelimit-remaining-requests': '9999', 'x-ratelimit-remaining-tokens': '1999636', 'x-ratelimit-reset-requests': '6ms', 'x-ratelimit-reset-tokens': '10ms', 'x-request-id': 'req_3222b9835362f624c386a3af838d9a76', 'cf-cache-status': 'DYNAMIC', 'server': 'cloudflare', 'cf-ray': '8934d8fc4aa7197c-EWR', 'content-encoding': 'gzip', 'alt-svc': 'h3=\":443\"; ma=86400'})\n",
            "[DEBUG] 2024-06-13 16:32:02,837 _base_client.py:996: request_id: req_3222b9835362f624c386a3af838d9a76\n",
            "[DEBUG] 2024-06-13 16:32:02,868 connectionpool.py:549: https://lastmileai.dev:443 \"POST /api/trace/create HTTP/1.1\" 200 10\n",
            "[DEBUG] 2024-06-13 16:32:02,900 connectionpool.py:549: https://lastmileai.dev:443 \"POST /api/trace/create HTTP/1.1\" 200 10\n",
            "[DEBUG] 2024-06-13 16:32:02,902 connectionpool.py:244: Starting new HTTP connection (1): en.wikipedia.org:80\n",
            "[DEBUG] 2024-06-13 16:32:02,966 connectionpool.py:549: http://en.wikipedia.org:80 \"GET /w/api.php?list=search&srprop=&srlimit=3&limit=3&srsearch=Capital+of+France&format=json&action=query HTTP/1.1\" 301 0\n",
            "[DEBUG] 2024-06-13 16:32:02,971 connectionpool.py:1055: Starting new HTTPS connection (1): en.wikipedia.org:443\n"
          ]
        },
        {
          "name": "stdout",
          "output_type": "stream",
          "text": [
            "\u001b[32;1m\u001b[1;3mThought: I can use Wikipedia to quickly find the capital city of France.\n",
            "\n",
            "Action:\n",
            "```\n",
            "{\n",
            "  \"action\": \"Wikipedia\",\n",
            "  \"action_input\": \"Capital of France\"\n",
            "}\n",
            "```\u001b[0m"
          ]
        },
        {
          "name": "stderr",
          "output_type": "stream",
          "text": [
            "[DEBUG] 2024-06-13 16:32:03,409 connectionpool.py:549: https://en.wikipedia.org:443 \"GET /w/api.php?list=search&srprop=&srlimit=3&limit=3&srsearch=Capital+of+France&format=json&action=query HTTP/1.1\" 200 233\n",
            "[DEBUG] 2024-06-13 16:32:03,413 connectionpool.py:244: Starting new HTTP connection (1): en.wikipedia.org:80\n",
            "[DEBUG] 2024-06-13 16:32:03,471 connectionpool.py:549: http://en.wikipedia.org:80 \"GET /w/api.php?prop=info%7Cpageprops&inprop=url&ppprop=disambiguation&redirects=&titles=List+of+capitals+of+France&format=json&action=query HTTP/1.1\" 301 0\n",
            "[DEBUG] 2024-06-13 16:32:03,474 connectionpool.py:1055: Starting new HTTPS connection (1): en.wikipedia.org:443\n",
            "[DEBUG] 2024-06-13 16:32:03,619 connectionpool.py:549: https://en.wikipedia.org:443 \"GET /w/api.php?prop=info%7Cpageprops&inprop=url&ppprop=disambiguation&redirects=&titles=List+of+capitals+of+France&format=json&action=query HTTP/1.1\" 200 284\n",
            "[DEBUG] 2024-06-13 16:32:03,622 connectionpool.py:244: Starting new HTTP connection (1): en.wikipedia.org:80\n",
            "[DEBUG] 2024-06-13 16:32:03,685 connectionpool.py:549: http://en.wikipedia.org:80 \"GET /w/api.php?prop=extracts&explaintext=&exintro=&titles=List+of+capitals+of+France&format=json&action=query HTTP/1.1\" 301 0\n",
            "[DEBUG] 2024-06-13 16:32:03,688 connectionpool.py:1055: Starting new HTTPS connection (1): en.wikipedia.org:443\n",
            "[DEBUG] 2024-06-13 16:32:03,843 connectionpool.py:549: https://en.wikipedia.org:443 \"GET /w/api.php?prop=extracts&explaintext=&exintro=&titles=List+of+capitals+of+France&format=json&action=query HTTP/1.1\" 200 181\n",
            "[DEBUG] 2024-06-13 16:32:03,845 connectionpool.py:244: Starting new HTTP connection (1): en.wikipedia.org:80\n",
            "[DEBUG] 2024-06-13 16:32:03,906 connectionpool.py:549: http://en.wikipedia.org:80 \"GET /w/api.php?prop=info%7Cpageprops&inprop=url&ppprop=disambiguation&redirects=&titles=Capital+punishment+in+France&format=json&action=query HTTP/1.1\" 301 0\n",
            "[DEBUG] 2024-06-13 16:32:03,910 connectionpool.py:1055: Starting new HTTPS connection (1): en.wikipedia.org:443\n",
            "[DEBUG] 2024-06-13 16:32:04,051 connectionpool.py:549: https://en.wikipedia.org:443 \"GET /w/api.php?prop=info%7Cpageprops&inprop=url&ppprop=disambiguation&redirects=&titles=Capital+punishment+in+France&format=json&action=query HTTP/1.1\" 200 288\n",
            "[DEBUG] 2024-06-13 16:32:04,053 connectionpool.py:244: Starting new HTTP connection (1): en.wikipedia.org:80\n",
            "[DEBUG] 2024-06-13 16:32:04,111 connectionpool.py:549: http://en.wikipedia.org:80 \"GET /w/api.php?prop=extracts&explaintext=&exintro=&titles=Capital+punishment+in+France&format=json&action=query HTTP/1.1\" 301 0\n",
            "[DEBUG] 2024-06-13 16:32:04,112 connectionpool.py:1055: Starting new HTTPS connection (1): en.wikipedia.org:443\n",
            "[DEBUG] 2024-06-13 16:32:04,292 connectionpool.py:549: https://en.wikipedia.org:443 \"GET /w/api.php?prop=extracts&explaintext=&exintro=&titles=Capital+punishment+in+France&format=json&action=query HTTP/1.1\" 200 None\n",
            "[DEBUG] 2024-06-13 16:32:04,296 connectionpool.py:244: Starting new HTTP connection (1): en.wikipedia.org:80\n",
            "[DEBUG] 2024-06-13 16:32:04,359 connectionpool.py:549: http://en.wikipedia.org:80 \"GET /w/api.php?prop=info%7Cpageprops&inprop=url&ppprop=disambiguation&redirects=&titles=Capital+city&format=json&action=query HTTP/1.1\" 301 0\n",
            "[DEBUG] 2024-06-13 16:32:04,362 connectionpool.py:1055: Starting new HTTPS connection (1): en.wikipedia.org:443\n",
            "[DEBUG] 2024-06-13 16:32:04,501 connectionpool.py:549: https://en.wikipedia.org:443 \"GET /w/api.php?prop=info%7Cpageprops&inprop=url&ppprop=disambiguation&redirects=&titles=Capital+city&format=json&action=query HTTP/1.1\" 200 272\n",
            "[DEBUG] 2024-06-13 16:32:04,505 connectionpool.py:244: Starting new HTTP connection (1): en.wikipedia.org:80\n",
            "[DEBUG] 2024-06-13 16:32:04,568 connectionpool.py:549: http://en.wikipedia.org:80 \"GET /w/api.php?prop=extracts&explaintext=&exintro=&titles=Capital+city&format=json&action=query HTTP/1.1\" 301 0\n",
            "[DEBUG] 2024-06-13 16:32:04,573 connectionpool.py:1055: Starting new HTTPS connection (1): en.wikipedia.org:443\n",
            "[DEBUG] 2024-06-13 16:32:04,719 connectionpool.py:549: https://en.wikipedia.org:443 \"GET /w/api.php?prop=extracts&explaintext=&exintro=&titles=Capital+city&format=json&action=query HTTP/1.1\" 200 None\n",
            "[DEBUG] 2024-06-13 16:32:04,749 connectionpool.py:549: https://lastmileai.dev:443 \"POST /api/trace/create HTTP/1.1\" 200 10\n",
            "[DEBUG] 2024-06-13 16:32:04,753 _base_client.py:446: Request options: {'method': 'post', 'url': '/chat/completions', 'files': None, 'json_data': {'messages': [{'content': 'Respond to the human as helpfully and accurately as possible. You have access to the following tools:\\n\\nWikipedia: useful for when you need to look up information on Wikipedia, args: {\\'tool_input\\': {\\'type\\': \\'string\\'}}\\nCalculator: useful for when you need to perform mathematical calculations, args: {\\'tool_input\\': {\\'type\\': \\'string\\'}}\\n\\nUse a json blob to specify a tool by providing an action key (tool name) and an action_input key (tool input).\\n\\nValid \"action\" values: \"Final Answer\" or Wikipedia, Calculator\\n\\nProvide only ONE action per $JSON_BLOB, as shown:\\n\\n```\\n{\\n  \"action\": $TOOL_NAME,\\n  \"action_input\": $INPUT\\n}\\n```\\n\\nFollow this format:\\n\\nQuestion: input question to answer\\nThought: consider previous and subsequent steps\\nAction:\\n```\\n$JSON_BLOB\\n```\\nObservation: action result\\n... (repeat Thought/Action/Observation N times)\\nThought: I know what to respond\\nAction:\\n```\\n{\\n  \"action\": \"Final Answer\",\\n  \"action_input\": \"Final response to human\"\\n}\\n```\\n\\nBegin! Reminder to ALWAYS respond with a valid json blob of a single action. Use tools if necessary. Respond directly if appropriate. Format is Action:```$JSON_BLOB```then Observation:.\\nThought:', 'role': 'system'}, {'content': 'Previous steps: steps=[(Step(value=\\'Identify the country where the Eiffel Tower is located.\\'), StepResponse(response=\\'The Eiffel Tower is located in France.\\'))]\\n\\nCurrent objective: value=\\'Determine the capital city of that country.\\'\\n\\nThis was your previous work (but I haven\\'t seen any of it! I only see what you return as final answer):\\nThought: I can use Wikipedia to quickly find the capital city of France.\\n\\nAction:\\n```\\n{\\n  \"action\": \"Wikipedia\",\\n  \"action_input\": \"Capital of France\"\\n}\\n```\\nObservation: Page: List of capitals of France\\nSummary: This is a chronological list of capitals of France. The capital of France has been Paris since its liberation in 1944.\\n\\n\\n\\nPage: Capital punishment in France\\nSummary: Capital punishment in France (French: peine de mort en France) is banned by Article 66-1 of the Constitution of the French Republic, voted as a constitutional amendment by the Congress of the French Parliament on 19 February 2007 and simply stating \"No one can be sentenced to the death penalty\" (French: Nul ne peut être condamné à la peine de mort). The death penalty was already declared illegal on 9 October 1981 when President François Mitterrand signed a law prohibiting the judicial system from using it and commuting the sentences of the seven people on death row to life imprisonment. The last execution took place by guillotine, being the main legal method since the French Revolution; Hamida Djandoubi, a Tunisian citizen convicted of torture and murder on French soil, was put to death in September 1977 in Marseille.\\nMajor French death penalty abolitionists across time have included philosopher Voltaire; poet Victor Hugo; politicians Léon Gambetta, Jean Jaurès and Aristide Briand; and writers Alphonse de Lamartine and Albert Camus.\\n\\n\\n\\nPage: Capital city\\nSummary: A capital city or just capital is the municipality holding primary status in a country, state, province, department, or other subnational division, usually as its seat of the government. A capital is typically a city that physically encompasses the government\\'s offices and meeting places; the status as capital is often designated by its law or constitution. In some jurisdictions, including several countries, different branches of government are in different settlements, sometimes meaning multiple official capitals. In some cases, a distinction is made between the official (constitutional) capital and the seat of government, which is in another place. \\nEnglish-language news media often use the name of the capital city as an alternative name for the government of the country of which it is the capital, as a form of metonymy. For example, the \"relations between London and Washington\" refers to the \"relations between the United Kingdom and the United States\".\\n\\n\\nThought:', 'role': 'user'}], 'model': 'gpt-3.5-turbo', 'n': 1, 'stop': ['Observation:'], 'stream': False, 'temperature': 0.0}}\n",
            "[DEBUG] 2024-06-13 16:32:04,754 _base_client.py:949: Sending HTTP Request: POST https://api.openai.com/v1/chat/completions\n",
            "[DEBUG] 2024-06-13 16:32:04,754 _trace.py:45: send_request_headers.started request=<Request [b'POST']>\n",
            "[DEBUG] 2024-06-13 16:32:04,755 _trace.py:45: send_request_headers.complete\n",
            "[DEBUG] 2024-06-13 16:32:04,755 _trace.py:45: send_request_body.started request=<Request [b'POST']>\n",
            "[DEBUG] 2024-06-13 16:32:04,755 _trace.py:45: send_request_body.complete\n",
            "[DEBUG] 2024-06-13 16:32:04,755 _trace.py:45: receive_response_headers.started request=<Request [b'POST']>\n"
          ]
        },
        {
          "name": "stdout",
          "output_type": "stream",
          "text": [
            "\n",
            "Observation: \u001b[36;1m\u001b[1;3mPage: List of capitals of France\n",
            "Summary: This is a chronological list of capitals of France. The capital of France has been Paris since its liberation in 1944.\n",
            "\n",
            "\n",
            "\n",
            "Page: Capital punishment in France\n",
            "Summary: Capital punishment in France (French: peine de mort en France) is banned by Article 66-1 of the Constitution of the French Republic, voted as a constitutional amendment by the Congress of the French Parliament on 19 February 2007 and simply stating \"No one can be sentenced to the death penalty\" (French: Nul ne peut être condamné à la peine de mort). The death penalty was already declared illegal on 9 October 1981 when President François Mitterrand signed a law prohibiting the judicial system from using it and commuting the sentences of the seven people on death row to life imprisonment. The last execution took place by guillotine, being the main legal method since the French Revolution; Hamida Djandoubi, a Tunisian citizen convicted of torture and murder on French soil, was put to death in September 1977 in Marseille.\n",
            "Major French death penalty abolitionists across time have included philosopher Voltaire; poet Victor Hugo; politicians Léon Gambetta, Jean Jaurès and Aristide Briand; and writers Alphonse de Lamartine and Albert Camus.\n",
            "\n",
            "\n",
            "\n",
            "Page: Capital city\n",
            "Summary: A capital city or just capital is the municipality holding primary status in a country, state, province, department, or other subnational division, usually as its seat of the government. A capital is typically a city that physically encompasses the government's offices and meeting places; the status as capital is often designated by its law or constitution. In some jurisdictions, including several countries, different branches of government are in different settlements, sometimes meaning multiple official capitals. In some cases, a distinction is made between the official (constitutional) capital and the seat of government, which is in another place. \n",
            "English-language news media often use the name of the capital city as an alternative name for the government of the country of which it is the capital, as a form of metonymy. For example, the \"relations between London and Washington\" refers to the \"relations between the United Kingdom and the United States\".\n",
            "\n",
            "\u001b[0m\n",
            "Thought:"
          ]
        },
        {
          "name": "stderr",
          "output_type": "stream",
          "text": [
            "[DEBUG] 2024-06-13 16:32:05,667 _trace.py:45: receive_response_headers.complete return_value=(b'HTTP/1.1', 200, b'OK', [(b'Date', b'Thu, 13 Jun 2024 20:32:05 GMT'), (b'Content-Type', b'application/json'), (b'Transfer-Encoding', b'chunked'), (b'Connection', b'keep-alive'), (b'openai-organization', b'lastmile-ai'), (b'openai-processing-ms', b'661'), (b'openai-version', b'2020-10-01'), (b'strict-transport-security', b'max-age=15724800; includeSubDomains'), (b'x-ratelimit-limit-requests', b'10000'), (b'x-ratelimit-limit-tokens', b'2000000'), (b'x-ratelimit-remaining-requests', b'9999'), (b'x-ratelimit-remaining-tokens', b'1998998'), (b'x-ratelimit-reset-requests', b'6ms'), (b'x-ratelimit-reset-tokens', b'30ms'), (b'x-request-id', b'req_4e527a3df64bac29c9bc86810f68e66a'), (b'CF-Cache-Status', b'DYNAMIC'), (b'Server', b'cloudflare'), (b'CF-RAY', b'8934d90dcbab197c-EWR'), (b'Content-Encoding', b'gzip'), (b'alt-svc', b'h3=\":443\"; ma=86400')])\n",
            "[INFO] 2024-06-13 16:32:05,669 _client.py:1026: HTTP Request: POST https://api.openai.com/v1/chat/completions \"HTTP/1.1 200 OK\"\n",
            "[DEBUG] 2024-06-13 16:32:05,670 _trace.py:45: receive_response_body.started request=<Request [b'POST']>\n",
            "[DEBUG] 2024-06-13 16:32:05,671 _trace.py:45: receive_response_body.complete\n",
            "[DEBUG] 2024-06-13 16:32:05,671 _trace.py:45: response_closed.started\n",
            "[DEBUG] 2024-06-13 16:32:05,672 _trace.py:45: response_closed.complete\n",
            "[DEBUG] 2024-06-13 16:32:05,672 _base_client.py:988: HTTP Response: POST https://api.openai.com/v1/chat/completions \"200 OK\" Headers({'date': 'Thu, 13 Jun 2024 20:32:05 GMT', 'content-type': 'application/json', 'transfer-encoding': 'chunked', 'connection': 'keep-alive', 'openai-organization': 'lastmile-ai', 'openai-processing-ms': '661', 'openai-version': '2020-10-01', 'strict-transport-security': 'max-age=15724800; includeSubDomains', 'x-ratelimit-limit-requests': '10000', 'x-ratelimit-limit-tokens': '2000000', 'x-ratelimit-remaining-requests': '9999', 'x-ratelimit-remaining-tokens': '1998998', 'x-ratelimit-reset-requests': '6ms', 'x-ratelimit-reset-tokens': '30ms', 'x-request-id': 'req_4e527a3df64bac29c9bc86810f68e66a', 'cf-cache-status': 'DYNAMIC', 'server': 'cloudflare', 'cf-ray': '8934d90dcbab197c-EWR', 'content-encoding': 'gzip', 'alt-svc': 'h3=\":443\"; ma=86400'})\n",
            "[DEBUG] 2024-06-13 16:32:05,673 _base_client.py:996: request_id: req_4e527a3df64bac29c9bc86810f68e66a\n",
            "[DEBUG] 2024-06-13 16:32:05,706 connectionpool.py:549: https://lastmileai.dev:443 \"POST /api/trace/create HTTP/1.1\" 200 10\n",
            "[DEBUG] 2024-06-13 16:32:05,737 connectionpool.py:549: https://lastmileai.dev:443 \"POST /api/trace/create HTTP/1.1\" 200 10\n",
            "[DEBUG] 2024-06-13 16:32:05,771 connectionpool.py:549: https://lastmileai.dev:443 \"POST /api/trace/create HTTP/1.1\" 200 10\n",
            "[DEBUG] 2024-06-13 16:32:05,779 _base_client.py:446: Request options: {'method': 'post', 'url': '/chat/completions', 'files': None, 'json_data': {'messages': [{'content': 'Respond to the human as helpfully and accurately as possible. You have access to the following tools:\\n\\nWikipedia: useful for when you need to look up information on Wikipedia, args: {\\'tool_input\\': {\\'type\\': \\'string\\'}}\\nCalculator: useful for when you need to perform mathematical calculations, args: {\\'tool_input\\': {\\'type\\': \\'string\\'}}\\n\\nUse a json blob to specify a tool by providing an action key (tool name) and an action_input key (tool input).\\n\\nValid \"action\" values: \"Final Answer\" or Wikipedia, Calculator\\n\\nProvide only ONE action per $JSON_BLOB, as shown:\\n\\n```\\n{\\n  \"action\": $TOOL_NAME,\\n  \"action_input\": $INPUT\\n}\\n```\\n\\nFollow this format:\\n\\nQuestion: input question to answer\\nThought: consider previous and subsequent steps\\nAction:\\n```\\n$JSON_BLOB\\n```\\nObservation: action result\\n... (repeat Thought/Action/Observation N times)\\nThought: I know what to respond\\nAction:\\n```\\n{\\n  \"action\": \"Final Answer\",\\n  \"action_input\": \"Final response to human\"\\n}\\n```\\n\\nBegin! Reminder to ALWAYS respond with a valid json blob of a single action. Use tools if necessary. Respond directly if appropriate. Format is Action:```$JSON_BLOB```then Observation:.\\nThought:', 'role': 'system'}, {'content': \"Previous steps: steps=[(Step(value='Identify the country where the Eiffel Tower is located.'), StepResponse(response='The Eiffel Tower is located in France.')), (Step(value='Determine the capital city of that country.'), StepResponse(response='Paris'))]\\n\\nCurrent objective: value='Find the population of the capital city.'\\n\\n\", 'role': 'user'}], 'model': 'gpt-3.5-turbo', 'n': 1, 'stop': ['Observation:'], 'stream': False, 'temperature': 0.0}}\n",
            "[DEBUG] 2024-06-13 16:32:05,780 _base_client.py:949: Sending HTTP Request: POST https://api.openai.com/v1/chat/completions\n",
            "[DEBUG] 2024-06-13 16:32:05,780 _trace.py:45: send_request_headers.started request=<Request [b'POST']>\n",
            "[DEBUG] 2024-06-13 16:32:05,781 _trace.py:45: send_request_headers.complete\n",
            "[DEBUG] 2024-06-13 16:32:05,781 _trace.py:45: send_request_body.started request=<Request [b'POST']>\n",
            "[DEBUG] 2024-06-13 16:32:05,781 _trace.py:45: send_request_body.complete\n",
            "[DEBUG] 2024-06-13 16:32:05,782 _trace.py:45: receive_response_headers.started request=<Request [b'POST']>\n"
          ]
        },
        {
          "name": "stdout",
          "output_type": "stream",
          "text": [
            "\u001b[32;1m\u001b[1;3mI have found the information you need. The capital of France is Paris.\n",
            "Action:\n",
            "```\n",
            "{\n",
            "  \"action\": \"Final Answer\",\n",
            "  \"action_input\": \"Paris\"\n",
            "}\n",
            "```\n",
            "\u001b[0m\n",
            "\n",
            "\u001b[1m> Finished chain.\u001b[0m\n",
            "\n",
            "\n",
            "\u001b[1m> Entering new AgentExecutor chain...\u001b[0m\n"
          ]
        },
        {
          "name": "stderr",
          "output_type": "stream",
          "text": [
            "[DEBUG] 2024-06-13 16:32:06,835 _trace.py:45: receive_response_headers.complete return_value=(b'HTTP/1.1', 200, b'OK', [(b'Date', b'Thu, 13 Jun 2024 20:32:06 GMT'), (b'Content-Type', b'application/json'), (b'Transfer-Encoding', b'chunked'), (b'Connection', b'keep-alive'), (b'openai-organization', b'lastmile-ai'), (b'openai-processing-ms', b'932'), (b'openai-version', b'2020-10-01'), (b'strict-transport-security', b'max-age=15724800; includeSubDomains'), (b'x-ratelimit-limit-requests', b'10000'), (b'x-ratelimit-limit-tokens', b'2000000'), (b'x-ratelimit-remaining-requests', b'9999'), (b'x-ratelimit-remaining-tokens', b'1999613'), (b'x-ratelimit-reset-requests', b'6ms'), (b'x-ratelimit-reset-tokens', b'11ms'), (b'x-request-id', b'req_71d18273d077666ce4b2d7ca493ca8f4'), (b'CF-Cache-Status', b'DYNAMIC'), (b'Server', b'cloudflare'), (b'CF-RAY', b'8934d9142960197c-EWR'), (b'Content-Encoding', b'gzip'), (b'alt-svc', b'h3=\":443\"; ma=86400')])\n",
            "[INFO] 2024-06-13 16:32:06,836 _client.py:1026: HTTP Request: POST https://api.openai.com/v1/chat/completions \"HTTP/1.1 200 OK\"\n",
            "[DEBUG] 2024-06-13 16:32:06,836 _trace.py:45: receive_response_body.started request=<Request [b'POST']>\n",
            "[DEBUG] 2024-06-13 16:32:06,837 _trace.py:45: receive_response_body.complete\n",
            "[DEBUG] 2024-06-13 16:32:06,837 _trace.py:45: response_closed.started\n",
            "[DEBUG] 2024-06-13 16:32:06,838 _trace.py:45: response_closed.complete\n",
            "[DEBUG] 2024-06-13 16:32:06,838 _base_client.py:988: HTTP Response: POST https://api.openai.com/v1/chat/completions \"200 OK\" Headers({'date': 'Thu, 13 Jun 2024 20:32:06 GMT', 'content-type': 'application/json', 'transfer-encoding': 'chunked', 'connection': 'keep-alive', 'openai-organization': 'lastmile-ai', 'openai-processing-ms': '932', 'openai-version': '2020-10-01', 'strict-transport-security': 'max-age=15724800; includeSubDomains', 'x-ratelimit-limit-requests': '10000', 'x-ratelimit-limit-tokens': '2000000', 'x-ratelimit-remaining-requests': '9999', 'x-ratelimit-remaining-tokens': '1999613', 'x-ratelimit-reset-requests': '6ms', 'x-ratelimit-reset-tokens': '11ms', 'x-request-id': 'req_71d18273d077666ce4b2d7ca493ca8f4', 'cf-cache-status': 'DYNAMIC', 'server': 'cloudflare', 'cf-ray': '8934d9142960197c-EWR', 'content-encoding': 'gzip', 'alt-svc': 'h3=\":443\"; ma=86400'})\n",
            "[DEBUG] 2024-06-13 16:32:06,839 _base_client.py:996: request_id: req_71d18273d077666ce4b2d7ca493ca8f4\n",
            "[DEBUG] 2024-06-13 16:32:06,870 connectionpool.py:549: https://lastmileai.dev:443 \"POST /api/trace/create HTTP/1.1\" 200 10\n",
            "[DEBUG] 2024-06-13 16:32:06,900 connectionpool.py:549: https://lastmileai.dev:443 \"POST /api/trace/create HTTP/1.1\" 200 10\n",
            "[DEBUG] 2024-06-13 16:32:06,904 connectionpool.py:244: Starting new HTTP connection (1): en.wikipedia.org:80\n",
            "[DEBUG] 2024-06-13 16:32:06,962 connectionpool.py:549: http://en.wikipedia.org:80 \"GET /w/api.php?list=search&srprop=&srlimit=3&limit=3&srsearch=Population+of+Paris&format=json&action=query HTTP/1.1\" 301 0\n",
            "[DEBUG] 2024-06-13 16:32:06,963 connectionpool.py:1055: Starting new HTTPS connection (1): en.wikipedia.org:443\n"
          ]
        },
        {
          "name": "stdout",
          "output_type": "stream",
          "text": [
            "\u001b[32;1m\u001b[1;3mThought: I can use Wikipedia to look up the population of Paris, the capital city of France.\n",
            "Action:\n",
            "```\n",
            "{\n",
            "  \"action\": \"Wikipedia\",\n",
            "  \"action_input\": \"Population of Paris\"\n",
            "}\n",
            "```\u001b[0m"
          ]
        },
        {
          "name": "stderr",
          "output_type": "stream",
          "text": [
            "[DEBUG] 2024-06-13 16:32:07,400 connectionpool.py:549: https://en.wikipedia.org:443 \"GET /w/api.php?list=search&srprop=&srlimit=3&limit=3&srsearch=Population+of+Paris&format=json&action=query HTTP/1.1\" 200 228\n",
            "[DEBUG] 2024-06-13 16:32:07,402 connectionpool.py:244: Starting new HTTP connection (1): en.wikipedia.org:80\n",
            "[DEBUG] 2024-06-13 16:32:07,464 connectionpool.py:549: http://en.wikipedia.org:80 \"GET /w/api.php?prop=info%7Cpageprops&inprop=url&ppprop=disambiguation&redirects=&titles=Demographics+of+Paris&format=json&action=query HTTP/1.1\" 301 0\n",
            "[DEBUG] 2024-06-13 16:32:07,466 connectionpool.py:1055: Starting new HTTPS connection (1): en.wikipedia.org:443\n",
            "[DEBUG] 2024-06-13 16:32:07,603 connectionpool.py:549: https://en.wikipedia.org:443 \"GET /w/api.php?prop=info%7Cpageprops&inprop=url&ppprop=disambiguation&redirects=&titles=Demographics+of+Paris&format=json&action=query HTTP/1.1\" 200 284\n",
            "[DEBUG] 2024-06-13 16:32:07,607 connectionpool.py:244: Starting new HTTP connection (1): en.wikipedia.org:80\n",
            "[DEBUG] 2024-06-13 16:32:07,671 connectionpool.py:549: http://en.wikipedia.org:80 \"GET /w/api.php?prop=extracts&explaintext=&exintro=&titles=Demographics+of+Paris&format=json&action=query HTTP/1.1\" 301 0\n",
            "[DEBUG] 2024-06-13 16:32:07,674 connectionpool.py:1055: Starting new HTTPS connection (1): en.wikipedia.org:443\n",
            "[DEBUG] 2024-06-13 16:32:07,811 connectionpool.py:549: https://en.wikipedia.org:443 \"GET /w/api.php?prop=extracts&explaintext=&exintro=&titles=Demographics+of+Paris&format=json&action=query HTTP/1.1\" 200 None\n",
            "[DEBUG] 2024-06-13 16:32:07,815 connectionpool.py:244: Starting new HTTP connection (1): en.wikipedia.org:80\n",
            "[DEBUG] 2024-06-13 16:32:07,879 connectionpool.py:549: http://en.wikipedia.org:80 \"GET /w/api.php?prop=info%7Cpageprops&inprop=url&ppprop=disambiguation&redirects=&titles=Paris&format=json&action=query HTTP/1.1\" 301 0\n",
            "[DEBUG] 2024-06-13 16:32:07,881 connectionpool.py:1055: Starting new HTTPS connection (1): en.wikipedia.org:443\n",
            "[DEBUG] 2024-06-13 16:32:08,021 connectionpool.py:549: https://en.wikipedia.org:443 \"GET /w/api.php?prop=info%7Cpageprops&inprop=url&ppprop=disambiguation&redirects=&titles=Paris&format=json&action=query HTTP/1.1\" 200 259\n",
            "[DEBUG] 2024-06-13 16:32:08,031 connectionpool.py:244: Starting new HTTP connection (1): en.wikipedia.org:80\n",
            "[DEBUG] 2024-06-13 16:32:08,090 connectionpool.py:549: http://en.wikipedia.org:80 \"GET /w/api.php?prop=extracts&explaintext=&exintro=&titles=Paris&format=json&action=query HTTP/1.1\" 301 0\n",
            "[DEBUG] 2024-06-13 16:32:08,093 connectionpool.py:1055: Starting new HTTPS connection (1): en.wikipedia.org:443\n",
            "[DEBUG] 2024-06-13 16:32:08,239 connectionpool.py:549: https://en.wikipedia.org:443 \"GET /w/api.php?prop=extracts&explaintext=&exintro=&titles=Paris&format=json&action=query HTTP/1.1\" 200 None\n",
            "[DEBUG] 2024-06-13 16:32:08,243 connectionpool.py:244: Starting new HTTP connection (1): en.wikipedia.org:80\n",
            "[DEBUG] 2024-06-13 16:32:08,303 connectionpool.py:549: http://en.wikipedia.org:80 \"GET /w/api.php?prop=info%7Cpageprops&inprop=url&ppprop=disambiguation&redirects=&titles=Arrondissements+of+Paris&format=json&action=query HTTP/1.1\" 301 0\n",
            "[DEBUG] 2024-06-13 16:32:08,306 connectionpool.py:1055: Starting new HTTPS connection (1): en.wikipedia.org:443\n",
            "[DEBUG] 2024-06-13 16:32:08,458 connectionpool.py:549: https://en.wikipedia.org:443 \"GET /w/api.php?prop=info%7Cpageprops&inprop=url&ppprop=disambiguation&redirects=&titles=Arrondissements+of+Paris&format=json&action=query HTTP/1.1\" 200 283\n",
            "[DEBUG] 2024-06-13 16:32:08,460 connectionpool.py:244: Starting new HTTP connection (1): en.wikipedia.org:80\n",
            "[DEBUG] 2024-06-13 16:32:08,522 connectionpool.py:549: http://en.wikipedia.org:80 \"GET /w/api.php?prop=extracts&explaintext=&exintro=&titles=Arrondissements+of+Paris&format=json&action=query HTTP/1.1\" 301 0\n",
            "[DEBUG] 2024-06-13 16:32:08,525 connectionpool.py:1055: Starting new HTTPS connection (1): en.wikipedia.org:443\n",
            "[DEBUG] 2024-06-13 16:32:08,658 connectionpool.py:549: https://en.wikipedia.org:443 \"GET /w/api.php?prop=extracts&explaintext=&exintro=&titles=Arrondissements+of+Paris&format=json&action=query HTTP/1.1\" 200 831\n",
            "[DEBUG] 2024-06-13 16:32:08,692 connectionpool.py:549: https://lastmileai.dev:443 \"POST /api/trace/create HTTP/1.1\" 200 10\n",
            "[DEBUG] 2024-06-13 16:32:08,703 _base_client.py:446: Request options: {'method': 'post', 'url': '/chat/completions', 'files': None, 'json_data': {'messages': [{'content': 'Respond to the human as helpfully and accurately as possible. You have access to the following tools:\\n\\nWikipedia: useful for when you need to look up information on Wikipedia, args: {\\'tool_input\\': {\\'type\\': \\'string\\'}}\\nCalculator: useful for when you need to perform mathematical calculations, args: {\\'tool_input\\': {\\'type\\': \\'string\\'}}\\n\\nUse a json blob to specify a tool by providing an action key (tool name) and an action_input key (tool input).\\n\\nValid \"action\" values: \"Final Answer\" or Wikipedia, Calculator\\n\\nProvide only ONE action per $JSON_BLOB, as shown:\\n\\n```\\n{\\n  \"action\": $TOOL_NAME,\\n  \"action_input\": $INPUT\\n}\\n```\\n\\nFollow this format:\\n\\nQuestion: input question to answer\\nThought: consider previous and subsequent steps\\nAction:\\n```\\n$JSON_BLOB\\n```\\nObservation: action result\\n... (repeat Thought/Action/Observation N times)\\nThought: I know what to respond\\nAction:\\n```\\n{\\n  \"action\": \"Final Answer\",\\n  \"action_input\": \"Final response to human\"\\n}\\n```\\n\\nBegin! Reminder to ALWAYS respond with a valid json blob of a single action. Use tools if necessary. Respond directly if appropriate. Format is Action:```$JSON_BLOB```then Observation:.\\nThought:', 'role': 'system'}, {'content': 'Previous steps: steps=[(Step(value=\\'Identify the country where the Eiffel Tower is located.\\'), StepResponse(response=\\'The Eiffel Tower is located in France.\\')), (Step(value=\\'Determine the capital city of that country.\\'), StepResponse(response=\\'Paris\\'))]\\n\\nCurrent objective: value=\\'Find the population of the capital city.\\'\\n\\nThis was your previous work (but I haven\\'t seen any of it! I only see what you return as final answer):\\nThought: I can use Wikipedia to look up the population of Paris, the capital city of France.\\nAction:\\n```\\n{\\n  \"action\": \"Wikipedia\",\\n  \"action_input\": \"Population of Paris\"\\n}\\n```\\nObservation: Page: Demographics of Paris\\nSummary: The city of Paris (also called the Commune or Department of Paris) had a population of 2,165,423 people within its administrative city limits as of January 1, 2019. It is surrounded by the Paris unité urbaine, or urban area, the most populous urban area in the European Union. In 2018 the unité urbaine had a population of 10,816,803 in 2,854 km2 (1,102 sq mi). The Paris Region, or Île-de-France, covers 12,012 km2 (4,638 sq mi), and has its own regional council and president. It has a population of 12,213,447 as of January 2018, or 18.3 percent of the population of France. The metropolitan or functional area (aire d\\'attraction) of Paris covers 18,941 km2 (7,313 sq mi) and has 13,064,617 inhabitants (2018).\\nThe population of the city of Paris reached a historic high of 2.9 million in 1921 but then declined; between 1954 and 1999 it declined at every census, falling to 2,125,246 in 1999. After that it began to climb again, reaching 2,240,621 in 2012, but falling to 2,187,526 in 2017.\\nThe city\\'s population loss reflected the experience of most other core cities in the developed world that have not expanded their boundaries. The principal factors in the process were a significant decline in household size, and a dramatic migration of residents to the suburbs between 1962 and 1975.  Factors in the migration included deindustrialisation, high rent, the gentrification of many inner quarters, the transformation of living space into offices, and greater affluence among working families. The city\\'s population loss was one of the most severe among international municipalities and the largest for any that had achieved more than 2,000,000 residents.  Since then, an influx of younger residents and immigrants has contributed to the growth of the city.\\n\\n\\n\\nPage: Paris\\nSummary: Paris is the capital and largest city of France. With an official estimated population of 2,102,650 residents as of 1 January 2023 in an area of more than 105 km2 (41 sq mi), Paris is the fourth-largest city in the European Union and the 30th most densely populated city in the world in 2022. Since the 17th century, Paris has been one of the world\\'s major centres of finance, diplomacy, commerce, culture, fashion, and gastronomy. For its leading role in the arts and sciences, as well as its early and extensive system of street lighting, in the 19th century, it became known as the City of Light. \\nThe City of Paris is the centre of the Île-de-France region, or Paris Region, with an official estimated population of 12,271,794 inhabitants on 1 January 2023, or about 19% of the population of France. The Paris Region had a GDP of €765 billion (US$1.064 trillion, PPP) in 2021, the highest in the European Union. According to the Economist Intelligence Unit Worldwide Cost of Living Survey, in 2022, Paris was the city with the ninth-highest cost of living in the world.\\nParis is a major railway, highway, and air-transport hub served by two international airports: Charles de Gaulle Airport (the third-busiest airport in Europe) and Orly Airport. Opened in 1900, the city\\'s subway system, the Paris Métro, serves 5.23 million passengers daily; it is the second-busiest metro system in Europe after the Moscow Metro. Gare du Nord is the 24th-busiest railway station in the world and the busiest outside Japan, with 262 million passengers in 2015. Paris has one of the most sustainable transportation systems and is one of only two cities in the world that received the Sustainable Transport Award twice.\\nParis is known for its museums and architectural landmarks: the Louvre received 8.9 million visitors in 2023, on track for keeping its position as the most-visited art museum in the world. The Musée d\\'Orsay, Musée Marmottan Monet and Musée de l\\'Orangerie are noted for their collections of French Impressionist art. The Pompidou Centre Musée National d\\'Art Moderne, Musée Rodin and Musée Picasso are noted for their collections of modern and contemporary art. The his\\nThought:', 'role': 'user'}], 'model': 'gpt-3.5-turbo', 'n': 1, 'stop': ['Observation:'], 'stream': False, 'temperature': 0.0}}\n",
            "[DEBUG] 2024-06-13 16:32:08,704 _base_client.py:949: Sending HTTP Request: POST https://api.openai.com/v1/chat/completions\n",
            "[DEBUG] 2024-06-13 16:32:08,705 _trace.py:45: send_request_headers.started request=<Request [b'POST']>\n",
            "[DEBUG] 2024-06-13 16:32:08,705 _trace.py:45: send_request_headers.complete\n",
            "[DEBUG] 2024-06-13 16:32:08,706 _trace.py:45: send_request_body.started request=<Request [b'POST']>\n",
            "[DEBUG] 2024-06-13 16:32:08,706 _trace.py:45: send_request_body.complete\n",
            "[DEBUG] 2024-06-13 16:32:08,706 _trace.py:45: receive_response_headers.started request=<Request [b'POST']>\n"
          ]
        },
        {
          "name": "stdout",
          "output_type": "stream",
          "text": [
            "\n",
            "Observation: \u001b[36;1m\u001b[1;3mPage: Demographics of Paris\n",
            "Summary: The city of Paris (also called the Commune or Department of Paris) had a population of 2,165,423 people within its administrative city limits as of January 1, 2019. It is surrounded by the Paris unité urbaine, or urban area, the most populous urban area in the European Union. In 2018 the unité urbaine had a population of 10,816,803 in 2,854 km2 (1,102 sq mi). The Paris Region, or Île-de-France, covers 12,012 km2 (4,638 sq mi), and has its own regional council and president. It has a population of 12,213,447 as of January 2018, or 18.3 percent of the population of France. The metropolitan or functional area (aire d'attraction) of Paris covers 18,941 km2 (7,313 sq mi) and has 13,064,617 inhabitants (2018).\n",
            "The population of the city of Paris reached a historic high of 2.9 million in 1921 but then declined; between 1954 and 1999 it declined at every census, falling to 2,125,246 in 1999. After that it began to climb again, reaching 2,240,621 in 2012, but falling to 2,187,526 in 2017.\n",
            "The city's population loss reflected the experience of most other core cities in the developed world that have not expanded their boundaries. The principal factors in the process were a significant decline in household size, and a dramatic migration of residents to the suburbs between 1962 and 1975.  Factors in the migration included deindustrialisation, high rent, the gentrification of many inner quarters, the transformation of living space into offices, and greater affluence among working families. The city's population loss was one of the most severe among international municipalities and the largest for any that had achieved more than 2,000,000 residents.  Since then, an influx of younger residents and immigrants has contributed to the growth of the city.\n",
            "\n",
            "\n",
            "\n",
            "Page: Paris\n",
            "Summary: Paris is the capital and largest city of France. With an official estimated population of 2,102,650 residents as of 1 January 2023 in an area of more than 105 km2 (41 sq mi), Paris is the fourth-largest city in the European Union and the 30th most densely populated city in the world in 2022. Since the 17th century, Paris has been one of the world's major centres of finance, diplomacy, commerce, culture, fashion, and gastronomy. For its leading role in the arts and sciences, as well as its early and extensive system of street lighting, in the 19th century, it became known as the City of Light. \n",
            "The City of Paris is the centre of the Île-de-France region, or Paris Region, with an official estimated population of 12,271,794 inhabitants on 1 January 2023, or about 19% of the population of France. The Paris Region had a GDP of €765 billion (US$1.064 trillion, PPP) in 2021, the highest in the European Union. According to the Economist Intelligence Unit Worldwide Cost of Living Survey, in 2022, Paris was the city with the ninth-highest cost of living in the world.\n",
            "Paris is a major railway, highway, and air-transport hub served by two international airports: Charles de Gaulle Airport (the third-busiest airport in Europe) and Orly Airport. Opened in 1900, the city's subway system, the Paris Métro, serves 5.23 million passengers daily; it is the second-busiest metro system in Europe after the Moscow Metro. Gare du Nord is the 24th-busiest railway station in the world and the busiest outside Japan, with 262 million passengers in 2015. Paris has one of the most sustainable transportation systems and is one of only two cities in the world that received the Sustainable Transport Award twice.\n",
            "Paris is known for its museums and architectural landmarks: the Louvre received 8.9 million visitors in 2023, on track for keeping its position as the most-visited art museum in the world. The Musée d'Orsay, Musée Marmottan Monet and Musée de l'Orangerie are noted for their collections of French Impressionist art. The Pompidou Centre Musée National d'Art Moderne, Musée Rodin and Musée Picasso are noted for their collections of modern and contemporary art. The his\u001b[0m\n",
            "Thought:"
          ]
        },
        {
          "name": "stderr",
          "output_type": "stream",
          "text": [
            "[DEBUG] 2024-06-13 16:32:10,002 _trace.py:45: receive_response_headers.complete return_value=(b'HTTP/1.1', 200, b'OK', [(b'Date', b'Thu, 13 Jun 2024 20:32:09 GMT'), (b'Content-Type', b'application/json'), (b'Transfer-Encoding', b'chunked'), (b'Connection', b'keep-alive'), (b'openai-organization', b'lastmile-ai'), (b'openai-processing-ms', b'1062'), (b'openai-version', b'2020-10-01'), (b'strict-transport-security', b'max-age=15724800; includeSubDomains'), (b'x-ratelimit-limit-requests', b'10000'), (b'x-ratelimit-limit-tokens', b'2000000'), (b'x-ratelimit-remaining-requests', b'9999'), (b'x-ratelimit-remaining-tokens', b'1998534'), (b'x-ratelimit-reset-requests', b'6ms'), (b'x-ratelimit-reset-tokens', b'43ms'), (b'x-request-id', b'req_b6bff1d73038eb8a3e6db929008199f8'), (b'CF-Cache-Status', b'DYNAMIC'), (b'Server', b'cloudflare'), (b'CF-RAY', b'8934d9267b56197c-EWR'), (b'Content-Encoding', b'gzip'), (b'alt-svc', b'h3=\":443\"; ma=86400')])\n",
            "[INFO] 2024-06-13 16:32:10,003 _client.py:1026: HTTP Request: POST https://api.openai.com/v1/chat/completions \"HTTP/1.1 200 OK\"\n",
            "[DEBUG] 2024-06-13 16:32:10,004 _trace.py:45: receive_response_body.started request=<Request [b'POST']>\n",
            "[DEBUG] 2024-06-13 16:32:10,005 _trace.py:45: receive_response_body.complete\n",
            "[DEBUG] 2024-06-13 16:32:10,005 _trace.py:45: response_closed.started\n",
            "[DEBUG] 2024-06-13 16:32:10,005 _trace.py:45: response_closed.complete\n",
            "[DEBUG] 2024-06-13 16:32:10,006 _base_client.py:988: HTTP Response: POST https://api.openai.com/v1/chat/completions \"200 OK\" Headers({'date': 'Thu, 13 Jun 2024 20:32:09 GMT', 'content-type': 'application/json', 'transfer-encoding': 'chunked', 'connection': 'keep-alive', 'openai-organization': 'lastmile-ai', 'openai-processing-ms': '1062', 'openai-version': '2020-10-01', 'strict-transport-security': 'max-age=15724800; includeSubDomains', 'x-ratelimit-limit-requests': '10000', 'x-ratelimit-limit-tokens': '2000000', 'x-ratelimit-remaining-requests': '9999', 'x-ratelimit-remaining-tokens': '1998534', 'x-ratelimit-reset-requests': '6ms', 'x-ratelimit-reset-tokens': '43ms', 'x-request-id': 'req_b6bff1d73038eb8a3e6db929008199f8', 'cf-cache-status': 'DYNAMIC', 'server': 'cloudflare', 'cf-ray': '8934d9267b56197c-EWR', 'content-encoding': 'gzip', 'alt-svc': 'h3=\":443\"; ma=86400'})\n",
            "[DEBUG] 2024-06-13 16:32:10,006 _base_client.py:996: request_id: req_b6bff1d73038eb8a3e6db929008199f8\n",
            "[DEBUG] 2024-06-13 16:32:10,056 connectionpool.py:549: https://lastmileai.dev:443 \"POST /api/trace/create HTTP/1.1\" 200 10\n",
            "[DEBUG] 2024-06-13 16:32:10,107 connectionpool.py:549: https://lastmileai.dev:443 \"POST /api/trace/create HTTP/1.1\" 200 10\n",
            "[DEBUG] 2024-06-13 16:32:10,143 connectionpool.py:549: https://lastmileai.dev:443 \"POST /api/trace/create HTTP/1.1\" 200 10\n",
            "[DEBUG] 2024-06-13 16:32:10,148 _base_client.py:446: Request options: {'method': 'post', 'url': '/chat/completions', 'files': None, 'json_data': {'messages': [{'content': 'Respond to the human as helpfully and accurately as possible. You have access to the following tools:\\n\\nWikipedia: useful for when you need to look up information on Wikipedia, args: {\\'tool_input\\': {\\'type\\': \\'string\\'}}\\nCalculator: useful for when you need to perform mathematical calculations, args: {\\'tool_input\\': {\\'type\\': \\'string\\'}}\\n\\nUse a json blob to specify a tool by providing an action key (tool name) and an action_input key (tool input).\\n\\nValid \"action\" values: \"Final Answer\" or Wikipedia, Calculator\\n\\nProvide only ONE action per $JSON_BLOB, as shown:\\n\\n```\\n{\\n  \"action\": $TOOL_NAME,\\n  \"action_input\": $INPUT\\n}\\n```\\n\\nFollow this format:\\n\\nQuestion: input question to answer\\nThought: consider previous and subsequent steps\\nAction:\\n```\\n$JSON_BLOB\\n```\\nObservation: action result\\n... (repeat Thought/Action/Observation N times)\\nThought: I know what to respond\\nAction:\\n```\\n{\\n  \"action\": \"Final Answer\",\\n  \"action_input\": \"Final response to human\"\\n}\\n```\\n\\nBegin! Reminder to ALWAYS respond with a valid json blob of a single action. Use tools if necessary. Respond directly if appropriate. Format is Action:```$JSON_BLOB```then Observation:.\\nThought:', 'role': 'system'}, {'content': \"Previous steps: steps=[(Step(value='Identify the country where the Eiffel Tower is located.'), StepResponse(response='The Eiffel Tower is located in France.')), (Step(value='Determine the capital city of that country.'), StepResponse(response='Paris')), (Step(value='Find the population of the capital city.'), StepResponse(response='The population of Paris is approximately 2,102,650 residents as of January 1, 2023.'))]\\n\\nCurrent objective: value='Calculate the square root of the population of the capital city.'\\n\\n\", 'role': 'user'}], 'model': 'gpt-3.5-turbo', 'n': 1, 'stop': ['Observation:'], 'stream': False, 'temperature': 0.0}}\n",
            "[DEBUG] 2024-06-13 16:32:10,149 _base_client.py:949: Sending HTTP Request: POST https://api.openai.com/v1/chat/completions\n",
            "[DEBUG] 2024-06-13 16:32:10,149 _trace.py:45: send_request_headers.started request=<Request [b'POST']>\n",
            "[DEBUG] 2024-06-13 16:32:10,150 _trace.py:45: send_request_headers.complete\n",
            "[DEBUG] 2024-06-13 16:32:10,150 _trace.py:45: send_request_body.started request=<Request [b'POST']>\n",
            "[DEBUG] 2024-06-13 16:32:10,150 _trace.py:45: send_request_body.complete\n",
            "[DEBUG] 2024-06-13 16:32:10,150 _trace.py:45: receive_response_headers.started request=<Request [b'POST']>\n"
          ]
        },
        {
          "name": "stdout",
          "output_type": "stream",
          "text": [
            "\u001b[32;1m\u001b[1;3mThe population of Paris is approximately 2,102,650 residents as of January 1, 2023. \n",
            "Thought: I have the population information for Paris.\n",
            "Action:\n",
            "```\n",
            "{\n",
            "  \"action\": \"Final Answer\",\n",
            "  \"action_input\": \"The population of Paris is approximately 2,102,650 residents as of January 1, 2023.\"\n",
            "}\n",
            "```\u001b[0m\n",
            "\n",
            "\u001b[1m> Finished chain.\u001b[0m\n",
            "\n",
            "\n",
            "\u001b[1m> Entering new AgentExecutor chain...\u001b[0m\n"
          ]
        },
        {
          "name": "stderr",
          "output_type": "stream",
          "text": [
            "[DEBUG] 2024-06-13 16:32:11,308 _trace.py:45: receive_response_headers.complete return_value=(b'HTTP/1.1', 200, b'OK', [(b'Date', b'Thu, 13 Jun 2024 20:32:11 GMT'), (b'Content-Type', b'application/json'), (b'Transfer-Encoding', b'chunked'), (b'Connection', b'keep-alive'), (b'openai-organization', b'lastmile-ai'), (b'openai-processing-ms', b'1020'), (b'openai-version', b'2020-10-01'), (b'strict-transport-security', b'max-age=15724800; includeSubDomains'), (b'x-ratelimit-limit-requests', b'10000'), (b'x-ratelimit-limit-tokens', b'2000000'), (b'x-ratelimit-remaining-requests', b'9999'), (b'x-ratelimit-remaining-tokens', b'1999565'), (b'x-ratelimit-reset-requests', b'6ms'), (b'x-ratelimit-reset-tokens', b'13ms'), (b'x-request-id', b'req_8b929bed426bb993b3f51a65c377b54c'), (b'CF-Cache-Status', b'DYNAMIC'), (b'Server', b'cloudflare'), (b'CF-RAY', b'8934d92f7bab197c-EWR'), (b'Content-Encoding', b'gzip'), (b'alt-svc', b'h3=\":443\"; ma=86400')])\n",
            "[INFO] 2024-06-13 16:32:11,309 _client.py:1026: HTTP Request: POST https://api.openai.com/v1/chat/completions \"HTTP/1.1 200 OK\"\n",
            "[DEBUG] 2024-06-13 16:32:11,309 _trace.py:45: receive_response_body.started request=<Request [b'POST']>\n",
            "[DEBUG] 2024-06-13 16:32:11,310 _trace.py:45: receive_response_body.complete\n",
            "[DEBUG] 2024-06-13 16:32:11,310 _trace.py:45: response_closed.started\n",
            "[DEBUG] 2024-06-13 16:32:11,311 _trace.py:45: response_closed.complete\n",
            "[DEBUG] 2024-06-13 16:32:11,311 _base_client.py:988: HTTP Response: POST https://api.openai.com/v1/chat/completions \"200 OK\" Headers({'date': 'Thu, 13 Jun 2024 20:32:11 GMT', 'content-type': 'application/json', 'transfer-encoding': 'chunked', 'connection': 'keep-alive', 'openai-organization': 'lastmile-ai', 'openai-processing-ms': '1020', 'openai-version': '2020-10-01', 'strict-transport-security': 'max-age=15724800; includeSubDomains', 'x-ratelimit-limit-requests': '10000', 'x-ratelimit-limit-tokens': '2000000', 'x-ratelimit-remaining-requests': '9999', 'x-ratelimit-remaining-tokens': '1999565', 'x-ratelimit-reset-requests': '6ms', 'x-ratelimit-reset-tokens': '13ms', 'x-request-id': 'req_8b929bed426bb993b3f51a65c377b54c', 'cf-cache-status': 'DYNAMIC', 'server': 'cloudflare', 'cf-ray': '8934d92f7bab197c-EWR', 'content-encoding': 'gzip', 'alt-svc': 'h3=\":443\"; ma=86400'})\n",
            "[DEBUG] 2024-06-13 16:32:11,312 _base_client.py:996: request_id: req_8b929bed426bb993b3f51a65c377b54c\n",
            "[DEBUG] 2024-06-13 16:32:11,356 connectionpool.py:549: https://lastmileai.dev:443 \"POST /api/trace/create HTTP/1.1\" 200 10\n",
            "[DEBUG] 2024-06-13 16:32:11,386 connectionpool.py:549: https://lastmileai.dev:443 \"POST /api/trace/create HTTP/1.1\" 200 10\n",
            "[DEBUG] 2024-06-13 16:32:11,393 _base_client.py:446: Request options: {'method': 'post', 'url': '/completions', 'files': None, 'json_data': {'model': 'gpt-3.5-turbo-instruct', 'prompt': ['Translate a math problem into a expression that can be executed using Python\\'s numexpr library. Use the output of running this code to answer the question.\\n\\nQuestion: ${Question with math problem.}\\n```text\\n${single line mathematical expression that solves the problem}\\n```\\n...numexpr.evaluate(text)...\\n```output\\n${Output of running the code}\\n```\\nAnswer: ${Answer}\\n\\nBegin.\\n\\nQuestion: What is 37593 * 67?\\n```text\\n37593 * 67\\n```\\n...numexpr.evaluate(\"37593 * 67\")...\\n```output\\n2518731\\n```\\nAnswer: 2518731\\n\\nQuestion: 37593^(1/5)\\n```text\\n37593**(1/5)\\n```\\n...numexpr.evaluate(\"37593**(1/5)\")...\\n```output\\n8.222831614237718\\n```\\nAnswer: 8.222831614237718\\n\\nQuestion: sqrt(2102650)\\n'], 'frequency_penalty': 0, 'logit_bias': {}, 'max_tokens': 256, 'n': 1, 'presence_penalty': 0, 'stop': ['```output'], 'temperature': 0.0, 'top_p': 1}}\n",
            "[DEBUG] 2024-06-13 16:32:11,394 _base_client.py:949: Sending HTTP Request: POST https://api.openai.com/v1/completions\n",
            "[DEBUG] 2024-06-13 16:32:11,394 _trace.py:45: connect_tcp.started host='api.openai.com' port=443 local_address=None timeout=None socket_options=None\n",
            "[DEBUG] 2024-06-13 16:32:11,404 _trace.py:45: connect_tcp.complete return_value=<httpcore._backends.sync.SyncStream object at 0x13d4f2420>\n",
            "[DEBUG] 2024-06-13 16:32:11,404 _trace.py:45: start_tls.started ssl_context=<ssl.SSLContext object at 0x13d240bd0> server_hostname='api.openai.com' timeout=None\n",
            "[DEBUG] 2024-06-13 16:32:11,418 _trace.py:45: start_tls.complete return_value=<httpcore._backends.sync.SyncStream object at 0x13d4fd400>\n",
            "[DEBUG] 2024-06-13 16:32:11,419 _trace.py:45: send_request_headers.started request=<Request [b'POST']>\n",
            "[DEBUG] 2024-06-13 16:32:11,419 _trace.py:45: send_request_headers.complete\n",
            "[DEBUG] 2024-06-13 16:32:11,420 _trace.py:45: send_request_body.started request=<Request [b'POST']>\n",
            "[DEBUG] 2024-06-13 16:32:11,420 _trace.py:45: send_request_body.complete\n",
            "[DEBUG] 2024-06-13 16:32:11,420 _trace.py:45: receive_response_headers.started request=<Request [b'POST']>\n"
          ]
        },
        {
          "name": "stdout",
          "output_type": "stream",
          "text": [
            "\u001b[32;1m\u001b[1;3mThought: I need to calculate the square root of the population of Paris, which is approximately 2,102,650 residents.\n",
            "\n",
            "Action:\n",
            "```\n",
            "{\n",
            "  \"action\": \"Calculator\",\n",
            "  \"action_input\": \"sqrt(2102650)\"\n",
            "}\n",
            "```\u001b[0m\n",
            "\n",
            "\u001b[1m> Entering new LLMMathChain chain...\u001b[0m\n",
            "sqrt(2102650)"
          ]
        },
        {
          "name": "stderr",
          "output_type": "stream",
          "text": [
            "[DEBUG] 2024-06-13 16:32:12,259 _trace.py:45: receive_response_headers.complete return_value=(b'HTTP/1.1', 200, b'OK', [(b'Date', b'Thu, 13 Jun 2024 20:32:12 GMT'), (b'Content-Type', b'application/json'), (b'Transfer-Encoding', b'chunked'), (b'Connection', b'keep-alive'), (b'access-control-allow-origin', b'*'), (b'Cache-Control', b'no-cache, must-revalidate'), (b'openai-model', b'gpt-3.5-turbo-instruct'), (b'openai-organization', b'lastmile-ai'), (b'openai-processing-ms', b'637'), (b'openai-version', b'2020-10-01'), (b'strict-transport-security', b'max-age=15724800; includeSubDomains'), (b'x-ratelimit-limit-requests', b'3500'), (b'x-ratelimit-limit-tokens', b'90000'), (b'x-ratelimit-remaining-requests', b'3499'), (b'x-ratelimit-remaining-tokens', b'89577'), (b'x-ratelimit-reset-requests', b'17ms'), (b'x-ratelimit-reset-tokens', b'282ms'), (b'x-request-id', b'req_1db3dbb5225160d42ea1fd0401eb9f92'), (b'CF-Cache-Status', b'DYNAMIC'), (b'Set-Cookie', b'__cf_bm=CTyUzYyFmLJANjPGZCBkFsFZ9xrdsNsEpJa075_C5No-1718310732-1.0.1.1-LpGXQuYJ0_6vD0soeLHU1hoR8KyMSc8n.ni29ZbPgzmOrAxu7EDUjPJdy8jtp.z_8NHd88v639u.RinNwt5I4Q; path=/; expires=Thu, 13-Jun-24 21:02:12 GMT; domain=.api.openai.com; HttpOnly; Secure; SameSite=None'), (b'Set-Cookie', b'_cfuvid=iFK6UoqGQ2JGtQWeZYm9PZ5jryDTsPvn79z20EBqIqc-1718310732254-0.0.1.1-604800000; path=/; domain=.api.openai.com; HttpOnly; Secure; SameSite=None'), (b'Server', b'cloudflare'), (b'CF-RAY', b'8934d93768c05e80-EWR'), (b'Content-Encoding', b'gzip'), (b'alt-svc', b'h3=\":443\"; ma=86400')])\n",
            "[INFO] 2024-06-13 16:32:12,261 _client.py:1026: HTTP Request: POST https://api.openai.com/v1/completions \"HTTP/1.1 200 OK\"\n",
            "[DEBUG] 2024-06-13 16:32:12,262 _trace.py:45: receive_response_body.started request=<Request [b'POST']>\n",
            "[DEBUG] 2024-06-13 16:32:12,263 _trace.py:45: receive_response_body.complete\n",
            "[DEBUG] 2024-06-13 16:32:12,263 _trace.py:45: response_closed.started\n",
            "[DEBUG] 2024-06-13 16:32:12,264 _trace.py:45: response_closed.complete\n",
            "[DEBUG] 2024-06-13 16:32:12,264 _base_client.py:988: HTTP Response: POST https://api.openai.com/v1/completions \"200 OK\" Headers([('date', 'Thu, 13 Jun 2024 20:32:12 GMT'), ('content-type', 'application/json'), ('transfer-encoding', 'chunked'), ('connection', 'keep-alive'), ('access-control-allow-origin', '*'), ('cache-control', 'no-cache, must-revalidate'), ('openai-model', 'gpt-3.5-turbo-instruct'), ('openai-organization', 'lastmile-ai'), ('openai-processing-ms', '637'), ('openai-version', '2020-10-01'), ('strict-transport-security', 'max-age=15724800; includeSubDomains'), ('x-ratelimit-limit-requests', '3500'), ('x-ratelimit-limit-tokens', '90000'), ('x-ratelimit-remaining-requests', '3499'), ('x-ratelimit-remaining-tokens', '89577'), ('x-ratelimit-reset-requests', '17ms'), ('x-ratelimit-reset-tokens', '282ms'), ('x-request-id', 'req_1db3dbb5225160d42ea1fd0401eb9f92'), ('cf-cache-status', 'DYNAMIC'), ('set-cookie', '__cf_bm=CTyUzYyFmLJANjPGZCBkFsFZ9xrdsNsEpJa075_C5No-1718310732-1.0.1.1-LpGXQuYJ0_6vD0soeLHU1hoR8KyMSc8n.ni29ZbPgzmOrAxu7EDUjPJdy8jtp.z_8NHd88v639u.RinNwt5I4Q; path=/; expires=Thu, 13-Jun-24 21:02:12 GMT; domain=.api.openai.com; HttpOnly; Secure; SameSite=None'), ('set-cookie', '_cfuvid=iFK6UoqGQ2JGtQWeZYm9PZ5jryDTsPvn79z20EBqIqc-1718310732254-0.0.1.1-604800000; path=/; domain=.api.openai.com; HttpOnly; Secure; SameSite=None'), ('server', 'cloudflare'), ('cf-ray', '8934d93768c05e80-EWR'), ('content-encoding', 'gzip'), ('alt-svc', 'h3=\":443\"; ma=86400')])\n",
            "[DEBUG] 2024-06-13 16:32:12,265 _base_client.py:996: request_id: req_1db3dbb5225160d42ea1fd0401eb9f92\n",
            "[DEBUG] 2024-06-13 16:32:12,297 connectionpool.py:549: https://lastmileai.dev:443 \"POST /api/trace/create HTTP/1.1\" 200 10\n",
            "[DEBUG] 2024-06-13 16:32:12,327 connectionpool.py:549: https://lastmileai.dev:443 \"POST /api/trace/create HTTP/1.1\" 200 10\n",
            "[DEBUG] 2024-06-13 16:32:12,357 connectionpool.py:549: https://lastmileai.dev:443 \"POST /api/trace/create HTTP/1.1\" 200 10\n",
            "[DEBUG] 2024-06-13 16:32:12,385 connectionpool.py:549: https://lastmileai.dev:443 \"POST /api/trace/create HTTP/1.1\" 200 10\n",
            "[DEBUG] 2024-06-13 16:32:12,389 _base_client.py:446: Request options: {'method': 'post', 'url': '/chat/completions', 'files': None, 'json_data': {'messages': [{'content': 'Respond to the human as helpfully and accurately as possible. You have access to the following tools:\\n\\nWikipedia: useful for when you need to look up information on Wikipedia, args: {\\'tool_input\\': {\\'type\\': \\'string\\'}}\\nCalculator: useful for when you need to perform mathematical calculations, args: {\\'tool_input\\': {\\'type\\': \\'string\\'}}\\n\\nUse a json blob to specify a tool by providing an action key (tool name) and an action_input key (tool input).\\n\\nValid \"action\" values: \"Final Answer\" or Wikipedia, Calculator\\n\\nProvide only ONE action per $JSON_BLOB, as shown:\\n\\n```\\n{\\n  \"action\": $TOOL_NAME,\\n  \"action_input\": $INPUT\\n}\\n```\\n\\nFollow this format:\\n\\nQuestion: input question to answer\\nThought: consider previous and subsequent steps\\nAction:\\n```\\n$JSON_BLOB\\n```\\nObservation: action result\\n... (repeat Thought/Action/Observation N times)\\nThought: I know what to respond\\nAction:\\n```\\n{\\n  \"action\": \"Final Answer\",\\n  \"action_input\": \"Final response to human\"\\n}\\n```\\n\\nBegin! Reminder to ALWAYS respond with a valid json blob of a single action. Use tools if necessary. Respond directly if appropriate. Format is Action:```$JSON_BLOB```then Observation:.\\nThought:', 'role': 'system'}, {'content': 'Previous steps: steps=[(Step(value=\\'Identify the country where the Eiffel Tower is located.\\'), StepResponse(response=\\'The Eiffel Tower is located in France.\\')), (Step(value=\\'Determine the capital city of that country.\\'), StepResponse(response=\\'Paris\\')), (Step(value=\\'Find the population of the capital city.\\'), StepResponse(response=\\'The population of Paris is approximately 2,102,650 residents as of January 1, 2023.\\'))]\\n\\nCurrent objective: value=\\'Calculate the square root of the population of the capital city.\\'\\n\\nThis was your previous work (but I haven\\'t seen any of it! I only see what you return as final answer):\\nThought: I need to calculate the square root of the population of Paris, which is approximately 2,102,650 residents.\\n\\nAction:\\n```\\n{\\n  \"action\": \"Calculator\",\\n  \"action_input\": \"sqrt(2102650)\"\\n}\\n```\\nObservation: Answer: 1450.0517232154168\\nThought:', 'role': 'user'}], 'model': 'gpt-3.5-turbo', 'n': 1, 'stop': ['Observation:'], 'stream': False, 'temperature': 0.0}}\n",
            "[DEBUG] 2024-06-13 16:32:12,390 _base_client.py:949: Sending HTTP Request: POST https://api.openai.com/v1/chat/completions\n",
            "[DEBUG] 2024-06-13 16:32:12,390 _trace.py:45: send_request_headers.started request=<Request [b'POST']>\n",
            "[DEBUG] 2024-06-13 16:32:12,391 _trace.py:45: send_request_headers.complete\n",
            "[DEBUG] 2024-06-13 16:32:12,391 _trace.py:45: send_request_body.started request=<Request [b'POST']>\n",
            "[DEBUG] 2024-06-13 16:32:12,392 _trace.py:45: send_request_body.complete\n",
            "[DEBUG] 2024-06-13 16:32:12,392 _trace.py:45: receive_response_headers.started request=<Request [b'POST']>\n"
          ]
        },
        {
          "name": "stdout",
          "output_type": "stream",
          "text": [
            "\u001b[32;1m\u001b[1;3m```text\n",
            "sqrt(2102650)\n",
            "```\n",
            "...numexpr.evaluate(\"sqrt(2102650)\")...\n",
            "\u001b[0m\n",
            "Answer: \u001b[33;1m\u001b[1;3m1450.0517232154168\u001b[0m\n",
            "\u001b[1m> Finished chain.\u001b[0m\n",
            "\n",
            "Observation: \u001b[33;1m\u001b[1;3mAnswer: 1450.0517232154168\u001b[0m\n",
            "Thought:"
          ]
        },
        {
          "name": "stderr",
          "output_type": "stream",
          "text": [
            "[DEBUG] 2024-06-13 16:32:13,894 _trace.py:45: receive_response_headers.complete return_value=(b'HTTP/1.1', 200, b'OK', [(b'Date', b'Thu, 13 Jun 2024 20:32:13 GMT'), (b'Content-Type', b'application/json'), (b'Transfer-Encoding', b'chunked'), (b'Connection', b'keep-alive'), (b'openai-organization', b'lastmile-ai'), (b'openai-processing-ms', b'1382'), (b'openai-version', b'2020-10-01'), (b'strict-transport-security', b'max-age=15724800; includeSubDomains'), (b'x-ratelimit-limit-requests', b'10000'), (b'x-ratelimit-limit-tokens', b'2000000'), (b'x-ratelimit-remaining-requests', b'9999'), (b'x-ratelimit-remaining-tokens', b'1999477'), (b'x-ratelimit-reset-requests', b'6ms'), (b'x-ratelimit-reset-tokens', b'15ms'), (b'x-request-id', b'req_df774a8f25de4fa297ae0c84f9bf8c7a'), (b'CF-Cache-Status', b'DYNAMIC'), (b'Server', b'cloudflare'), (b'CF-RAY', b'8934d93d78ac197c-EWR'), (b'Content-Encoding', b'gzip'), (b'alt-svc', b'h3=\":443\"; ma=86400')])\n",
            "[INFO] 2024-06-13 16:32:13,895 _client.py:1026: HTTP Request: POST https://api.openai.com/v1/chat/completions \"HTTP/1.1 200 OK\"\n",
            "[DEBUG] 2024-06-13 16:32:13,896 _trace.py:45: receive_response_body.started request=<Request [b'POST']>\n",
            "[DEBUG] 2024-06-13 16:32:13,897 _trace.py:45: receive_response_body.complete\n",
            "[DEBUG] 2024-06-13 16:32:13,897 _trace.py:45: response_closed.started\n",
            "[DEBUG] 2024-06-13 16:32:13,898 _trace.py:45: response_closed.complete\n",
            "[DEBUG] 2024-06-13 16:32:13,899 _base_client.py:988: HTTP Response: POST https://api.openai.com/v1/chat/completions \"200 OK\" Headers({'date': 'Thu, 13 Jun 2024 20:32:13 GMT', 'content-type': 'application/json', 'transfer-encoding': 'chunked', 'connection': 'keep-alive', 'openai-organization': 'lastmile-ai', 'openai-processing-ms': '1382', 'openai-version': '2020-10-01', 'strict-transport-security': 'max-age=15724800; includeSubDomains', 'x-ratelimit-limit-requests': '10000', 'x-ratelimit-limit-tokens': '2000000', 'x-ratelimit-remaining-requests': '9999', 'x-ratelimit-remaining-tokens': '1999477', 'x-ratelimit-reset-requests': '6ms', 'x-ratelimit-reset-tokens': '15ms', 'x-request-id': 'req_df774a8f25de4fa297ae0c84f9bf8c7a', 'cf-cache-status': 'DYNAMIC', 'server': 'cloudflare', 'cf-ray': '8934d93d78ac197c-EWR', 'content-encoding': 'gzip', 'alt-svc': 'h3=\":443\"; ma=86400'})\n",
            "[DEBUG] 2024-06-13 16:32:13,899 _base_client.py:996: request_id: req_df774a8f25de4fa297ae0c84f9bf8c7a\n",
            "[DEBUG] 2024-06-13 16:32:13,929 connectionpool.py:549: https://lastmileai.dev:443 \"POST /api/trace/create HTTP/1.1\" 200 10\n",
            "[DEBUG] 2024-06-13 16:32:13,959 connectionpool.py:549: https://lastmileai.dev:443 \"POST /api/trace/create HTTP/1.1\" 200 10\n",
            "[DEBUG] 2024-06-13 16:32:14,001 connectionpool.py:549: https://lastmileai.dev:443 \"POST /api/trace/create HTTP/1.1\" 200 10\n",
            "[DEBUG] 2024-06-13 16:32:14,005 _base_client.py:446: Request options: {'method': 'post', 'url': '/chat/completions', 'files': None, 'json_data': {'messages': [{'content': 'Respond to the human as helpfully and accurately as possible. You have access to the following tools:\\n\\nWikipedia: useful for when you need to look up information on Wikipedia, args: {\\'tool_input\\': {\\'type\\': \\'string\\'}}\\nCalculator: useful for when you need to perform mathematical calculations, args: {\\'tool_input\\': {\\'type\\': \\'string\\'}}\\n\\nUse a json blob to specify a tool by providing an action key (tool name) and an action_input key (tool input).\\n\\nValid \"action\" values: \"Final Answer\" or Wikipedia, Calculator\\n\\nProvide only ONE action per $JSON_BLOB, as shown:\\n\\n```\\n{\\n  \"action\": $TOOL_NAME,\\n  \"action_input\": $INPUT\\n}\\n```\\n\\nFollow this format:\\n\\nQuestion: input question to answer\\nThought: consider previous and subsequent steps\\nAction:\\n```\\n$JSON_BLOB\\n```\\nObservation: action result\\n... (repeat Thought/Action/Observation N times)\\nThought: I know what to respond\\nAction:\\n```\\n{\\n  \"action\": \"Final Answer\",\\n  \"action_input\": \"Final response to human\"\\n}\\n```\\n\\nBegin! Reminder to ALWAYS respond with a valid json blob of a single action. Use tools if necessary. Respond directly if appropriate. Format is Action:```$JSON_BLOB```then Observation:.\\nThought:', 'role': 'system'}, {'content': 'Previous steps: steps=[(Step(value=\\'Identify the country where the Eiffel Tower is located.\\'), StepResponse(response=\\'The Eiffel Tower is located in France.\\')), (Step(value=\\'Determine the capital city of that country.\\'), StepResponse(response=\\'Paris\\')), (Step(value=\\'Find the population of the capital city.\\'), StepResponse(response=\\'The population of Paris is approximately 2,102,650 residents as of January 1, 2023.\\')), (Step(value=\\'Calculate the square root of the population of the capital city.\\'), StepResponse(response=\\'The square root of the population of Paris is approximately 1450.05.\\'))]\\n\\nCurrent objective: value=\"Provide the square root of the population as the final answer.\\\\nGiven the above steps taken, please respond to the user\\'s original question. \\\\n\"\\n\\n', 'role': 'user'}], 'model': 'gpt-3.5-turbo', 'n': 1, 'stop': ['Observation:'], 'stream': False, 'temperature': 0.0}}\n",
            "[DEBUG] 2024-06-13 16:32:14,006 _base_client.py:949: Sending HTTP Request: POST https://api.openai.com/v1/chat/completions\n",
            "[DEBUG] 2024-06-13 16:32:14,006 _trace.py:45: send_request_headers.started request=<Request [b'POST']>\n",
            "[DEBUG] 2024-06-13 16:32:14,007 _trace.py:45: send_request_headers.complete\n",
            "[DEBUG] 2024-06-13 16:32:14,007 _trace.py:45: send_request_body.started request=<Request [b'POST']>\n",
            "[DEBUG] 2024-06-13 16:32:14,007 _trace.py:45: send_request_body.complete\n",
            "[DEBUG] 2024-06-13 16:32:14,008 _trace.py:45: receive_response_headers.started request=<Request [b'POST']>\n"
          ]
        },
        {
          "name": "stdout",
          "output_type": "stream",
          "text": [
            "\u001b[32;1m\u001b[1;3mI have calculated the square root of the population of Paris, which is approximately 2,102,650 residents, to be 1450.0517232154168.\n",
            "Action:\n",
            "```\n",
            "{\n",
            "  \"action\": \"Final Answer\",\n",
            "  \"action_input\": \"The square root of the population of Paris is approximately 1450.05.\"\n",
            "}\n",
            "```\u001b[0m\n",
            "\n",
            "\u001b[1m> Finished chain.\u001b[0m\n",
            "\n",
            "\n",
            "\u001b[1m> Entering new AgentExecutor chain...\u001b[0m\n"
          ]
        },
        {
          "name": "stderr",
          "output_type": "stream",
          "text": [
            "[DEBUG] 2024-06-13 16:32:15,096 _trace.py:45: receive_response_headers.complete return_value=(b'HTTP/1.1', 200, b'OK', [(b'Date', b'Thu, 13 Jun 2024 20:32:15 GMT'), (b'Content-Type', b'application/json'), (b'Transfer-Encoding', b'chunked'), (b'Connection', b'keep-alive'), (b'openai-organization', b'lastmile-ai'), (b'openai-processing-ms', b'852'), (b'openai-version', b'2020-10-01'), (b'strict-transport-security', b'max-age=15724800; includeSubDomains'), (b'x-ratelimit-limit-requests', b'10000'), (b'x-ratelimit-limit-tokens', b'2000000'), (b'x-ratelimit-remaining-requests', b'9999'), (b'x-ratelimit-remaining-tokens', b'1999502'), (b'x-ratelimit-reset-requests', b'6ms'), (b'x-ratelimit-reset-tokens', b'14ms'), (b'x-request-id', b'req_29b4a9483d42b1bfeb7369d1b0cb8d29'), (b'CF-Cache-Status', b'DYNAMIC'), (b'Server', b'cloudflare'), (b'CF-RAY', b'8934d9479a78197c-EWR'), (b'Content-Encoding', b'gzip'), (b'alt-svc', b'h3=\":443\"; ma=86400')])\n",
            "[INFO] 2024-06-13 16:32:15,096 _client.py:1026: HTTP Request: POST https://api.openai.com/v1/chat/completions \"HTTP/1.1 200 OK\"\n",
            "[DEBUG] 2024-06-13 16:32:15,097 _trace.py:45: receive_response_body.started request=<Request [b'POST']>\n",
            "[DEBUG] 2024-06-13 16:32:15,097 _trace.py:45: receive_response_body.complete\n",
            "[DEBUG] 2024-06-13 16:32:15,098 _trace.py:45: response_closed.started\n",
            "[DEBUG] 2024-06-13 16:32:15,098 _trace.py:45: response_closed.complete\n",
            "[DEBUG] 2024-06-13 16:32:15,098 _base_client.py:988: HTTP Response: POST https://api.openai.com/v1/chat/completions \"200 OK\" Headers({'date': 'Thu, 13 Jun 2024 20:32:15 GMT', 'content-type': 'application/json', 'transfer-encoding': 'chunked', 'connection': 'keep-alive', 'openai-organization': 'lastmile-ai', 'openai-processing-ms': '852', 'openai-version': '2020-10-01', 'strict-transport-security': 'max-age=15724800; includeSubDomains', 'x-ratelimit-limit-requests': '10000', 'x-ratelimit-limit-tokens': '2000000', 'x-ratelimit-remaining-requests': '9999', 'x-ratelimit-remaining-tokens': '1999502', 'x-ratelimit-reset-requests': '6ms', 'x-ratelimit-reset-tokens': '14ms', 'x-request-id': 'req_29b4a9483d42b1bfeb7369d1b0cb8d29', 'cf-cache-status': 'DYNAMIC', 'server': 'cloudflare', 'cf-ray': '8934d9479a78197c-EWR', 'content-encoding': 'gzip', 'alt-svc': 'h3=\":443\"; ma=86400'})\n",
            "[DEBUG] 2024-06-13 16:32:15,099 _base_client.py:996: request_id: req_29b4a9483d42b1bfeb7369d1b0cb8d29\n",
            "[DEBUG] 2024-06-13 16:32:15,128 connectionpool.py:549: https://lastmileai.dev:443 \"POST /api/trace/create HTTP/1.1\" 200 10\n",
            "[DEBUG] 2024-06-13 16:32:15,160 connectionpool.py:549: https://lastmileai.dev:443 \"POST /api/trace/create HTTP/1.1\" 200 10\n",
            "[DEBUG] 2024-06-13 16:32:15,190 connectionpool.py:549: https://lastmileai.dev:443 \"POST /api/trace/create HTTP/1.1\" 200 10\n",
            "[DEBUG] 2024-06-13 16:32:15,218 connectionpool.py:549: https://lastmileai.dev:443 \"POST /api/trace/create HTTP/1.1\" 200 10\n",
            "[DEBUG] 2024-06-13 16:32:15,220 connectionpool.py:1055: Starting new HTTPS connection (1): lastmileai.dev:443\n",
            "[DEBUG] 2024-06-13 16:32:15,304 connectionpool.py:549: https://lastmileai.dev:443 \"POST /api/rag_query_traces/create HTTP/1.1\" 200 None\n",
            "[DEBUG] 2024-06-13 16:32:15,306 connectionpool.py:1055: Starting new HTTPS connection (1): lastmileai.dev:443\n"
          ]
        },
        {
          "name": "stdout",
          "output_type": "stream",
          "text": [
            "\u001b[32;1m\u001b[1;3mThought: The final answer is already calculated in the previous steps, so I can provide it directly to the user.\n",
            "\n",
            "Action:\n",
            "```\n",
            "{\n",
            "  \"action\": \"Final Answer\",\n",
            "  \"action_input\": \"The square root of the population of Paris is approximately 1450.05.\"\n",
            "}\n",
            "```\u001b[0m\n",
            "\n",
            "\u001b[1m> Finished chain.\u001b[0m\n"
          ]
        },
        {
          "name": "stderr",
          "output_type": "stream",
          "text": [
            "[DEBUG] 2024-06-13 16:32:15,394 connectionpool.py:549: https://lastmileai.dev:443 \"POST /api/rag_events/create HTTP/1.1\" 200 None\n",
            "[DEBUG] 2024-06-13 16:32:15,396 connectionpool.py:1055: Starting new HTTPS connection (1): lastmileai.dev:443\n",
            "[DEBUG] 2024-06-13 16:32:15,486 connectionpool.py:549: https://lastmileai.dev:443 \"POST /api/rag_events/create HTTP/1.1\" 200 None\n",
            "[DEBUG] 2024-06-13 16:32:15,488 connectionpool.py:1055: Starting new HTTPS connection (1): lastmileai.dev:443\n",
            "[DEBUG] 2024-06-13 16:32:15,576 connectionpool.py:549: https://lastmileai.dev:443 \"POST /api/rag_events/create HTTP/1.1\" 200 None\n",
            "[DEBUG] 2024-06-13 16:32:15,578 connectionpool.py:1055: Starting new HTTPS connection (1): lastmileai.dev:443\n",
            "[DEBUG] 2024-06-13 16:32:15,660 connectionpool.py:549: https://lastmileai.dev:443 \"POST /api/rag_events/create HTTP/1.1\" 200 None\n",
            "[DEBUG] 2024-06-13 16:32:15,662 connectionpool.py:1055: Starting new HTTPS connection (1): lastmileai.dev:443\n",
            "[DEBUG] 2024-06-13 16:32:15,743 connectionpool.py:549: https://lastmileai.dev:443 \"POST /api/rag_events/create HTTP/1.1\" 200 None\n",
            "[DEBUG] 2024-06-13 16:32:15,745 connectionpool.py:1055: Starting new HTTPS connection (1): lastmileai.dev:443\n",
            "[DEBUG] 2024-06-13 16:32:15,841 connectionpool.py:549: https://lastmileai.dev:443 \"POST /api/rag_events/create HTTP/1.1\" 200 None\n",
            "[DEBUG] 2024-06-13 16:32:15,843 connectionpool.py:1055: Starting new HTTPS connection (1): lastmileai.dev:443\n",
            "[DEBUG] 2024-06-13 16:32:15,923 connectionpool.py:549: https://lastmileai.dev:443 \"POST /api/rag_events/create HTTP/1.1\" 200 None\n",
            "[DEBUG] 2024-06-13 16:32:15,925 connectionpool.py:1055: Starting new HTTPS connection (1): lastmileai.dev:443\n",
            "[DEBUG] 2024-06-13 16:32:16,006 connectionpool.py:549: https://lastmileai.dev:443 \"POST /api/rag_events/create HTTP/1.1\" 200 None\n",
            "[DEBUG] 2024-06-13 16:32:16,008 connectionpool.py:1055: Starting new HTTPS connection (1): lastmileai.dev:443\n",
            "[DEBUG] 2024-06-13 16:32:16,084 connectionpool.py:549: https://lastmileai.dev:443 \"POST /api/rag_events/create HTTP/1.1\" 200 None\n",
            "[DEBUG] 2024-06-13 16:32:16,086 connectionpool.py:1055: Starting new HTTPS connection (1): lastmileai.dev:443\n",
            "[DEBUG] 2024-06-13 16:32:16,412 connectionpool.py:549: https://lastmileai.dev:443 \"POST /api/rag_events/create HTTP/1.1\" 200 None\n",
            "[DEBUG] 2024-06-13 16:32:16,417 connectionpool.py:1055: Starting new HTTPS connection (1): lastmileai.dev:443\n",
            "[DEBUG] 2024-06-13 16:32:16,493 connectionpool.py:549: https://lastmileai.dev:443 \"POST /api/rag_events/create HTTP/1.1\" 200 None\n",
            "[DEBUG] 2024-06-13 16:32:16,496 connectionpool.py:1055: Starting new HTTPS connection (1): lastmileai.dev:443\n",
            "[DEBUG] 2024-06-13 16:32:16,580 connectionpool.py:549: https://lastmileai.dev:443 \"POST /api/rag_events/create HTTP/1.1\" 200 None\n",
            "[DEBUG] 2024-06-13 16:32:16,582 connectionpool.py:1055: Starting new HTTPS connection (1): lastmileai.dev:443\n",
            "[DEBUG] 2024-06-13 16:32:16,662 connectionpool.py:549: https://lastmileai.dev:443 \"POST /api/rag_events/create HTTP/1.1\" 200 None\n",
            "[DEBUG] 2024-06-13 16:32:16,663 connectionpool.py:1055: Starting new HTTPS connection (1): lastmileai.dev:443\n",
            "[DEBUG] 2024-06-13 16:32:16,740 connectionpool.py:549: https://lastmileai.dev:443 \"POST /api/rag_events/create HTTP/1.1\" 200 676\n",
            "[DEBUG] 2024-06-13 16:32:16,742 connectionpool.py:1055: Starting new HTTPS connection (1): lastmileai.dev:443\n",
            "[DEBUG] 2024-06-13 16:32:16,821 connectionpool.py:549: https://lastmileai.dev:443 \"POST /api/rag_events/create HTTP/1.1\" 200 None\n",
            "[DEBUG] 2024-06-13 16:32:16,823 connectionpool.py:1055: Starting new HTTPS connection (1): lastmileai.dev:443\n",
            "[DEBUG] 2024-06-13 16:32:16,906 connectionpool.py:549: https://lastmileai.dev:443 \"POST /api/rag_events/create HTTP/1.1\" 200 None\n",
            "[DEBUG] 2024-06-13 16:32:16,910 connectionpool.py:1055: Starting new HTTPS connection (1): lastmileai.dev:443\n",
            "[DEBUG] 2024-06-13 16:32:16,988 connectionpool.py:549: https://lastmileai.dev:443 \"POST /api/rag_events/create HTTP/1.1\" 200 None\n",
            "[DEBUG] 2024-06-13 16:32:16,990 connectionpool.py:1055: Starting new HTTPS connection (1): lastmileai.dev:443\n",
            "[DEBUG] 2024-06-13 16:32:17,066 connectionpool.py:549: https://lastmileai.dev:443 \"POST /api/rag_events/create HTTP/1.1\" 200 None\n"
          ]
        }
      ],
      "source": [
        "model = ChatOpenAI(temperature=0)\n",
        "planner = load_chat_planner(model)\n",
        "executor = load_agent_executor(model, tools, verbose=True)\n",
        "agent = PlanAndExecute(planner=planner, executor=executor)\n",
        "\n",
        "# ## Run Example\n",
        "\n",
        "# Run the agent with a sample question\n",
        "question = \"What is the population of the capital city of the country where the Eiffel Tower is located? Calculate the square root of that number.\"\n",
        "result = agent.run(question)"
      ]
    },
    {
      "cell_type": "code",
      "execution_count": 7,
      "metadata": {
        "colab": {
          "base_uri": "https://localhost:8080/"
        },
        "id": "-QcQczUG42mk",
        "outputId": "f3548f43-765d-4aed-e1ee-a27c8445fd62"
      },
      "outputs": [
        {
          "name": "stdout",
          "output_type": "stream",
          "text": [
            "The square root of the population of Paris is approximately 1450.05.\n"
          ]
        }
      ],
      "source": [
        "print(result)"
      ]
    },
    {
      "cell_type": "markdown",
      "metadata": {
        "id": "p--LaCDV7Cn1"
      },
      "source": [
        "<a name=\"step5\"></a>\n",
        "\n",
        "# Step 5: View Trace Data in RAG Debugger\n",
        "Now we can view the trace data of our LangChain agent in a UI!\n",
        "#### From your terminal:\n",
        "\n",
        "Export your LASTMILE_API_TOKEN\n",
        "\n",
        "```bash\n",
        "export LASTMILE_API_TOKEN=\"<your-api-token>\"\n",
        "```\n",
        "\n",
        "Run this CLI command to access the UI\n",
        "\n",
        "```bash\n",
        "rag-debug launch\n",
        "```\n",
        "Navigate to the 'Traces' Page where you see all the Traces listed under this Project (top-right corner to choose Project).\n",
        "\n",
        "<img width=\"973\" alt=\"Screenshot 2024-05-28 at 12 06 53 PM\" src=\"https://github.com/lastmile-ai/aiconfig/assets/81494782/a2ad1630-dc62-43a6-8d81-cfa335fe8fb1\"/>\n",
        "\n",
        "\n",
        "Let's click into the Trace.\n",
        "\n",
        "<img width=\"973\" alt=\"Screenshot 2024-05-28 at 12 07 04 PM\" src=\"https://github.com/lastmile-ai/aiconfig/assets/81494782/01bb1693-a79c-40a6-962e-15446cbe03c6\"/>\n",
        "\n",
        "\n",
        "Here we can see all the spans auto-generated for us. This can help us debug and pinpoint issues in our application, especially if we add additional logging on top of the auto-instrumentor."
      ]
    }
  ],
  "metadata": {
    "colab": {
      "provenance": []
    },
    "kernelspec": {
      "display_name": "empty2",
      "language": "python",
      "name": "python3"
    },
    "language_info": {
      "codemirror_mode": {
        "name": "ipython",
        "version": 3
      },
      "file_extension": ".py",
      "mimetype": "text/x-python",
      "name": "python",
      "nbconvert_exporter": "python",
      "pygments_lexer": "ipython3",
      "version": "3.12.3"
    }
  },
  "nbformat": 4,
  "nbformat_minor": 0
}
