{
  "cells": [
    {
      "cell_type": "markdown",
      "metadata": {
        "id": "4FDU2yIM42mf"
      },
      "source": [
        "# LastMile Instrumentor for LangChain \"Plan-and-Execute\" agent\n",
        "\n",
        "\n",
        "In this notebook, we showcase how to use the **LastMile Tracing SDK** to auto-instrument tracing for a LangChain \"Plan-and-Execute\" agent. With tracing automatically setup, you can easily debug your application using LastMile's RAG Workbench.\n",
        "\n",
        "The LangChain \"Plan-and-Execute\" agent accomplishes an objective by first planning what to do and then executing the sub-tasks. LastMile autoinstrumentation is used to trace and monitor the execution of the agent.\n",
        "\n",
        "## Notebook Outline\n",
        "* [Step 1: Setup](#setup)\n",
        "* [Step 2: Configure the LastMile Instrumentor](#step2)\n",
        "* [Step 3: Define Tools for LangChain Agent](#step3)\n",
        "* [Step 4: Run example with LangChain Agent](#step4)\n",
        "* [Step 5: View Trace Data in RAG Debugger](#step5)"
      ]
    },
    {
      "cell_type": "markdown",
      "metadata": {
        "id": "fV8hom_a5s5l"
      },
      "source": [
        "<a name=\"setup\"></a>\n",
        "# Step 1: Setup\n",
        "\n",
        "To begin, we need to install a few packages including langchain and lastmile-eval."
      ]
    },
    {
      "cell_type": "code",
      "execution_count": null,
      "metadata": {
        "colab": {
          "base_uri": "https://localhost:8080/"
        },
        "collapsed": true,
        "id": "WofBBh4j42mh",
        "outputId": "1a726577-f083-410d-8795-60df7c5c96db"
      },
      "outputs": [],
      "source": [
        "!pip install langchain\n",
        "!pip install langchain_community\n",
        "!pip install langchain_core\n",
        "!pip install langchain_experimental\n",
        "!pip install langchain_openai\n",
        "!pip install wikipedia\n",
        "!pip install numexpr\n",
        "\n",
        "# LastMile AI Evaluation SDK imports\n",
        "!pip install lastmile_eval\n",
        "!pip install \"tracing-auto-instrumentation[langchain]\" --upgrade"
      ]
    },
    {
      "cell_type": "markdown",
      "metadata": {
        "id": "8M5EyhZm5yYa"
      },
      "source": [
        "Import the necessary libraries for this example."
      ]
    },
    {
      "cell_type": "code",
      "execution_count": 9,
      "metadata": {
        "id": "eae4CClw42mi"
      },
      "outputs": [],
      "source": [
        "from langchain.chains import LLMMathChain\n",
        "from langchain_community.utilities import WikipediaAPIWrapper\n",
        "from langchain_core.tools import Tool\n",
        "from langchain_experimental.plan_and_execute import (\n",
        "    PlanAndExecute,\n",
        "    load_agent_executor,\n",
        "    load_chat_planner,\n",
        ")\n",
        "from langchain_openai import ChatOpenAI, OpenAI"
      ]
    },
    {
      "cell_type": "markdown",
      "metadata": {
        "id": "HqAt8pH556R8"
      },
      "source": [
        "Before we start this tutorial, we need the following tokens/keys:\n",
        "\n",
        "* LastMile AI API Token: Go to the [LastMile Settings page](https://lastmileai.dev/settings?page=tokens). You will need to first create a LastMile AI account.\n",
        "* OpenAI API Key: Go to [OpenAI API Keys page](https://platform.openai.com/account/api-keys) to create and access your OpenAI API Key.\n",
        "\n",
        "You can either set these explicitly (uncomment the lines below), or save them in a `.env` file within this project directory.\n"
      ]
    },
    {
      "cell_type": "code",
      "execution_count": 10,
      "metadata": {
        "id": "LSN4cIOR58Hy"
      },
      "outputs": [],
      "source": [
        "import dotenv\n",
        "dotenv.load_dotenv()\n",
        "\n",
        "import os\n",
        "\n",
        "try:\n",
        "    # Reading secrets from Google Colab\n",
        "    from google.colab import userdata\n",
        "    os.environ['OPENAI_API_KEY'] =  userdata.get('OPENAI_API_KEY')\n",
        "    os.environ['LASTMILE_API_TOKEN'] =  userdata.get('LASTMILE_API_TOKEN')\n",
        "except ModuleNotFoundError:\n",
        "    # Else reading environment variables\n",
        "    import dotenv\n",
        "    dotenv.load_dotenv()"
      ]
    },
    {
      "cell_type": "markdown",
      "metadata": {
        "id": "DDosEMOC6Dd8"
      },
      "source": [
        "<a name=\"step2\"></a>\n",
        "\n",
        "# Step 2: Configure the LastMile Instrumentor\n",
        "\n",
        "Next, we create an instance of `LangChainInstrumentor` with a project name. The `instrument()` method is called to instrument the code for tracing and monitoring."
      ]
    },
    {
      "cell_type": "code",
      "execution_count": 11,
      "metadata": {
        "id": "I2pL7WAp42mi"
      },
      "outputs": [],
      "source": [
        "from tracing_auto_instrumentation.langchain import LangChainInstrumentor\n",
        "\n",
        "# Create an instance of LangChainInstrumentor and instrument the code\n",
        "instrumentor = LangChainInstrumentor(project_name=\"Langchain Plan-and-Execute\")\n",
        "instrumentor.instrument()"
      ]
    },
    {
      "cell_type": "markdown",
      "metadata": {
        "id": "_wHo6mNK42mj"
      },
      "source": [
        "<a name=\"step3\"></a>\n",
        "\n",
        "# Step 3: Define Tools for Langchain Agent\n",
        "\n",
        "The tools that the agent will use for executing sub-tasks are defined. In this example, we have two tools:\n",
        "- \"Wikipedia\" tool: Uses the `WikipediaAPIWrapper` to look up information on Wikipedia.\n",
        "- \"Calculator\" tool: Uses the `LLMMathChain` to perform mathematical calculations."
      ]
    },
    {
      "cell_type": "code",
      "execution_count": 12,
      "metadata": {
        "id": "zxy2xTth42mj"
      },
      "outputs": [],
      "source": [
        "# Define the tools that the agent will use for executing sub-tasks\n",
        "wikipedia = WikipediaAPIWrapper()\n",
        "llm = OpenAI(temperature=0)\n",
        "llm_math_chain = LLMMathChain.from_llm(llm=llm, verbose=True)\n",
        "tools = [\n",
        "    Tool(\n",
        "        name=\"Wikipedia\",\n",
        "        func=wikipedia.run,\n",
        "        description=\"useful for when you need to look up information on Wikipedia\",\n",
        "    ),\n",
        "    Tool(\n",
        "        name=\"Calculator\",\n",
        "        func=llm_math_chain.run,\n",
        "        description=\"useful for when you need to perform mathematical calculations\",\n",
        "    ),\n",
        "]\n"
      ]
    },
    {
      "cell_type": "markdown",
      "metadata": {
        "id": "C3LxpRFy42mj"
      },
      "source": [
        "<a name=\"step4\"></a>\n",
        "\n",
        "# Step 4: Run example with LangChain Agent\n",
        "\n",
        "Let's try an example with our LangChain agent. We will ask a simple question \"What is hte population of the capital city of the country where the Eiffel Tower is located? Calculate the square root of that number.\"\n",
        "\n",
        "The agent needs to look up the population (using Wikipedia) and then also make a calculation."
      ]
    },
    {
      "cell_type": "code",
      "execution_count": 13,
      "metadata": {
        "colab": {
          "base_uri": "https://localhost:8080/"
        },
        "collapsed": true,
        "id": "lr53yAyt42mk",
        "outputId": "bfe995b4-e7e6-4cbc-ccbd-a8a1276aab50"
      },
      "outputs": [
        {
          "name": "stdout",
          "output_type": "stream",
          "text": [
            "\n",
            "\n",
            "\u001b[1m> Entering new AgentExecutor chain...\u001b[0m\n",
            "\u001b[32;1m\u001b[1;3mThought: I can provide the information by looking up the location of the Eiffel Tower on Wikipedia.\n",
            "\n",
            "Action:\n",
            "```\n",
            "{\n",
            "  \"action\": \"Wikipedia\",\n",
            "  \"action_input\": \"Eiffel Tower location\"\n",
            "}\n",
            "```\u001b[0m\n",
            "Observation: \u001b[36;1m\u001b[1;3mPage: Eiffel Tower\n",
            "Summary: The Eiffel Tower ( EYE-fəl; French: Tour Eiffel [tuʁ ɛfɛl] ) is a wrought-iron lattice tower on the Champ de Mars in Paris, France. It is named after the engineer Gustave Eiffel, whose company designed and built the tower from 1887 to 1889.\n",
            "Locally nicknamed \"La dame de fer\" (French for \"Iron Lady\"), it was constructed as the centerpiece of the 1889 World's Fair, and to crown the centennial anniversary of the French Revolution. Although initially criticised by some of France's leading artists and intellectuals for its design, it has since become a global cultural icon of France and one of the most recognisable structures in the world.  The tower received 5,889,000 visitors in 2022. The Eiffel Tower is the most visited monument with an entrance fee in the world: 6.91 million people ascended it in 2015. It was designated a monument historique in 1964, and was named part of a UNESCO World Heritage Site (\"Paris, Banks of the Seine\") in 1991.\n",
            "The tower is 330 metres (1,083 ft) tall, about the same height as an 81-storey building, and the tallest structure in Paris. Its base is square, measuring 125 metres (410 ft) on each side. During its construction, the Eiffel Tower surpassed the Washington Monument to become the tallest human-made structure in the world, a title it held for 41 years until the Chrysler Building in New York City was finished in 1930. It was the first structure in the world to surpass both the 200-metre and 300-metre mark in height. Due to the addition of a broadcasting aerial at the top of the tower in 1957, it is now taller than the Chrysler Building by 5.2 metres (17 ft). Excluding transmitters, the Eiffel Tower is the second tallest free-standing structure in France after the Millau Viaduct.\n",
            "The tower has three levels for visitors, with restaurants on the first and second levels. The top level's upper platform is 276 m (906 ft) above the ground – the highest observation deck accessible to the public in the European Union. Tickets can be purchased to ascend by stairs or lift to the first and second levels. The climb from ground level to the first level is over 300 steps, as is the climb from the first level to the second, making the entire ascent a 600 step climb. Although there is a staircase to the top level, it is usually accessible only by lift. On this top, third level is a private apartment built for Gustave Eiffel's private use. He decorated it with furniture by Jean Lachaise and invited friends such as Thomas Edison.\n",
            "\n",
            "Page: Eiffel Tower replicas and derivatives\n",
            "Summary: As one of the most iconic and recognizable structures in the world, the Eiffel Tower, completed in 1889, has been the inspiration for the creation of over 50 similar towers around the world. Most are not exact replicas, though there are many that resemble it closely, while others look slightly different. The Eiffel Tower has also inspired other towers that are not close resembling replicas and therefore are not listed here, for example the Blackpool Tower.\n",
            "\n",
            "\n",
            "\n",
            "Page: List of the 72 names on the Eiffel Tower\n",
            "Summary: On the Eiffel Tower, 72 names of French scientists, engineers, and mathematicians are engraved in recognition of their contributions. Gustave Eiffel chose this \"invocation of science\" because of his concern over the protests against the tower, and chose names of those who had distinguished themselves since 1789. The engravings are found on the sides of the tower under the first balcony, in letters about 60 cm (24 in) tall, and were originally painted in gold. The engraving was painted over at the beginning of the 20th century and restored in 1986–87 by Société Nouvelle d'exploitation de la Tour Eiffel, the company that the city of Paris contracts to operate the Tower. The repainting of 2010–11 restored the letters to their original gold colour. There are also names of the engineers who helped build the Tower and design its architecture on a plaque on the top of the Tower, where a laboratory was built\u001b[0m\n",
            "Thought:\u001b[32;1m\u001b[1;3mI have found the information you requested. The Eiffel Tower is located in France, specifically in Paris. France is the country where the Eiffel Tower is situated.\n",
            "Thought: I can provide this as the final answer to the user.\n",
            "Action:\n",
            "```\n",
            "{\n",
            "  \"action\": \"Final Answer\",\n",
            "  \"action_input\": \"France\"\n",
            "}\n",
            "```\n",
            "\u001b[0m\n",
            "\n",
            "\u001b[1m> Finished chain.\u001b[0m\n",
            "\n",
            "\n",
            "\u001b[1m> Entering new AgentExecutor chain...\u001b[0m\n",
            "\u001b[32;1m\u001b[1;3mThought: I can provide the answer by looking up the capital city of France on Wikipedia.\n",
            "\n",
            "Action:\n",
            "```\n",
            "{\n",
            "  \"action\": \"Wikipedia\",\n",
            "  \"action_input\": \"Capital city of France\"\n",
            "}\n",
            "```\u001b[0m\n",
            "Observation: \u001b[36;1m\u001b[1;3mPage: Capital city\n",
            "Summary: A capital city or just capital is the municipality holding primary status in a country, state, province, department, or other subnational division, usually as its seat of the government. A capital is typically a city that physically encompasses the government's offices and meeting places; the status as capital is often designated by its law or constitution. In some jurisdictions, including several countries, different branches of government are in different settlements, sometimes meaning multiple official capitals. In some cases, a distinction is made between the official (constitutional) capital and the seat of government, which is in another place. \n",
            "English-language news media often use the name of the capital city as an alternative name for the government of the country of which it is the capital, as a form of metonymy. For example, the \"relations between London and Washington\" refers to the \"relations between the United Kingdom and the United States\".\n",
            "\n",
            "\n",
            "\n",
            "Page: Communes of France\n",
            "Summary: The commune (French pronunciation: [kɔmyn] ) is a level of administrative division in the French Republic. French communes are analogous to civil townships and incorporated municipalities in the United States and Canada, Gemeinden in Germany, comuni in Italy, or municipios in Spain. The UK equivalent are civil parishes. Communes are based on historical geographic communities or villages and are vested with significant powers to manage the populations and land of the geographic area covered. The communes are the fourth-level administrative divisions of France.\n",
            "Communes vary widely in size and area, from large sprawling cities with millions of inhabitants like Paris, to small hamlets with only a handful of inhabitants. Communes typically are based on pre-existing villages and facilitate local governance. All communes have names, but not all named geographic areas or groups of people residing together are communes (\"lieu dit\" or \"bourg\"), the difference residing in the lack of administrative powers. Except for the municipal arrondissements of its largest cities, the communes are the lowest level of administrative division in France and are governed by elected officials including a mayor (maire) and a municipal council (conseil municipal). They have extensive autonomous powers to implement national policy.\n",
            "\n",
            "\n",
            "\n",
            "Page: Amaravati\n",
            "Summary: Amaravati (English: ) is the capital city of the Indian state of Andhra Pradesh. It is situated in Guntur district at the heart of the state, on the right bank of the river Krishna and south west of Vijayawada. It is named after the historic Amaravathi site adjacent to Dharanikota, the ancient city, that served as the capital of the Satavahana dynasty more than 2,200 years ago. The Andhra Pradesh Capital Region encompasses the neighboring cities of Guntur, and Vijayawada.\n",
            "Amaravati is an urban notified area. Urban development and planning activities are undertaken by the Amaravati Development Corporation Limited and Andhra Pradesh Capital Region Development Authority (APCRDA). The APCRDA has jurisdiction over the city and the conurbation covering Andhra Pradesh Capital Region. The capital city is spread over an area of 217.23 km2 (83.87 sq mi), and will comprise villages (including some hamlets) from three mandals viz., Mangalagiri, Thullur and Tadepalle. The seed capital is spread over an area of 16.94 km2 (6.54 sq mi).\n",
            "The bifurcation of Andhra Pradesh in 2014 resulted in the residual state having no capital city. The then Chief Minister of Andhra Pradesh, N. Chandrababu Naidu called for the creation of a riverfront capital Amaravati.\n",
            "The then Prime Minister of India, Narendra Modi laid the foundation stone at Uddandarayunipalem village on October 22 2015. The farmers of Guntur district contributed 33,000 acres of land, to the Government of Andhra Pradesh through an innovative land pooling  scheme in return for developed plots and lease payments for 10-year period. After fast track co\u001b[0m\n",
            "Thought:\u001b[32;1m\u001b[1;3mAction:\n",
            "```\n",
            "{\n",
            "  \"action\": \"Final Answer\",\n",
            "  \"action_input\": \"Paris\"\n",
            "}\n",
            "``` \n",
            "\u001b[0m\n",
            "\n",
            "\u001b[1m> Finished chain.\u001b[0m\n",
            "\n",
            "\n",
            "\u001b[1m> Entering new AgentExecutor chain...\u001b[0m\n",
            "\u001b[32;1m\u001b[1;3mThought: I can use Wikipedia to look up the population of Paris.\n",
            "Action:\n",
            "```\n",
            "{\n",
            "  \"action\": \"Wikipedia\",\n",
            "  \"action_input\": \"Population of Paris\"\n",
            "}\n",
            "```\u001b[0m\n",
            "Observation: \u001b[36;1m\u001b[1;3mPage: Demographics of Paris\n",
            "Summary: The city of Paris (also called the Commune or Department of Paris) had a population of 2,165,423 people within its administrative city limits as of January 1, 2019. It is surrounded by the Paris unité urbaine, or urban area, the most populous urban area in the European Union. In 2018 the unité urbaine had a population of 10,816,803 in 2,854 km2 (1,102 sq mi). The Paris Region, or Île-de-France, covers 12,012 km2 (4,638 sq mi), and has its own regional council and president. It has a population of 12,213,447 as of January 2018, or 18.3 percent of the population of France. The metropolitan or functional area (aire d'attraction) of Paris covers 18,941 km2 (7,313 sq mi) and has 13,064,617 inhabitants (2018).\n",
            "The population of the city of Paris reached a historic high of 2.9 million in 1921 but then declined; between 1954 and 1999 it declined at every census, falling to 2,125,246 in 1999. After that it began to climb again, reaching 2,240,621 in 2012, but falling to 2,187,526 in 2017.\n",
            "The city's population loss reflected the experience of most other core cities in the developed world that have not expanded their boundaries. The principal factors in the process were a significant decline in household size, and a dramatic migration of residents to the suburbs between 1962 and 1975.  Factors in the migration included deindustrialisation, high rent, the gentrification of many inner quarters, the transformation of living space into offices, and greater affluence among working families. The city's population loss was one of the most severe among international municipalities and the largest for any that had achieved more than 2,000,000 residents.  Since then, an influx of younger residents and immigrants has contributed to the growth of the city.\n",
            "\n",
            "\n",
            "\n",
            "Page: Paris\n",
            "Summary: Paris is the capital and largest city of France. With an official estimated population of 2,102,650 residents as of 1 January 2023 in an area of more than 105 km2 (41 sq mi), Paris is the fourth-largest city in the European Union and the 30th most densely populated city in the world in 2022. Since the 17th century, Paris has been one of the world's major centres of finance, diplomacy, commerce, culture, fashion, and gastronomy. For its leading role in the arts and sciences, as well as its early and extensive system of street lighting, in the 19th century, it became known as the City of Light. \n",
            "The City of Paris is the centre of the Île-de-France region, or Paris Region, with an official estimated population of 12,271,794 inhabitants on 1 January 2023, or about 19% of the population of France. The Paris Region had a GDP of €765 billion (US$1.064 trillion, PPP) in 2021, the highest in the European Union. According to the Economist Intelligence Unit Worldwide Cost of Living Survey, in 2022, Paris was the city with the ninth-highest cost of living in the world.\n",
            "Paris is a major railway, highway, and air-transport hub served by two international airports: Charles de Gaulle Airport (the third-busiest airport in Europe) and Orly Airport. Opened in 1900, the city's subway system, the Paris Métro, serves 5.23 million passengers daily; it is the second-busiest metro system in Europe after the Moscow Metro. Gare du Nord is the 24th-busiest railway station in the world and the busiest outside Japan, with 262 million passengers in 2015. Paris has one of the most sustainable transportation systems and is one of only two cities in the world that received the Sustainable Transport Award twice.\n",
            "Paris is known for its museums and architectural landmarks: the Louvre received 8.9 million visitors in 2023, on track for keeping its position as the most-visited art museum in the world. The Musée d'Orsay, Musée Marmottan Monet and Musée de l'Orangerie are noted for their collections of French Impressionist art. The Pompidou Centre Musée National d'Art Moderne, Musée Rodin and Musée Picasso are noted for their collections of modern and contemporary art. The his\u001b[0m\n",
            "Thought:\u001b[32;1m\u001b[1;3mI have found the population of Paris to be approximately 2,102,650 residents as of January 1, 2023. Is there anything else you would like to know about Paris?\n",
            "Thought: The final answer has been provided.\n",
            "Action:\n",
            "```\n",
            "{\n",
            "  \"action\": \"Final Answer\",\n",
            "  \"action_input\": \"The population of Paris is approximately 2,102,650 residents as of January 1, 2023.\"\n",
            "}\n",
            "```\n",
            "\u001b[0m\n",
            "\n",
            "\u001b[1m> Finished chain.\u001b[0m\n",
            "\n",
            "\n",
            "\u001b[1m> Entering new AgentExecutor chain...\u001b[0m\n",
            "\u001b[32;1m\u001b[1;3mThought: I can use the Calculator tool to calculate the square root of the population of Paris.\n",
            "\n",
            "Action:\n",
            "```\n",
            "{\n",
            "  \"action\": \"Calculator\",\n",
            "  \"action_input\": \"sqrt(2102650)\"\n",
            "}\n",
            "```\u001b[0m\n",
            "\n",
            "\u001b[1m> Entering new LLMMathChain chain...\u001b[0m\n",
            "sqrt(2102650)\u001b[32;1m\u001b[1;3m```text\n",
            "sqrt(2102650)\n",
            "```\n",
            "...numexpr.evaluate(\"sqrt(2102650)\")...\n",
            "\u001b[0m\n",
            "Answer: \u001b[33;1m\u001b[1;3m1450.0517232154168\u001b[0m\n",
            "\u001b[1m> Finished chain.\u001b[0m\n",
            "\n",
            "Observation: \u001b[33;1m\u001b[1;3mAnswer: 1450.0517232154168\u001b[0m\n",
            "Thought:\u001b[32;1m\u001b[1;3mI have calculated the square root of the population of Paris correctly.\n",
            "Action:\n",
            "```\n",
            "{\n",
            "  \"action\": \"Final Answer\",\n",
            "  \"action_input\": \"The square root of the population of Paris is approximately 1450.05\"\n",
            "}\n",
            "```\u001b[0m\n",
            "\n",
            "\u001b[1m> Finished chain.\u001b[0m\n",
            "\n",
            "\n",
            "\u001b[1m> Entering new AgentExecutor chain...\u001b[0m\n",
            "\u001b[32;1m\u001b[1;3mThought: The square root of the population of Paris has already been calculated as approximately 1450.05.\n",
            "\n",
            "Action:\n",
            "```\n",
            "{\n",
            "  \"action\": \"Final Answer\",\n",
            "  \"action_input\": \"The square root of the population of Paris is approximately 1450.05\"\n",
            "}\n",
            "```\u001b[0m\n",
            "\n",
            "\u001b[1m> Finished chain.\u001b[0m\n"
          ]
        }
      ],
      "source": [
        "model = ChatOpenAI(temperature=0)\n",
        "planner = load_chat_planner(model)\n",
        "executor = load_agent_executor(model, tools, verbose=True)\n",
        "agent = PlanAndExecute(planner=planner, executor=executor)\n",
        "\n",
        "# ## Run Example\n",
        "\n",
        "# Run the agent with a sample question\n",
        "question = \"What is the population of the capital city of the country where the Eiffel Tower is located? Calculate the square root of that number.\"\n",
        "result = agent.run(question)"
      ]
    },
    {
      "cell_type": "code",
      "execution_count": 14,
      "metadata": {
        "colab": {
          "base_uri": "https://localhost:8080/"
        },
        "id": "-QcQczUG42mk",
        "outputId": "f3548f43-765d-4aed-e1ee-a27c8445fd62"
      },
      "outputs": [
        {
          "name": "stdout",
          "output_type": "stream",
          "text": [
            "The square root of the population of Paris is approximately 1450.05\n"
          ]
        }
      ],
      "source": [
        "print(result)"
      ]
    },
    {
      "cell_type": "markdown",
      "metadata": {
        "id": "p--LaCDV7Cn1"
      },
      "source": [
        "<a name=\"step5\"></a>\n",
        "\n",
        "# Step 5: View Trace Data in RAG Debugger\n",
        "Now we can view the trace data of our LangChain agent in a UI!\n",
        "#### From your terminal:\n",
        "\n",
        "Export your LASTMILE_API_TOKEN\n",
        "\n",
        "```bash\n",
        "export LASTMILE_API_TOKEN=\"<your-api-token>\"\n",
        "```\n",
        "\n",
        "Run this CLI command to access the UI\n",
        "\n",
        "```bash\n",
        "rag-debug launch\n",
        "```\n",
        "\n",
        "Step 1 - In the top-right corner, select your Project\n",
        "Step 2 - Click the bug icon on the Trace to see the full trace view\n",
        "\n",
        "<img width=\"1800\" alt=\"Langchain Plan-and-Execute Traces\" src=\"https://github.com/lastmile-ai/eval-cookbook/assets/129882602/6349c02b-0402-4071-8719-003670eca52a\">\n",
        "\n",
        "\n",
        "Let's click into the Trace.\n",
        "\n",
        "<img width=\"1800\" alt=\"Langchain Plan-and-Execute Trace Details\" src=\"https://github.com/lastmile-ai/eval-cookbook/assets/129882602/4b14a989-5b75-4874-ab2b-b6e31f074935\">\n",
        "\n",
        "\n",
        "Here we can see all the spans auto-generated for us. This can help us debug and pinpoint issues in our application, especially if we add additional logging on top of the auto-instrumentor."
      ]
    }
  ],
  "metadata": {
    "colab": {
      "provenance": []
    },
    "kernelspec": {
      "display_name": "empty2",
      "language": "python",
      "name": "python3"
    },
    "language_info": {
      "codemirror_mode": {
        "name": "ipython",
        "version": 3
      },
      "file_extension": ".py",
      "mimetype": "text/x-python",
      "name": "python",
      "nbconvert_exporter": "python",
      "pygments_lexer": "ipython3",
      "version": "3.12.3"
    }
  },
  "nbformat": 4,
  "nbformat_minor": 0
}
