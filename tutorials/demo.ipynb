{
 "cells": [
  {
   "cell_type": "code",
   "execution_count": 1,
   "metadata": {},
   "outputs": [],
   "source": [
    "from lastmile_eval.rag.debugger.api import (\n",
    "    LastMileTracer\n",
    ")\n",
    "from lastmile_eval.rag.debugger.tracing.sdk import (\n",
    "    get_lastmile_tracer,\n",
    ")"
   ]
  },
  {
   "cell_type": "code",
   "execution_count": 2,
   "metadata": {},
   "outputs": [
    {
     "data": {
      "text/plain": [
       "True"
      ]
     },
     "execution_count": 2,
     "metadata": {},
     "output_type": "execute_result"
    }
   ],
   "source": [
    "import dotenv\n",
    "dotenv.load_dotenv()"
   ]
  },
  {
   "cell_type": "code",
   "execution_count": 3,
   "metadata": {},
   "outputs": [
    {
     "name": "stderr",
     "output_type": "stream",
     "text": [
      "[DEBUG] 2024-06-03 19:35:40,057 connectionpool.py:1055: Starting new HTTPS connection (1): lastmileai.dev:443\n"
     ]
    },
    {
     "name": "stderr",
     "output_type": "stream",
     "text": [
      "[DEBUG] 2024-06-03 19:35:40,269 connectionpool.py:549: https://lastmileai.dev:443 \"GET /api/evaluation_projects/list?name=This+pizza+is+pretty+not+great HTTP/1.1\" 200 365\n"
     ]
    }
   ],
   "source": [
    "tracer: LastMileTracer = get_lastmile_tracer(\n",
    "    tracer_name=\"yo what up?\",\n",
    "    project_name=\"This pizza is pretty not great\",\n",
    ")"
   ]
  },
  {
   "cell_type": "code",
   "execution_count": 6,
   "metadata": {},
   "outputs": [],
   "source": [
    "@tracer.trace_function()\n",
    "def execute_function(\n",
    "    input_question: str,\n",
    "    use_wrong_answer: bool\n",
    ") -> str:\n",
    "    print(input_question)\n",
    "    if use_wrong_answer:\n",
    "        output = \"because you suck at chewing\"\n",
    "    else:\n",
    "        output = \"because it is made out of cardboard\"\n",
    "    return output"
   ]
  },
  {
   "cell_type": "code",
   "execution_count": 5,
   "metadata": {},
   "outputs": [
    {
     "name": "stdout",
     "output_type": "stream",
     "text": [
      "Why is this pizza so hard to chew?\n",
      "because you suck at chewing\n"
     ]
    }
   ],
   "source": [
    "result = execute_function(\n",
    "    \"Why is this pizza so hard to chew?\", \n",
    "    use_wrong_answer=True\n",
    ")\n",
    "\n",
    "print(result)"
   ]
  }
 ],
 "metadata": {
  "kernelspec": {
   "display_name": "eval",
   "language": "python",
   "name": "python3"
  },
  "language_info": {
   "codemirror_mode": {
    "name": "ipython",
    "version": 3
   },
   "file_extension": ".py",
   "mimetype": "text/x-python",
   "name": "python",
   "nbconvert_exporter": "python",
   "pygments_lexer": "ipython3",
   "version": "3.12.3"
  }
 },
 "nbformat": 4,
 "nbformat_minor": 2
}
