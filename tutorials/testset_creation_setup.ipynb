{
 "cells": [
  {
   "cell_type": "markdown",
   "metadata": {},
   "source": [
    "# This shows how to do 3 things:\n",
    "1. specify or define evaluators\n",
    "2. run evaluations on a local dataset (as a pandas dataframe)\n",
    "3. run evaluations _after_ running your RAG query system\n",
    "\n",
    "in each case, the results will be visible in the UI (it saves to your lastmile account)"
   ]
  },
  {
   "cell_type": "code",
   "execution_count": 4,
   "metadata": {},
   "outputs": [
    {
     "name": "stderr",
     "output_type": "stream",
     "text": [
      "2024-05-01 14:59:23,944 - Starting new HTTPS connection (1): lastmileai.dev:443\n",
      "2024-05-01 14:59:24,063 - https://lastmileai.dev:443 \"POST /api/evaluation_test_sets/create HTTP/1.1\" 200 305\n",
      "2024-05-01 14:59:24,066 - Starting new HTTPS connection (1): lastmileai.dev:443\n",
      "2024-05-01 14:59:24,177 - https://lastmileai.dev:443 \"GET /api/evaluation_test_cases/list HTTP/1.1\" 200 None\n",
      "2024-05-01 14:59:24,195 - Starting new HTTPS connection (1): s3.amazonaws.com:443\n",
      "2024-05-01 14:59:24,295 - https://s3.amazonaws.com:443 \"HEAD /datasets.huggingface.co/datasets/metrics/evaluate-metric/rouge/evaluate-metric/rouge.py HTTP/1.1\" 404 0\n",
      "2024-05-01 14:59:24,298 - Starting new HTTPS connection (1): huggingface.co:443\n",
      "2024-05-01 14:59:24,373 - https://huggingface.co:443 \"HEAD /spaces/evaluate-metric/rouge/resolve/v0.4.1/rouge.py HTTP/1.1\" 404 0\n",
      "2024-05-01 14:59:24,375 - Starting new HTTPS connection (1): huggingface.co:443\n",
      "2024-05-01 14:59:24,445 - https://huggingface.co:443 \"HEAD /spaces/evaluate-metric/rouge/resolve/main/rouge.py HTTP/1.1\" 200 0\n",
      "2024-05-01 14:59:24,452 - Attempting to acquire lock 6041775664 on /Users/jonathan/.cache/huggingface/modules/evaluate_modules/metrics/evaluate-metric--rouge.lock\n",
      "2024-05-01 14:59:24,453 - Lock 6041775664 acquired on /Users/jonathan/.cache/huggingface/modules/evaluate_modules/metrics/evaluate-metric--rouge.lock\n",
      "2024-05-01 14:59:24,453 - Attempting to release lock 6041775664 on /Users/jonathan/.cache/huggingface/modules/evaluate_modules/metrics/evaluate-metric--rouge.lock\n",
      "2024-05-01 14:59:24,454 - Lock 6041775664 released on /Users/jonathan/.cache/huggingface/modules/evaluate_modules/metrics/evaluate-metric--rouge.lock\n",
      "2024-05-01 14:59:24,454 - Attempting to acquire lock 6041779648 on /Users/jonathan/.cache/huggingface/metrics/rouge/default/default_experiment-1-0.arrow.lock\n",
      "2024-05-01 14:59:24,455 - Lock 6041779648 acquired on /Users/jonathan/.cache/huggingface/metrics/rouge/default/default_experiment-1-0.arrow.lock\n",
      "2024-05-01 14:59:24,455 - open file: /Users/jonathan/.cache/huggingface/metrics/rouge/default/default_experiment-1-0.arrow\n",
      "2024-05-01 14:59:24,458 - Using default tokenizer.\n",
      "2024-05-01 14:59:24,507 - Attempting to release lock 6041779648 on /Users/jonathan/.cache/huggingface/metrics/rouge/default/default_experiment-1-0.arrow.lock\n",
      "2024-05-01 14:59:24,508 - Lock 6041779648 released on /Users/jonathan/.cache/huggingface/metrics/rouge/default/default_experiment-1-0.arrow.lock\n",
      "2024-05-01 14:59:24,508 - Attempting to acquire lock 6041771680 on /Users/jonathan/.cache/huggingface/metrics/rouge/default/default_experiment-1-0.arrow.lock\n",
      "2024-05-01 14:59:24,509 - Lock 6041771680 acquired on /Users/jonathan/.cache/huggingface/metrics/rouge/default/default_experiment-1-0.arrow.lock\n",
      "2024-05-01 14:59:24,509 - open file: /Users/jonathan/.cache/huggingface/metrics/rouge/default/default_experiment-1-0.arrow\n",
      "2024-05-01 14:59:24,512 - Using default tokenizer.\n",
      "2024-05-01 14:59:24,554 - Attempting to release lock 6041771680 on /Users/jonathan/.cache/huggingface/metrics/rouge/default/default_experiment-1-0.arrow.lock\n",
      "2024-05-01 14:59:24,555 - Lock 6041771680 released on /Users/jonathan/.cache/huggingface/metrics/rouge/default/default_experiment-1-0.arrow.lock\n",
      "2024-05-01 14:59:24,557 - Starting new HTTPS connection (1): s3.amazonaws.com:443\n",
      "2024-05-01 14:59:24,646 - https://s3.amazonaws.com:443 \"HEAD /datasets.huggingface.co/datasets/metrics/evaluate-metric/rouge/evaluate-metric/rouge.py HTTP/1.1\" 404 0\n",
      "2024-05-01 14:59:24,648 - Starting new HTTPS connection (1): huggingface.co:443\n",
      "2024-05-01 14:59:24,709 - https://huggingface.co:443 \"HEAD /spaces/evaluate-metric/rouge/resolve/v0.4.1/rouge.py HTTP/1.1\" 404 0\n",
      "2024-05-01 14:59:24,711 - Starting new HTTPS connection (1): huggingface.co:443\n",
      "2024-05-01 14:59:24,767 - https://huggingface.co:443 \"HEAD /spaces/evaluate-metric/rouge/resolve/main/rouge.py HTTP/1.1\" 200 0\n",
      "2024-05-01 14:59:24,774 - Attempting to acquire lock 6042224096 on /Users/jonathan/.cache/huggingface/modules/evaluate_modules/metrics/evaluate-metric--rouge.lock\n",
      "2024-05-01 14:59:24,774 - Lock 6042224096 acquired on /Users/jonathan/.cache/huggingface/modules/evaluate_modules/metrics/evaluate-metric--rouge.lock\n",
      "2024-05-01 14:59:24,775 - Attempting to release lock 6042224096 on /Users/jonathan/.cache/huggingface/modules/evaluate_modules/metrics/evaluate-metric--rouge.lock\n",
      "2024-05-01 14:59:24,775 - Lock 6042224096 released on /Users/jonathan/.cache/huggingface/modules/evaluate_modules/metrics/evaluate-metric--rouge.lock\n",
      "2024-05-01 14:59:24,776 - Attempting to acquire lock 6042223136 on /Users/jonathan/.cache/huggingface/metrics/rouge/default/default_experiment-1-0.arrow.lock\n",
      "2024-05-01 14:59:24,776 - Lock 6042223136 acquired on /Users/jonathan/.cache/huggingface/metrics/rouge/default/default_experiment-1-0.arrow.lock\n",
      "2024-05-01 14:59:24,777 - open file: /Users/jonathan/.cache/huggingface/metrics/rouge/default/default_experiment-1-0.arrow\n",
      "2024-05-01 14:59:24,779 - Using default tokenizer.\n",
      "2024-05-01 14:59:24,825 - Attempting to release lock 6042223136 on /Users/jonathan/.cache/huggingface/metrics/rouge/default/default_experiment-1-0.arrow.lock\n",
      "2024-05-01 14:59:24,826 - Lock 6042223136 released on /Users/jonathan/.cache/huggingface/metrics/rouge/default/default_experiment-1-0.arrow.lock\n",
      "2024-05-01 14:59:24,826 - Attempting to acquire lock 6042230528 on /Users/jonathan/.cache/huggingface/metrics/rouge/default/default_experiment-1-0.arrow.lock\n",
      "2024-05-01 14:59:24,827 - Lock 6042230528 acquired on /Users/jonathan/.cache/huggingface/metrics/rouge/default/default_experiment-1-0.arrow.lock\n",
      "2024-05-01 14:59:24,827 - open file: /Users/jonathan/.cache/huggingface/metrics/rouge/default/default_experiment-1-0.arrow\n",
      "2024-05-01 14:59:24,829 - Using default tokenizer.\n",
      "2024-05-01 14:59:24,877 - Attempting to release lock 6042230528 on /Users/jonathan/.cache/huggingface/metrics/rouge/default/default_experiment-1-0.arrow.lock\n",
      "2024-05-01 14:59:24,878 - Lock 6042230528 released on /Users/jonathan/.cache/huggingface/metrics/rouge/default/default_experiment-1-0.arrow.lock\n",
      "2024-05-01 14:59:24,883 - Starting new HTTPS connection (1): lastmileai.dev:443\n",
      "2024-05-01 14:59:24,990 - https://lastmileai.dev:443 \"POST /api/evaluation_sets/create HTTP/1.1\" 200 342\n"
     ]
    }
   ],
   "source": [
    "from lastmile_eval.rag.debugger.api.evaluation import evaluate_rag_outputs\n",
    "import pandas as pd\n",
    "\n",
    "from lastmile_eval.text.metrics import calculate_rouge1_score\n",
    "\n",
    "project_id = \"123\"\n",
    "\n",
    "def rouge1(df: pd.DataFrame):\n",
    "    return calculate_rouge1_score(df[\"output\"].tolist(), df[\"groundTruth\"].tolist())\n",
    "\n",
    "trace_level_evaluators = {\n",
    "    \"rouge1\": rouge1\n",
    "}\n",
    "\n",
    "df = pd.DataFrame({\n",
    "    \"query\": [\"hello\", \"world\"],\n",
    "    \"output\": [\"hello\", \"world\"],\n",
    "    \"groundTruth\": [\"hello\", \"world!\"]\n",
    "})\n",
    "\n",
    "eval_result = evaluate_rag_outputs(\n",
    "    project_id=project_id,\n",
    "    trace_level_evaluators=trace_level_evaluators,\n",
    "    dataset_level_evaluators={},\n",
    "    df=df,\n",
    "    lastmile_api_token=\"token\",\n",
    "    evaluation_set_name=\"Hello world: with output prepared\"\n",
    ")"
   ]
  },
  {
   "cell_type": "code",
   "execution_count": 6,
   "metadata": {},
   "outputs": [
    {
     "data": {
      "text/plain": [
       "CreateEvaluationsResult(success=True, message='{\"id\":\"clvo6lg3g0013pebq1q8jdvcx\",\"createdAt\":\"2024-05-01T18:59:24.987Z\",\"updatedAt\":\"2024-05-01T18:59:24.987Z\",\"name\":\"Hello world: with output prepared\",\"paramSet\":null,\"testSetId\":\"clvo6lfdr0048qyj0nmwwbhui\",\"creatorId\":\"clkrgxm850004phi6ee5mvhd1\",\"projectId\":null,\"organizationId\":null,\"visibility\":\"MEMBER\",\"metadata\":null,\"active\":true}')"
      ]
     },
     "execution_count": 6,
     "metadata": {},
     "output_type": "execute_result"
    }
   ],
   "source": [
    "eval_result"
   ]
  },
  {
   "cell_type": "code",
   "execution_count": 2,
   "metadata": {},
   "outputs": [
    {
     "name": "stderr",
     "output_type": "stream",
     "text": [
      "2024-05-01 16:18:27,529 - Starting new HTTPS connection (1): lastmileai.dev:443\n",
      "2024-05-01 16:18:27,852 - https://lastmileai.dev:443 \"POST /api/evaluation_test_sets/create HTTP/1.1\" 200 305\n",
      "2024-05-01 16:18:27,855 - Starting new HTTPS connection (1): lastmileai.dev:443\n",
      "2024-05-01 16:18:28,091 - https://lastmileai.dev:443 \"GET /api/evaluation_test_cases/list HTTP/1.1\" 200 None\n",
      "2024-05-01 16:18:28,102 - Starting new HTTPS connection (1): lastmileai.dev:443\n",
      "2024-05-01 16:18:28,212 - https://lastmileai.dev:443 \"POST /api/evaluation_sets/create HTTP/1.1\" 200 342\n"
     ]
    }
   ],
   "source": [
    "from functools import partial\n",
    "from typing import Sequence\n",
    "from lastmile_eval.rag.debugger.api.evaluation import run_queries_and_evaluate_outputs\n",
    "from lastmile_eval.text.metrics import calculate_faithfulness_score, calculate_qa_score\n",
    "\n",
    "\n",
    "project_id = \"123\"\n",
    "\n",
    "def calculate_qa_score(\n",
    "    texts_to_evaluate: Sequence[str],\n",
    "    references: Sequence[str],\n",
    "    questions: Sequence[str],\n",
    "    model_name: str = \"gpt-3.5-turbo\",\n",
    ") -> list[float]:\n",
    "\n",
    "    # Mock implementation, real one isn't working\n",
    "    out = [0.1 + float(i / len(texts_to_evaluate)) for i in range(len(texts_to_evaluate))]\n",
    "    return out\n",
    "\n",
    "\n",
    "trace_level_evaluators = {\n",
    "    \"qa_score\": partial(calculate_qa_score, model_name=\"gpt-3.5-turbo\"),\n",
    "    # \"p_faithful\": partial(calculate_faithfulness_score, lastmile_api_token=lastmile_api_token),\n",
    "}\n",
    "\n",
    "def rag_query_fn_example(query: str):\n",
    "    return f\"Survey says: the answer to '{query}' is 42.\"\n",
    "\n",
    "eval_result = run_queries_and_evaluate_outputs(\n",
    "    project_id=project_id,\n",
    "    trace_level_evaluators=trace_level_evaluators,\n",
    "    dataset_level_evaluators={},\n",
    "    rag_query_fn=rag_query_fn_example,\n",
    "    queries=[\"hello\", \"world\"],\n",
    "    ground_truth=[\"hello\", \"world!\"],\n",
    "    evaluation_set_name=\"Hello world: run RAG fn first, v6\",\n",
    "    lastmile_api_token=\"token\"\n",
    ")"
   ]
  },
  {
   "cell_type": "code",
   "execution_count": 3,
   "metadata": {},
   "outputs": [
    {
     "data": {
      "text/plain": [
       "CreateEvaluationsResult(success=True, message='{\"id\":\"clvo9f3zo005lpebqcz7dfb2d\",\"createdAt\":\"2024-05-01T20:18:28.211Z\",\"updatedAt\":\"2024-05-01T20:18:28.211Z\",\"name\":\"Hello world: run RAG fn first, v6\",\"paramSet\":null,\"testSetId\":\"clvo9f3pt005gpebq9gpffa6w\",\"creatorId\":\"clkrgxm850004phi6ee5mvhd1\",\"projectId\":null,\"organizationId\":null,\"visibility\":\"MEMBER\",\"metadata\":null,\"active\":true}')"
      ]
     },
     "execution_count": 3,
     "metadata": {},
     "output_type": "execute_result"
    }
   ],
   "source": [
    "eval_result"
   ]
  }
 ],
 "metadata": {
  "kernelspec": {
   "display_name": "minnie",
   "language": "python",
   "name": "python3"
  },
  "language_info": {
   "codemirror_mode": {
    "name": "ipython",
    "version": 3
   },
   "file_extension": ".py",
   "mimetype": "text/x-python",
   "name": "python",
   "nbconvert_exporter": "python",
   "pygments_lexer": "ipython3",
   "version": "3.10.14"
  }
 },
 "nbformat": 4,
 "nbformat_minor": 2
}
