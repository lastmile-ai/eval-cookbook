{
  "cells": [
    {
      "cell_type": "markdown",
      "metadata": {
        "id": "MCFUwdhUrGCp"
      },
      "source": [
        "# RAG Workbench - LlamaIndex Function Calls\n",
        "\n",
        "In this notebook, we showcase how to use the LastMile Tracing SDK and [RAG Workbench](https://rag.lastmileai.dev/) to manage, evaluate, and debug function calls with LlamaIndex."
      ]
    },
    {
      "cell_type": "markdown",
      "metadata": {
        "id": "9Vzjld592_36"
      },
      "source": [
        "## Notebook Outline\n",
        "* [Step 1: Install and Setup](#install)\n",
        "* [Step 2: Configure LastMile Instrumnetor](#trace)\n",
        "* [Step 3: Write Function Calls](#function)\n",
        "* [Step 4: Ask a Question](#question)\n",
        "* [Step 5: View Results in RAG Workbench UI](#ui)"
      ]
    },
    {
      "cell_type": "markdown",
      "metadata": {
        "id": "AeMacBarsQ-4"
      },
      "source": [
        "<a name=\"install\"></a>\n",
        "## Step 1: Install and Setup"
      ]
    },
    {
      "cell_type": "markdown",
      "metadata": {
        "id": "_tnvE1ELuhkO"
      },
      "source": [
        "First install the required packages."
      ]
    },
    {
      "cell_type": "code",
      "execution_count": null,
      "metadata": {
        "colab": {
          "base_uri": "https://localhost:8080/"
        },
        "collapsed": true,
        "id": "GeuZV8CZVDCT",
        "outputId": "be09642f-367e-4cf6-c7dd-0b1272b47f2d"
      },
      "outputs": [],
      "source": [
        "%pip install llama-index-agent-openai\n",
        "%pip install llama-index-llms-openai\n",
        "!pip install \"tracing-auto-instrumentation[llama-index]\" --upgrade"
      ]
    },
    {
      "cell_type": "markdown",
      "metadata": {
        "id": "svnN89sORPMu"
      },
      "source": [
        "Import the modules used in this tutorial."
      ]
    },
    {
      "cell_type": "code",
      "execution_count": 2,
      "metadata": {
        "collapsed": true,
        "id": "oCOV8MCh5bfN"
      },
      "outputs": [],
      "source": [
        "import llama_index.core\n",
        "from tracing_auto_instrumentation.llama_index import LlamaIndexCallbackHandler\n",
        "from llama_index.agent.openai import OpenAIAgent\n",
        "from llama_index.llms.openai import OpenAI\n",
        "from llama_index.core.tools import FunctionTool\n",
        "from getpass import getpass"
      ]
    },
    {
      "cell_type": "markdown",
      "metadata": {
        "id": "UvDNO7SBvj1q"
      },
      "source": [
        "We also need the following API tokens/keys:\n",
        "\n",
        "* **LastMile AI API Token:** Go to the [LastMile Settings page](https://lastmileai.dev/settings?page=tokens). You will need to first create a LastMile AI account.\n",
        "* **OpenAI API Key:** Go to [OpenAI API Keys page](https://platform.openai.com/account/api-keys) to create and access your OpenAI API Key.\n",
        "\n",
        "Run the code cell below after setting the keys either in **Google Colab Secrets** or in `.env` in your directory. Avoid inputting keys directly in the notebook."
      ]
    },
    {
      "cell_type": "code",
      "execution_count": 3,
      "metadata": {
        "id": "9LmaK6OHRq4G"
      },
      "outputs": [],
      "source": [
        "import os\n",
        "\n",
        "try:\n",
        "    # If running on Google Colab, use userdata to securely input keys\n",
        "    from google.colab import userdata\n",
        "    OPENAI_API_KEY = userdata.get('OPENAI_API_KEY')\n",
        "    LASTMILE_API_TOKEN = userdata.get('LASTMILE_API_TOKEN')\n",
        "except ModuleNotFoundError:\n",
        "    # If running locally, load keys from .env file\n",
        "    from dotenv import load_dotenv\n",
        "    load_dotenv()\n",
        "    OPENAI_API_KEY = os.getenv('OPENAI_API_KEY')\n",
        "    LASTMILE_API_TOKEN = os.getenv('LASTMILE_API_TOKEN')\n",
        "\n",
        "os.environ['OPENAI_API_KEY'] = OPENAI_API_KEY\n",
        "os.environ['LASTMILE_API_TOKEN'] = LASTMILE_API_TOKEN"
      ]
    },
    {
      "cell_type": "markdown",
      "metadata": {
        "id": "N_I2IP3JObAz"
      },
      "source": [
        "<a name=\"trace\"></a>\n",
        "\n",
        "## Step 2: Configure LastMile Instrumentor\n",
        "First, we configure the LastMile Instrumentor which will auto-instrument tracing for your LlamaIndex application. This allows us to easily see the various steps in our RAG system in the RAG Workbench UI. "
      ]
    },
    {
      "cell_type": "code",
      "execution_count": 4,
      "metadata": {
        "id": "I5fIq5aWOwvA"
      },
      "outputs": [],
      "source": [
        "llama_index.core.global_handler = LlamaIndexCallbackHandler(\n",
        "    project_name=\"LlamaIndex-Function-Call\",\n",
        ")"
      ]
    },
    {
      "cell_type": "markdown",
      "metadata": {
        "id": "jY5tB8_mVDCV"
      },
      "source": [
        "<a name=\"function\"></a>\n",
        "\n",
        "## Step 3: Write Function Calls\n",
        "For this example, we will use 2 simple function calls (multiple and add)."
      ]
    },
    {
      "cell_type": "code",
      "execution_count": 5,
      "metadata": {
        "id": "RhJve1yKNoOe"
      },
      "outputs": [],
      "source": [
        "def multiply(a: int, b: int) -> int:\n",
        "    \"\"\"Multiple two integers and returns the result integer\"\"\"\n",
        "    return a * b\n",
        "\n",
        "def add(a: int, b: int) -> int:\n",
        "    \"\"\"Add two integers and returns the result integer\"\"\"\n",
        "    return a + b\n",
        "\n",
        "multiply_tool = FunctionTool.from_defaults(fn=multiply)\n",
        "add_tool = FunctionTool.from_defaults(fn=add)\n",
        "\n",
        "llm = OpenAI(model=\"gpt-3.5-turbo-1106\")\n",
        "agent = OpenAIAgent.from_tools(\n",
        "    [multiply_tool, add_tool], llm=llm, verbose=True\n",
        ")"
      ]
    },
    {
      "cell_type": "markdown",
      "metadata": {
        "id": "FxqHzzBlN5wg"
      },
      "source": [
        "<a name=\"question\"></a>\n",
        "\n",
        "## Step 4: Ask a Question\n",
        "Let's now ask a question and see the function calls execute appropriately."
      ]
    },
    {
      "cell_type": "code",
      "execution_count": 6,
      "metadata": {
        "colab": {
          "base_uri": "https://localhost:8080/"
        },
        "id": "zTB_VUiGOMnt",
        "outputId": "b43d2d36-e9eb-481c-abe0-d54acad9f782"
      },
      "outputs": [
        {
          "name": "stdout",
          "output_type": "stream",
          "text": [
            "Added user message to memory: What is (121 * 3) + 42?\n",
            "=== Calling Function ===\n",
            "Calling function: multiply with args: {\"a\": 121, \"b\": 3}\n",
            "Got output: 363\n",
            "========================\n",
            "\n",
            "=== Calling Function ===\n",
            "Calling function: add with args: {\"a\": 363, \"b\": 42}\n",
            "Got output: 405\n",
            "========================\n",
            "\n",
            "The result of (121 * 3) is 363, and when you add 42 to that, you get 405.\n"
          ]
        }
      ],
      "source": [
        "response = agent.chat(\"What is (121 * 3) + 42?\")\n",
        "print(str(response))"
      ]
    },
    {
      "cell_type": "markdown",
      "metadata": {
        "id": "vQptLtpaG7NS"
      },
      "source": [
        "<a name=\"ui\"></a>\n",
        "\n",
        "## Step 5: View Results in RAG Workbench UI\n",
        "\n",
        "We can view the results in the RAG Workbench UI.\n",
        "\n",
        "From your terminal, export your LASTMILE_API_TOKEN\n",
        "\n",
        "```bash\n",
        "export LASTMILE_API_TOKEN=\"<your-api-token>\"\n",
        "```\n",
        "\n",
        "Next, run the following command in your terminal to launch the UI:\n",
        "\n",
        "```bash\n",
        "rag-debug launch\n",
        "```\n",
        "\n",
        "Navigate to the url provided by the RAG Workbench (opens up your web browser). This will look like http://localhost:8080/\n",
        "\n",
        "1. Click the **Traces Tab**.\n",
        "2. Select Project 'LlamaIndex-Function-Call'. You can see the Trace logged in the UI.\n",
        "\n",
        "<img width=\"700\" alt=\"traces_llfc\" src=\"https://github.com/lastmile-ai/aiconfig/assets/81494782/d79fe9eb-2c04-4b11-83d2-0447727c99f4\">\n",
        "\n",
        "\n",
        "\n",
        "\n",
        "3. Click on a Trace to see the function calls executed and other metadata.\n",
        "\n",
        "<img width=\"700\" alt=\"trace_overview_llfc\" src=\"https://github.com/lastmile-ai/aiconfig/assets/81494782/b4d20aa3-1e5a-46a5-b99a-31172bb46a24\">\n",
        "\n",
        "\n",
        "\n"
      ]
    },
    {
      "cell_type": "code",
      "execution_count": null,
      "metadata": {
        "id": "RfA_eCwg3HeK"
      },
      "outputs": [],
      "source": []
    }
  ],
  "metadata": {
    "colab": {
      "provenance": []
    },
    "kernelspec": {
      "display_name": "Python 3",
      "language": "python",
      "name": "python3"
    },
    "language_info": {
      "codemirror_mode": {
        "name": "ipython",
        "version": 3
      },
      "file_extension": ".py",
      "mimetype": "text/x-python",
      "name": "python",
      "nbconvert_exporter": "python",
      "pygments_lexer": "ipython3",
      "version": "3.11.9"
    }
  },
  "nbformat": 4,
  "nbformat_minor": 0
}
