{
 "cells": [
  {
   "cell_type": "code",
   "execution_count": 1,
   "metadata": {},
   "outputs": [],
   "source": [
    "# !pip install lastmile-eval --upgrade"
   ]
  },
  {
   "cell_type": "code",
   "execution_count": 2,
   "metadata": {},
   "outputs": [
    {
     "name": "stderr",
     "output_type": "stream",
     "text": [
      "/Users/ankush/anaconda3/envs/main/lib/python3.12/site-packages/tqdm/auto.py:21: TqdmWarning: IProgress not found. Please update jupyter and ipywidgets. See https://ipywidgets.readthedocs.io/en/stable/user_install.html\n",
      "  from .autonotebook import tqdm as notebook_tqdm\n",
      "2024-05-13 01:08:29,873 - Starting new HTTPS connection (1): lastmileai.dev:443\n",
      "2024-05-13 01:08:29,976 - https://lastmileai.dev:443 \"GET /api/evaluation_projects/list?name=my-tracer5 HTTP/1.1\" 200 41\n",
      "2024-05-13 01:08:29,978 - Starting new HTTPS connection (1): lastmileai.dev:443\n",
      "2024-05-13 01:08:30,059 - https://lastmileai.dev:443 \"POST /api/evaluation_projects/create HTTP/1.1\" 200 247\n"
     ]
    }
   ],
   "source": [
    "# Setup Cell\n",
    "from lastmile_eval.rag.debugger.tracing import (\n",
    "    get_lastmile_tracer,\n",
    ")\n",
    "from lastmile_eval.rag.debugger.api import (\n",
    "    LastMileTracer)\n",
    "\n",
    "# Replace token here\n",
    "lastmile_api_token = \"enter token here!\"\n",
    "\n",
    "tracer: LastMileTracer = get_lastmile_tracer(\n",
    "    tracer_name=\"my-tracer5\", # project name\n",
    "    lastmile_api_token=lastmile_api_token,\n",
    "    initial_params={\"global_param\": \"This param key appear in all traces\"},\n",
    ")"
   ]
  },
  {
   "cell_type": "code",
   "execution_count": 3,
   "metadata": {},
   "outputs": [
    {
     "name": "stderr",
     "output_type": "stream",
     "text": [
      "2024-05-13 01:08:30,069 - Starting new HTTPS connection (1): lastmileai.dev:443\n",
      "2024-05-13 01:08:30,147 - https://lastmileai.dev:443 \"POST /api/evaluation_feedback/create HTTP/1.1\" 200 355\n"
     ]
    },
    {
     "data": {
      "text/plain": [
       "{'id': 'clw4i73uu0034pbesxeb58l1x',\n",
       " 'createdAt': '2024-05-13T05:08:30.150Z',\n",
       " 'updatedAt': '2024-05-13T05:08:30.150Z',\n",
       " 'creatorId': 'clkrgxm850004phi6ee5mvhd1',\n",
       " 'feedback': {'text': 'Rag debugger retrieves context nicely'},\n",
       " 'projectId': 'clw4i73sb0026qynx1jxe1lvz',\n",
       " 'metadata': None,\n",
       " 'traceId': None,\n",
       " 'spanId': None,\n",
       " 'organizationId': None,\n",
       " 'visibility': 'MEMBER',\n",
       " 'active': True}"
      ]
     },
     "execution_count": 3,
     "metadata": {},
     "output_type": "execute_result"
    }
   ],
   "source": [
    "# Logs feedback to the Project\n",
    "tracer.log_feedback(\"Rag debugger retrieves context nicely\")"
   ]
  },
  {
   "cell_type": "markdown",
   "metadata": {},
   "source": [
    "Logging Online Feedback Post Span and Trace Create"
   ]
  },
  {
   "cell_type": "code",
   "execution_count": null,
   "metadata": {},
   "outputs": [
    {
     "name": "stderr",
     "output_type": "stream",
     "text": [
      "2024-05-13 00:41:02,865 - Overriding of current TracerProvider is not allowed\n"
     ]
    },
    {
     "name": "stderr",
     "output_type": "stream",
     "text": [
      "2024-05-13 00:41:02,867 - Starting new HTTPS connection (1): lastmileai.dev:443\n",
      "2024-05-13 00:41:02,952 - https://lastmileai.dev:443 \"GET /api/evaluation_projects/list?name=generate_riddle HTTP/1.1\" 200 350\n",
      "2024-05-13 00:41:02,954 - Starting new HTTPS connection (1): lastmileai.dev:443\n",
      "2024-05-13 00:41:03,031 - https://lastmileai.dev:443 \"POST /api/evaluation_key_value_store/create HTTP/1.1\" 200 278\n",
      "2024-05-13 00:41:03,066 - https://lastmileai.dev:443 \"POST /api/trace/create HTTP/1.1\" 200 10\n",
      "2024-05-13 00:41:03,067 - Starting new HTTPS connection (1): lastmileai.dev:443\n"
     ]
    },
    {
     "name": "stdout",
     "output_type": "stream",
     "text": [
      "generateL  427348558040722529 335335113912571933472500984089549150308\n"
     ]
    },
    {
     "name": "stderr",
     "output_type": "stream",
     "text": [
      "2024-05-13 00:41:03,159 - https://lastmileai.dev:443 \"POST /api/rag_query_traces/create HTTP/1.1\" 200 495\n",
      "2024-05-13 00:41:03,162 - Starting new HTTPS connection (1): lastmileai.dev:443\n",
      "2024-05-13 00:41:03,255 - https://lastmileai.dev:443 \"GET /api/evaluation_key_value_store/read?projectId=clvzt661o007dpbt9n0nq3o1z&key=test9 HTTP/1.1\" 200 278\n"
     ]
    },
    {
     "name": "stdout",
     "output_type": "stream",
     "text": [
      "read 335335113912571933472500984089549150308 427348558040722529\n"
     ]
    }
   ],
   "source": [
    "from lastmile_eval.rag.debugger.api import LastMileTracer\n",
    "from lastmile_eval.rag.debugger.tracing import get_lastmile_tracer\n",
    "from lastmile_eval.rag.debugger.tracing.sdk import get_span_id, get_trace_id\n",
    "import os\n",
    "from opentelemetry import trace\n",
    "import opentelemetry\n",
    "from openai import OpenAI\n",
    "tracer: LastMileTracer = get_lastmile_tracer(\n",
    "    tracer_name=\"generate_riddle\", # project name\n",
    ")\n",
    "\n",
    "@tracer.start_as_current_span(\"generate_riddle\")\n",
    "def generate()-> str:\n",
    "    \"\"\"\n",
    "    Generates a riddle using OpenAI's GPT-3.5-turbo model.\n",
    "    If the OPENAI_API_KEY environment variable is not set, a default riddle is returned.\n",
    "    The generated riddle is returned as a JSON string.\n",
    "    \"\"\"\n",
    "    riddle = \"\"\n",
    "    if os.environ.get(\"OPENAI_API_KEY\") is not None:\n",
    "        response = OpenAI().chat.completions.create(messages = [{\"role\": \"user\", \"content\":\"tell me a riddle\"}], model = \"gpt-3.5-turbo\")\n",
    "        riddle = response.choices[0].message.content or \"debugging me can be quite a trick.\"\n",
    "    else:\n",
    "        riddle = \"I'm a key that unlocks no doors, But fill me in, and power soars. In the realm where AI plays\"\n",
    "\n",
    "    # Store key-value pair in the LastMileTracer, where the key is the riddle and the value is the spanID\n",
    "    # This will allow us to log online feedback for the generated riddle\n",
    "    try:\n",
    "        # Store the span id and the trace ID with the generated riddle\n",
    "        tracer.store_key_value_pair(key=riddle, span_id=get_span_id(), trace_id= get_trace_id()) \n",
    "    except Exception as e:\n",
    "        print(e)\n",
    "    return riddle\n",
    "riddle = generate()\n",
    "\n",
    "# We stored the spanID in the previous step, so we can retrieve it using the riddle as the key\n",
    "trace_id, span_id = tracer.read_key_value_pair(key=riddle)\n",
    "print(\"read\", trace_id, span_id)"
   ]
  },
  {
   "cell_type": "code",
   "execution_count": null,
   "metadata": {},
   "outputs": [
    {
     "name": "stderr",
     "output_type": "stream",
     "text": [
      "2024-05-13 00:41:17,335 - Starting new HTTPS connection (1): lastmileai.dev:443\n",
      "2024-05-13 00:41:17,517 - https://lastmileai.dev:443 \"POST /api/evaluation_feedback/create HTTP/1.1\" 200 385\n"
     ]
    },
    {
     "data": {
      "text/plain": [
       "{'id': 'clw4h8443001fqp5bci3a744f',\n",
       " 'createdAt': '2024-05-13T04:41:17.524Z',\n",
       " 'updatedAt': '2024-05-13T04:41:17.524Z',\n",
       " 'creatorId': 'clkrgxm850004phi6ee5mvhd1',\n",
       " 'feedback': {'text': 'The riddle was too easy.'},\n",
       " 'projectId': 'clvzt661o007dpbt9n0nq3o1z',\n",
       " 'metadata': None,\n",
       " 'traceId': 'fc4731983724909500ef432de0331864',\n",
       " 'spanId': '5ee3f3fd54aec61',\n",
       " 'organizationId': None,\n",
       " 'visibility': 'MEMBER',\n",
       " 'active': True}"
      ]
     },
     "execution_count": 3,
     "metadata": {},
     "output_type": "execute_result"
    }
   ],
   "source": [
    "riddle = generate()\n",
    "\n",
    "# We stored the spanID in the previous step, so we can retrieve it using the riddle as the key\n",
    "trace_id, span_id = tracer.read_key_value_pair(key=riddle)\n",
    "\n",
    "tracer.log_feedback(span_id=span_id, trace_id=trace_id, feedback=\"The riddle was too easy.\")  "
   ]
  },
  {
   "cell_type": "code",
   "execution_count": null,
   "metadata": {},
   "outputs": [],
   "source": []
  }
 ],
 "metadata": {
  "kernelspec": {
   "display_name": "main",
   "language": "python",
   "name": "python3"
  },
  "language_info": {
   "codemirror_mode": {
    "name": "ipython",
    "version": 3
   },
   "file_extension": ".py",
   "mimetype": "text/x-python",
   "name": "python",
   "nbconvert_exporter": "python",
   "pygments_lexer": "ipython3",
   "version": "3.12.3"
  }
 },
 "nbformat": 4,
 "nbformat_minor": 2
}
