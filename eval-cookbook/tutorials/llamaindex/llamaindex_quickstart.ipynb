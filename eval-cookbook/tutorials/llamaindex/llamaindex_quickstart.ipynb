{
  "cells": [
    {
      "cell_type": "markdown",
      "metadata": {
        "id": "wiDf8GlbuoZW"
      },
      "source": [
        "# RAG Workbench - LlamaIndex Quickstart\n",
        "\n",
        "In this notebook, we showcase how to use the **LastMile Tracing SDK** and **RAG Workbench** to manage, evaluate, and debug your LlamaIndex applications. With tracing automatically setup, you can easily debug your application using LastMile's RAG Workbench.\n",
        "\n",
        "## Notebook Outline\n",
        "* [Step 1: Install and Setup](#setup)\n",
        "* [Step 2: Configure LastMile Instrumentor](#step2)\n",
        "* [Step 3: Load Document](#step3)\n",
        "* [Step 4: Create an Index and Query Engine](#step4)\n",
        "* [Step 5: Query the Index](#step5)\n",
        "* [Step 6: View Results in RAG Workbench UI](#step6)\n"
      ]
    },
    {
      "cell_type": "markdown",
      "metadata": {
        "id": "DXgSkeN_ve0V"
      },
      "source": [
        "<a name=\"setup\"></a>\n",
        "# Step 1: Install and Setup\n",
        "\n",
        "First install the required packages."
      ]
    },
    {
      "cell_type": "code",
      "execution_count": null,
      "metadata": {
        "colab": {
          "base_uri": "https://localhost:8080/"
        },
        "collapsed": true,
        "id": "5iiYIwq4uoZY",
        "outputId": "aaab29a5-a291-46ea-b76d-71fcd2828d18"
      },
      "outputs": [],
      "source": [
        "!pip install llama-index-embeddings-openai --upgrade\n",
        "%pip install -q html2text llama-index pandas pyarrow tqdm\n",
        "%pip install -q llama-index-readers-web\n",
        "%pip install -q llama-index-callbacks-openinference\n",
        "!pip install openai --upgrade\n",
        "!pip install \"tracing-auto-instrumentation[llama-index]\" --upgrade"
      ]
    },
    {
      "cell_type": "markdown",
      "metadata": {
        "id": "5g5AkKI5v_BW"
      },
      "source": [
        "We also need the following API tokens/keys:\n",
        "\n",
        "* **LastMile AI API Token:** Go to the [LastMile Settings page](https://lastmileai.dev/settings?page=tokens). You will need to first create a LastMile AI account.\n",
        "* **OpenAI API Key:** Go to [OpenAI API Keys page](https://platform.openai.com/account/api-keys) to create and access your OpenAI API Key.\n",
        "\n",
        "Run the code cell below after setting the keys either in **Google Colab Secrets** or in `.env` in your directory. Avoid inputting keys directly in the notebook."
      ]
    },
    {
      "cell_type": "code",
      "execution_count": null,
      "metadata": {
        "id": "yWHxmB2NwD5a"
      },
      "outputs": [],
      "source": [
        "import os\n",
        "\n",
        "try:\n",
        "    # If running on Google Colab, use userdata to securely input keys\n",
        "    from google.colab import userdata\n",
        "    OPENAI_API_KEY = userdata.get('OPENAI_API_KEY')\n",
        "    LASTMILE_API_TOKEN = userdata.get('LASTMILE_API_TOKEN')\n",
        "except ModuleNotFoundError:\n",
        "    # If running locally, load keys from .env file\n",
        "    from dotenv import load_dotenv\n",
        "    load_dotenv()\n",
        "    OPENAI_API_KEY = os.getenv('OPENAI_API_KEY')\n",
        "    LASTMILE_API_TOKEN = os.getenv('LASTMILE_API_TOKEN')\n",
        "\n",
        "os.environ['OPENAI_API_KEY'] = OPENAI_API_KEY\n",
        "os.environ['LASTMILE_API_TOKEN'] = LASTMILE_API_TOKEN"
      ]
    },
    {
      "cell_type": "markdown",
      "metadata": {
        "id": "fnUyfuInuoZZ"
      },
      "source": [
        "<a name=\"step2\"></a>\n",
        "\n",
        "## Step 2: Configure LastMile Instrumentor\n",
        "\n",
        "Next, we need to configure the LastMile Instrumentor which will auto-instrument tracing for your LlamaIndex application. This allows us to easily see the various steps in our RAG system in the RAG Workbench UI."
      ]
    },
    {
      "cell_type": "code",
      "execution_count": null,
      "metadata": {
        "id": "LgVwMgCPuoZZ"
      },
      "outputs": [],
      "source": [
        "\n",
        "import llama_index.core\n",
        "from tracing_auto_instrumentation.llama_index import LlamaIndexCallbackHandler\n",
        "from lastmile_eval.rag.debugger.common.types import RagFlowType\n",
        "\n",
        "PROJECT_NAME = \"LM-Tutorial\"\n",
        "\n",
        "cb_handler = LlamaIndexCallbackHandler(\n",
        "    project_name=PROJECT_NAME,\n",
        ")\n",
        "tracer = cb_handler.get_tracer()\n",
        "tracer.set_rag_flow_type(RagFlowType.INGESTION)\n",
        "llama_index.core.global_handler = cb_handler"
      ]
    },
    {
      "cell_type": "markdown",
      "metadata": {
        "id": "7RbeQj7fuoZZ"
      },
      "source": [
        "<a name=\"step3\"></a>\n",
        "\n",
        "# Step 3: Ingest Document\n"
      ]
    },
    {
      "cell_type": "code",
      "execution_count": null,
      "metadata": {
        "id": "4xMpbA53uoZa"
      },
      "outputs": [],
      "source": [
        "from llama_index.core import VectorStoreIndex\n",
        "from llama_index.readers.web import SimpleWebPageReader\n",
        "\n",
        "@tracer.trace_function(\"Data Ingestion\")\n",
        "def ingest():\n",
        "    documents = SimpleWebPageReader().load_data([\"https://raw.githubusercontent.com/run-llama/llama_index/main/docs/docs/examples/data/paul_graham/paul_graham_essay.txt\"])\n",
        "    index = VectorStoreIndex.from_documents(documents)\n",
        "    return index\n",
        "\n",
        "index = ingest()"
      ]
    },
    {
      "cell_type": "markdown",
      "metadata": {
        "id": "djIkqfvzuoZa"
      },
      "source": [
        "<a name=\"step4\"></a>\n",
        "\n",
        "# Step 4: Create an Index and Query Engine"
      ]
    },
    {
      "cell_type": "code",
      "execution_count": null,
      "metadata": {
        "id": "b6rq4hy4uoZa"
      },
      "outputs": [],
      "source": [
        "from lastmile_eval.rag.debugger.tracing import get_latest_ingestion_trace_id\n",
        "\n",
        "# Transition to Query Mode\n",
        "tracer.set_rag_flow_type(RagFlowType.QUERY)\n",
        "tracer.ingestion_trace_id = get_latest_ingestion_trace_id(project_name=PROJECT_NAME)\n",
        "query_engine = index.as_query_engine()"
      ]
    },
    {
      "cell_type": "markdown",
      "metadata": {
        "id": "tnxfNvGJuoZa"
      },
      "source": [
        "<a name=\"step5\"></a>\n",
        "\n",
        "# Step 5: Query the Index"
      ]
    },
    {
      "cell_type": "code",
      "execution_count": null,
      "metadata": {
        "colab": {
          "base_uri": "https://localhost:8080/"
        },
        "id": "P9cbuwX6uoZa",
        "outputId": "75c68cf8-34a5-447e-ab98-3fe61f0e3b17"
      },
      "outputs": [],
      "source": [
        "import textwrap\n",
        "\n",
        "max_characters_per_line = 80\n",
        "queries = [\n",
        "    \"What did Paul Graham do growing up?\",\n",
        "    \"When and how did Paul Graham's mother die?\",\n",
        "    \"What, in Paul Graham's opinion, is the most distinctive thing about YC?\"\n",
        "]\n",
        "\n",
        "for query in queries:\n",
        "    response = query_engine.query(query)\n",
        "    print(\"Query\")\n",
        "    print(\"=====\")\n",
        "    print(textwrap.fill(query, max_characters_per_line))\n",
        "    print()\n",
        "    print(\"Response\")\n",
        "    print(\"========\")\n",
        "    print(textwrap.fill(str(response), max_characters_per_line))\n",
        "    print()"
      ]
    },
    {
      "cell_type": "markdown",
      "metadata": {
        "id": "bIK5QD9pwcit"
      },
      "source": [
        "<a name=\"step6\"></a>\n",
        "\n",
        "# Step 6: View Results in RAG Workbench UI\n",
        "You can view the results in the RAG Workbench UI. Here's how to access the UI:\n",
        "\n",
        "1. Install the UI package by running the following command in your terminal:\n",
        "\n",
        "    `pip install \"lastmile-eval[ui]”`\n",
        "\n",
        "2. Export your LASTMILE_API_TOKEN by running the following command in your terminal, replacing <your-api-token> with your actual API token:\n",
        "\n",
        "    `export LASTMILE_API_TOKEN=\"<your-api-token>”`\n",
        "\n",
        "3. Run the following command in your terminal:\n",
        "\n",
        "    `rag-debug launch`\n",
        "\n",
        "Once you've completed these steps, click on the url provided to open the RAG Workbench UI. \n",
        "\n",
        "1. Click the **Traces Tab**.\n",
        "2. Select Project **'LlamaIndex-QuickStart'**. You can see the Trace logged in the UI.\n",
        "\n",
        "<img width=\"850\" alt=\"llama_overview\" src=\"https://github.com/lastmile-ai/aiconfig/assets/81494782/01c084be-01a6-4d77-a4e4-a59e00e55af7\">\n",
        "\n",
        "\n",
        "\n",
        "3. Click on a Trace to see the steps of our LlamaIndex application and other metadata.\n",
        "\n",
        "<img width=\"850\" alt=\"llama_trace_view\" src=\"https://github.com/lastmile-ai/eval-cookbook/assets/141073967/0c5ed6b8-2668-4479-9b59-e5e8b1b0c338\">\n",
        "\n",
        "Now you can dive into specific steps and check out logs, parameters, and other aspects of your application!\n",
        "\n"
      ]
    },
    {
      "cell_type": "markdown",
      "metadata": {},
      "source": []
    }
  ],
  "metadata": {
    "colab": {
      "provenance": []
    },
    "kernelspec": {
      "display_name": "Python 3",
      "language": "python",
      "name": "python3"
    },
    "language_info": {
      "codemirror_mode": {
        "name": "ipython",
        "version": 3
      },
      "file_extension": ".py",
      "mimetype": "text/x-python",
      "name": "python",
      "nbconvert_exporter": "python",
      "pygments_lexer": "ipython3",
      "version": "3.12.4"
    }
  },
  "nbformat": 4,
  "nbformat_minor": 0
}
