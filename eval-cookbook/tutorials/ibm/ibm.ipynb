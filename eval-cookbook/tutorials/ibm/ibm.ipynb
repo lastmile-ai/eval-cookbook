{
 "cells": [
  {
   "cell_type": "code",
   "execution_count": null,
   "metadata": {},
   "outputs": [],
   "source": [
    "#\n",
    "# _____ ______  _______      _  _  _ _______ _______ _______  _____  __   _      _     _\n",
    "#   |   |_____] |  |  |      |  |  | |_____|    |    |______ |     | | \\  |       \\___/ \n",
    "# __|__ |_____] |  |  |      |__|__| |     |    |    ______| |_____| |  \\_|      _/   \\_                                                                                       \n",
    "#"
   ]
  },
  {
   "cell_type": "code",
   "execution_count": null,
   "metadata": {},
   "outputs": [],
   "source": [
    "!pip install \"tracing_auto_instrumentation[ibm]\" --upgrade"
   ]
  },
  {
   "cell_type": "code",
   "execution_count": null,
   "metadata": {},
   "outputs": [],
   "source": [
    "import logging\n",
    "import os\n",
    "\n",
    "from enum import Enum\n",
    "\n",
    "from ibm_watsonx_ai.foundation_models import Model\n",
    "from ibm_watsonx_ai.foundation_models.utils.enums import ModelTypes\n",
    "from ibm_watsonx_ai.metanames import GenTextParamsMetaNames as GenParams\n",
    "\n",
    "from lastmile_eval.rag.debugger.api import LastMileTracer\n",
    "from lastmile_eval.rag.debugger.tracing.sdk import get_lastmile_tracer"
   ]
  },
  {
   "cell_type": "code",
   "execution_count": null,
   "metadata": {},
   "outputs": [],
   "source": [
    "import dotenv\n",
    "dotenv.load_dotenv()"
   ]
  },
  {
   "cell_type": "code",
   "execution_count": null,
   "metadata": {},
   "outputs": [],
   "source": [
    "logger = logging.getLogger(__name__)"
   ]
  },
  {
   "cell_type": "code",
   "execution_count": null,
   "metadata": {},
   "outputs": [],
   "source": [
    "class Mode(Enum):\n",
    "    GENERATE = \"GENERATE\"\n",
    "    GENERATE_TEXT = \"GENERATE_TEXT\"\n",
    "\n",
    "def init_watson_model() -> Model:\n",
    "    # To display example params enter\n",
    "    GenParams().get_example_values()\n",
    "    generate_params = {GenParams.MAX_NEW_TOKENS: 25}\n",
    "\n",
    "    watson_model = Model(\n",
    "        model_id=ModelTypes.GRANITE_13B_CHAT_V2,\n",
    "        params=generate_params,\n",
    "        credentials=dict(\n",
    "            api_key=os.getenv(\"WATSONX_API_KEY\"),\n",
    "            url=\"https://us-south.ml.cloud.ibm.com\",\n",
    "        ),\n",
    "        space_id=os.getenv(\"WATSONX_SPACE_ID\"),\n",
    "        verify=None,\n",
    "        validate=True,\n",
    "    )\n",
    "\n",
    "    return watson_model"
   ]
  },
  {
   "cell_type": "code",
   "execution_count": null,
   "metadata": {},
   "outputs": [],
   "source": [
    "from tracing_auto_instrumentation.ibm import wrap_watson\n",
    "\n",
    "TRACE_NAME = \"elementary-my-dear-watson\"\n",
    "\n",
    "tracer: LastMileTracer = get_lastmile_tracer(\n",
    "    TRACE_NAME\n",
    ")\n",
    "watson_model: Model = init_watson_model()\n",
    "wrapper = wrap_watson(watson_model, tracer)"
   ]
  },
  {
   "cell_type": "code",
   "execution_count": null,
   "metadata": {},
   "outputs": [],
   "source": [
    "def run_generation(mode: Mode, prompt: str) -> None:\n",
    "    logger.info(\"IBM WatsonX Generation Script Starting...\")\n",
    "\n",
    "    # n.b. required for multiple api keys, make sure `.env` is in your local path\n",
    "    dotenv.load_dotenv()\n",
    "    \n",
    "    response: str = \"\"\n",
    "    if Mode.GENERATE == mode:\n",
    "        logger.info(f\"running with mode: {mode}\")\n",
    "        response = wrapper.generate(prompt)\n",
    "    elif Mode.GENERATE_TEXT == mode:\n",
    "        logger.info(f\"running with mode: {mode}\")\n",
    "        response = wrapper.generate_text(prompt)\n",
    "    else:\n",
    "        logger.error(f\"unsupported mode: {mode}\")\n",
    "    logger.info(f\"response: {response}\")"
   ]
  },
  {
   "cell_type": "code",
   "execution_count": null,
   "metadata": {},
   "outputs": [],
   "source": [
    "response = run_generation(\n",
    "    mode=Mode.GENERATE,\n",
    "    prompt=\"Can you please tell me an amusing anecdote about Thomas Edison?\",\n",
    ")\n",
    "\n",
    "response"
   ]
  }
 ],
 "metadata": {
  "kernelspec": {
   "display_name": ".venv",
   "language": "python",
   "name": "python3"
  },
  "language_info": {
   "codemirror_mode": {
    "name": "ipython",
    "version": 3
   },
   "file_extension": ".py",
   "mimetype": "text/x-python",
   "name": "python",
   "nbconvert_exporter": "python",
   "pygments_lexer": "ipython3",
   "version": "3.12.4"
  }
 },
 "nbformat": 4,
 "nbformat_minor": 2
}
