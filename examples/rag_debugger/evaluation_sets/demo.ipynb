{
 "cells": [
  {
   "cell_type": "code",
   "execution_count": 1,
   "metadata": {},
   "outputs": [
    {
     "name": "stdout",
     "output_type": "stream",
     "text": [
      "Requirement already satisfied: python-dotenv in /Users/rossdancraig/.pyenv/versions/3.11.6/lib/python3.11/site-packages (1.0.0)\n"
     ]
    }
   ],
   "source": [
    "!pip install python-dotenv\n",
    "\n",
    "# Create .env file containing the following line:\n",
    "# LASTMILE_API_TOKEN=<your-token>\n",
    "# You can get your key from the \"API Token\" section of https://lastmileai.dev/settings?page=tokens \n",
    "import dotenv\n",
    "import os\n",
    "dotenv.load_dotenv()\n",
    "lastmile_api_token = os.getenv(\"LASTMILE_API_TOKEN\")"
   ]
  },
  {
   "cell_type": "code",
   "execution_count": 2,
   "metadata": {},
   "outputs": [
    {
     "name": "stdout",
     "output_type": "stream",
     "text": [
      "Results from evaluation_projects create endpoint:\n",
      "{'id': 'clv5g0a2n01oiquexme9izxr5', 'createdAt': '2024-04-18T16:15:16.223Z', 'updatedAt': '2024-04-18T16:15:16.223Z', 'name': 'Give me a cool project name!', 'metadata': None, 'creatorId': 'clp1m7n3l0062qpqnd4nyabbl', 'organizationId': None, 'visibility': 'PRIVATE', 'active': True}\n"
     ]
    }
   ],
   "source": [
    "import requests\n",
    "from requests import Response\n",
    "\n",
    "# First create a project Id\n",
    "project_name = \"Give me a cool project name!\"\n",
    "\n",
    "lastmile_evaluation_projects_endpoint = (\n",
    "    \"https://lastmileai.dev/api/evaluation_projects/create\"\n",
    ")\n",
    "response: Response = requests.post(\n",
    "    lastmile_evaluation_projects_endpoint,\n",
    "    headers={\"Authorization\": f\"Bearer {lastmile_api_token}\"},\n",
    "    json={\n",
    "        \"name\": project_name,\n",
    "        # \"testCases\": [{\"query\": query_str}],\n",
    "    },\n",
    "    timeout=60,  # TODO: Remove hardcoding\n",
    ")\n",
    "\n",
    "# Save this projectId and pass it into the other two endpoints below\n",
    "print(\"Results from evaluation_projects create endpoint:\")\n",
    "print(response.json())\n",
    "\n",
    "# Result received was clv5g0a2n01oiquexme9izxr5"
   ]
  },
  {
   "cell_type": "code",
   "execution_count": 4,
   "metadata": {},
   "outputs": [
    {
     "name": "stdout",
     "output_type": "stream",
     "text": [
      "Results from evaluation_test_sets create endpoint:\n",
      "{'id': 'clv5g1fcs009lqyhakxxh756b', 'createdAt': '2024-04-18T16:16:09.723Z', 'updatedAt': '2024-04-18T16:16:09.723Z', 'name': 'new_test_set', 'description': None, 'creatorId': 'clp1m7n3l0062qpqnd4nyabbl', 'projectId': 'clv5g0a2n01oiquexme9izxr5', 'organizationId': None, 'visibility': 'MEMBER', 'active': True, 'metadata': None}\n"
     ]
    }
   ],
   "source": [
    "# Now create a testSetId\n",
    "\n",
    "import json\n",
    "\n",
    "import requests\n",
    "from requests import Response\n",
    "\n",
    "from lastmile_eval.rag.debugger.api import (\n",
    "    ContextRetrieved,\n",
    "    LLMOutputReceived,\n",
    "    PromptResolved,\n",
    "    QueryReceived,\n",
    ")\n",
    "\n",
    "# Mock some example data for a test Case\n",
    "query = QueryReceived(query=\"What is Rossdan's favourite movie?\")\n",
    "context = ContextRetrieved(\n",
    "    context=[\n",
    "        \"Rossdan is a movie buff.\",\n",
    "        \"Rossdan has rated 8 movies and 2 TV shows 10/10 according to https://www.imdb.com/user/ur60976563/ratings?sort=your_rating,desc&ratingFilter=0&mode=detail&ref_=undefined&lastPosition=0\",\n",
    "    ]\n",
    ")\n",
    "fully_resolved_prompt = PromptResolved(\n",
    "    fully_resolved_prompt=f\"User Query: {query.query}\\n\\nContext: {context.context}\"\n",
    ")\n",
    "output = LLMOutputReceived(\n",
    "    llm_output=\"Rossdan's favourite movie is Inception.\"\n",
    ")\n",
    "ground_truth = {\"answer\": \"Rossdan's favourite movie is In The Mood For Love\"}\n",
    "\n",
    "test_cases = [\n",
    "    {\n",
    "        \"query\": query.model_dump_json(),\n",
    "        \"context\": context.model_dump_json(),\n",
    "        \"fullyResolvedPrompt\": fully_resolved_prompt.model_dump_json(),\n",
    "        \"output\": output.model_dump_json(),\n",
    "        \"groundTruth\": json.dumps(ground_truth),\n",
    "    }\n",
    "]\n",
    "\n",
    "lastmile_test_set_create_endpoint = (\n",
    "    \"https://lastmileai.dev/api/evaluation_test_sets/create\"\n",
    ")\n",
    "response: Response = requests.post(\n",
    "    lastmile_test_set_create_endpoint,\n",
    "    headers={\"Authorization\": f\"Bearer {lastmile_api_token}\"},\n",
    "    json={\n",
    "        \"name\": \"new_test_set\",\n",
    "        \"testCases\": test_cases,\n",
    "        \"projectId\": \"clv5g0a2n01oiquexme9izxr5\",\n",
    "        # TODO: Define optional fields below\n",
    "        # \"orgId\": \"clv4693s2002cpbpoxro5ogzr\",\n",
    "        # \"metadata\": context_retrieved,\n",
    "        # \"visibility\": fully_resolved_prompt,\n",
    "    },\n",
    "    timeout=60,  # TODO: Remove hardcoding\n",
    ")\n",
    "\n",
    "# Save this testSetId and pass it into the evaluation_sets endpoint\n",
    "print(\"Results from evaluation_test_sets create endpoint:\")\n",
    "print(response.json())\n",
    "\n",
    "# Result received was clv5g1fcs009lqyhakxxh756b"
   ]
  },
  {
   "cell_type": "code",
   "execution_count": 7,
   "metadata": {},
   "outputs": [
    {
     "name": "stdout",
     "output_type": "stream",
     "text": [
      "Results from evaluation_sets create endpoint:\n",
      "{'id': 'clv5g7qm5008lqptgsn12w8ss', 'createdAt': '2024-04-18T16:21:04.252Z', 'updatedAt': '2024-04-18T16:21:04.252Z', 'name': 'Favourite Movie Checker Evaluation Set', 'paramSet': None, 'testSetId': 'clv5g1fcs009lqyhakxxh756b', 'creatorId': 'clp1m7n3l0062qpqnd4nyabbl', 'projectId': 'clv5g0a2n01oiquexme9izxr5', 'organizationId': None, 'visibility': 'MEMBER', 'metadata': None, 'active': True}\n"
     ]
    }
   ],
   "source": [
    "# Now that you now have both projectId and testSetId,\n",
    "# we can now create an evaluation set\n",
    "evaluation_set_name = \"Favourite Movie Checker Evaluation Set\"\n",
    "\n",
    "lastmile_evaluation_sets_endpoint = (\n",
    "    \"https://lastmileai.dev/api/evaluation_sets/create\"\n",
    ")\n",
    "response: Response = requests.post(\n",
    "    lastmile_evaluation_sets_endpoint,\n",
    "    headers={\"Authorization\": f\"Bearer {lastmile_api_token}\"},\n",
    "    json={\n",
    "        \"name\": evaluation_set_name,\n",
    "        \"testSetId\": \"clv5g1fcs009lqyhakxxh756b\",  # Received from earlier cell\n",
    "        \"evaluationSetMetrics\": [],  # TODO: Define this with metrics\n",
    "        \"evaluationMetrics\": [],  # TODO: Define this with metric data\n",
    "        \"projectId\": \"clv5g0a2n01oiquexme9izxr5\",  # Received from earlier cell\n",
    "        # TODO: Add optional fields below\n",
    "        # orgId\n",
    "        # paramSet\n",
    "        # metadata\n",
    "        # visibility\n",
    "    },\n",
    "    timeout=60,  # TODO: Remove hardcoding\n",
    ")\n",
    "print(\"Results from evaluation_sets create endpoint:\")\n",
    "print(response.json())\n",
    "\n",
    "# Result received was clv5g7qm5008lqptgsn12w8ss"
   ]
  }
 ],
 "metadata": {
  "kernelspec": {
   "display_name": "Python 3",
   "language": "python",
   "name": "python3"
  },
  "language_info": {
   "codemirror_mode": {
    "name": "ipython",
    "version": 3
   },
   "file_extension": ".py",
   "mimetype": "text/x-python",
   "name": "python",
   "nbconvert_exporter": "python",
   "pygments_lexer": "ipython3",
   "version": "3.11.6"
  }
 },
 "nbformat": 4,
 "nbformat_minor": 2
}
