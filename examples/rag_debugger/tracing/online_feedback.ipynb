{
 "cells": [
  {
   "cell_type": "markdown",
   "metadata": {},
   "source": [
    "Online Feedback"
   ]
  },
  {
   "cell_type": "code",
   "execution_count": 2,
   "metadata": {},
   "outputs": [
    {
     "name": "stderr",
     "output_type": "stream",
     "text": [
      "/Users/ankush/anaconda3/envs/main/lib/python3.11/site-packages/tqdm/auto.py:21: TqdmWarning: IProgress not found. Please update jupyter and ipywidgets. See https://ipywidgets.readthedocs.io/en/stable/user_install.html\n",
      "  from .autonotebook import tqdm as notebook_tqdm\n",
      "None of PyTorch, TensorFlow >= 2.0, or Flax have been found. Models won't be available and only tokenizers, configuration and file/data utilities can be used.\n",
      "2024-05-08 15:36:25,075 - Starting new HTTPS connection (1): lastmileai.dev:443\n",
      "2024-05-08 15:36:25,270 - https://lastmileai.dev:443 \"GET /api/evaluation_projects/list?name=my-tracer HTTP/1.1\" 200 324\n"
     ]
    }
   ],
   "source": [
    "from lastmile_eval.rag.debugger.tracing import (\n",
    "    get_lastmile_tracer,\n",
    ")\n",
    "from lastmile_eval.rag.debugger.api import (\n",
    "    LastMileTracer)\n",
    "\n",
    "# Replace token here\n",
    "lastmile_api_token = \"enter token here\"\n",
    "\n",
    "tracer: LastMileTracer = get_lastmile_tracer(\n",
    "    tracer_name=\"my-tracer\", # project name\n",
    "    lastmile_api_token=lastmile_api_token,\n",
    "    initial_params={\"global_param\": \"This param key appear in all traces\"},\n",
    ")"
   ]
  },
  {
   "cell_type": "code",
   "execution_count": 3,
   "metadata": {},
   "outputs": [
    {
     "name": "stderr",
     "output_type": "stream",
     "text": [
      "2024-05-08 15:36:25,822 - Starting new HTTPS connection (1): lastmileai.dev:443\n",
      "2024-05-08 15:36:26,007 - https://lastmileai.dev:443 \"POST /api/evaluation_feedback/create HTTP/1.1\" 200 355\n"
     ]
    },
    {
     "name": "stdout",
     "output_type": "stream",
     "text": [
      "{\"id\":\"clvy800im0001pep428d9g1fy\",\"createdAt\":\"2024-05-08T19:36:26.014Z\",\"updatedAt\":\"2024-05-08T19:36:26.014Z\",\"creatorId\":\"clkrgxm850004phi6ee5mvhd1\",\"feedback\":{\"text\":\"Rag debugger retrieves context nicely\"},\"projectId\":\"clvqxmxk0008pqyg4x7j397e4\",\"metadata\":null,\"traceId\":null,\"spanId\":null,\"organizationId\":null,\"visibility\":\"MEMBER\",\"active\":true}\n"
     ]
    },
    {
     "data": {
      "text/plain": [
       "{'id': 'clvy800im0001pep428d9g1fy',\n",
       " 'createdAt': '2024-05-08T19:36:26.014Z',\n",
       " 'updatedAt': '2024-05-08T19:36:26.014Z',\n",
       " 'creatorId': 'clkrgxm850004phi6ee5mvhd1',\n",
       " 'feedback': {'text': 'Rag debugger retrieves context nicely'},\n",
       " 'projectId': 'clvqxmxk0008pqyg4x7j397e4',\n",
       " 'metadata': None,\n",
       " 'traceId': None,\n",
       " 'spanId': None,\n",
       " 'organizationId': None,\n",
       " 'visibility': 'MEMBER',\n",
       " 'active': True}"
      ]
     },
     "execution_count": 3,
     "metadata": {},
     "output_type": "execute_result"
    }
   ],
   "source": [
    "# Logs feedback to the Project\n",
    "tracer.log_feedback(\"Rag debugger retrieves context nicely\")"
   ]
  },
  {
   "cell_type": "code",
   "execution_count": 4,
   "metadata": {},
   "outputs": [
    {
     "name": "stderr",
     "output_type": "stream",
     "text": [
      "2024-05-08 15:36:27,398 - Starting new HTTPS connection (1): lastmileai.dev:443\n",
      "2024-05-08 15:36:27,659 - https://lastmileai.dev:443 \"POST /api/evaluation_feedback/create HTTP/1.1\" 500 106\n",
      "2024-05-08 15:36:27,663 - Starting new HTTPS connection (1): lastmileai.dev:443\n",
      "2024-05-08 15:36:27,763 - https://lastmileai.dev:443 \"POST /api/trace/create HTTP/1.1\" 200 10\n",
      "2024-05-08 15:36:27,765 - Starting new HTTPS connection (1): lastmileai.dev:443\n"
     ]
    },
    {
     "name": "stdout",
     "output_type": "stream",
     "text": [
      "{\"message\":\"Unable to find trace with id 191078078059480606039854619437964430710\",\"error\":{},\"status\":500}\n"
     ]
    },
    {
     "name": "stderr",
     "output_type": "stream",
     "text": [
      "2024-05-08 15:36:28,531 - https://lastmileai.dev:443 \"POST /api/rag_query_traces/create HTTP/1.1\" 200 515\n"
     ]
    },
    {
     "data": {
      "text/plain": [
       "'This is a retrieval function'"
      ]
     },
     "execution_count": 4,
     "metadata": {},
     "output_type": "execute_result"
    }
   ],
   "source": [
    "from opentelemetry import trace as trace_api\n",
    "\n",
    "# Online feedback on TraceID\n",
    "@tracer.start_as_current_span(\"retrieval_function\")\n",
    "def retrieval_function():\n",
    "    span = trace_api.get_current_span()\n",
    "    \n",
    "    tracer.log_feedback(\"Rag debugger retrieves context nicely\", trace_id=str(span.get_span_context().trace_id))\n",
    "\n",
    "    return \"This is a retrieval function\"\n",
    "# Logs feedback to a trace\n",
    "retrieval_function()\n"
   ]
  },
  {
   "cell_type": "code",
   "execution_count": 5,
   "metadata": {},
   "outputs": [
    {
     "name": "stderr",
     "output_type": "stream",
     "text": [
      "2024-05-08 15:36:30,309 - https://lastmileai.dev:443 \"POST /api/trace/create HTTP/1.1\" 200 10\n",
      "2024-05-08 15:36:30,311 - Starting new HTTPS connection (1): lastmileai.dev:443\n",
      "2024-05-08 15:36:30,518 - https://lastmileai.dev:443 \"POST /api/rag_query_traces/create HTTP/1.1\" 200 515\n",
      "2024-05-08 15:36:30,522 - Starting new HTTPS connection (1): lastmileai.dev:443\n",
      "2024-05-08 15:36:30,764 - https://lastmileai.dev:443 \"POST /api/evaluation_feedback/create HTTP/1.1\" 200 385\n"
     ]
    },
    {
     "name": "stdout",
     "output_type": "stream",
     "text": [
      "{\"id\":\"clvy8046r0013qpusa5zru6iu\",\"createdAt\":\"2024-05-08T19:36:30.771Z\",\"updatedAt\":\"2024-05-08T19:36:30.771Z\",\"creatorId\":\"clkrgxm850004phi6ee5mvhd1\",\"feedback\":{\"text\":\"Rag debugger retrieves context nicely\"},\"projectId\":\"clvqxmxk0008pqyg4x7j397e4\",\"metadata\":null,\"traceId\":\"a8567d769d48c15ba437a46455847834\",\"spanId\":null,\"organizationId\":null,\"visibility\":\"MEMBER\",\"active\":true}\n"
     ]
    },
    {
     "data": {
      "text/plain": [
       "{'id': 'clvy8046r0013qpusa5zru6iu',\n",
       " 'createdAt': '2024-05-08T19:36:30.771Z',\n",
       " 'updatedAt': '2024-05-08T19:36:30.771Z',\n",
       " 'creatorId': 'clkrgxm850004phi6ee5mvhd1',\n",
       " 'feedback': {'text': 'Rag debugger retrieves context nicely'},\n",
       " 'projectId': 'clvqxmxk0008pqyg4x7j397e4',\n",
       " 'metadata': None,\n",
       " 'traceId': 'a8567d769d48c15ba437a46455847834',\n",
       " 'spanId': None,\n",
       " 'organizationId': None,\n",
       " 'visibility': 'MEMBER',\n",
       " 'active': True}"
      ]
     },
     "execution_count": 5,
     "metadata": {},
     "output_type": "execute_result"
    }
   ],
   "source": [
    "from opentelemetry import trace as trace_api\n",
    "from opentelemetry.trace import SpanContext\n",
    "\n",
    "from lastmile_eval.rag.debugger.tracing.sdk import _convert_int_id_to_hex_str\n",
    "# Online feedback on TraceID, outside of a function\n",
    "\n",
    "@tracer.start_as_current_span(\"retrieval_function\")\n",
    "def retrieval_function() -> tuple[str, SpanContext]:\n",
    "    span = trace_api.get_current_span()\n",
    "    context = span.get_span_context()\n",
    "    return \"This is a retrieval function\", context\n",
    "\n",
    "# Logs feedback to a trace\n",
    "_, span_context = retrieval_function()\n",
    "\n",
    "trace_id = str(_convert_int_id_to_hex_str(span_context.trace_id))\n",
    "tracer.log_feedback(\"Rag debugger retrieves context nicely\", trace_id=trace_id)"
   ]
  },
  {
   "cell_type": "code",
   "execution_count": 6,
   "metadata": {},
   "outputs": [
    {
     "name": "stderr",
     "output_type": "stream",
     "text": [
      "2024-05-08 15:36:32,309 - https://lastmileai.dev:443 \"POST /api/trace/create HTTP/1.1\" 200 10\n",
      "2024-05-08 15:36:32,311 - Starting new HTTPS connection (1): lastmileai.dev:443\n",
      "2024-05-08 15:36:32,413 - https://lastmileai.dev:443 \"POST /api/rag_query_traces/create HTTP/1.1\" 200 515\n",
      "2024-05-08 15:36:32,417 - Starting new HTTPS connection (1): lastmileai.dev:443\n",
      "2024-05-08 15:36:32,598 - https://lastmileai.dev:443 \"POST /api/evaluation_feedback/create HTTP/1.1\" 200 385\n"
     ]
    },
    {
     "name": "stdout",
     "output_type": "stream",
     "text": [
      "{\"id\":\"clvy805lr002nqynx1h19kq63\",\"createdAt\":\"2024-05-08T19:36:32.607Z\",\"updatedAt\":\"2024-05-08T19:36:32.607Z\",\"creatorId\":\"clkrgxm850004phi6ee5mvhd1\",\"feedback\":{\"text\":\"Rag debugger retrieves context nicely\"},\"projectId\":\"clvqxmxk0008pqyg4x7j397e4\",\"metadata\":null,\"traceId\":\"286f54eeb2fcdeb7bec4d0f7b5ed7be9\",\"spanId\":null,\"organizationId\":null,\"visibility\":\"MEMBER\",\"active\":true}\n"
     ]
    },
    {
     "data": {
      "text/plain": [
       "{'id': 'clvy805lr002nqynx1h19kq63',\n",
       " 'createdAt': '2024-05-08T19:36:32.607Z',\n",
       " 'updatedAt': '2024-05-08T19:36:32.607Z',\n",
       " 'creatorId': 'clkrgxm850004phi6ee5mvhd1',\n",
       " 'feedback': {'text': 'Rag debugger retrieves context nicely'},\n",
       " 'projectId': 'clvqxmxk0008pqyg4x7j397e4',\n",
       " 'metadata': None,\n",
       " 'traceId': '286f54eeb2fcdeb7bec4d0f7b5ed7be9',\n",
       " 'spanId': None,\n",
       " 'organizationId': None,\n",
       " 'visibility': 'MEMBER',\n",
       " 'active': True}"
      ]
     },
     "execution_count": 6,
     "metadata": {},
     "output_type": "execute_result"
    }
   ],
   "source": [
    "from opentelemetry import trace as trace_api\n",
    "from opentelemetry.trace import Span\n",
    "\n",
    "# Online feedback on Span, outside of a function\n",
    "\n",
    "@tracer.start_as_current_span(\"retrieval_function\")\n",
    "def retrieval_function() -> tuple[str, Span]:\n",
    "    span = trace_api.get_current_span()\n",
    "    return \"This is a retrieval function\", span\n",
    "\n",
    "# Logs feedback to a trace\n",
    "_, span = retrieval_function()\n",
    "\n",
    "trace_id = str(_convert_int_id_to_hex_str(span_context.trace_id))\n",
    "tracer.log_feedback(\"Rag debugger retrieves context nicely\", span=span)"
   ]
  }
 ],
 "metadata": {
  "kernelspec": {
   "display_name": "main",
   "language": "python",
   "name": "python3"
  },
  "language_info": {
   "codemirror_mode": {
    "name": "ipython",
    "version": 3
   },
   "file_extension": ".py",
   "mimetype": "text/x-python",
   "name": "python",
   "nbconvert_exporter": "python",
   "pygments_lexer": "ipython3",
   "version": "3.11.9"
  }
 },
 "nbformat": 4,
 "nbformat_minor": 2
}
