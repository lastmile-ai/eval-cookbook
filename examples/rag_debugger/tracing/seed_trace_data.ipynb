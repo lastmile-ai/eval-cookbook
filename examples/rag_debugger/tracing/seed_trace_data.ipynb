{
 "cells": [
  {
   "cell_type": "code",
   "execution_count": null,
   "metadata": {},
   "outputs": [],
   "source": [
    "!pip install -e ../../../../.. --quiet"
   ]
  },
  {
   "cell_type": "code",
   "execution_count": 2,
   "metadata": {},
   "outputs": [
    {
     "name": "stdout",
     "output_type": "stream",
     "text": [
      "Requirement already satisfied: python-dotenv in /opt/homebrew/Caskroom/miniconda/base/envs/env310/lib/python3.10/site-packages (1.0.0)\n"
     ]
    },
    {
     "data": {
      "text/plain": [
       "'/Users/jonathan/Projects/eval/src/lastmile_eval/examples/rag_debugger/tracing'"
      ]
     },
     "execution_count": 2,
     "metadata": {},
     "output_type": "execute_result"
    }
   ],
   "source": [
    "!pip install python-dotenv\n",
    "\n",
    "# Create .env file containing the following line:\n",
    "# LASTMILE_API_TOKEN=<your-token>\n",
    "# You can get your key from the \"API Token\" section of https://lastmileai.dev/settings?page=tokens \n",
    "import dotenv\n",
    "import os\n",
    "dotenv.load_dotenv()\n",
    "lastmile_api_token = os.getenv(\"LASTMILE_API_TOKEN\")\n",
    "assert lastmile_api_token is not None\n",
    "\n",
    "# Pretty hacky way of locally installing the lastmile_eval package lol\n",
    "os.getcwd()\n"
   ]
  },
  {
   "cell_type": "code",
   "execution_count": 7,
   "metadata": {},
   "outputs": [
    {
     "name": "stdout",
     "output_type": "stream",
     "text": [
      "Results from evaluation_projects create endpoint:\n",
      "{'id': 'clv5l7exn002upbwoekigdvxx', 'createdAt': '2024-04-18T18:40:47.196Z', 'updatedAt': '2024-04-18T18:40:47.196Z', 'name': 'My Fancy Project Name', 'metadata': None, 'creatorId': 'clp1m7n3l0062qpqnd4nyabbl', 'organizationId': None, 'visibility': 'PRIVATE', 'active': True}\n"
     ]
    }
   ],
   "source": [
    "import requests\n",
    "from requests import Response\n",
    "\n",
    "# First create a project Id\n",
    "project_name = \"My Fancy Project Name\"\n",
    "\n",
    "lastmile_evaluation_projects_endpoint = (\n",
    "    \"https://lastmileai.dev/api/evaluation_projects/create\"\n",
    ")\n",
    "response: Response = requests.post(\n",
    "    lastmile_evaluation_projects_endpoint,\n",
    "    headers={\"Authorization\": f\"Bearer {lastmile_api_token}\"},\n",
    "    json={\n",
    "        \"name\": project_name,\n",
    "        # \"testCases\": [{\"query\": query_str}],\n",
    "    },\n",
    "    timeout=60,  # TODO: Remove hardcoding\n",
    ")\n",
    "\n",
    "# Save this projectId and pass it into the other two endpoints below\n",
    "print(\"Results from evaluation_projects create endpoint:\")\n",
    "print(response.json())"
   ]
  },
  {
   "cell_type": "code",
   "execution_count": 4,
   "metadata": {},
   "outputs": [],
   "source": [
    "# Now go to trace/sdk.py file and change the hardcoded project_id to the one \n",
    "# you just created. \n",
    "\n",
    "# For sanity check, re-install pip package, then restart \n",
    "# ipynb kernel and re-run from this point onwards\n",
    "!pip install -e ../../../../.. --quiet"
   ]
  },
  {
   "cell_type": "code",
   "execution_count": 3,
   "metadata": {},
   "outputs": [],
   "source": [
    "from openinference.semconv.trace import (\n",
    "    OpenInferenceSpanKindValues,\n",
    "    SpanAttributes,\n",
    ")\n",
    "from opentelemetry import trace as trace_api\n",
    "from opentelemetry.trace import StatusCode\n",
    "\n",
    "from lastmile_eval.rag.debugger.api import (\n",
    "    LastMileTracer,\n",
    "    QueryReceived,\n",
    "    ContextRetrieved,\n",
    "    PromptResolved,\n",
    "    LLMOutputReceived,\n",
    ")\n",
    "\n",
    "# TODO: Add these both to the API library instead of relying on SDK\n",
    "from lastmile_eval.rag.debugger.tracing import (\n",
    "    get_lastmile_tracer,\n",
    ")\n",
    "\n",
    "# Define a LastMileTracer, which contains the same API interface as an\n",
    "# OpenTelemetry tracer\n",
    "assert lastmile_api_token is not None\n",
    "tracer: LastMileTracer = get_lastmile_tracer(\n",
    "    tracer_name=\"my-tracer\",\n",
    "    lastmile_api_token=lastmile_api_token,\n",
    "    initial_params={\"global_param\": \"This param key appear in all traces\"},\n",
    ")\n",
    "\n",
    "# We do not have an existing trace running so this parameter will be registered\n",
    "# to all subsequent traces\n",
    "tracer.register_param(\n",
    "    \"overriden_by_trace_example\", \"This is the global value!\"\n",
    ")\n",
    "\n",
    "\n",
    "def _convert_int_id_to_hex_str(int_id: int) -> str:\n",
    "    \"\"\"\n",
    "    Helper function to convert an integer id to a hex string. This is\n",
    "    needed because Jaeger does trace and span queries using hex strings\n",
    "    instead of integer values.\n",
    "\n",
    "    Ex: int_id = 123456789 -> hex value = 0x75BCD15 --> str = \"75BCD15\"\n",
    "\n",
    "    @param int_id (int): The integer id to convert to a hex string\n",
    "\n",
    "    @return str: The hex string representation of the integer id\n",
    "    \"\"\"\n",
    "    return str(hex(int_id)).split(\"x\")[1]\n",
    "\n",
    "\n",
    "# Same tracer functionality for logging spans as usual for OpenTelemetry\n",
    "@tracer.start_as_current_span(\n",
    "    \"root-span\"  # Span finishes automatically when retrieval_function ends\n",
    ")\n",
    "def generate_trace_data(count: int, resulting_trace_ids: list[str]) -> None:\n",
    "    root_span = trace_api.get_current_span()\n",
    "    trace_id = _convert_int_id_to_hex_str(\n",
    "        root_span.get_span_context().trace_id\n",
    "    )\n",
    "    root_span.set_attribute(\n",
    "        SpanAttributes.OPENINFERENCE_SPAN_KIND,\n",
    "        OpenInferenceSpanKindValues.AGENT.value,\n",
    "    )\n",
    "    # print(\"We are in the root span now \")\n",
    "\n",
    "    # Can also use embedded with-blocks instead of decorators around methods\n",
    "    with tracer.start_as_current_span(\"child-span\") as child_span:\n",
    "        child_span.set_attribute(\n",
    "            SpanAttributes.OPENINFERENCE_SPAN_KIND,\n",
    "            OpenInferenceSpanKindValues.CHAIN.value,\n",
    "        )\n",
    "\n",
    "        # Example of logging an event\n",
    "        query = QueryReceived(query=\"Query #{count}\")\n",
    "        tracer.mark_rag_query_trace_event(\n",
    "            event=query,\n",
    "            # test_set_id=str(1234),\n",
    "            # indexing_trace_id=str(5678),\n",
    "        )\n",
    "\n",
    "        context = ContextRetrieved(\n",
    "            context=[\"Run #{count}, context 1\", \"Run #{count}, context 2\"]\n",
    "        )\n",
    "        tracer.mark_rag_query_trace_event(\n",
    "            event=context,\n",
    "            # test_set_id=str(1234),\n",
    "            # indexing_trace_id=str(5678),\n",
    "        )\n",
    "\n",
    "        tracer.mark_rag_query_trace_event(\n",
    "            event=PromptResolved(\n",
    "                fully_resolved_prompt=f\"User Query: {query.query}\\n\\nContext: {context.context}\"\n",
    "            ),\n",
    "            # test_set_id=str(1234),\n",
    "            # indexing_trace_id=str(5678),\n",
    "        )\n",
    "\n",
    "        tracer.mark_rag_query_trace_event(\n",
    "            event=LLMOutputReceived(llm_output=f\"Output #{count}\"),\n",
    "            # test_set_id=str(1234),\n",
    "            # indexing_trace_id=str(5678),\n",
    "        )\n",
    "\n",
    "        # print(log_result)\n",
    "\n",
    "        # This parameter has the same key as something that's already stored\n",
    "        # at the tracer level (one level above current trace). We will\n",
    "        # overwrite the K-V pair for the trace-specific params, but when we\n",
    "        # create a new trace the old value will remain\n",
    "        tracer.register_param(\n",
    "            \"overriden_by_trace_example\",\n",
    "            f\"Overriden in run #{count} for traceId '{trace_id}'\",\n",
    "        )\n",
    "\n",
    "        # This parameter has the same key as something that's already stored\n",
    "        # at the tracer level (one level above current trace). We will\n",
    "        # overwrite the K-V pair for the trace-specific params, but when we\n",
    "        # create a new trace the old value will remain\n",
    "        tracer.register_param(\"local_param\", f\"Local param #{count}\")\n",
    "\n",
    "        child_span.set_status(StatusCode.OK)\n",
    "\n",
    "    trace_id = _convert_int_id_to_hex_str(\n",
    "        root_span.get_span_context().trace_id\n",
    "    )\n",
    "    resulting_trace_ids.append(trace_id)\n"
   ]
  },
  {
   "cell_type": "code",
   "execution_count": 6,
   "metadata": {},
   "outputs": [
    {
     "name": "stderr",
     "output_type": "stream",
     "text": [
      "2024-04-19 16:18:00,092 - Starting new HTTPS connection (1): lastmileai.dev:443\n",
      "2024-04-19 16:18:00,232 - https://lastmileai.dev:443 \"POST /api/rag_query_traces/create HTTP/1.1\" 200 829\n",
      "2024-04-19 16:18:00,235 - Starting new HTTPS connection (1): lastmileai.dev:443\n"
     ]
    },
    {
     "name": "stdout",
     "output_type": "stream",
     "text": [
      "trace_id_before=None\n",
      "trace_id_after='a40e1c970fe5aa6df86a366af4d8936f'\n",
      "trace_id_before='a40e1c970fe5aa6df86a366af4d8936f'\n",
      "trace_id_after='a40e1c970fe5aa6df86a366af4d8936f'\n",
      "Results from rag traces create endpoint:\n",
      "{'id': 'clv744aem003dpeushnoe19cl', 'createdAt': '2024-04-19T20:18:00.238Z', 'updatedAt': '2024-04-19T20:18:00.238Z', 'paramSet': {'local_param': 'Local param #1', 'global_param': 'This param key appear in all traces', 'overriden_by_trace_example': \"Overriden in run #1 for traceId 'a40e1c970fe5aa6df86a366af4d8936f'\"}, 'query': '{\"query\":\"Query #{count}\"}', 'context': '{\"context\":[\"Run #{count}, context 1\",\"Run #{count}, context 2\"]}', 'fullyResolvedPrompt': '{\"fully_resolved_prompt\":\"User Query: Query #{count}\\\\n\\\\nContext: [\\'Run #{count}, context 1\\', \\'Run #{count}, context 2\\']\"}', 'output': '{\"llm_output\":\"Output #1\"}', 'metadata': None, 'traceId': 'a40e1c970fe5aa6df86a366af4d8936f', 'ragIngestionTraceId': None, 'creatorId': 'clnz1fbdn005xpei7ekv837tb', 'projectId': None, 'organizationId': None, 'visibility': 'MEMBER', 'active': True}\n",
      "trace_id_before=None\n",
      "trace_id_after='e70f51331f6020705ae0a9586ff50f82'\n",
      "trace_id_before='e70f51331f6020705ae0a9586ff50f82'\n",
      "trace_id_after='e70f51331f6020705ae0a9586ff50f82'\n"
     ]
    },
    {
     "name": "stderr",
     "output_type": "stream",
     "text": [
      "2024-04-19 16:18:00,346 - https://lastmileai.dev:443 \"POST /api/rag_query_traces/create HTTP/1.1\" 200 829\n",
      "2024-04-19 16:18:00,350 - Starting new HTTPS connection (1): lastmileai.dev:443\n",
      "2024-04-19 16:18:00,454 - https://lastmileai.dev:443 \"POST /api/rag_query_traces/create HTTP/1.1\" 200 829\n",
      "2024-04-19 16:18:00,458 - Starting new HTTPS connection (1): lastmileai.dev:443\n"
     ]
    },
    {
     "name": "stdout",
     "output_type": "stream",
     "text": [
      "Results from rag traces create endpoint:\n",
      "{'id': 'clv744aht00a9qpy4w2zduyy8', 'createdAt': '2024-04-19T20:18:00.353Z', 'updatedAt': '2024-04-19T20:18:00.353Z', 'paramSet': {'local_param': 'Local param #2', 'global_param': 'This param key appear in all traces', 'overriden_by_trace_example': \"Overriden in run #2 for traceId 'e70f51331f6020705ae0a9586ff50f82'\"}, 'query': '{\"query\":\"Query #{count}\"}', 'context': '{\"context\":[\"Run #{count}, context 1\",\"Run #{count}, context 2\"]}', 'fullyResolvedPrompt': '{\"fully_resolved_prompt\":\"User Query: Query #{count}\\\\n\\\\nContext: [\\'Run #{count}, context 1\\', \\'Run #{count}, context 2\\']\"}', 'output': '{\"llm_output\":\"Output #2\"}', 'metadata': None, 'traceId': 'e70f51331f6020705ae0a9586ff50f82', 'ragIngestionTraceId': None, 'creatorId': 'clnz1fbdn005xpei7ekv837tb', 'projectId': None, 'organizationId': None, 'visibility': 'MEMBER', 'active': True}\n",
      "trace_id_before=None\n",
      "trace_id_after='e292ebb4c5b32e36468ba2beff10d6e3'\n",
      "trace_id_before='e292ebb4c5b32e36468ba2beff10d6e3'\n",
      "trace_id_after='e292ebb4c5b32e36468ba2beff10d6e3'\n",
      "Results from rag traces create endpoint:\n",
      "{'id': 'clv744akx00abqpy444vhn22e', 'createdAt': '2024-04-19T20:18:00.465Z', 'updatedAt': '2024-04-19T20:18:00.465Z', 'paramSet': {'local_param': 'Local param #3', 'global_param': 'This param key appear in all traces', 'overriden_by_trace_example': \"Overriden in run #3 for traceId 'e292ebb4c5b32e36468ba2beff10d6e3'\"}, 'query': '{\"query\":\"Query #{count}\"}', 'context': '{\"context\":[\"Run #{count}, context 1\",\"Run #{count}, context 2\"]}', 'fullyResolvedPrompt': '{\"fully_resolved_prompt\":\"User Query: Query #{count}\\\\n\\\\nContext: [\\'Run #{count}, context 1\\', \\'Run #{count}, context 2\\']\"}', 'output': '{\"llm_output\":\"Output #3\"}', 'metadata': None, 'traceId': 'e292ebb4c5b32e36468ba2beff10d6e3', 'ragIngestionTraceId': None, 'creatorId': 'clnz1fbdn005xpei7ekv837tb', 'projectId': None, 'organizationId': None, 'visibility': 'MEMBER', 'active': True}\n",
      "trace_id_before=None\n",
      "trace_id_after='68c626b7c350e3e6697f1a9a6eb2f5f0'\n",
      "trace_id_before='68c626b7c350e3e6697f1a9a6eb2f5f0'\n",
      "trace_id_after='68c626b7c350e3e6697f1a9a6eb2f5f0'\n"
     ]
    },
    {
     "name": "stderr",
     "output_type": "stream",
     "text": [
      "2024-04-19 16:18:00,600 - https://lastmileai.dev:443 \"POST /api/rag_query_traces/create HTTP/1.1\" 200 829\n",
      "2024-04-19 16:18:00,604 - Starting new HTTPS connection (1): lastmileai.dev:443\n",
      "2024-04-19 16:18:00,732 - https://lastmileai.dev:443 \"POST /api/rag_query_traces/create HTTP/1.1\" 200 829\n",
      "2024-04-19 16:18:00,736 - Starting new HTTPS connection (1): lastmileai.dev:443\n"
     ]
    },
    {
     "name": "stdout",
     "output_type": "stream",
     "text": [
      "Results from rag traces create endpoint:\n",
      "{'id': 'clv744aok00b6qu4ll4f17kz4', 'createdAt': '2024-04-19T20:18:00.597Z', 'updatedAt': '2024-04-19T20:18:00.597Z', 'paramSet': {'local_param': 'Local param #4', 'global_param': 'This param key appear in all traces', 'overriden_by_trace_example': \"Overriden in run #4 for traceId '68c626b7c350e3e6697f1a9a6eb2f5f0'\"}, 'query': '{\"query\":\"Query #{count}\"}', 'context': '{\"context\":[\"Run #{count}, context 1\",\"Run #{count}, context 2\"]}', 'fullyResolvedPrompt': '{\"fully_resolved_prompt\":\"User Query: Query #{count}\\\\n\\\\nContext: [\\'Run #{count}, context 1\\', \\'Run #{count}, context 2\\']\"}', 'output': '{\"llm_output\":\"Output #4\"}', 'metadata': None, 'traceId': '68c626b7c350e3e6697f1a9a6eb2f5f0', 'ragIngestionTraceId': None, 'creatorId': 'clnz1fbdn005xpei7ekv837tb', 'projectId': None, 'organizationId': None, 'visibility': 'MEMBER', 'active': True}\n",
      "trace_id_before=None\n",
      "trace_id_after='358dcc29180b42137ff984f75578084e'\n",
      "trace_id_before='358dcc29180b42137ff984f75578084e'\n",
      "trace_id_after='358dcc29180b42137ff984f75578084e'\n",
      "Results from rag traces create endpoint:\n",
      "{'id': 'clv744asl00b8qu4ls2kp1k4h', 'createdAt': '2024-04-19T20:18:00.742Z', 'updatedAt': '2024-04-19T20:18:00.742Z', 'paramSet': {'local_param': 'Local param #5', 'global_param': 'This param key appear in all traces', 'overriden_by_trace_example': \"Overriden in run #5 for traceId '358dcc29180b42137ff984f75578084e'\"}, 'query': '{\"query\":\"Query #{count}\"}', 'context': '{\"context\":[\"Run #{count}, context 1\",\"Run #{count}, context 2\"]}', 'fullyResolvedPrompt': '{\"fully_resolved_prompt\":\"User Query: Query #{count}\\\\n\\\\nContext: [\\'Run #{count}, context 1\\', \\'Run #{count}, context 2\\']\"}', 'output': '{\"llm_output\":\"Output #5\"}', 'metadata': None, 'traceId': '358dcc29180b42137ff984f75578084e', 'ragIngestionTraceId': None, 'creatorId': 'clnz1fbdn005xpei7ekv837tb', 'projectId': None, 'organizationId': None, 'visibility': 'MEMBER', 'active': True}\n",
      "trace_id_before=None\n",
      "trace_id_after='641f231981a066b550c17915ef8611f1'\n",
      "trace_id_before='641f231981a066b550c17915ef8611f1'\n",
      "trace_id_after='641f231981a066b550c17915ef8611f1'\n"
     ]
    },
    {
     "name": "stderr",
     "output_type": "stream",
     "text": [
      "2024-04-19 16:18:00,861 - https://lastmileai.dev:443 \"POST /api/rag_query_traces/create HTTP/1.1\" 200 829\n",
      "2024-04-19 16:18:00,865 - Starting new HTTPS connection (1): lastmileai.dev:443\n",
      "2024-04-19 16:18:00,997 - https://lastmileai.dev:443 \"POST /api/rag_query_traces/create HTTP/1.1\" 200 829\n",
      "2024-04-19 16:18:01,001 - Starting new HTTPS connection (1): lastmileai.dev:443\n"
     ]
    },
    {
     "name": "stdout",
     "output_type": "stream",
     "text": [
      "Results from rag traces create endpoint:\n",
      "{'id': 'clv744aw5004sqymwju8465bb', 'createdAt': '2024-04-19T20:18:00.870Z', 'updatedAt': '2024-04-19T20:18:00.870Z', 'paramSet': {'local_param': 'Local param #6', 'global_param': 'This param key appear in all traces', 'overriden_by_trace_example': \"Overriden in run #6 for traceId '641f231981a066b550c17915ef8611f1'\"}, 'query': '{\"query\":\"Query #{count}\"}', 'context': '{\"context\":[\"Run #{count}, context 1\",\"Run #{count}, context 2\"]}', 'fullyResolvedPrompt': '{\"fully_resolved_prompt\":\"User Query: Query #{count}\\\\n\\\\nContext: [\\'Run #{count}, context 1\\', \\'Run #{count}, context 2\\']\"}', 'output': '{\"llm_output\":\"Output #6\"}', 'metadata': None, 'traceId': '641f231981a066b550c17915ef8611f1', 'ragIngestionTraceId': None, 'creatorId': 'clnz1fbdn005xpei7ekv837tb', 'projectId': None, 'organizationId': None, 'visibility': 'MEMBER', 'active': True}\n",
      "trace_id_before=None\n",
      "trace_id_after='5606761ff4f6def644f768863a8a8009'\n",
      "trace_id_before='5606761ff4f6def644f768863a8a8009'\n",
      "trace_id_after='5606761ff4f6def644f768863a8a8009'\n",
      "Results from rag traces create endpoint:\n",
      "{'id': 'clv744azz004uqymwhs2yi2z4', 'createdAt': '2024-04-19T20:18:01.007Z', 'updatedAt': '2024-04-19T20:18:01.007Z', 'paramSet': {'local_param': 'Local param #7', 'global_param': 'This param key appear in all traces', 'overriden_by_trace_example': \"Overriden in run #7 for traceId '5606761ff4f6def644f768863a8a8009'\"}, 'query': '{\"query\":\"Query #{count}\"}', 'context': '{\"context\":[\"Run #{count}, context 1\",\"Run #{count}, context 2\"]}', 'fullyResolvedPrompt': '{\"fully_resolved_prompt\":\"User Query: Query #{count}\\\\n\\\\nContext: [\\'Run #{count}, context 1\\', \\'Run #{count}, context 2\\']\"}', 'output': '{\"llm_output\":\"Output #7\"}', 'metadata': None, 'traceId': '5606761ff4f6def644f768863a8a8009', 'ragIngestionTraceId': None, 'creatorId': 'clnz1fbdn005xpei7ekv837tb', 'projectId': None, 'organizationId': None, 'visibility': 'MEMBER', 'active': True}\n",
      "trace_id_before=None\n",
      "trace_id_after='edd7389c6f5868cb34edcba6d5773433'\n",
      "trace_id_before='edd7389c6f5868cb34edcba6d5773433'\n",
      "trace_id_after='edd7389c6f5868cb34edcba6d5773433'\n"
     ]
    },
    {
     "name": "stderr",
     "output_type": "stream",
     "text": [
      "2024-04-19 16:18:01,117 - https://lastmileai.dev:443 \"POST /api/rag_query_traces/create HTTP/1.1\" 200 829\n",
      "2024-04-19 16:18:01,120 - Starting new HTTPS connection (1): lastmileai.dev:443\n",
      "2024-04-19 16:18:01,223 - https://lastmileai.dev:443 \"POST /api/rag_query_traces/create HTTP/1.1\" 200 829\n",
      "2024-04-19 16:18:01,226 - Starting new HTTPS connection (1): lastmileai.dev:443\n"
     ]
    },
    {
     "name": "stdout",
     "output_type": "stream",
     "text": [
      "Results from rag traces create endpoint:\n",
      "{'id': 'clv744b39008hpbhcz6eanno3', 'createdAt': '2024-04-19T20:18:01.125Z', 'updatedAt': '2024-04-19T20:18:01.125Z', 'paramSet': {'local_param': 'Local param #8', 'global_param': 'This param key appear in all traces', 'overriden_by_trace_example': \"Overriden in run #8 for traceId 'edd7389c6f5868cb34edcba6d5773433'\"}, 'query': '{\"query\":\"Query #{count}\"}', 'context': '{\"context\":[\"Run #{count}, context 1\",\"Run #{count}, context 2\"]}', 'fullyResolvedPrompt': '{\"fully_resolved_prompt\":\"User Query: Query #{count}\\\\n\\\\nContext: [\\'Run #{count}, context 1\\', \\'Run #{count}, context 2\\']\"}', 'output': '{\"llm_output\":\"Output #8\"}', 'metadata': None, 'traceId': 'edd7389c6f5868cb34edcba6d5773433', 'ragIngestionTraceId': None, 'creatorId': 'clnz1fbdn005xpei7ekv837tb', 'projectId': None, 'organizationId': None, 'visibility': 'MEMBER', 'active': True}\n",
      "trace_id_before=None\n",
      "trace_id_after='a654ae2b85dd5effbe7e779ca53311b7'\n",
      "trace_id_before='a654ae2b85dd5effbe7e779ca53311b7'\n",
      "trace_id_after='a654ae2b85dd5effbe7e779ca53311b7'\n",
      "Results from rag traces create endpoint:\n",
      "{'id': 'clv744b69003fpeusgpwcb3hb', 'createdAt': '2024-04-19T20:18:01.233Z', 'updatedAt': '2024-04-19T20:18:01.233Z', 'paramSet': {'local_param': 'Local param #9', 'global_param': 'This param key appear in all traces', 'overriden_by_trace_example': \"Overriden in run #9 for traceId 'a654ae2b85dd5effbe7e779ca53311b7'\"}, 'query': '{\"query\":\"Query #{count}\"}', 'context': '{\"context\":[\"Run #{count}, context 1\",\"Run #{count}, context 2\"]}', 'fullyResolvedPrompt': '{\"fully_resolved_prompt\":\"User Query: Query #{count}\\\\n\\\\nContext: [\\'Run #{count}, context 1\\', \\'Run #{count}, context 2\\']\"}', 'output': '{\"llm_output\":\"Output #9\"}', 'metadata': None, 'traceId': 'a654ae2b85dd5effbe7e779ca53311b7', 'ragIngestionTraceId': None, 'creatorId': 'clnz1fbdn005xpei7ekv837tb', 'projectId': None, 'organizationId': None, 'visibility': 'MEMBER', 'active': True}\n",
      "trace_id_before=None\n",
      "trace_id_after='7df3d918f0cf6bba61c6f56a697a1a17'\n",
      "trace_id_before='7df3d918f0cf6bba61c6f56a697a1a17'\n",
      "trace_id_after='7df3d918f0cf6bba61c6f56a697a1a17'\n"
     ]
    },
    {
     "name": "stderr",
     "output_type": "stream",
     "text": [
      "2024-04-19 16:18:01,352 - https://lastmileai.dev:443 \"POST /api/rag_query_traces/create HTTP/1.1\" 200 832\n",
      "2024-04-19 16:18:01,356 - Starting new HTTPS connection (1): lastmileai.dev:443\n",
      "2024-04-19 16:18:01,480 - https://lastmileai.dev:443 \"POST /api/rag_query_traces/create HTTP/1.1\" 200 832\n",
      "2024-04-19 16:18:01,484 - Starting new HTTPS connection (1): lastmileai.dev:443\n"
     ]
    },
    {
     "name": "stdout",
     "output_type": "stream",
     "text": [
      "Results from rag traces create endpoint:\n",
      "{'id': 'clv744b9u008ipbhctkav6d7f', 'createdAt': '2024-04-19T20:18:01.362Z', 'updatedAt': '2024-04-19T20:18:01.362Z', 'paramSet': {'local_param': 'Local param #10', 'global_param': 'This param key appear in all traces', 'overriden_by_trace_example': \"Overriden in run #10 for traceId '7df3d918f0cf6bba61c6f56a697a1a17'\"}, 'query': '{\"query\":\"Query #{count}\"}', 'context': '{\"context\":[\"Run #{count}, context 1\",\"Run #{count}, context 2\"]}', 'fullyResolvedPrompt': '{\"fully_resolved_prompt\":\"User Query: Query #{count}\\\\n\\\\nContext: [\\'Run #{count}, context 1\\', \\'Run #{count}, context 2\\']\"}', 'output': '{\"llm_output\":\"Output #10\"}', 'metadata': None, 'traceId': '7df3d918f0cf6bba61c6f56a697a1a17', 'ragIngestionTraceId': None, 'creatorId': 'clnz1fbdn005xpei7ekv837tb', 'projectId': None, 'organizationId': None, 'visibility': 'MEMBER', 'active': True}\n",
      "trace_id_before=None\n",
      "trace_id_after='672797d860159f089a8766a4b827aa1c'\n",
      "trace_id_before='672797d860159f089a8766a4b827aa1c'\n",
      "trace_id_after='672797d860159f089a8766a4b827aa1c'\n",
      "Results from rag traces create endpoint:\n",
      "{'id': 'clv744bde003hpeusxivr3qkb', 'createdAt': '2024-04-19T20:18:01.490Z', 'updatedAt': '2024-04-19T20:18:01.490Z', 'paramSet': {'local_param': 'Local param #11', 'global_param': 'This param key appear in all traces', 'overriden_by_trace_example': \"Overriden in run #11 for traceId '672797d860159f089a8766a4b827aa1c'\"}, 'query': '{\"query\":\"Query #{count}\"}', 'context': '{\"context\":[\"Run #{count}, context 1\",\"Run #{count}, context 2\"]}', 'fullyResolvedPrompt': '{\"fully_resolved_prompt\":\"User Query: Query #{count}\\\\n\\\\nContext: [\\'Run #{count}, context 1\\', \\'Run #{count}, context 2\\']\"}', 'output': '{\"llm_output\":\"Output #11\"}', 'metadata': None, 'traceId': '672797d860159f089a8766a4b827aa1c', 'ragIngestionTraceId': None, 'creatorId': 'clnz1fbdn005xpei7ekv837tb', 'projectId': None, 'organizationId': None, 'visibility': 'MEMBER', 'active': True}\n",
      "trace_id_before=None\n",
      "trace_id_after='a7ef248b4c6e888f44e8549b4632b011'\n",
      "trace_id_before='a7ef248b4c6e888f44e8549b4632b011'\n",
      "trace_id_after='a7ef248b4c6e888f44e8549b4632b011'\n"
     ]
    },
    {
     "name": "stderr",
     "output_type": "stream",
     "text": [
      "2024-04-19 16:18:01,590 - https://lastmileai.dev:443 \"POST /api/rag_query_traces/create HTTP/1.1\" 200 832\n",
      "2024-04-19 16:18:01,594 - Starting new HTTPS connection (1): lastmileai.dev:443\n",
      "2024-04-19 16:18:01,707 - https://lastmileai.dev:443 \"POST /api/rag_query_traces/create HTTP/1.1\" 200 832\n",
      "2024-04-19 16:18:01,710 - Starting new HTTPS connection (1): lastmileai.dev:443\n"
     ]
    },
    {
     "name": "stdout",
     "output_type": "stream",
     "text": [
      "Results from rag traces create endpoint:\n",
      "{'id': 'clv744bge00adqpy4n02f4wy0', 'createdAt': '2024-04-19T20:18:01.599Z', 'updatedAt': '2024-04-19T20:18:01.599Z', 'paramSet': {'local_param': 'Local param #12', 'global_param': 'This param key appear in all traces', 'overriden_by_trace_example': \"Overriden in run #12 for traceId 'a7ef248b4c6e888f44e8549b4632b011'\"}, 'query': '{\"query\":\"Query #{count}\"}', 'context': '{\"context\":[\"Run #{count}, context 1\",\"Run #{count}, context 2\"]}', 'fullyResolvedPrompt': '{\"fully_resolved_prompt\":\"User Query: Query #{count}\\\\n\\\\nContext: [\\'Run #{count}, context 1\\', \\'Run #{count}, context 2\\']\"}', 'output': '{\"llm_output\":\"Output #12\"}', 'metadata': None, 'traceId': 'a7ef248b4c6e888f44e8549b4632b011', 'ragIngestionTraceId': None, 'creatorId': 'clnz1fbdn005xpei7ekv837tb', 'projectId': None, 'organizationId': None, 'visibility': 'MEMBER', 'active': True}\n",
      "trace_id_before=None\n",
      "trace_id_after='62affec5bdaecd90a5a10fd4cd6f2426'\n",
      "trace_id_before='62affec5bdaecd90a5a10fd4cd6f2426'\n",
      "trace_id_after='62affec5bdaecd90a5a10fd4cd6f2426'\n",
      "Results from rag traces create endpoint:\n",
      "{'id': 'clv744bjo00baqu4l32348lse', 'createdAt': '2024-04-19T20:18:01.716Z', 'updatedAt': '2024-04-19T20:18:01.716Z', 'paramSet': {'local_param': 'Local param #13', 'global_param': 'This param key appear in all traces', 'overriden_by_trace_example': \"Overriden in run #13 for traceId '62affec5bdaecd90a5a10fd4cd6f2426'\"}, 'query': '{\"query\":\"Query #{count}\"}', 'context': '{\"context\":[\"Run #{count}, context 1\",\"Run #{count}, context 2\"]}', 'fullyResolvedPrompt': '{\"fully_resolved_prompt\":\"User Query: Query #{count}\\\\n\\\\nContext: [\\'Run #{count}, context 1\\', \\'Run #{count}, context 2\\']\"}', 'output': '{\"llm_output\":\"Output #13\"}', 'metadata': None, 'traceId': '62affec5bdaecd90a5a10fd4cd6f2426', 'ragIngestionTraceId': None, 'creatorId': 'clnz1fbdn005xpei7ekv837tb', 'projectId': None, 'organizationId': None, 'visibility': 'MEMBER', 'active': True}\n",
      "trace_id_before=None\n",
      "trace_id_after='b35f77ec5ce0b3d05288a0899ed1695e'\n",
      "trace_id_before='b35f77ec5ce0b3d05288a0899ed1695e'\n",
      "trace_id_after='b35f77ec5ce0b3d05288a0899ed1695e'\n"
     ]
    },
    {
     "name": "stderr",
     "output_type": "stream",
     "text": [
      "2024-04-19 16:18:01,841 - https://lastmileai.dev:443 \"POST /api/rag_query_traces/create HTTP/1.1\" 200 832\n",
      "2024-04-19 16:18:01,844 - Starting new HTTPS connection (1): lastmileai.dev:443\n",
      "2024-04-19 16:18:01,963 - https://lastmileai.dev:443 \"POST /api/rag_query_traces/create HTTP/1.1\" 200 832\n",
      "2024-04-19 16:18:01,966 - Starting new HTTPS connection (1): lastmileai.dev:443\n"
     ]
    },
    {
     "name": "stdout",
     "output_type": "stream",
     "text": [
      "Results from rag traces create endpoint:\n",
      "{'id': 'clv744bnd00aeqpy44clcht8z', 'createdAt': '2024-04-19T20:18:01.850Z', 'updatedAt': '2024-04-19T20:18:01.850Z', 'paramSet': {'local_param': 'Local param #14', 'global_param': 'This param key appear in all traces', 'overriden_by_trace_example': \"Overriden in run #14 for traceId 'b35f77ec5ce0b3d05288a0899ed1695e'\"}, 'query': '{\"query\":\"Query #{count}\"}', 'context': '{\"context\":[\"Run #{count}, context 1\",\"Run #{count}, context 2\"]}', 'fullyResolvedPrompt': '{\"fully_resolved_prompt\":\"User Query: Query #{count}\\\\n\\\\nContext: [\\'Run #{count}, context 1\\', \\'Run #{count}, context 2\\']\"}', 'output': '{\"llm_output\":\"Output #14\"}', 'metadata': None, 'traceId': 'b35f77ec5ce0b3d05288a0899ed1695e', 'ragIngestionTraceId': None, 'creatorId': 'clnz1fbdn005xpei7ekv837tb', 'projectId': None, 'organizationId': None, 'visibility': 'MEMBER', 'active': True}\n",
      "trace_id_before=None\n",
      "trace_id_after='c258068f2726cccfba157823a5ac5733'\n",
      "trace_id_before='c258068f2726cccfba157823a5ac5733'\n",
      "trace_id_after='c258068f2726cccfba157823a5ac5733'\n",
      "Results from rag traces create endpoint:\n",
      "{'id': 'clv744bqt00bcqu4lmqytuy4x', 'createdAt': '2024-04-19T20:18:01.973Z', 'updatedAt': '2024-04-19T20:18:01.973Z', 'paramSet': {'local_param': 'Local param #15', 'global_param': 'This param key appear in all traces', 'overriden_by_trace_example': \"Overriden in run #15 for traceId 'c258068f2726cccfba157823a5ac5733'\"}, 'query': '{\"query\":\"Query #{count}\"}', 'context': '{\"context\":[\"Run #{count}, context 1\",\"Run #{count}, context 2\"]}', 'fullyResolvedPrompt': '{\"fully_resolved_prompt\":\"User Query: Query #{count}\\\\n\\\\nContext: [\\'Run #{count}, context 1\\', \\'Run #{count}, context 2\\']\"}', 'output': '{\"llm_output\":\"Output #15\"}', 'metadata': None, 'traceId': 'c258068f2726cccfba157823a5ac5733', 'ragIngestionTraceId': None, 'creatorId': 'clnz1fbdn005xpei7ekv837tb', 'projectId': None, 'organizationId': None, 'visibility': 'MEMBER', 'active': True}\n",
      "trace_id_before=None\n",
      "trace_id_after='6528600e8134d0024d0b85668e59bbfb'\n",
      "trace_id_before='6528600e8134d0024d0b85668e59bbfb'\n",
      "trace_id_after='6528600e8134d0024d0b85668e59bbfb'\n"
     ]
    },
    {
     "name": "stderr",
     "output_type": "stream",
     "text": [
      "2024-04-19 16:18:02,074 - https://lastmileai.dev:443 \"POST /api/rag_query_traces/create HTTP/1.1\" 200 832\n",
      "2024-04-19 16:18:02,078 - Starting new HTTPS connection (1): lastmileai.dev:443\n",
      "2024-04-19 16:18:02,181 - https://lastmileai.dev:443 \"POST /api/rag_query_traces/create HTTP/1.1\" 200 832\n",
      "2024-04-19 16:18:02,185 - Starting new HTTPS connection (1): lastmileai.dev:443\n"
     ]
    },
    {
     "name": "stdout",
     "output_type": "stream",
     "text": [
      "Results from rag traces create endpoint:\n",
      "{'id': 'clv744btw004vqymwtoybcn68', 'createdAt': '2024-04-19T20:18:02.084Z', 'updatedAt': '2024-04-19T20:18:02.084Z', 'paramSet': {'local_param': 'Local param #16', 'global_param': 'This param key appear in all traces', 'overriden_by_trace_example': \"Overriden in run #16 for traceId '6528600e8134d0024d0b85668e59bbfb'\"}, 'query': '{\"query\":\"Query #{count}\"}', 'context': '{\"context\":[\"Run #{count}, context 1\",\"Run #{count}, context 2\"]}', 'fullyResolvedPrompt': '{\"fully_resolved_prompt\":\"User Query: Query #{count}\\\\n\\\\nContext: [\\'Run #{count}, context 1\\', \\'Run #{count}, context 2\\']\"}', 'output': '{\"llm_output\":\"Output #16\"}', 'metadata': None, 'traceId': '6528600e8134d0024d0b85668e59bbfb', 'ragIngestionTraceId': None, 'creatorId': 'clnz1fbdn005xpei7ekv837tb', 'projectId': None, 'organizationId': None, 'visibility': 'MEMBER', 'active': True}\n",
      "trace_id_before=None\n",
      "trace_id_after='6b9da33b76d56828b683ec40c93f99a6'\n",
      "trace_id_before='6b9da33b76d56828b683ec40c93f99a6'\n",
      "trace_id_after='6b9da33b76d56828b683ec40c93f99a6'\n",
      "Results from rag traces create endpoint:\n",
      "{'id': 'clv744bww004xqymwqvjp2k11', 'createdAt': '2024-04-19T20:18:02.192Z', 'updatedAt': '2024-04-19T20:18:02.192Z', 'paramSet': {'local_param': 'Local param #17', 'global_param': 'This param key appear in all traces', 'overriden_by_trace_example': \"Overriden in run #17 for traceId '6b9da33b76d56828b683ec40c93f99a6'\"}, 'query': '{\"query\":\"Query #{count}\"}', 'context': '{\"context\":[\"Run #{count}, context 1\",\"Run #{count}, context 2\"]}', 'fullyResolvedPrompt': '{\"fully_resolved_prompt\":\"User Query: Query #{count}\\\\n\\\\nContext: [\\'Run #{count}, context 1\\', \\'Run #{count}, context 2\\']\"}', 'output': '{\"llm_output\":\"Output #17\"}', 'metadata': None, 'traceId': '6b9da33b76d56828b683ec40c93f99a6', 'ragIngestionTraceId': None, 'creatorId': 'clnz1fbdn005xpei7ekv837tb', 'projectId': None, 'organizationId': None, 'visibility': 'MEMBER', 'active': True}\n",
      "trace_id_before=None\n",
      "trace_id_after='6dd0cf3fa8465c79eac684353025ee6'\n",
      "trace_id_before='6dd0cf3fa8465c79eac684353025ee6'\n",
      "trace_id_after='6dd0cf3fa8465c79eac684353025ee6'\n"
     ]
    },
    {
     "name": "stderr",
     "output_type": "stream",
     "text": [
      "2024-04-19 16:18:02,309 - https://lastmileai.dev:443 \"POST /api/rag_query_traces/create HTTP/1.1\" 200 830\n",
      "2024-04-19 16:18:02,313 - Starting new HTTPS connection (1): lastmileai.dev:443\n",
      "2024-04-19 16:18:02,439 - https://lastmileai.dev:443 \"POST /api/rag_query_traces/create HTTP/1.1\" 200 830\n",
      "2024-04-19 16:18:02,442 - Starting new HTTPS connection (1): lastmileai.dev:443\n"
     ]
    },
    {
     "name": "stdout",
     "output_type": "stream",
     "text": [
      "Results from rag traces create endpoint:\n",
      "{'id': 'clv744c0e008kpbhcqbogl1h1', 'createdAt': '2024-04-19T20:18:02.319Z', 'updatedAt': '2024-04-19T20:18:02.319Z', 'paramSet': {'local_param': 'Local param #18', 'global_param': 'This param key appear in all traces', 'overriden_by_trace_example': \"Overriden in run #18 for traceId '6dd0cf3fa8465c79eac684353025ee6'\"}, 'query': '{\"query\":\"Query #{count}\"}', 'context': '{\"context\":[\"Run #{count}, context 1\",\"Run #{count}, context 2\"]}', 'fullyResolvedPrompt': '{\"fully_resolved_prompt\":\"User Query: Query #{count}\\\\n\\\\nContext: [\\'Run #{count}, context 1\\', \\'Run #{count}, context 2\\']\"}', 'output': '{\"llm_output\":\"Output #18\"}', 'metadata': None, 'traceId': '6dd0cf3fa8465c79eac684353025ee6', 'ragIngestionTraceId': None, 'creatorId': 'clnz1fbdn005xpei7ekv837tb', 'projectId': None, 'organizationId': None, 'visibility': 'MEMBER', 'active': True}\n",
      "trace_id_before=None\n",
      "trace_id_after='26bc25356b8cb9f637f22e7f27d8f91'\n",
      "trace_id_before='26bc25356b8cb9f637f22e7f27d8f91'\n",
      "trace_id_after='26bc25356b8cb9f637f22e7f27d8f91'\n",
      "Results from rag traces create endpoint:\n",
      "{'id': 'clv744c3z003jpeus58efbpm7', 'createdAt': '2024-04-19T20:18:02.447Z', 'updatedAt': '2024-04-19T20:18:02.447Z', 'paramSet': {'local_param': 'Local param #19', 'global_param': 'This param key appear in all traces', 'overriden_by_trace_example': \"Overriden in run #19 for traceId '26bc25356b8cb9f637f22e7f27d8f91'\"}, 'query': '{\"query\":\"Query #{count}\"}', 'context': '{\"context\":[\"Run #{count}, context 1\",\"Run #{count}, context 2\"]}', 'fullyResolvedPrompt': '{\"fully_resolved_prompt\":\"User Query: Query #{count}\\\\n\\\\nContext: [\\'Run #{count}, context 1\\', \\'Run #{count}, context 2\\']\"}', 'output': '{\"llm_output\":\"Output #19\"}', 'metadata': None, 'traceId': '26bc25356b8cb9f637f22e7f27d8f91', 'ragIngestionTraceId': None, 'creatorId': 'clnz1fbdn005xpei7ekv837tb', 'projectId': None, 'organizationId': None, 'visibility': 'MEMBER', 'active': True}\n",
      "trace_id_before=None\n",
      "trace_id_after='da58981d43395daf19f27bbb6dcf28d4'\n",
      "trace_id_before='da58981d43395daf19f27bbb6dcf28d4'\n",
      "trace_id_after='da58981d43395daf19f27bbb6dcf28d4'\n"
     ]
    },
    {
     "name": "stderr",
     "output_type": "stream",
     "text": [
      "2024-04-19 16:18:02,554 - https://lastmileai.dev:443 \"POST /api/rag_query_traces/create HTTP/1.1\" 200 832\n"
     ]
    },
    {
     "name": "stdout",
     "output_type": "stream",
     "text": [
      "Results from rag traces create endpoint:\n",
      "{'id': 'clv744c76008lpbhcfgkpzmvn', 'createdAt': '2024-04-19T20:18:02.563Z', 'updatedAt': '2024-04-19T20:18:02.563Z', 'paramSet': {'local_param': 'Local param #20', 'global_param': 'This param key appear in all traces', 'overriden_by_trace_example': \"Overriden in run #20 for traceId 'da58981d43395daf19f27bbb6dcf28d4'\"}, 'query': '{\"query\":\"Query #{count}\"}', 'context': '{\"context\":[\"Run #{count}, context 1\",\"Run #{count}, context 2\"]}', 'fullyResolvedPrompt': '{\"fully_resolved_prompt\":\"User Query: Query #{count}\\\\n\\\\nContext: [\\'Run #{count}, context 1\\', \\'Run #{count}, context 2\\']\"}', 'output': '{\"llm_output\":\"Output #20\"}', 'metadata': None, 'traceId': 'da58981d43395daf19f27bbb6dcf28d4', 'ragIngestionTraceId': None, 'creatorId': 'clnz1fbdn005xpei7ekv837tb', 'projectId': None, 'organizationId': None, 'visibility': 'MEMBER', 'active': True}\n"
     ]
    },
    {
     "name": "stderr",
     "output_type": "stream",
     "text": [
      "2024-04-19 16:18:04,472 - https://lastmileai.dev:443 \"POST /api/trace/create HTTP/1.1\" 200 10\n"
     ]
    }
   ],
   "source": [
    "# Generate 20 queries to seed DB\n",
    "trace_ids: list[str] = []\n",
    "for i in range(20):\n",
    "    generate_trace_data(count=i+1, resulting_trace_ids=trace_ids)\n",
    "# print(f\"{trace_ids=}\")"
   ]
  },
  {
   "cell_type": "code",
   "execution_count": 7,
   "metadata": {},
   "outputs": [
    {
     "name": "stderr",
     "output_type": "stream",
     "text": [
      "2024-04-19 16:18:04,964 - Starting new HTTPS connection (1): lastmileai.dev:443\n",
      "2024-04-19 16:18:05,079 - https://lastmileai.dev:443 \"GET /api/rag_query_traces/read?id=clv743t8h003bpeusmoes4nnv HTTP/1.1\" 200 827\n"
     ]
    },
    {
     "name": "stdout",
     "output_type": "stream",
     "text": [
      "eyJhbGciOiJkaXIiLCJlbmMiOiJBMjU2R0NNIn0..i4MtL9O76DKs-6Vg.wiKue2CUsvsau5jDwIfDjc-PMAhcFYpM43t_HbL_0Q2j79HGDlBkRXG71sXBTpFzNNOq5SsrA06akX-l6LQWPQbUKZ-MVz3b-ceKuKlA0uH-xJNr6HVXHcVBfLx7SHeLinK8W_eYN4MeJOJ8n8T4ILnpy7Li19hZRouMVLC_HezlpGQPG4pQfYkoq1BLWfecgFErtlb7QmWnwujc6N4pvqlahpLJw4DBiJOicGJWHHd52yg40Vu7n_J9C-y02X8.YFl27avAV7Mr_WBoQmcvEg\n",
      "{'id': 'clv743t8h003bpeusmoes4nnv', 'createdAt': '2024-04-19T20:17:37.985Z', 'updatedAt': '2024-04-19T20:17:37.985Z', 'paramSet': {'local_param': 'Local param #1', 'global_param': 'This param key appear in all traces', 'overriden_by_trace_example': \"Overriden in run #1 for traceId 'a20c9c67f417e68501d2c2c72589ed6'\"}, 'query': '{\"query\":\"Query #{count}\"}', 'context': '{\"context\":[\"Run #{count}, context 1\",\"Run #{count}, context 2\"]}', 'fullyResolvedPrompt': '{\"fully_resolved_prompt\":\"User Query: Query #{count}\\\\n\\\\nContext: [\\'Run #{count}, context 1\\', \\'Run #{count}, context 2\\']\"}', 'output': '{\"llm_output\":\"Output #1\"}', 'metadata': None, 'traceId': 'a20c9c67f417e68501d2c2c72589ed6', 'ragIngestionTraceId': None, 'creatorId': 'clnz1fbdn005xpei7ekv837tb', 'projectId': None, 'organizationId': None, 'visibility': 'MEMBER', 'active': True}\n"
     ]
    }
   ],
   "source": [
    "import requests\n",
    "\n",
    "entity_id = \"clv743t8h003bpeusmoes4nnv\"\n",
    "print(lastmile_api_token)\n",
    "response = requests.get(\n",
    "    f\"https://lastmileai.dev/api/rag_query_traces/read?id={entity_id}\",\n",
    "    headers={\"Authorization\": f\"Bearer {lastmile_api_token}\"},\n",
    "    timeout=60,  # TODO: Remove hardcoding\n",
    ")\n",
    "print(response.json())"
   ]
  }
 ],
 "metadata": {
  "kernelspec": {
   "display_name": "Python 3",
   "language": "python",
   "name": "python3"
  },
  "language_info": {
   "codemirror_mode": {
    "name": "ipython",
    "version": 3
   },
   "file_extension": ".py",
   "mimetype": "text/x-python",
   "name": "python",
   "nbconvert_exporter": "python",
   "pygments_lexer": "ipython3",
   "version": "3.10.13"
  }
 },
 "nbformat": 4,
 "nbformat_minor": 2
}
